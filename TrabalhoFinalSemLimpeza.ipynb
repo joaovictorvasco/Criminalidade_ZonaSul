{
 "cells": [
  {
   "cell_type": "code",
   "execution_count": 13,
   "metadata": {},
   "outputs": [],
   "source": [
    "import pandas as pd\n",
    "import altair as alt\n",
    "import geopandas as gpd\n",
    "import folium\n",
    "from folium import Choropleth"
   ]
  },
  {
   "cell_type": "code",
   "execution_count": 15,
   "metadata": {},
   "outputs": [
    {
     "data": {
      "text/plain": [
       "Index(['mes', 'ano', 'mes_ano', 'município', 'regiao', 'bairro', 'cisp',\n",
       "       'roubo_transeunte', 'roubo_celular', 'roubo_em_coletivo', 'roubo_rua',\n",
       "       'roubo_veiculo', 'roubo_carga', 'roubo_comercio', 'roubo_residencia',\n",
       "       'roubo_banco', 'roubo_cx_eletronico', 'roubo_conducao_saque',\n",
       "       'roubo_apos_saque', 'roubo_bicicleta', 'outros_roubos', 'total_roubos',\n",
       "       'furto_veiculos', 'furto_transeunte', 'furto_coletivo', 'furto_celular',\n",
       "       'furto_bicicleta', 'outros_furtos', 'total_furtos'],\n",
       "      dtype='object')"
      ]
     },
     "execution_count": 15,
     "metadata": {},
     "output_type": "execute_result"
    }
   ],
   "source": [
    "df_zona_sul = pd.read_excel('BaseViolencia.xlsx')\n",
    "df_zona_sul.columns"
   ]
  },
  {
   "cell_type": "markdown",
   "metadata": {},
   "source": [
    "Aqui colocamos em percentuais para conseguirmos comparar a representatividade dos roubos em cada bairro, vendo seus destaques e especificidades."
   ]
  },
  {
   "cell_type": "code",
   "execution_count": 13,
   "metadata": {},
   "outputs": [
    {
     "data": {
      "text/html": [
       "\n",
       "<style>\n",
       "  #altair-viz-a18107d24eb14decad1b8bdc83bfca2f.vega-embed {\n",
       "    width: 100%;\n",
       "    display: flex;\n",
       "  }\n",
       "\n",
       "  #altair-viz-a18107d24eb14decad1b8bdc83bfca2f.vega-embed details,\n",
       "  #altair-viz-a18107d24eb14decad1b8bdc83bfca2f.vega-embed details summary {\n",
       "    position: relative;\n",
       "  }\n",
       "</style>\n",
       "<div id=\"altair-viz-a18107d24eb14decad1b8bdc83bfca2f\"></div>\n",
       "<script type=\"text/javascript\">\n",
       "  var VEGA_DEBUG = (typeof VEGA_DEBUG == \"undefined\") ? {} : VEGA_DEBUG;\n",
       "  (function(spec, embedOpt){\n",
       "    let outputDiv = document.currentScript.previousElementSibling;\n",
       "    if (outputDiv.id !== \"altair-viz-a18107d24eb14decad1b8bdc83bfca2f\") {\n",
       "      outputDiv = document.getElementById(\"altair-viz-a18107d24eb14decad1b8bdc83bfca2f\");\n",
       "    }\n",
       "    const paths = {\n",
       "      \"vega\": \"https://cdn.jsdelivr.net/npm/vega@5?noext\",\n",
       "      \"vega-lib\": \"https://cdn.jsdelivr.net/npm/vega-lib?noext\",\n",
       "      \"vega-lite\": \"https://cdn.jsdelivr.net/npm/vega-lite@5.20.1?noext\",\n",
       "      \"vega-embed\": \"https://cdn.jsdelivr.net/npm/vega-embed@6?noext\",\n",
       "    };\n",
       "\n",
       "    function maybeLoadScript(lib, version) {\n",
       "      var key = `${lib.replace(\"-\", \"\")}_version`;\n",
       "      return (VEGA_DEBUG[key] == version) ?\n",
       "        Promise.resolve(paths[lib]) :\n",
       "        new Promise(function(resolve, reject) {\n",
       "          var s = document.createElement('script');\n",
       "          document.getElementsByTagName(\"head\")[0].appendChild(s);\n",
       "          s.async = true;\n",
       "          s.onload = () => {\n",
       "            VEGA_DEBUG[key] = version;\n",
       "            return resolve(paths[lib]);\n",
       "          };\n",
       "          s.onerror = () => reject(`Error loading script: ${paths[lib]}`);\n",
       "          s.src = paths[lib];\n",
       "        });\n",
       "    }\n",
       "\n",
       "    function showError(err) {\n",
       "      outputDiv.innerHTML = `<div class=\"error\" style=\"color:red;\">${err}</div>`;\n",
       "      throw err;\n",
       "    }\n",
       "\n",
       "    function displayChart(vegaEmbed) {\n",
       "      vegaEmbed(outputDiv, spec, embedOpt)\n",
       "        .catch(err => showError(`Javascript Error: ${err.message}<br>This usually means there's a typo in your chart specification. See the javascript console for the full traceback.`));\n",
       "    }\n",
       "\n",
       "    if(typeof define === \"function\" && define.amd) {\n",
       "      requirejs.config({paths});\n",
       "      require([\"vega-embed\"], displayChart, err => showError(`Error loading script: ${err.message}`));\n",
       "    } else {\n",
       "      maybeLoadScript(\"vega\", \"5\")\n",
       "        .then(() => maybeLoadScript(\"vega-lite\", \"5.20.1\"))\n",
       "        .then(() => maybeLoadScript(\"vega-embed\", \"6\"))\n",
       "        .catch(showError)\n",
       "        .then(() => displayChart(vegaEmbed));\n",
       "    }\n",
       "  })({\"config\": {\"view\": {\"continuousWidth\": 300, \"continuousHeight\": 300}, \"title\": {\"anchor\": \"start\", \"fontSize\": 16}}, \"data\": {\"name\": \"data-9a4b4d7f013ed749b4ae2892b0942cb6\"}, \"mark\": {\"type\": \"line\", \"strokeWidth\": 3}, \"encoding\": {\"color\": {\"field\": \"Tipo de Crime\", \"scale\": {\"domain\": [\"total_roubos\", \"total_furtos\"], \"range\": [\"#FF4500\", \"#1E90FF\"]}, \"title\": \"Tipo de Crime\", \"type\": \"nominal\"}, \"tooltip\": [{\"field\": \"mes_ano\", \"title\": \"M\\u00eas/Ano\", \"type\": \"temporal\"}, {\"field\": \"Tipo de Crime\", \"title\": \"Tipo de Crime\", \"type\": \"nominal\"}, {\"field\": \"Quantidade\", \"title\": \"Quantidade\", \"type\": \"quantitative\"}], \"x\": {\"axis\": {\"labelAngle\": -45}, \"field\": \"mes_ano\", \"title\": \"M\\u00eas/Ano\", \"type\": \"temporal\"}, \"y\": {\"field\": \"Quantidade\", \"scale\": {\"zero\": false}, \"title\": \"Quantidade de Crimes\", \"type\": \"quantitative\"}}, \"height\": 400, \"title\": \"Evolu\\u00e7\\u00e3o de Roubos e Furtos ao Longo do Tempo (Com Tooltip)\", \"transform\": [{\"fold\": [\"total_roubos\", \"total_furtos\"], \"as\": [\"Tipo de Crime\", \"Quantidade\"]}], \"width\": 700, \"$schema\": \"https://vega.github.io/schema/vega-lite/v5.20.1.json\", \"datasets\": {\"data-9a4b4d7f013ed749b4ae2892b0942cb6\": [{\"mes_ano\": \"2003-01-01T00:00:00\", \"total_roubos\": 619, \"total_furtos\": 1447}, {\"mes_ano\": \"2003-02-01T00:00:00\", \"total_roubos\": 598, \"total_furtos\": 1440}, {\"mes_ano\": \"2003-03-01T00:00:00\", \"total_roubos\": 476, \"total_furtos\": 1430}, {\"mes_ano\": \"2003-04-01T00:00:00\", \"total_roubos\": 573, \"total_furtos\": 1165}, {\"mes_ano\": \"2003-05-01T00:00:00\", \"total_roubos\": 597, \"total_furtos\": 1222}, {\"mes_ano\": \"2003-06-01T00:00:00\", \"total_roubos\": 456, \"total_furtos\": 1039}, {\"mes_ano\": \"2003-07-01T00:00:00\", \"total_roubos\": 550, \"total_furtos\": 1101}, {\"mes_ano\": \"2003-08-01T00:00:00\", \"total_roubos\": 478, \"total_furtos\": 1072}, {\"mes_ano\": \"2003-09-01T00:00:00\", \"total_roubos\": 491, \"total_furtos\": 1093}, {\"mes_ano\": \"2003-10-01T00:00:00\", \"total_roubos\": 564, \"total_furtos\": 1116}, {\"mes_ano\": \"2003-11-01T00:00:00\", \"total_roubos\": 467, \"total_furtos\": 1122}, {\"mes_ano\": \"2003-12-01T00:00:00\", \"total_roubos\": 592, \"total_furtos\": 1312}, {\"mes_ano\": \"2004-01-01T00:00:00\", \"total_roubos\": 565, \"total_furtos\": 1323}, {\"mes_ano\": \"2004-02-01T00:00:00\", \"total_roubos\": 598, \"total_furtos\": 1300}, {\"mes_ano\": \"2004-03-01T00:00:00\", \"total_roubos\": 535, \"total_furtos\": 1226}, {\"mes_ano\": \"2004-04-01T00:00:00\", \"total_roubos\": 482, \"total_furtos\": 1031}, {\"mes_ano\": \"2004-05-01T00:00:00\", \"total_roubos\": 461, \"total_furtos\": 926}, {\"mes_ano\": \"2004-06-01T00:00:00\", \"total_roubos\": 463, \"total_furtos\": 939}, {\"mes_ano\": \"2004-07-01T00:00:00\", \"total_roubos\": 526, \"total_furtos\": 956}, {\"mes_ano\": \"2004-08-01T00:00:00\", \"total_roubos\": 475, \"total_furtos\": 894}, {\"mes_ano\": \"2004-09-01T00:00:00\", \"total_roubos\": 491, \"total_furtos\": 968}, {\"mes_ano\": \"2004-10-01T00:00:00\", \"total_roubos\": 421, \"total_furtos\": 942}, {\"mes_ano\": \"2004-11-01T00:00:00\", \"total_roubos\": 503, \"total_furtos\": 1023}, {\"mes_ano\": \"2004-12-01T00:00:00\", \"total_roubos\": 469, \"total_furtos\": 1050}, {\"mes_ano\": \"2005-01-01T00:00:00\", \"total_roubos\": 556, \"total_furtos\": 1325}, {\"mes_ano\": \"2005-02-01T00:00:00\", \"total_roubos\": 549, \"total_furtos\": 1270}, {\"mes_ano\": \"2005-03-01T00:00:00\", \"total_roubos\": 478, \"total_furtos\": 1110}, {\"mes_ano\": \"2005-04-01T00:00:00\", \"total_roubos\": 507, \"total_furtos\": 1056}, {\"mes_ano\": \"2005-05-01T00:00:00\", \"total_roubos\": 573, \"total_furtos\": 1128}, {\"mes_ano\": \"2005-06-01T00:00:00\", \"total_roubos\": 603, \"total_furtos\": 1142}, {\"mes_ano\": \"2005-07-01T00:00:00\", \"total_roubos\": 589, \"total_furtos\": 1082}, {\"mes_ano\": \"2005-08-01T00:00:00\", \"total_roubos\": 506, \"total_furtos\": 1173}, {\"mes_ano\": \"2005-09-01T00:00:00\", \"total_roubos\": 432, \"total_furtos\": 961}, {\"mes_ano\": \"2005-10-01T00:00:00\", \"total_roubos\": 460, \"total_furtos\": 1007}, {\"mes_ano\": \"2005-11-01T00:00:00\", \"total_roubos\": 470, \"total_furtos\": 948}, {\"mes_ano\": \"2005-12-01T00:00:00\", \"total_roubos\": 496, \"total_furtos\": 1037}, {\"mes_ano\": \"2006-01-01T00:00:00\", \"total_roubos\": 520, \"total_furtos\": 1402}, {\"mes_ano\": \"2006-02-01T00:00:00\", \"total_roubos\": 564, \"total_furtos\": 1873}, {\"mes_ano\": \"2006-03-01T00:00:00\", \"total_roubos\": 547, \"total_furtos\": 1249}, {\"mes_ano\": \"2006-04-01T00:00:00\", \"total_roubos\": 604, \"total_furtos\": 1150}, {\"mes_ano\": \"2006-05-01T00:00:00\", \"total_roubos\": 616, \"total_furtos\": 1174}, {\"mes_ano\": \"2006-06-01T00:00:00\", \"total_roubos\": 668, \"total_furtos\": 1121}, {\"mes_ano\": \"2006-07-01T00:00:00\", \"total_roubos\": 744, \"total_furtos\": 1206}, {\"mes_ano\": \"2006-08-01T00:00:00\", \"total_roubos\": 647, \"total_furtos\": 1209}, {\"mes_ano\": \"2006-09-01T00:00:00\", \"total_roubos\": 605, \"total_furtos\": 1113}, {\"mes_ano\": \"2006-10-01T00:00:00\", \"total_roubos\": 629, \"total_furtos\": 1273}, {\"mes_ano\": \"2006-11-01T00:00:00\", \"total_roubos\": 671, \"total_furtos\": 1321}, {\"mes_ano\": \"2006-12-01T00:00:00\", \"total_roubos\": 592, \"total_furtos\": 1323}, {\"mes_ano\": \"2007-01-01T00:00:00\", \"total_roubos\": 673, \"total_furtos\": 1618}, {\"mes_ano\": \"2007-02-01T00:00:00\", \"total_roubos\": 653, \"total_furtos\": 1782}, {\"mes_ano\": \"2007-03-01T00:00:00\", \"total_roubos\": 730, \"total_furtos\": 1571}, {\"mes_ano\": \"2007-04-01T00:00:00\", \"total_roubos\": 663, \"total_furtos\": 1312}, {\"mes_ano\": \"2007-05-01T00:00:00\", \"total_roubos\": 690, \"total_furtos\": 1516}, {\"mes_ano\": \"2007-06-01T00:00:00\", \"total_roubos\": 661, \"total_furtos\": 1345}, {\"mes_ano\": \"2007-07-01T00:00:00\", \"total_roubos\": 536, \"total_furtos\": 1389}, {\"mes_ano\": \"2007-08-01T00:00:00\", \"total_roubos\": 514, \"total_furtos\": 1262}, {\"mes_ano\": \"2007-09-01T00:00:00\", \"total_roubos\": 545, \"total_furtos\": 1304}, {\"mes_ano\": \"2007-10-01T00:00:00\", \"total_roubos\": 640, \"total_furtos\": 1487}, {\"mes_ano\": \"2007-11-01T00:00:00\", \"total_roubos\": 621, \"total_furtos\": 1314}, {\"mes_ano\": \"2007-12-01T00:00:00\", \"total_roubos\": 621, \"total_furtos\": 1516}, {\"mes_ano\": \"2008-01-01T00:00:00\", \"total_roubos\": 671, \"total_furtos\": 1780}, {\"mes_ano\": \"2008-02-01T00:00:00\", \"total_roubos\": 664, \"total_furtos\": 2047}, {\"mes_ano\": \"2008-03-01T00:00:00\", \"total_roubos\": 687, \"total_furtos\": 1543}, {\"mes_ano\": \"2008-04-01T00:00:00\", \"total_roubos\": 697, \"total_furtos\": 1318}, {\"mes_ano\": \"2008-05-01T00:00:00\", \"total_roubos\": 690, \"total_furtos\": 1424}, {\"mes_ano\": \"2008-06-01T00:00:00\", \"total_roubos\": 675, \"total_furtos\": 1370}, {\"mes_ano\": \"2008-07-01T00:00:00\", \"total_roubos\": 776, \"total_furtos\": 1393}, {\"mes_ano\": \"2008-08-01T00:00:00\", \"total_roubos\": 756, \"total_furtos\": 1389}, {\"mes_ano\": \"2008-09-01T00:00:00\", \"total_roubos\": 724, \"total_furtos\": 1342}, {\"mes_ano\": \"2008-10-01T00:00:00\", \"total_roubos\": 818, \"total_furtos\": 1598}, {\"mes_ano\": \"2008-11-01T00:00:00\", \"total_roubos\": 661, \"total_furtos\": 1342}, {\"mes_ano\": \"2008-12-01T00:00:00\", \"total_roubos\": 634, \"total_furtos\": 1391}, {\"mes_ano\": \"2009-01-01T00:00:00\", \"total_roubos\": 690, \"total_furtos\": 1682}, {\"mes_ano\": \"2009-02-01T00:00:00\", \"total_roubos\": 698, \"total_furtos\": 2142}, {\"mes_ano\": \"2009-03-01T00:00:00\", \"total_roubos\": 771, \"total_furtos\": 1484}, {\"mes_ano\": \"2009-04-01T00:00:00\", \"total_roubos\": 649, \"total_furtos\": 1325}, {\"mes_ano\": \"2009-05-01T00:00:00\", \"total_roubos\": 736, \"total_furtos\": 1419}, {\"mes_ano\": \"2009-06-01T00:00:00\", \"total_roubos\": 677, \"total_furtos\": 1293}, {\"mes_ano\": \"2009-07-01T00:00:00\", \"total_roubos\": 644, \"total_furtos\": 1418}, {\"mes_ano\": \"2009-08-01T00:00:00\", \"total_roubos\": 584, \"total_furtos\": 1364}, {\"mes_ano\": \"2009-09-01T00:00:00\", \"total_roubos\": 615, \"total_furtos\": 1412}, {\"mes_ano\": \"2009-10-01T00:00:00\", \"total_roubos\": 595, \"total_furtos\": 1417}, {\"mes_ano\": \"2009-11-01T00:00:00\", \"total_roubos\": 646, \"total_furtos\": 1570}, {\"mes_ano\": \"2009-12-01T00:00:00\", \"total_roubos\": 595, \"total_furtos\": 1515}, {\"mes_ano\": \"2010-01-01T00:00:00\", \"total_roubos\": 566, \"total_furtos\": 1761}, {\"mes_ano\": \"2010-02-01T00:00:00\", \"total_roubos\": 584, \"total_furtos\": 2545}, {\"mes_ano\": \"2010-03-01T00:00:00\", \"total_roubos\": 694, \"total_furtos\": 1600}, {\"mes_ano\": \"2010-04-01T00:00:00\", \"total_roubos\": 604, \"total_furtos\": 1422}, {\"mes_ano\": \"2010-05-01T00:00:00\", \"total_roubos\": 641, \"total_furtos\": 1663}, {\"mes_ano\": \"2010-06-01T00:00:00\", \"total_roubos\": 467, \"total_furtos\": 1522}, {\"mes_ano\": \"2010-07-01T00:00:00\", \"total_roubos\": 443, \"total_furtos\": 1374}, {\"mes_ano\": \"2010-08-01T00:00:00\", \"total_roubos\": 522, \"total_furtos\": 1437}, {\"mes_ano\": \"2010-09-01T00:00:00\", \"total_roubos\": 463, \"total_furtos\": 1397}, {\"mes_ano\": \"2010-10-01T00:00:00\", \"total_roubos\": 535, \"total_furtos\": 1493}, {\"mes_ano\": \"2010-11-01T00:00:00\", \"total_roubos\": 414, \"total_furtos\": 1522}, {\"mes_ano\": \"2010-12-01T00:00:00\", \"total_roubos\": 393, \"total_furtos\": 1708}, {\"mes_ano\": \"2011-01-01T00:00:00\", \"total_roubos\": 413, \"total_furtos\": 1936}, {\"mes_ano\": \"2011-02-01T00:00:00\", \"total_roubos\": 440, \"total_furtos\": 1935}, {\"mes_ano\": \"2011-03-01T00:00:00\", \"total_roubos\": 461, \"total_furtos\": 2715}, {\"mes_ano\": \"2011-04-01T00:00:00\", \"total_roubos\": 444, \"total_furtos\": 1377}, {\"mes_ano\": \"2011-05-01T00:00:00\", \"total_roubos\": 401, \"total_furtos\": 1343}, {\"mes_ano\": \"2011-06-01T00:00:00\", \"total_roubos\": 386, \"total_furtos\": 1272}, {\"mes_ano\": \"2011-07-01T00:00:00\", \"total_roubos\": 410, \"total_furtos\": 1188}, {\"mes_ano\": \"2011-08-01T00:00:00\", \"total_roubos\": 490, \"total_furtos\": 1345}, {\"mes_ano\": \"2011-09-01T00:00:00\", \"total_roubos\": 464, \"total_furtos\": 1375}, {\"mes_ano\": \"2011-10-01T00:00:00\", \"total_roubos\": 411, \"total_furtos\": 1390}, {\"mes_ano\": \"2011-11-01T00:00:00\", \"total_roubos\": 383, \"total_furtos\": 1240}, {\"mes_ano\": \"2011-12-01T00:00:00\", \"total_roubos\": 392, \"total_furtos\": 1454}, {\"mes_ano\": \"2012-01-01T00:00:00\", \"total_roubos\": 368, \"total_furtos\": 2223}, {\"mes_ano\": \"2012-02-01T00:00:00\", \"total_roubos\": 483, \"total_furtos\": 2983}, {\"mes_ano\": \"2012-03-01T00:00:00\", \"total_roubos\": 420, \"total_furtos\": 1514}, {\"mes_ano\": \"2012-04-01T00:00:00\", \"total_roubos\": 356, \"total_furtos\": 1338}, {\"mes_ano\": \"2012-05-01T00:00:00\", \"total_roubos\": 306, \"total_furtos\": 1402}, {\"mes_ano\": \"2012-06-01T00:00:00\", \"total_roubos\": 258, \"total_furtos\": 1298}, {\"mes_ano\": \"2012-07-01T00:00:00\", \"total_roubos\": 292, \"total_furtos\": 1268}, {\"mes_ano\": \"2012-08-01T00:00:00\", \"total_roubos\": 286, \"total_furtos\": 1336}, {\"mes_ano\": \"2012-09-01T00:00:00\", \"total_roubos\": 318, \"total_furtos\": 1275}, {\"mes_ano\": \"2012-10-01T00:00:00\", \"total_roubos\": 293, \"total_furtos\": 1408}, {\"mes_ano\": \"2012-11-01T00:00:00\", \"total_roubos\": 287, \"total_furtos\": 1401}, {\"mes_ano\": \"2012-12-01T00:00:00\", \"total_roubos\": 309, \"total_furtos\": 1625}, {\"mes_ano\": \"2013-01-01T00:00:00\", \"total_roubos\": 374, \"total_furtos\": 2525}, {\"mes_ano\": \"2013-02-01T00:00:00\", \"total_roubos\": 474, \"total_furtos\": 2687}, {\"mes_ano\": \"2013-03-01T00:00:00\", \"total_roubos\": 455, \"total_furtos\": 1563}, {\"mes_ano\": \"2013-04-01T00:00:00\", \"total_roubos\": 435, \"total_furtos\": 1312}, {\"mes_ano\": \"2013-05-01T00:00:00\", \"total_roubos\": 483, \"total_furtos\": 1336}, {\"mes_ano\": \"2013-06-01T00:00:00\", \"total_roubos\": 451, \"total_furtos\": 1336}, {\"mes_ano\": \"2013-07-01T00:00:00\", \"total_roubos\": 399, \"total_furtos\": 2406}, {\"mes_ano\": \"2013-08-01T00:00:00\", \"total_roubos\": 518, \"total_furtos\": 1443}, {\"mes_ano\": \"2013-09-01T00:00:00\", \"total_roubos\": 557, \"total_furtos\": 1547}, {\"mes_ano\": \"2013-10-01T00:00:00\", \"total_roubos\": 594, \"total_furtos\": 1494}, {\"mes_ano\": \"2013-11-01T00:00:00\", \"total_roubos\": 510, \"total_furtos\": 1506}, {\"mes_ano\": \"2013-12-01T00:00:00\", \"total_roubos\": 498, \"total_furtos\": 1546}, {\"mes_ano\": \"2014-01-01T00:00:00\", \"total_roubos\": 757, \"total_furtos\": 2721}, {\"mes_ano\": \"2014-02-01T00:00:00\", \"total_roubos\": 644, \"total_furtos\": 1959}, {\"mes_ano\": \"2014-03-01T00:00:00\", \"total_roubos\": 705, \"total_furtos\": 2909}, {\"mes_ano\": \"2014-04-01T00:00:00\", \"total_roubos\": 526, \"total_furtos\": 1370}, {\"mes_ano\": \"2014-05-01T00:00:00\", \"total_roubos\": 505, \"total_furtos\": 1301}, {\"mes_ano\": \"2014-06-01T00:00:00\", \"total_roubos\": 439, \"total_furtos\": 2300}, {\"mes_ano\": \"2014-07-01T00:00:00\", \"total_roubos\": 544, \"total_furtos\": 2723}, {\"mes_ano\": \"2014-08-01T00:00:00\", \"total_roubos\": 412, \"total_furtos\": 1352}, {\"mes_ano\": \"2014-09-01T00:00:00\", \"total_roubos\": 372, \"total_furtos\": 1324}, {\"mes_ano\": \"2014-10-01T00:00:00\", \"total_roubos\": 412, \"total_furtos\": 1460}, {\"mes_ano\": \"2014-11-01T00:00:00\", \"total_roubos\": 425, \"total_furtos\": 1527}, {\"mes_ano\": \"2014-12-01T00:00:00\", \"total_roubos\": 455, \"total_furtos\": 1566}, {\"mes_ano\": \"2015-01-01T00:00:00\", \"total_roubos\": 598, \"total_furtos\": 2594}, {\"mes_ano\": \"2015-02-01T00:00:00\", \"total_roubos\": 633, \"total_furtos\": 3136}, {\"mes_ano\": \"2015-03-01T00:00:00\", \"total_roubos\": 456, \"total_furtos\": 1445}, {\"mes_ano\": \"2015-04-01T00:00:00\", \"total_roubos\": 494, \"total_furtos\": 1293}, {\"mes_ano\": \"2015-05-01T00:00:00\", \"total_roubos\": 421, \"total_furtos\": 1258}, {\"mes_ano\": \"2015-06-01T00:00:00\", \"total_roubos\": 334, \"total_furtos\": 1201}, {\"mes_ano\": \"2015-07-01T00:00:00\", \"total_roubos\": 312, \"total_furtos\": 1177}, {\"mes_ano\": \"2015-08-01T00:00:00\", \"total_roubos\": 322, \"total_furtos\": 1310}, {\"mes_ano\": \"2015-09-01T00:00:00\", \"total_roubos\": 413, \"total_furtos\": 1291}, {\"mes_ano\": \"2015-10-01T00:00:00\", \"total_roubos\": 384, \"total_furtos\": 1239}, {\"mes_ano\": \"2015-11-01T00:00:00\", \"total_roubos\": 391, \"total_furtos\": 1248}, {\"mes_ano\": \"2015-12-01T00:00:00\", \"total_roubos\": 471, \"total_furtos\": 1688}, {\"mes_ano\": \"2016-01-01T00:00:00\", \"total_roubos\": 547, \"total_furtos\": 2459}, {\"mes_ano\": \"2016-02-01T00:00:00\", \"total_roubos\": 774, \"total_furtos\": 3018}, {\"mes_ano\": \"2016-03-01T00:00:00\", \"total_roubos\": 397, \"total_furtos\": 1512}, {\"mes_ano\": \"2016-04-01T00:00:00\", \"total_roubos\": 466, \"total_furtos\": 1494}, {\"mes_ano\": \"2016-05-01T00:00:00\", \"total_roubos\": 480, \"total_furtos\": 1318}, {\"mes_ano\": \"2016-06-01T00:00:00\", \"total_roubos\": 392, \"total_furtos\": 1308}, {\"mes_ano\": \"2016-07-01T00:00:00\", \"total_roubos\": 428, \"total_furtos\": 1302}, {\"mes_ano\": \"2016-08-01T00:00:00\", \"total_roubos\": 474, \"total_furtos\": 2227}, {\"mes_ano\": \"2016-09-01T00:00:00\", \"total_roubos\": 384, \"total_furtos\": 1495}, {\"mes_ano\": \"2016-10-01T00:00:00\", \"total_roubos\": 519, \"total_furtos\": 1540}, {\"mes_ano\": \"2016-11-01T00:00:00\", \"total_roubos\": 565, \"total_furtos\": 1320}, {\"mes_ano\": \"2016-12-01T00:00:00\", \"total_roubos\": 536, \"total_furtos\": 1702}, {\"mes_ano\": \"2017-01-01T00:00:00\", \"total_roubos\": 496, \"total_furtos\": 1502}, {\"mes_ano\": \"2017-02-01T00:00:00\", \"total_roubos\": 443, \"total_furtos\": 766}, {\"mes_ano\": \"2017-03-01T00:00:00\", \"total_roubos\": 1108, \"total_furtos\": 2142}, {\"mes_ano\": \"2017-04-01T00:00:00\", \"total_roubos\": 827, \"total_furtos\": 1768}, {\"mes_ano\": \"2017-05-01T00:00:00\", \"total_roubos\": 683, \"total_furtos\": 1433}, {\"mes_ano\": \"2017-06-01T00:00:00\", \"total_roubos\": 567, \"total_furtos\": 1293}, {\"mes_ano\": \"2017-07-01T00:00:00\", \"total_roubos\": 646, \"total_furtos\": 1307}, {\"mes_ano\": \"2017-08-01T00:00:00\", \"total_roubos\": 602, \"total_furtos\": 1334}, {\"mes_ano\": \"2017-09-01T00:00:00\", \"total_roubos\": 563, \"total_furtos\": 1363}, {\"mes_ano\": \"2017-10-01T00:00:00\", \"total_roubos\": 514, \"total_furtos\": 1335}, {\"mes_ano\": \"2017-11-01T00:00:00\", \"total_roubos\": 566, \"total_furtos\": 1551}, {\"mes_ano\": \"2017-12-01T00:00:00\", \"total_roubos\": 531, \"total_furtos\": 1397}, {\"mes_ano\": \"2018-01-01T00:00:00\", \"total_roubos\": 750, \"total_furtos\": 2221}, {\"mes_ano\": \"2018-02-01T00:00:00\", \"total_roubos\": 1056, \"total_furtos\": 2408}, {\"mes_ano\": \"2018-03-01T00:00:00\", \"total_roubos\": 797, \"total_furtos\": 1361}, {\"mes_ano\": \"2018-04-01T00:00:00\", \"total_roubos\": 638, \"total_furtos\": 1227}, {\"mes_ano\": \"2018-05-01T00:00:00\", \"total_roubos\": 637, \"total_furtos\": 1232}, {\"mes_ano\": \"2018-06-01T00:00:00\", \"total_roubos\": 588, \"total_furtos\": 1086}, {\"mes_ano\": \"2018-07-01T00:00:00\", \"total_roubos\": 517, \"total_furtos\": 1291}, {\"mes_ano\": \"2018-08-01T00:00:00\", \"total_roubos\": 521, \"total_furtos\": 1181}, {\"mes_ano\": \"2018-09-01T00:00:00\", \"total_roubos\": 508, \"total_furtos\": 1087}, {\"mes_ano\": \"2018-10-01T00:00:00\", \"total_roubos\": 600, \"total_furtos\": 1244}, {\"mes_ano\": \"2018-11-01T00:00:00\", \"total_roubos\": 546, \"total_furtos\": 1259}, {\"mes_ano\": \"2018-12-01T00:00:00\", \"total_roubos\": 627, \"total_furtos\": 1396}, {\"mes_ano\": \"2019-01-01T00:00:00\", \"total_roubos\": 941, \"total_furtos\": 2175}, {\"mes_ano\": \"2019-02-01T00:00:00\", \"total_roubos\": 804, \"total_furtos\": 1843}, {\"mes_ano\": \"2019-03-01T00:00:00\", \"total_roubos\": 920, \"total_furtos\": 2234}, {\"mes_ano\": \"2019-04-01T00:00:00\", \"total_roubos\": 740, \"total_furtos\": 1353}, {\"mes_ano\": \"2019-05-01T00:00:00\", \"total_roubos\": 608, \"total_furtos\": 1320}, {\"mes_ano\": \"2019-06-01T00:00:00\", \"total_roubos\": 460, \"total_furtos\": 1346}, {\"mes_ano\": \"2019-07-01T00:00:00\", \"total_roubos\": 536, \"total_furtos\": 1340}, {\"mes_ano\": \"2019-08-01T00:00:00\", \"total_roubos\": 473, \"total_furtos\": 1209}, {\"mes_ano\": \"2019-09-01T00:00:00\", \"total_roubos\": 409, \"total_furtos\": 1219}, {\"mes_ano\": \"2019-10-01T00:00:00\", \"total_roubos\": 467, \"total_furtos\": 1477}, {\"mes_ano\": \"2019-11-01T00:00:00\", \"total_roubos\": 376, \"total_furtos\": 1216}, {\"mes_ano\": \"2019-12-01T00:00:00\", \"total_roubos\": 467, \"total_furtos\": 1595}, {\"mes_ano\": \"2020-01-01T00:00:00\", \"total_roubos\": 769, \"total_furtos\": 2739}, {\"mes_ano\": \"2020-02-01T00:00:00\", \"total_roubos\": 655, \"total_furtos\": 2562}, {\"mes_ano\": \"2020-03-01T00:00:00\", \"total_roubos\": 397, \"total_furtos\": 1341}, {\"mes_ano\": \"2020-04-01T00:00:00\", \"total_roubos\": 158, \"total_furtos\": 420}, {\"mes_ano\": \"2020-05-01T00:00:00\", \"total_roubos\": 174, \"total_furtos\": 477}, {\"mes_ano\": \"2020-06-01T00:00:00\", \"total_roubos\": 236, \"total_furtos\": 555}, {\"mes_ano\": \"2020-07-01T00:00:00\", \"total_roubos\": 304, \"total_furtos\": 695}, {\"mes_ano\": \"2020-08-01T00:00:00\", \"total_roubos\": 307, \"total_furtos\": 758}, {\"mes_ano\": \"2020-09-01T00:00:00\", \"total_roubos\": 395, \"total_furtos\": 911}, {\"mes_ano\": \"2020-10-01T00:00:00\", \"total_roubos\": 347, \"total_furtos\": 1008}, {\"mes_ano\": \"2020-11-01T00:00:00\", \"total_roubos\": 385, \"total_furtos\": 930}, {\"mes_ano\": \"2020-12-01T00:00:00\", \"total_roubos\": 396, \"total_furtos\": 971}, {\"mes_ano\": \"2021-01-01T00:00:00\", \"total_roubos\": 537, \"total_furtos\": 1218}, {\"mes_ano\": \"2021-02-01T00:00:00\", \"total_roubos\": 468, \"total_furtos\": 1129}, {\"mes_ano\": \"2021-03-01T00:00:00\", \"total_roubos\": 357, \"total_furtos\": 905}, {\"mes_ano\": \"2021-04-01T00:00:00\", \"total_roubos\": 297, \"total_furtos\": 787}, {\"mes_ano\": \"2021-05-01T00:00:00\", \"total_roubos\": 371, \"total_furtos\": 937}, {\"mes_ano\": \"2021-06-01T00:00:00\", \"total_roubos\": 356, \"total_furtos\": 1018}, {\"mes_ano\": \"2021-07-01T00:00:00\", \"total_roubos\": 417, \"total_furtos\": 1046}, {\"mes_ano\": \"2021-08-01T00:00:00\", \"total_roubos\": 458, \"total_furtos\": 1248}, {\"mes_ano\": \"2021-09-01T00:00:00\", \"total_roubos\": 453, \"total_furtos\": 1190}, {\"mes_ano\": \"2021-10-01T00:00:00\", \"total_roubos\": 384, \"total_furtos\": 1114}, {\"mes_ano\": \"2021-11-01T00:00:00\", \"total_roubos\": 398, \"total_furtos\": 1397}, {\"mes_ano\": \"2021-12-01T00:00:00\", \"total_roubos\": 459, \"total_furtos\": 1624}, {\"mes_ano\": \"2022-01-01T00:00:00\", \"total_roubos\": 623, \"total_furtos\": 1946}, {\"mes_ano\": \"2022-02-01T00:00:00\", \"total_roubos\": 459, \"total_furtos\": 1592}, {\"mes_ano\": \"2022-03-01T00:00:00\", \"total_roubos\": 483, \"total_furtos\": 2006}, {\"mes_ano\": \"2022-04-01T00:00:00\", \"total_roubos\": 406, \"total_furtos\": 1796}, {\"mes_ano\": \"2022-05-01T00:00:00\", \"total_roubos\": 395, \"total_furtos\": 1586}, {\"mes_ano\": \"2022-06-01T00:00:00\", \"total_roubos\": 384, \"total_furtos\": 1294}, {\"mes_ano\": \"2022-07-01T00:00:00\", \"total_roubos\": 370, \"total_furtos\": 1572}, {\"mes_ano\": \"2022-08-01T00:00:00\", \"total_roubos\": 348, \"total_furtos\": 1400}, {\"mes_ano\": \"2022-09-01T00:00:00\", \"total_roubos\": 399, \"total_furtos\": 1868}, {\"mes_ano\": \"2022-10-01T00:00:00\", \"total_roubos\": 435, \"total_furtos\": 1784}, {\"mes_ano\": \"2022-11-01T00:00:00\", \"total_roubos\": 479, \"total_furtos\": 2018}, {\"mes_ano\": \"2022-12-01T00:00:00\", \"total_roubos\": 516, \"total_furtos\": 2080}, {\"mes_ano\": \"2023-01-01T00:00:00\", \"total_roubos\": 465, \"total_furtos\": 2533}, {\"mes_ano\": \"2023-02-01T00:00:00\", \"total_roubos\": 544, \"total_furtos\": 2814}, {\"mes_ano\": \"2023-03-01T00:00:00\", \"total_roubos\": 466, \"total_furtos\": 1924}, {\"mes_ano\": \"2023-04-01T00:00:00\", \"total_roubos\": 340, \"total_furtos\": 1616}, {\"mes_ano\": \"2023-05-01T00:00:00\", \"total_roubos\": 389, \"total_furtos\": 1823}, {\"mes_ano\": \"2023-06-01T00:00:00\", \"total_roubos\": 320, \"total_furtos\": 1558}, {\"mes_ano\": \"2023-07-01T00:00:00\", \"total_roubos\": 278, \"total_furtos\": 1685}, {\"mes_ano\": \"2023-08-01T00:00:00\", \"total_roubos\": 492, \"total_furtos\": 2111}, {\"mes_ano\": \"2023-09-01T00:00:00\", \"total_roubos\": 410, \"total_furtos\": 1880}, {\"mes_ano\": \"2023-10-01T00:00:00\", \"total_roubos\": 350, \"total_furtos\": 1879}, {\"mes_ano\": \"2023-11-01T00:00:00\", \"total_roubos\": 461, \"total_furtos\": 2322}, {\"mes_ano\": \"2023-12-01T00:00:00\", \"total_roubos\": 355, \"total_furtos\": 1858}, {\"mes_ano\": \"2024-01-01T00:00:00\", \"total_roubos\": 449, \"total_furtos\": 2710}, {\"mes_ano\": \"2024-02-01T00:00:00\", \"total_roubos\": 454, \"total_furtos\": 2989}, {\"mes_ano\": \"2024-03-01T00:00:00\", \"total_roubos\": 421, \"total_furtos\": 1868}, {\"mes_ano\": \"2024-04-01T00:00:00\", \"total_roubos\": 441, \"total_furtos\": 1842}, {\"mes_ano\": \"2024-05-01T00:00:00\", \"total_roubos\": 565, \"total_furtos\": 2829}, {\"mes_ano\": \"2024-06-01T00:00:00\", \"total_roubos\": 512, \"total_furtos\": 1658}, {\"mes_ano\": \"2024-07-01T00:00:00\", \"total_roubos\": 455, \"total_furtos\": 1636}, {\"mes_ano\": \"2024-08-01T00:00:00\", \"total_roubos\": 560, \"total_furtos\": 1844}, {\"mes_ano\": \"2024-09-01T00:00:00\", \"total_roubos\": 556, \"total_furtos\": 1837}]}}, {\"mode\": \"vega-lite\"});\n",
       "</script>"
      ],
      "text/plain": [
       "alt.Chart(...)"
      ]
     },
     "metadata": {},
     "output_type": "display_data"
    }
   ],
   "source": [
    "# Gráfico ajustado com interatividade (tooltip para cada ponto)\n",
    "grafico_linha_interativo = alt.Chart(df_sazonalidade).transform_fold(\n",
    "    ['total_roubos', 'total_furtos'],\n",
    "    as_=['Tipo de Crime', 'Quantidade']\n",
    ").mark_line(strokeWidth=3).encode(\n",
    "    x=alt.X('mes_ano:T', title='Mês/Ano', axis=alt.Axis(labelAngle=-45)),\n",
    "    y=alt.Y('Quantidade:Q', title='Quantidade de Crimes', scale=alt.Scale(zero=False)),\n",
    "    color=alt.Color(\n",
    "        'Tipo de Crime:N',\n",
    "        title='Tipo de Crime',\n",
    "        scale=alt.Scale(\n",
    "            domain=['total_roubos', 'total_furtos'],\n",
    "            range=['#FF4500', '#1E90FF']  # Laranja para roubos, Azul para furtos\n",
    "        )\n",
    "    ),\n",
    "    tooltip=[\n",
    "        alt.Tooltip('mes_ano:T', title='Mês/Ano'),\n",
    "        alt.Tooltip('Tipo de Crime:N', title='Tipo de Crime'),\n",
    "        alt.Tooltip('Quantidade:Q', title='Quantidade')\n",
    "    ]\n",
    ").properties(\n",
    "    width=700,\n",
    "    height=400,\n",
    "    title='Evolução de Roubos e Furtos ao Longo do Tempo (Com Tooltip)'\n",
    ").configure_title(\n",
    "    fontSize=16,\n",
    "    anchor='start'\n",
    ")\n",
    "\n",
    "grafico_linha_interativo.show()\n"
   ]
  },
  {
   "cell_type": "code",
   "execution_count": 11,
   "metadata": {},
   "outputs": [
    {
     "name": "stderr",
     "output_type": "stream",
     "text": [
      "C:\\Users\\mages\\AppData\\Local\\Temp\\ipykernel_33072\\3517887988.py:3: FutureWarning: The default of observed=False is deprecated and will be changed to True in a future version of pandas. Pass observed=False to retain current behavior or observed=True to adopt the future default and silence this warning.\n",
      "  df_percentuais.groupby(\"bairro\")[\"quantidade\"].sum().reset_index()\n"
     ]
    },
    {
     "data": {
      "text/html": [
       "\n",
       "<style>\n",
       "  #altair-viz-d5747460d3ab40cd8665b82a86f0c8e9.vega-embed {\n",
       "    width: 100%;\n",
       "    display: flex;\n",
       "  }\n",
       "\n",
       "  #altair-viz-d5747460d3ab40cd8665b82a86f0c8e9.vega-embed details,\n",
       "  #altair-viz-d5747460d3ab40cd8665b82a86f0c8e9.vega-embed details summary {\n",
       "    position: relative;\n",
       "  }\n",
       "</style>\n",
       "<div id=\"altair-viz-d5747460d3ab40cd8665b82a86f0c8e9\"></div>\n",
       "<script type=\"text/javascript\">\n",
       "  var VEGA_DEBUG = (typeof VEGA_DEBUG == \"undefined\") ? {} : VEGA_DEBUG;\n",
       "  (function(spec, embedOpt){\n",
       "    let outputDiv = document.currentScript.previousElementSibling;\n",
       "    if (outputDiv.id !== \"altair-viz-d5747460d3ab40cd8665b82a86f0c8e9\") {\n",
       "      outputDiv = document.getElementById(\"altair-viz-d5747460d3ab40cd8665b82a86f0c8e9\");\n",
       "    }\n",
       "    const paths = {\n",
       "      \"vega\": \"https://cdn.jsdelivr.net/npm/vega@5?noext\",\n",
       "      \"vega-lib\": \"https://cdn.jsdelivr.net/npm/vega-lib?noext\",\n",
       "      \"vega-lite\": \"https://cdn.jsdelivr.net/npm/vega-lite@5.20.1?noext\",\n",
       "      \"vega-embed\": \"https://cdn.jsdelivr.net/npm/vega-embed@6?noext\",\n",
       "    };\n",
       "\n",
       "    function maybeLoadScript(lib, version) {\n",
       "      var key = `${lib.replace(\"-\", \"\")}_version`;\n",
       "      return (VEGA_DEBUG[key] == version) ?\n",
       "        Promise.resolve(paths[lib]) :\n",
       "        new Promise(function(resolve, reject) {\n",
       "          var s = document.createElement('script');\n",
       "          document.getElementsByTagName(\"head\")[0].appendChild(s);\n",
       "          s.async = true;\n",
       "          s.onload = () => {\n",
       "            VEGA_DEBUG[key] = version;\n",
       "            return resolve(paths[lib]);\n",
       "          };\n",
       "          s.onerror = () => reject(`Error loading script: ${paths[lib]}`);\n",
       "          s.src = paths[lib];\n",
       "        });\n",
       "    }\n",
       "\n",
       "    function showError(err) {\n",
       "      outputDiv.innerHTML = `<div class=\"error\" style=\"color:red;\">${err}</div>`;\n",
       "      throw err;\n",
       "    }\n",
       "\n",
       "    function displayChart(vegaEmbed) {\n",
       "      vegaEmbed(outputDiv, spec, embedOpt)\n",
       "        .catch(err => showError(`Javascript Error: ${err.message}<br>This usually means there's a typo in your chart specification. See the javascript console for the full traceback.`));\n",
       "    }\n",
       "\n",
       "    if(typeof define === \"function\" && define.amd) {\n",
       "      requirejs.config({paths});\n",
       "      require([\"vega-embed\"], displayChart, err => showError(`Error loading script: ${err.message}`));\n",
       "    } else {\n",
       "      maybeLoadScript(\"vega\", \"5\")\n",
       "        .then(() => maybeLoadScript(\"vega-lite\", \"5.20.1\"))\n",
       "        .then(() => maybeLoadScript(\"vega-embed\", \"6\"))\n",
       "        .catch(showError)\n",
       "        .then(() => displayChart(vegaEmbed));\n",
       "    }\n",
       "  })({\"config\": {\"view\": {\"continuousWidth\": 300, \"continuousHeight\": 300}, \"title\": {\"anchor\": \"start\", \"fontSize\": 16}}, \"data\": {\"name\": \"data-7eb5cb95a02139990122751527700d0e\"}, \"mark\": {\"type\": \"bar\"}, \"encoding\": {\"color\": {\"field\": \"tipo_roubo\", \"scale\": {\"domain\": [\"roubo_veiculo\", \"roubo_transeunte\", \"roubo_celular\", \"roubo_bicicleta\", \"roubo_em_coletivo\", \"roubo_carga\", \"roubo_residencia\", \"roubo_comercio\", \"roubo_apos_saque\", \"roubo_cx_eletronico\", \"roubo_conducao_saque\", \"roubo_banco\", \"outros_roubos\", \"roubo_rua\"], \"range\": [\"#4E79A7\", \"#228B22\", \"#E15759\", \"#76B7B2\", \"#59A14F\", \"#EDC949\", \"#AF7AA1\", \"#FF9DA7\", \"#9C755F\", \"#BAB0AB\", \"#D37295\", \"#FABFD2\", \"#9467BD\", \"#1F77B4\"]}, \"title\": \"Tipo de Roubo\", \"type\": \"nominal\"}, \"order\": {\"field\": \"percentual\", \"sort\": \"ascending\", \"type\": \"quantitative\"}, \"tooltip\": [{\"field\": \"bairro\", \"type\": \"nominal\"}, {\"field\": \"tipo_roubo\", \"type\": \"nominal\"}, {\"field\": \"quantidade\", \"type\": \"quantitative\"}, {\"field\": \"percentual\", \"type\": \"quantitative\"}], \"x\": {\"field\": \"percentual\", \"stack\": \"normalize\", \"title\": \"Propor\\u00e7\\u00e3o (%)\", \"type\": \"quantitative\"}, \"y\": {\"field\": \"bairro\", \"sort\": \"ascending\", \"title\": \"Bairro\", \"type\": \"nominal\"}}, \"height\": 400, \"title\": \"Distribui\\u00e7\\u00e3o Percentual dos Tipos de Roubo por Bairro na Zona Sul\", \"width\": 600, \"$schema\": \"https://vega.github.io/schema/vega-lite/v5.20.1.json\", \"datasets\": {\"data-7eb5cb95a02139990122751527700d0e\": [{\"bairro\": \"Botafogo, Humait\\u00e1, Urca\", \"tipo_roubo\": \"roubo_rua\", \"quantidade\": 19388.0, \"percentual\": 39.676660186227366}, {\"bairro\": \"Botafogo, Humait\\u00e1, Urca\", \"tipo_roubo\": \"roubo_transeunte\", \"quantidade\": 13278.0, \"percentual\": 27.172823084006957}, {\"bairro\": \"Botafogo, Humait\\u00e1, Urca\", \"tipo_roubo\": \"outros_roubos\", \"quantidade\": 4291.0, \"percentual\": 8.78133633479996}, {\"bairro\": \"Botafogo, Humait\\u00e1, Urca\", \"tipo_roubo\": \"roubo_celular\", \"quantidade\": 4165.0, \"percentual\": 8.523483065588868}, {\"bairro\": \"Botafogo, Humait\\u00e1, Urca\", \"tipo_roubo\": \"roubo_veiculo\", \"quantidade\": 2775.0, \"percentual\": 5.678911286196664}, {\"bairro\": \"Botafogo, Humait\\u00e1, Urca\", \"tipo_roubo\": \"roubo_em_coletivo\", \"quantidade\": 1945.0, \"percentual\": 3.9803540366315358}, {\"bairro\": \"Botafogo, Humait\\u00e1, Urca\", \"tipo_roubo\": \"roubo_comercio\", \"quantidade\": 1898.0, \"percentual\": 3.884170674306763}, {\"bairro\": \"Botafogo, Humait\\u00e1, Urca\", \"tipo_roubo\": \"roubo_apos_saque\", \"quantidade\": 410.0, \"percentual\": 0.8390463521948225}, {\"bairro\": \"Botafogo, Humait\\u00e1, Urca\", \"tipo_roubo\": \"roubo_residencia\", \"quantidade\": 243.0, \"percentual\": 0.4972884477642484}, {\"bairro\": \"Botafogo, Humait\\u00e1, Urca\", \"tipo_roubo\": \"roubo_bicicleta\", \"quantidade\": 231.0, \"percentual\": 0.47273099355366827}, {\"bairro\": \"Botafogo, Humait\\u00e1, Urca\", \"tipo_roubo\": \"roubo_carga\", \"quantidade\": 191.0, \"percentual\": 0.39087281285173436}, {\"bairro\": \"Botafogo, Humait\\u00e1, Urca\", \"tipo_roubo\": \"roubo_conducao_saque\", \"quantidade\": 34.0, \"percentual\": 0.06957945359664382}, {\"bairro\": \"Botafogo, Humait\\u00e1, Urca\", \"tipo_roubo\": \"roubo_banco\", \"quantidade\": 8.0, \"percentual\": 0.01637163614038678}, {\"bairro\": \"Botafogo, Humait\\u00e1, Urca\", \"tipo_roubo\": \"roubo_cx_eletronico\", \"quantidade\": 8.0, \"percentual\": 0.01637163614038678}, {\"bairro\": \"Catete, Flamengo, Laranjeiras, Gl\\u00f3ria, Cosme Velho\", \"tipo_roubo\": \"roubo_rua\", \"quantidade\": 23401.0, \"percentual\": 39.58220568335589}, {\"bairro\": \"Catete, Flamengo, Laranjeiras, Gl\\u00f3ria, Cosme Velho\", \"tipo_roubo\": \"roubo_transeunte\", \"quantidade\": 16532.0, \"percentual\": 27.963464140730714}, {\"bairro\": \"Catete, Flamengo, Laranjeiras, Gl\\u00f3ria, Cosme Velho\", \"tipo_roubo\": \"outros_roubos\", \"quantidade\": 4875.0, \"percentual\": 8.245940460081192}, {\"bairro\": \"Catete, Flamengo, Laranjeiras, Gl\\u00f3ria, Cosme Velho\", \"tipo_roubo\": \"roubo_celular\", \"quantidade\": 4781.0, \"percentual\": 8.086941813261165}, {\"bairro\": \"Catete, Flamengo, Laranjeiras, Gl\\u00f3ria, Cosme Velho\", \"tipo_roubo\": \"roubo_veiculo\", \"quantidade\": 4456.0, \"percentual\": 7.537212449255751}, {\"bairro\": \"Catete, Flamengo, Laranjeiras, Gl\\u00f3ria, Cosme Velho\", \"tipo_roubo\": \"roubo_em_coletivo\", \"quantidade\": 2088.0, \"percentual\": 3.5317997293640055}, {\"bairro\": \"Catete, Flamengo, Laranjeiras, Gl\\u00f3ria, Cosme Velho\", \"tipo_roubo\": \"roubo_comercio\", \"quantidade\": 1466.0, \"percentual\": 2.479702300405954}, {\"bairro\": \"Catete, Flamengo, Laranjeiras, Gl\\u00f3ria, Cosme Velho\", \"tipo_roubo\": \"roubo_apos_saque\", \"quantidade\": 495.0, \"percentual\": 0.8372801082543978}, {\"bairro\": \"Catete, Flamengo, Laranjeiras, Gl\\u00f3ria, Cosme Velho\", \"tipo_roubo\": \"roubo_residencia\", \"quantidade\": 348.0, \"percentual\": 0.5886332882273342}, {\"bairro\": \"Catete, Flamengo, Laranjeiras, Gl\\u00f3ria, Cosme Velho\", \"tipo_roubo\": \"roubo_carga\", \"quantidade\": 331.0, \"percentual\": 0.5598782138024357}, {\"bairro\": \"Catete, Flamengo, Laranjeiras, Gl\\u00f3ria, Cosme Velho\", \"tipo_roubo\": \"roubo_bicicleta\", \"quantidade\": 270.0, \"percentual\": 0.45669824086603517}, {\"bairro\": \"Catete, Flamengo, Laranjeiras, Gl\\u00f3ria, Cosme Velho\", \"tipo_roubo\": \"roubo_cx_eletronico\", \"quantidade\": 37.0, \"percentual\": 0.06258457374830852}, {\"bairro\": \"Catete, Flamengo, Laranjeiras, Gl\\u00f3ria, Cosme Velho\", \"tipo_roubo\": \"roubo_conducao_saque\", \"quantidade\": 26.0, \"percentual\": 0.04397834912043302}, {\"bairro\": \"Catete, Flamengo, Laranjeiras, Gl\\u00f3ria, Cosme Velho\", \"tipo_roubo\": \"roubo_banco\", \"quantidade\": 14.0, \"percentual\": 0.02368064952638701}, {\"bairro\": \"Copacabana, Leme\", \"tipo_roubo\": \"roubo_rua\", \"quantidade\": 12581.0, \"percentual\": 37.002941176470586}, {\"bairro\": \"Copacabana, Leme\", \"tipo_roubo\": \"roubo_transeunte\", \"quantidade\": 8854.0, \"percentual\": 26.041176470588233}, {\"bairro\": \"Copacabana, Leme\", \"tipo_roubo\": \"outros_roubos\", \"quantidade\": 6665.0, \"percentual\": 19.602941176470587}, {\"bairro\": \"Copacabana, Leme\", \"tipo_roubo\": \"roubo_celular\", \"quantidade\": 2743.0, \"percentual\": 8.06764705882353}, {\"bairro\": \"Copacabana, Leme\", \"tipo_roubo\": \"roubo_comercio\", \"quantidade\": 1213.0, \"percentual\": 3.5676470588235296}, {\"bairro\": \"Copacabana, Leme\", \"tipo_roubo\": \"roubo_em_coletivo\", \"quantidade\": 984.0, \"percentual\": 2.8941176470588235}, {\"bairro\": \"Copacabana, Leme\", \"tipo_roubo\": \"roubo_veiculo\", \"quantidade\": 311.0, \"percentual\": 0.914705882352941}, {\"bairro\": \"Copacabana, Leme\", \"tipo_roubo\": \"roubo_residencia\", \"quantidade\": 283.0, \"percentual\": 0.8323529411764705}, {\"bairro\": \"Copacabana, Leme\", \"tipo_roubo\": \"roubo_apos_saque\", \"quantidade\": 126.0, \"percentual\": 0.37058823529411766}, {\"bairro\": \"Copacabana, Leme\", \"tipo_roubo\": \"roubo_carga\", \"quantidade\": 121.0, \"percentual\": 0.3558823529411765}, {\"bairro\": \"Copacabana, Leme\", \"tipo_roubo\": \"roubo_bicicleta\", \"quantidade\": 80.0, \"percentual\": 0.2352941176470588}, {\"bairro\": \"Copacabana, Leme\", \"tipo_roubo\": \"roubo_conducao_saque\", \"quantidade\": 20.0, \"percentual\": 0.0588235294117647}, {\"bairro\": \"Copacabana, Leme\", \"tipo_roubo\": \"roubo_cx_eletronico\", \"quantidade\": 13.0, \"percentual\": 0.03823529411764706}, {\"bairro\": \"Copacabana, Leme\", \"tipo_roubo\": \"roubo_banco\", \"quantidade\": 6.0, \"percentual\": 0.01764705882352941}, {\"bairro\": \"G\\u00e1vea, Jardim Bot\\u00e2nico, Lagoa, S\\u00e3o Conrado\", \"tipo_roubo\": \"roubo_rua\", \"quantidade\": 6814.0, \"percentual\": 37.135538721456214}, {\"bairro\": \"G\\u00e1vea, Jardim Bot\\u00e2nico, Lagoa, S\\u00e3o Conrado\", \"tipo_roubo\": \"roubo_transeunte\", \"quantidade\": 4146.0, \"percentual\": 22.595236797645647}, {\"bairro\": \"G\\u00e1vea, Jardim Bot\\u00e2nico, Lagoa, S\\u00e3o Conrado\", \"tipo_roubo\": \"outros_roubos\", \"quantidade\": 2427.0, \"percentual\": 13.226878848983596}, {\"bairro\": \"G\\u00e1vea, Jardim Bot\\u00e2nico, Lagoa, S\\u00e3o Conrado\", \"tipo_roubo\": \"roubo_celular\", \"quantidade\": 1361.0, \"percentual\": 7.417297945392119}, {\"bairro\": \"G\\u00e1vea, Jardim Bot\\u00e2nico, Lagoa, S\\u00e3o Conrado\", \"tipo_roubo\": \"roubo_em_coletivo\", \"quantidade\": 1307.0, \"percentual\": 7.123003978418442}, {\"bairro\": \"G\\u00e1vea, Jardim Bot\\u00e2nico, Lagoa, S\\u00e3o Conrado\", \"tipo_roubo\": \"roubo_veiculo\", \"quantidade\": 1201.0, \"percentual\": 6.545315821025668}, {\"bairro\": \"G\\u00e1vea, Jardim Bot\\u00e2nico, Lagoa, S\\u00e3o Conrado\", \"tipo_roubo\": \"roubo_comercio\", \"quantidade\": 472.0, \"percentual\": 2.572347266881029}, {\"bairro\": \"G\\u00e1vea, Jardim Bot\\u00e2nico, Lagoa, S\\u00e3o Conrado\", \"tipo_roubo\": \"roubo_residencia\", \"quantidade\": 298.0, \"percentual\": 1.624066706632514}, {\"bairro\": \"G\\u00e1vea, Jardim Bot\\u00e2nico, Lagoa, S\\u00e3o Conrado\", \"tipo_roubo\": \"roubo_carga\", \"quantidade\": 125.0, \"percentual\": 0.6812360346612895}, {\"bairro\": \"G\\u00e1vea, Jardim Bot\\u00e2nico, Lagoa, S\\u00e3o Conrado\", \"tipo_roubo\": \"roubo_apos_saque\", \"quantidade\": 114.0, \"percentual\": 0.621287263611096}, {\"bairro\": \"G\\u00e1vea, Jardim Bot\\u00e2nico, Lagoa, S\\u00e3o Conrado\", \"tipo_roubo\": \"roubo_conducao_saque\", \"quantidade\": 43.0, \"percentual\": 0.23434519592348355}, {\"bairro\": \"G\\u00e1vea, Jardim Bot\\u00e2nico, Lagoa, S\\u00e3o Conrado\", \"tipo_roubo\": \"roubo_bicicleta\", \"quantidade\": 37.0, \"percentual\": 0.20164586625974168}, {\"bairro\": \"G\\u00e1vea, Jardim Bot\\u00e2nico, Lagoa, S\\u00e3o Conrado\", \"tipo_roubo\": \"roubo_banco\", \"quantidade\": 2.0, \"percentual\": 0.010899776554580631}, {\"bairro\": \"G\\u00e1vea, Jardim Bot\\u00e2nico, Lagoa, S\\u00e3o Conrado\", \"tipo_roubo\": \"roubo_cx_eletronico\", \"quantidade\": 2.0, \"percentual\": 0.010899776554580631}, {\"bairro\": \"Ipanema\", \"tipo_roubo\": \"roubo_rua\", \"quantidade\": 8144.0, \"percentual\": 38.78649330856789}, {\"bairro\": \"Ipanema\", \"tipo_roubo\": \"roubo_transeunte\", \"quantidade\": 5893.0, \"percentual\": 28.065914178215934}, {\"bairro\": \"Ipanema\", \"tipo_roubo\": \"outros_roubos\", \"quantidade\": 3091.0, \"percentual\": 14.721150640567702}, {\"bairro\": \"Ipanema\", \"tipo_roubo\": \"roubo_celular\", \"quantidade\": 1547.0, \"percentual\": 7.367719197980664}, {\"bairro\": \"Ipanema\", \"tipo_roubo\": \"roubo_comercio\", \"quantidade\": 891.0, \"percentual\": 4.243463351907415}, {\"bairro\": \"Ipanema\", \"tipo_roubo\": \"roubo_em_coletivo\", \"quantidade\": 704.0, \"percentual\": 3.352859932371291}, {\"bairro\": \"Ipanema\", \"tipo_roubo\": \"roubo_veiculo\", \"quantidade\": 309.0, \"percentual\": 1.4716388055436491}, {\"bairro\": \"Ipanema\", \"tipo_roubo\": \"roubo_residencia\", \"quantidade\": 224.0, \"percentual\": 1.0668190693908655}, {\"bairro\": \"Ipanema\", \"tipo_roubo\": \"roubo_apos_saque\", \"quantidade\": 68.0, \"percentual\": 0.323855788922227}, {\"bairro\": \"Ipanema\", \"tipo_roubo\": \"roubo_carga\", \"quantidade\": 54.0, \"percentual\": 0.2571795970852979}, {\"bairro\": \"Ipanema\", \"tipo_roubo\": \"roubo_bicicleta\", \"quantidade\": 44.0, \"percentual\": 0.20955374577320568}, {\"bairro\": \"Ipanema\", \"tipo_roubo\": \"roubo_conducao_saque\", \"quantidade\": 15.0, \"percentual\": 0.0714387769681383}, {\"bairro\": \"Ipanema\", \"tipo_roubo\": \"roubo_cx_eletronico\", \"quantidade\": 7.0, \"percentual\": 0.033338095918464546}, {\"bairro\": \"Ipanema\", \"tipo_roubo\": \"roubo_banco\", \"quantidade\": 6.0, \"percentual\": 0.028575510787255322}, {\"bairro\": \"Leblon e Ipanema\", \"tipo_roubo\": \"roubo_rua\", \"quantidade\": 15844.0, \"percentual\": 39.67049750870077}, {\"bairro\": \"Leblon e Ipanema\", \"tipo_roubo\": \"roubo_transeunte\", \"quantidade\": 11538.0, \"percentual\": 28.88905581011042}, {\"bairro\": \"Leblon e Ipanema\", \"tipo_roubo\": \"outros_roubos\", \"quantidade\": 5122.0, \"percentual\": 12.82455745011142}, {\"bairro\": \"Leblon e Ipanema\", \"tipo_roubo\": \"roubo_celular\", \"quantidade\": 3411.0, \"percentual\": 8.540524299556825}, {\"bairro\": \"Leblon e Ipanema\", \"tipo_roubo\": \"roubo_comercio\", \"quantidade\": 1219.0, \"percentual\": 3.052154535666892}, {\"bairro\": \"Leblon e Ipanema\", \"tipo_roubo\": \"roubo_veiculo\", \"quantidade\": 1038.0, \"percentual\": 2.598963419214302}, {\"bairro\": \"Leblon e Ipanema\", \"tipo_roubo\": \"roubo_em_coletivo\", \"quantidade\": 895.0, \"percentual\": 2.2409173990335263}, {\"bairro\": \"Leblon e Ipanema\", \"tipo_roubo\": \"roubo_residencia\", \"quantidade\": 333.0, \"percentual\": 0.8337715015398481}, {\"bairro\": \"Leblon e Ipanema\", \"tipo_roubo\": \"roubo_apos_saque\", \"quantidade\": 261.0, \"percentual\": 0.6534965822879892}, {\"bairro\": \"Leblon e Ipanema\", \"tipo_roubo\": \"roubo_carga\", \"quantidade\": 116.0, \"percentual\": 0.29044292546132855}, {\"bairro\": \"Leblon e Ipanema\", \"tipo_roubo\": \"roubo_bicicleta\", \"quantidade\": 100.0, \"percentual\": 0.2503818322942487}, {\"bairro\": \"Leblon e Ipanema\", \"tipo_roubo\": \"roubo_conducao_saque\", \"quantidade\": 48.0, \"percentual\": 0.12018327950123939}, {\"bairro\": \"Leblon e Ipanema\", \"tipo_roubo\": \"roubo_cx_eletronico\", \"quantidade\": 10.0, \"percentual\": 0.025038183229424874}, {\"bairro\": \"Leblon e Ipanema\", \"tipo_roubo\": \"roubo_banco\", \"quantidade\": 4.0, \"percentual\": 0.01001527329176995}]}}, {\"mode\": \"vega-lite\"});\n",
       "</script>"
      ],
      "text/plain": [
       "alt.Chart(...)"
      ]
     },
     "metadata": {},
     "output_type": "display_data"
    }
   ],
   "source": [
    "# Ordenando os bairros pelo total de roubos\n",
    "total_roubos_por_bairro = (\n",
    "    df_percentuais.groupby(\"bairro\")[\"quantidade\"].sum().reset_index()\n",
    "    .sort_values(by=\"quantidade\", ascending=False)\n",
    ")\n",
    "\n",
    "# Adicionando a ordem no DataFrame original\n",
    "df_percentuais[\"bairro\"] = pd.Categorical(\n",
    "    df_percentuais[\"bairro\"],\n",
    "    categories=total_roubos_por_bairro[\"bairro\"],\n",
    "    ordered=True\n",
    ")\n",
    "\n",
    "# Criando o gráfico de barras segmentadas com cores ajustadas\n",
    "grafico = alt.Chart(df_percentuais).mark_bar().encode(\n",
    "    x=alt.X(\"percentual:Q\", stack=\"normalize\", title=\"Proporção (%)\"),\n",
    "    y=alt.Y(\"bairro:N\", sort=\"ascending\", title=\"Bairro\"),\n",
    "    color=alt.Color(\n",
    "        \"tipo_roubo:N\", \n",
    "        title=\"Tipo de Roubo\", \n",
    "        scale=alt.Scale(\n",
    "            domain=[\n",
    "                \"roubo_veiculo\", \"roubo_transeunte\", \"roubo_celular\", \"roubo_bicicleta\",\n",
    "                \"roubo_em_coletivo\", \"roubo_carga\", \"roubo_residencia\", \"roubo_comercio\",\n",
    "                \"roubo_apos_saque\", \"roubo_cx_eletronico\", \"roubo_conducao_saque\", \n",
    "                \"roubo_banco\", \"outros_roubos\", \"roubo_rua\"\n",
    "            ],\n",
    "            range=[\n",
    "                \"#4E79A7\",  # roubo_veiculo - Azul Suave\n",
    "                \"#228B22\",  # roubo_transeunte - Verde Escuro\n",
    "                \"#E15759\",  # roubo_celular - Vermelho\n",
    "                \"#76B7B2\",  # roubo_bicicleta - Verde Água\n",
    "                \"#59A14F\",  # roubo_em_coletivo - Verde\n",
    "                \"#EDC949\",  # roubo_carga - Amarelo\n",
    "                \"#AF7AA1\",  # roubo_residencia - Roxo Claro\n",
    "                \"#FF9DA7\",  # roubo_comercio - Rosa Claro\n",
    "                \"#9C755F\",  # roubo_apos_saque - Marrom Claro\n",
    "                \"#BAB0AB\",  # roubo_cx_eletronico - Cinza Claro\n",
    "                \"#D37295\",  # roubo_conducao_saque - Rosa Escuro\n",
    "                \"#FABFD2\",  # roubo_banco - Rosa Suave\n",
    "                \"#9467BD\",  # outros_roubos - Lilás\n",
    "                \"#1F77B4\"   # roubo_rua - Azul Claro\n",
    "            ]\n",
    "        )\n",
    "    ),\n",
    "    order=alt.Order(\"percentual:Q\", sort=\"ascending\"),\n",
    "    tooltip=[\"bairro:N\", \"tipo_roubo:N\", \"quantidade:Q\", \"percentual:Q\"]\n",
    ").properties(\n",
    "    title=\"Distribuição Percentual dos Tipos de Roubo por Bairro na Zona Sul\",\n",
    "    width=600,\n",
    "    height=400\n",
    ").configure_title(\n",
    "    fontSize=16,\n",
    "    anchor=\"start\"\n",
    ")\n",
    "\n",
    "grafico.show()"
   ]
  },
  {
   "cell_type": "code",
   "execution_count": 18,
   "metadata": {},
   "outputs": [
    {
     "data": {
      "text/html": [
       "\n",
       "<style>\n",
       "  #altair-viz-ad682b30bf724804a9242caa9f2cecdb.vega-embed {\n",
       "    width: 100%;\n",
       "    display: flex;\n",
       "  }\n",
       "\n",
       "  #altair-viz-ad682b30bf724804a9242caa9f2cecdb.vega-embed details,\n",
       "  #altair-viz-ad682b30bf724804a9242caa9f2cecdb.vega-embed details summary {\n",
       "    position: relative;\n",
       "  }\n",
       "</style>\n",
       "<div id=\"altair-viz-ad682b30bf724804a9242caa9f2cecdb\"></div>\n",
       "<script type=\"text/javascript\">\n",
       "  var VEGA_DEBUG = (typeof VEGA_DEBUG == \"undefined\") ? {} : VEGA_DEBUG;\n",
       "  (function(spec, embedOpt){\n",
       "    let outputDiv = document.currentScript.previousElementSibling;\n",
       "    if (outputDiv.id !== \"altair-viz-ad682b30bf724804a9242caa9f2cecdb\") {\n",
       "      outputDiv = document.getElementById(\"altair-viz-ad682b30bf724804a9242caa9f2cecdb\");\n",
       "    }\n",
       "    const paths = {\n",
       "      \"vega\": \"https://cdn.jsdelivr.net/npm/vega@5?noext\",\n",
       "      \"vega-lib\": \"https://cdn.jsdelivr.net/npm/vega-lib?noext\",\n",
       "      \"vega-lite\": \"https://cdn.jsdelivr.net/npm/vega-lite@5.20.1?noext\",\n",
       "      \"vega-embed\": \"https://cdn.jsdelivr.net/npm/vega-embed@6?noext\",\n",
       "    };\n",
       "\n",
       "    function maybeLoadScript(lib, version) {\n",
       "      var key = `${lib.replace(\"-\", \"\")}_version`;\n",
       "      return (VEGA_DEBUG[key] == version) ?\n",
       "        Promise.resolve(paths[lib]) :\n",
       "        new Promise(function(resolve, reject) {\n",
       "          var s = document.createElement('script');\n",
       "          document.getElementsByTagName(\"head\")[0].appendChild(s);\n",
       "          s.async = true;\n",
       "          s.onload = () => {\n",
       "            VEGA_DEBUG[key] = version;\n",
       "            return resolve(paths[lib]);\n",
       "          };\n",
       "          s.onerror = () => reject(`Error loading script: ${paths[lib]}`);\n",
       "          s.src = paths[lib];\n",
       "        });\n",
       "    }\n",
       "\n",
       "    function showError(err) {\n",
       "      outputDiv.innerHTML = `<div class=\"error\" style=\"color:red;\">${err}</div>`;\n",
       "      throw err;\n",
       "    }\n",
       "\n",
       "    function displayChart(vegaEmbed) {\n",
       "      vegaEmbed(outputDiv, spec, embedOpt)\n",
       "        .catch(err => showError(`Javascript Error: ${err.message}<br>This usually means there's a typo in your chart specification. See the javascript console for the full traceback.`));\n",
       "    }\n",
       "\n",
       "    if(typeof define === \"function\" && define.amd) {\n",
       "      requirejs.config({paths});\n",
       "      require([\"vega-embed\"], displayChart, err => showError(`Error loading script: ${err.message}`));\n",
       "    } else {\n",
       "      maybeLoadScript(\"vega\", \"5\")\n",
       "        .then(() => maybeLoadScript(\"vega-lite\", \"5.20.1\"))\n",
       "        .then(() => maybeLoadScript(\"vega-embed\", \"6\"))\n",
       "        .catch(showError)\n",
       "        .then(() => displayChart(vegaEmbed));\n",
       "    }\n",
       "  })({\"config\": {\"view\": {\"continuousWidth\": 300, \"continuousHeight\": 300}, \"title\": {\"anchor\": \"start\", \"fontSize\": 16}}, \"data\": {\"name\": \"data-2ff14d4665232da29d459ff263c30018\"}, \"mark\": {\"type\": \"bar\"}, \"encoding\": {\"color\": {\"field\": \"tipo_furto\", \"scale\": {\"domain\": [\"furto_veiculos\", \"furto_transeunte\", \"furto_coletivo\", \"furto_celular\", \"furto_bicicleta\", \"outros_furtos\"], \"range\": [\"#4E79A7\", \"#228B22\", \"#76B7B2\", \"#E15759\", \"#59A14F\", \"#9467BD\"]}, \"title\": \"Tipo de Furto\", \"type\": \"nominal\"}, \"order\": {\"field\": \"percentual\", \"sort\": \"ascending\", \"type\": \"quantitative\"}, \"tooltip\": [{\"field\": \"bairro\", \"type\": \"nominal\"}, {\"field\": \"tipo_furto\", \"type\": \"nominal\"}, {\"field\": \"quantidade\", \"type\": \"quantitative\"}, {\"field\": \"percentual\", \"type\": \"quantitative\"}], \"x\": {\"field\": \"percentual\", \"stack\": \"normalize\", \"title\": \"Propor\\u00e7\\u00e3o (%)\", \"type\": \"quantitative\"}, \"y\": {\"field\": \"bairro\", \"sort\": \"ascending\", \"title\": \"Bairro\", \"type\": \"nominal\"}}, \"height\": 400, \"title\": \"Distribui\\u00e7\\u00e3o Percentual dos Tipos de Furto por Bairro na Zona Sul\", \"width\": 600, \"$schema\": \"https://vega.github.io/schema/vega-lite/v5.20.1.json\", \"datasets\": {\"data-2ff14d4665232da29d459ff263c30018\": [{\"bairro\": \"Botafogo, Humait\\u00e1, Urca\", \"tipo_furto\": \"furto_bicicleta\", \"quantidade\": 1197.0, \"percentual\": 1.7117851473679697}, {\"bairro\": \"Botafogo, Humait\\u00e1, Urca\", \"tipo_furto\": \"furto_celular\", \"quantidade\": 12068.0, \"percentual\": 17.257997626095786}, {\"bairro\": \"Botafogo, Humait\\u00e1, Urca\", \"tipo_furto\": \"furto_coletivo\", \"quantidade\": 6570.0, \"percentual\": 9.395512462997125}, {\"bairro\": \"Botafogo, Humait\\u00e1, Urca\", \"tipo_furto\": \"furto_transeunte\", \"quantidade\": 9366.0, \"percentual\": 13.393967995194988}, {\"bairro\": \"Botafogo, Humait\\u00e1, Urca\", \"tipo_furto\": \"furto_veiculos\", \"quantidade\": 6574.0, \"percentual\": 9.40123271411615}, {\"bairro\": \"Botafogo, Humait\\u00e1, Urca\", \"tipo_furto\": \"outros_furtos\", \"quantidade\": 34152.0, \"percentual\": 48.83950405422798}, {\"bairro\": \"Catete, Flamengo, Laranjeiras, Gl\\u00f3ria, Cosme Velho\", \"tipo_furto\": \"furto_bicicleta\", \"quantidade\": 865.0, \"percentual\": 1.3189795825010293}, {\"bairro\": \"Catete, Flamengo, Laranjeiras, Gl\\u00f3ria, Cosme Velho\", \"tipo_furto\": \"furto_celular\", \"quantidade\": 11615.0, \"percentual\": 17.710922370808618}, {\"bairro\": \"Catete, Flamengo, Laranjeiras, Gl\\u00f3ria, Cosme Velho\", \"tipo_furto\": \"furto_coletivo\", \"quantidade\": 4533.0, \"percentual\": 6.912062945060307}, {\"bairro\": \"Catete, Flamengo, Laranjeiras, Gl\\u00f3ria, Cosme Velho\", \"tipo_furto\": \"furto_transeunte\", \"quantidade\": 12831.0, \"percentual\": 19.565117945746483}, {\"bairro\": \"Catete, Flamengo, Laranjeiras, Gl\\u00f3ria, Cosme Velho\", \"tipo_furto\": \"furto_veiculos\", \"quantidade\": 7843.0, \"percentual\": 11.959256491971761}, {\"bairro\": \"Catete, Flamengo, Laranjeiras, Gl\\u00f3ria, Cosme Velho\", \"tipo_furto\": \"outros_furtos\", \"quantidade\": 27894.0, \"percentual\": 42.5336606639118}, {\"bairro\": \"Copacabana, Leme\", \"tipo_furto\": \"furto_bicicleta\", \"quantidade\": 1188.0, \"percentual\": 1.2554025636419355}, {\"bairro\": \"Copacabana, Leme\", \"tipo_furto\": \"furto_celular\", \"quantidade\": 13978.0, \"percentual\": 14.771058109921695}, {\"bairro\": \"Copacabana, Leme\", \"tipo_furto\": \"furto_coletivo\", \"quantidade\": 5173.0, \"percentual\": 5.466496179898765}, {\"bairro\": \"Copacabana, Leme\", \"tipo_furto\": \"furto_transeunte\", \"quantidade\": 26086.0, \"percentual\": 27.56601959188849}, {\"bairro\": \"Copacabana, Leme\", \"tipo_furto\": \"furto_veiculos\", \"quantidade\": 1926.0, \"percentual\": 2.035273853177077}, {\"bairro\": \"Copacabana, Leme\", \"tipo_furto\": \"outros_furtos\", \"quantidade\": 46280.0, \"percentual\": 48.90574970147203}, {\"bairro\": \"G\\u00e1vea, Jardim Bot\\u00e2nico, Lagoa, S\\u00e3o Conrado\", \"tipo_furto\": \"furto_bicicleta\", \"quantidade\": 313.0, \"percentual\": 1.0149815163110447}, {\"bairro\": \"G\\u00e1vea, Jardim Bot\\u00e2nico, Lagoa, S\\u00e3o Conrado\", \"tipo_furto\": \"furto_celular\", \"quantidade\": 6063.0, \"percentual\": 19.660808093910113}, {\"bairro\": \"G\\u00e1vea, Jardim Bot\\u00e2nico, Lagoa, S\\u00e3o Conrado\", \"tipo_furto\": \"furto_coletivo\", \"quantidade\": 2748.0, \"percentual\": 8.911083727868215}, {\"bairro\": \"G\\u00e1vea, Jardim Bot\\u00e2nico, Lagoa, S\\u00e3o Conrado\", \"tipo_furto\": \"furto_transeunte\", \"quantidade\": 3827.0, \"percentual\": 12.410013619560283}, {\"bairro\": \"G\\u00e1vea, Jardim Bot\\u00e2nico, Lagoa, S\\u00e3o Conrado\", \"tipo_furto\": \"furto_veiculos\", \"quantidade\": 1758.0, \"percentual\": 5.700758804072898}, {\"bairro\": \"G\\u00e1vea, Jardim Bot\\u00e2nico, Lagoa, S\\u00e3o Conrado\", \"tipo_furto\": \"outros_furtos\", \"quantidade\": 16129.0, \"percentual\": 52.302354238277445}, {\"bairro\": \"Ipanema\", \"tipo_furto\": \"furto_bicicleta\", \"quantidade\": 691.0, \"percentual\": 1.5150186362639773}, {\"bairro\": \"Ipanema\", \"tipo_furto\": \"furto_celular\", \"quantidade\": 6296.0, \"percentual\": 13.803990352992765}, {\"bairro\": \"Ipanema\", \"tipo_furto\": \"furto_coletivo\", \"quantidade\": 2636.0, \"percentual\": 5.779434334575751}, {\"bairro\": \"Ipanema\", \"tipo_furto\": \"furto_transeunte\", \"quantidade\": 10581.0, \"percentual\": 23.198859899144924}, {\"bairro\": \"Ipanema\", \"tipo_furto\": \"furto_veiculos\", \"quantidade\": 1094.0, \"percentual\": 2.398596798947599}, {\"bairro\": \"Ipanema\", \"tipo_furto\": \"outros_furtos\", \"quantidade\": 24312.0, \"percentual\": 53.30409997807498}, {\"bairro\": \"Leblon e Ipanema\", \"tipo_furto\": \"furto_bicicleta\", \"quantidade\": 1851.0, \"percentual\": 2.1493514787677515}, {\"bairro\": \"Leblon e Ipanema\", \"tipo_furto\": \"furto_celular\", \"quantidade\": 14438.0, \"percentual\": 16.765173771177093}, {\"bairro\": \"Leblon e Ipanema\", \"tipo_furto\": \"furto_coletivo\", \"quantidade\": 3847.0, \"percentual\": 4.467074629292026}, {\"bairro\": \"Leblon e Ipanema\", \"tipo_furto\": \"furto_transeunte\", \"quantidade\": 20006.0, \"percentual\": 23.230645966627574}, {\"bairro\": \"Leblon e Ipanema\", \"tipo_furto\": \"furto_veiculos\", \"quantidade\": 2199.0, \"percentual\": 2.553443490983407}, {\"bairro\": \"Leblon e Ipanema\", \"tipo_furto\": \"outros_furtos\", \"quantidade\": 43778.0, \"percentual\": 50.83431066315215}]}}, {\"mode\": \"vega-lite\"});\n",
       "</script>"
      ],
      "text/plain": [
       "alt.Chart(...)"
      ]
     },
     "metadata": {},
     "output_type": "display_data"
    }
   ],
   "source": [
    "# Ajustando o DataFrame para incluir os tipos de furto (sem total_furtos)\n",
    "df_furtos = df_zona_sul.melt(\n",
    "    id_vars=[\"bairro\"], \n",
    "    value_vars=[\n",
    "        \"furto_veiculos\", \"furto_transeunte\", \"furto_coletivo\", \"furto_celular\",\n",
    "        \"furto_bicicleta\", \"outros_furtos\"\n",
    "    ], \n",
    "    var_name=\"tipo_furto\", \n",
    "    value_name=\"quantidade\"\n",
    ")\n",
    "\n",
    "# Agrupando e calculando percentuais por bairro\n",
    "df_percentuais_furtos = (\n",
    "    df_furtos.groupby([\"bairro\", \"tipo_furto\"])[\"quantidade\"]\n",
    "    .sum()\n",
    "    .reset_index()\n",
    ")\n",
    "df_percentuais_furtos[\"percentual\"] = (\n",
    "    df_percentuais_furtos.groupby(\"bairro\")[\"quantidade\"]\n",
    "    .transform(lambda x: (x / x.sum()) * 100)\n",
    ")\n",
    "\n",
    "# Ordenando os bairros pelo total de furtos usando a coluna total_furtos\n",
    "total_furtos_por_bairro = (\n",
    "    df_zona_sul.groupby(\"bairro\")[\"total_furtos\"].sum().reset_index()\n",
    "    .sort_values(by=\"total_furtos\", ascending=False)\n",
    ")\n",
    "\n",
    "# Adicionando a ordem no DataFrame original\n",
    "df_percentuais_furtos[\"bairro\"] = pd.Categorical(\n",
    "    df_percentuais_furtos[\"bairro\"],\n",
    "    categories=total_furtos_por_bairro[\"bairro\"],\n",
    "    ordered=True\n",
    ")\n",
    "\n",
    "# Criando o gráfico de barras segmentadas com cores ajustadas\n",
    "grafico_furtos = alt.Chart(df_percentuais_furtos).mark_bar().encode(\n",
    "    x=alt.X(\"percentual:Q\", stack=\"normalize\", title=\"Proporção (%)\"),\n",
    "    y=alt.Y(\"bairro:N\", sort=\"ascending\", title=\"Bairro\"),\n",
    "    color=alt.Color(\n",
    "        \"tipo_furto:N\", \n",
    "        title=\"Tipo de Furto\", \n",
    "        scale=alt.Scale(\n",
    "            domain=[\n",
    "                \"furto_veiculos\", \"furto_transeunte\", \"furto_coletivo\", \"furto_celular\",\n",
    "                \"furto_bicicleta\", \"outros_furtos\"\n",
    "            ],\n",
    "            range=[\n",
    "                \"#4E79A7\",  # furto_veiculos - Azul Suave\n",
    "                \"#228B22\",  # furto_transeunte - Verde Escuro\n",
    "                \"#76B7B2\",  # furto_coletivo - Verde Água\n",
    "                \"#E15759\",  # furto_celular - Vermelho\n",
    "                \"#59A14F\",  # furto_bicicleta - Verde Claro\n",
    "                \"#9467BD\"   # outros_furtos - Lilás\n",
    "            ]\n",
    "        )\n",
    "    ),\n",
    "    order=alt.Order(\"percentual:Q\", sort=\"ascending\"),\n",
    "    tooltip=[\"bairro:N\", \"tipo_furto:N\", \"quantidade:Q\", \"percentual:Q\"]\n",
    ").properties(\n",
    "    title=\"Distribuição Percentual dos Tipos de Furto por Bairro na Zona Sul\",\n",
    "    width=600,\n",
    "    height=400\n",
    ").configure_title(\n",
    "    fontSize=16,\n",
    "    anchor=\"start\"\n",
    ")\n",
    "\n",
    "grafico_furtos.show()"
   ]
  },
  {
   "cell_type": "code",
   "execution_count": 30,
   "metadata": {},
   "outputs": [
    {
     "data": {
      "text/html": [
       "<div>\n",
       "<style scoped>\n",
       "    .dataframe tbody tr th:only-of-type {\n",
       "        vertical-align: middle;\n",
       "    }\n",
       "\n",
       "    .dataframe tbody tr th {\n",
       "        vertical-align: top;\n",
       "    }\n",
       "\n",
       "    .dataframe thead th {\n",
       "        text-align: right;\n",
       "    }\n",
       "</style>\n",
       "<table border=\"1\" class=\"dataframe\">\n",
       "  <thead>\n",
       "    <tr style=\"text-align: right;\">\n",
       "      <th></th>\n",
       "      <th>type</th>\n",
       "      <th>features</th>\n",
       "    </tr>\n",
       "  </thead>\n",
       "  <tbody>\n",
       "    <tr>\n",
       "      <th>0</th>\n",
       "      <td>FeatureCollection</td>\n",
       "      <td>{'type': 'Feature', 'properties': {'id': '3300...</td>\n",
       "    </tr>\n",
       "    <tr>\n",
       "      <th>1</th>\n",
       "      <td>FeatureCollection</td>\n",
       "      <td>{'type': 'Feature', 'properties': {'id': '3300...</td>\n",
       "    </tr>\n",
       "    <tr>\n",
       "      <th>2</th>\n",
       "      <td>FeatureCollection</td>\n",
       "      <td>{'type': 'Feature', 'properties': {'id': '3300...</td>\n",
       "    </tr>\n",
       "    <tr>\n",
       "      <th>3</th>\n",
       "      <td>FeatureCollection</td>\n",
       "      <td>{'type': 'Feature', 'properties': {'id': '3300...</td>\n",
       "    </tr>\n",
       "    <tr>\n",
       "      <th>4</th>\n",
       "      <td>FeatureCollection</td>\n",
       "      <td>{'type': 'Feature', 'properties': {'id': '3300...</td>\n",
       "    </tr>\n",
       "    <tr>\n",
       "      <th>...</th>\n",
       "      <td>...</td>\n",
       "      <td>...</td>\n",
       "    </tr>\n",
       "    <tr>\n",
       "      <th>87</th>\n",
       "      <td>FeatureCollection</td>\n",
       "      <td>{'type': 'Feature', 'properties': {'id': '3306...</td>\n",
       "    </tr>\n",
       "    <tr>\n",
       "      <th>88</th>\n",
       "      <td>FeatureCollection</td>\n",
       "      <td>{'type': 'Feature', 'properties': {'id': '3306...</td>\n",
       "    </tr>\n",
       "    <tr>\n",
       "      <th>89</th>\n",
       "      <td>FeatureCollection</td>\n",
       "      <td>{'type': 'Feature', 'properties': {'id': '3306...</td>\n",
       "    </tr>\n",
       "    <tr>\n",
       "      <th>90</th>\n",
       "      <td>FeatureCollection</td>\n",
       "      <td>{'type': 'Feature', 'properties': {'id': '3306...</td>\n",
       "    </tr>\n",
       "    <tr>\n",
       "      <th>91</th>\n",
       "      <td>FeatureCollection</td>\n",
       "      <td>{'type': 'Feature', 'properties': {'id': '3306...</td>\n",
       "    </tr>\n",
       "  </tbody>\n",
       "</table>\n",
       "<p>92 rows × 2 columns</p>\n",
       "</div>"
      ],
      "text/plain": [
       "                 type                                           features\n",
       "0   FeatureCollection  {'type': 'Feature', 'properties': {'id': '3300...\n",
       "1   FeatureCollection  {'type': 'Feature', 'properties': {'id': '3300...\n",
       "2   FeatureCollection  {'type': 'Feature', 'properties': {'id': '3300...\n",
       "3   FeatureCollection  {'type': 'Feature', 'properties': {'id': '3300...\n",
       "4   FeatureCollection  {'type': 'Feature', 'properties': {'id': '3300...\n",
       "..                ...                                                ...\n",
       "87  FeatureCollection  {'type': 'Feature', 'properties': {'id': '3306...\n",
       "88  FeatureCollection  {'type': 'Feature', 'properties': {'id': '3306...\n",
       "89  FeatureCollection  {'type': 'Feature', 'properties': {'id': '3306...\n",
       "90  FeatureCollection  {'type': 'Feature', 'properties': {'id': '3306...\n",
       "91  FeatureCollection  {'type': 'Feature', 'properties': {'id': '3306...\n",
       "\n",
       "[92 rows x 2 columns]"
      ]
     },
     "execution_count": 30,
     "metadata": {},
     "output_type": "execute_result"
    }
   ],
   "source": [
    "regiao_zs = pd.read_json('geojs-33-mun.json')\n",
    "regiao_zs"
   ]
  },
  {
   "cell_type": "code",
   "execution_count": 19,
   "metadata": {},
   "outputs": [
    {
     "data": {
      "application/vnd.plotly.v1+json": {
       "config": {
        "plotlyServerURL": "https://plot.ly"
       },
       "data": [
        {
         "branchvalues": "total",
         "customdata": [
          [
           6105
          ],
          [
           64458
          ],
          [
           82697
          ],
          [
           21394
          ],
          [
           25507
          ],
          [
           1474
          ],
          [
           762
          ],
          [
           938
          ],
          [
           18008
          ],
          [
           60241
          ],
          [
           10090
          ],
          [
           40
          ],
          [
           7923
          ],
          [
           186
          ],
          [
           1729
          ],
          [
           86172
          ],
          [
           77
          ],
          [
           7159
          ]
         ],
         "domain": {
          "x": [
           0,
           1
          ],
          "y": [
           0,
           1
          ]
         },
         "hovertemplate": "labels=%{label}<br>quantidade_sum=%{value}<br>parent=%{parent}<br>id=%{id}<br>quantidade=%{color}<extra></extra>",
         "ids": [
          "Furto de Bicicleta",
          "Furto de Celular",
          "Furto de Transeunte",
          "Furto de Veículos",
          "Furto em Coletivo",
          "Roubo Após Saque",
          "Roubo de Bicicleta",
          "Roubo de Carga",
          "Roubo de Celular",
          "Roubo de Transeunte",
          "Roubo de Veículo",
          "Roubo em Banco",
          "Roubo em Coletivo",
          "Roubo em Condução Após Saque",
          "Roubo em Residência",
          "Roubo na Rua",
          "Roubo no Caixa Eletrônico",
          "Roubo no Comércio"
         ],
         "labels": [
          "Furto de Bicicleta",
          "Furto de Celular",
          "Furto de Transeunte",
          "Furto de Veículos",
          "Furto em Coletivo",
          "Roubo Após Saque",
          "Roubo de Bicicleta",
          "Roubo de Carga",
          "Roubo de Celular",
          "Roubo de Transeunte",
          "Roubo de Veículo",
          "Roubo em Banco",
          "Roubo em Coletivo",
          "Roubo em Condução Após Saque",
          "Roubo em Residência",
          "Roubo na Rua",
          "Roubo no Caixa Eletrônico",
          "Roubo no Comércio"
         ],
         "marker": {
          "coloraxis": "coloraxis",
          "colors": [
           6105,
           64458,
           82697,
           21394,
           25507,
           1474,
           762,
           938,
           18008,
           60241,
           10090,
           40,
           7923,
           186,
           1729,
           86172,
           77,
           7159
          ]
         },
         "name": "",
         "parents": [
          "",
          "",
          "",
          "",
          "",
          "",
          "",
          "",
          "",
          "",
          "",
          "",
          "",
          "",
          "",
          "",
          "",
          ""
         ],
         "textfont": {
          "size": 14
         },
         "textinfo": "label+value",
         "texttemplate": "%{label}<br>%{value} ocorrências",
         "type": "treemap",
         "values": [
          6105,
          64458,
          82697,
          21394,
          25507,
          1474,
          762,
          938,
          18008,
          60241,
          10090,
          40,
          7923,
          186,
          1729,
          86172,
          77,
          7159
         ]
        }
       ],
       "layout": {
        "coloraxis": {
         "colorbar": {
          "thickness": 15,
          "title": {
           "text": "Ocorrências"
          }
         },
         "colorscale": [
          [
           0,
           "rgb(255,255,204)"
          ],
          [
           0.125,
           "rgb(255,237,160)"
          ],
          [
           0.25,
           "rgb(254,217,118)"
          ],
          [
           0.375,
           "rgb(254,178,76)"
          ],
          [
           0.5,
           "rgb(253,141,60)"
          ],
          [
           0.625,
           "rgb(252,78,42)"
          ],
          [
           0.75,
           "rgb(227,26,28)"
          ],
          [
           0.875,
           "rgb(189,0,38)"
          ],
          [
           1,
           "rgb(128,0,38)"
          ]
         ]
        },
        "legend": {
         "tracegroupgap": 0
        },
        "margin": {
         "b": 25,
         "l": 25,
         "r": 25,
         "t": 50
        },
        "template": {
         "data": {
          "bar": [
           {
            "error_x": {
             "color": "#2a3f5f"
            },
            "error_y": {
             "color": "#2a3f5f"
            },
            "marker": {
             "line": {
              "color": "#E5ECF6",
              "width": 0.5
             },
             "pattern": {
              "fillmode": "overlay",
              "size": 10,
              "solidity": 0.2
             }
            },
            "type": "bar"
           }
          ],
          "barpolar": [
           {
            "marker": {
             "line": {
              "color": "#E5ECF6",
              "width": 0.5
             },
             "pattern": {
              "fillmode": "overlay",
              "size": 10,
              "solidity": 0.2
             }
            },
            "type": "barpolar"
           }
          ],
          "carpet": [
           {
            "aaxis": {
             "endlinecolor": "#2a3f5f",
             "gridcolor": "white",
             "linecolor": "white",
             "minorgridcolor": "white",
             "startlinecolor": "#2a3f5f"
            },
            "baxis": {
             "endlinecolor": "#2a3f5f",
             "gridcolor": "white",
             "linecolor": "white",
             "minorgridcolor": "white",
             "startlinecolor": "#2a3f5f"
            },
            "type": "carpet"
           }
          ],
          "choropleth": [
           {
            "colorbar": {
             "outlinewidth": 0,
             "ticks": ""
            },
            "type": "choropleth"
           }
          ],
          "contour": [
           {
            "colorbar": {
             "outlinewidth": 0,
             "ticks": ""
            },
            "colorscale": [
             [
              0,
              "#0d0887"
             ],
             [
              0.1111111111111111,
              "#46039f"
             ],
             [
              0.2222222222222222,
              "#7201a8"
             ],
             [
              0.3333333333333333,
              "#9c179e"
             ],
             [
              0.4444444444444444,
              "#bd3786"
             ],
             [
              0.5555555555555556,
              "#d8576b"
             ],
             [
              0.6666666666666666,
              "#ed7953"
             ],
             [
              0.7777777777777778,
              "#fb9f3a"
             ],
             [
              0.8888888888888888,
              "#fdca26"
             ],
             [
              1,
              "#f0f921"
             ]
            ],
            "type": "contour"
           }
          ],
          "contourcarpet": [
           {
            "colorbar": {
             "outlinewidth": 0,
             "ticks": ""
            },
            "type": "contourcarpet"
           }
          ],
          "heatmap": [
           {
            "colorbar": {
             "outlinewidth": 0,
             "ticks": ""
            },
            "colorscale": [
             [
              0,
              "#0d0887"
             ],
             [
              0.1111111111111111,
              "#46039f"
             ],
             [
              0.2222222222222222,
              "#7201a8"
             ],
             [
              0.3333333333333333,
              "#9c179e"
             ],
             [
              0.4444444444444444,
              "#bd3786"
             ],
             [
              0.5555555555555556,
              "#d8576b"
             ],
             [
              0.6666666666666666,
              "#ed7953"
             ],
             [
              0.7777777777777778,
              "#fb9f3a"
             ],
             [
              0.8888888888888888,
              "#fdca26"
             ],
             [
              1,
              "#f0f921"
             ]
            ],
            "type": "heatmap"
           }
          ],
          "heatmapgl": [
           {
            "colorbar": {
             "outlinewidth": 0,
             "ticks": ""
            },
            "colorscale": [
             [
              0,
              "#0d0887"
             ],
             [
              0.1111111111111111,
              "#46039f"
             ],
             [
              0.2222222222222222,
              "#7201a8"
             ],
             [
              0.3333333333333333,
              "#9c179e"
             ],
             [
              0.4444444444444444,
              "#bd3786"
             ],
             [
              0.5555555555555556,
              "#d8576b"
             ],
             [
              0.6666666666666666,
              "#ed7953"
             ],
             [
              0.7777777777777778,
              "#fb9f3a"
             ],
             [
              0.8888888888888888,
              "#fdca26"
             ],
             [
              1,
              "#f0f921"
             ]
            ],
            "type": "heatmapgl"
           }
          ],
          "histogram": [
           {
            "marker": {
             "pattern": {
              "fillmode": "overlay",
              "size": 10,
              "solidity": 0.2
             }
            },
            "type": "histogram"
           }
          ],
          "histogram2d": [
           {
            "colorbar": {
             "outlinewidth": 0,
             "ticks": ""
            },
            "colorscale": [
             [
              0,
              "#0d0887"
             ],
             [
              0.1111111111111111,
              "#46039f"
             ],
             [
              0.2222222222222222,
              "#7201a8"
             ],
             [
              0.3333333333333333,
              "#9c179e"
             ],
             [
              0.4444444444444444,
              "#bd3786"
             ],
             [
              0.5555555555555556,
              "#d8576b"
             ],
             [
              0.6666666666666666,
              "#ed7953"
             ],
             [
              0.7777777777777778,
              "#fb9f3a"
             ],
             [
              0.8888888888888888,
              "#fdca26"
             ],
             [
              1,
              "#f0f921"
             ]
            ],
            "type": "histogram2d"
           }
          ],
          "histogram2dcontour": [
           {
            "colorbar": {
             "outlinewidth": 0,
             "ticks": ""
            },
            "colorscale": [
             [
              0,
              "#0d0887"
             ],
             [
              0.1111111111111111,
              "#46039f"
             ],
             [
              0.2222222222222222,
              "#7201a8"
             ],
             [
              0.3333333333333333,
              "#9c179e"
             ],
             [
              0.4444444444444444,
              "#bd3786"
             ],
             [
              0.5555555555555556,
              "#d8576b"
             ],
             [
              0.6666666666666666,
              "#ed7953"
             ],
             [
              0.7777777777777778,
              "#fb9f3a"
             ],
             [
              0.8888888888888888,
              "#fdca26"
             ],
             [
              1,
              "#f0f921"
             ]
            ],
            "type": "histogram2dcontour"
           }
          ],
          "mesh3d": [
           {
            "colorbar": {
             "outlinewidth": 0,
             "ticks": ""
            },
            "type": "mesh3d"
           }
          ],
          "parcoords": [
           {
            "line": {
             "colorbar": {
              "outlinewidth": 0,
              "ticks": ""
             }
            },
            "type": "parcoords"
           }
          ],
          "pie": [
           {
            "automargin": true,
            "type": "pie"
           }
          ],
          "scatter": [
           {
            "fillpattern": {
             "fillmode": "overlay",
             "size": 10,
             "solidity": 0.2
            },
            "type": "scatter"
           }
          ],
          "scatter3d": [
           {
            "line": {
             "colorbar": {
              "outlinewidth": 0,
              "ticks": ""
             }
            },
            "marker": {
             "colorbar": {
              "outlinewidth": 0,
              "ticks": ""
             }
            },
            "type": "scatter3d"
           }
          ],
          "scattercarpet": [
           {
            "marker": {
             "colorbar": {
              "outlinewidth": 0,
              "ticks": ""
             }
            },
            "type": "scattercarpet"
           }
          ],
          "scattergeo": [
           {
            "marker": {
             "colorbar": {
              "outlinewidth": 0,
              "ticks": ""
             }
            },
            "type": "scattergeo"
           }
          ],
          "scattergl": [
           {
            "marker": {
             "colorbar": {
              "outlinewidth": 0,
              "ticks": ""
             }
            },
            "type": "scattergl"
           }
          ],
          "scattermapbox": [
           {
            "marker": {
             "colorbar": {
              "outlinewidth": 0,
              "ticks": ""
             }
            },
            "type": "scattermapbox"
           }
          ],
          "scatterpolar": [
           {
            "marker": {
             "colorbar": {
              "outlinewidth": 0,
              "ticks": ""
             }
            },
            "type": "scatterpolar"
           }
          ],
          "scatterpolargl": [
           {
            "marker": {
             "colorbar": {
              "outlinewidth": 0,
              "ticks": ""
             }
            },
            "type": "scatterpolargl"
           }
          ],
          "scatterternary": [
           {
            "marker": {
             "colorbar": {
              "outlinewidth": 0,
              "ticks": ""
             }
            },
            "type": "scatterternary"
           }
          ],
          "surface": [
           {
            "colorbar": {
             "outlinewidth": 0,
             "ticks": ""
            },
            "colorscale": [
             [
              0,
              "#0d0887"
             ],
             [
              0.1111111111111111,
              "#46039f"
             ],
             [
              0.2222222222222222,
              "#7201a8"
             ],
             [
              0.3333333333333333,
              "#9c179e"
             ],
             [
              0.4444444444444444,
              "#bd3786"
             ],
             [
              0.5555555555555556,
              "#d8576b"
             ],
             [
              0.6666666666666666,
              "#ed7953"
             ],
             [
              0.7777777777777778,
              "#fb9f3a"
             ],
             [
              0.8888888888888888,
              "#fdca26"
             ],
             [
              1,
              "#f0f921"
             ]
            ],
            "type": "surface"
           }
          ],
          "table": [
           {
            "cells": {
             "fill": {
              "color": "#EBF0F8"
             },
             "line": {
              "color": "white"
             }
            },
            "header": {
             "fill": {
              "color": "#C8D4E3"
             },
             "line": {
              "color": "white"
             }
            },
            "type": "table"
           }
          ]
         },
         "layout": {
          "annotationdefaults": {
           "arrowcolor": "#2a3f5f",
           "arrowhead": 0,
           "arrowwidth": 1
          },
          "autotypenumbers": "strict",
          "coloraxis": {
           "colorbar": {
            "outlinewidth": 0,
            "ticks": ""
           }
          },
          "colorscale": {
           "diverging": [
            [
             0,
             "#8e0152"
            ],
            [
             0.1,
             "#c51b7d"
            ],
            [
             0.2,
             "#de77ae"
            ],
            [
             0.3,
             "#f1b6da"
            ],
            [
             0.4,
             "#fde0ef"
            ],
            [
             0.5,
             "#f7f7f7"
            ],
            [
             0.6,
             "#e6f5d0"
            ],
            [
             0.7,
             "#b8e186"
            ],
            [
             0.8,
             "#7fbc41"
            ],
            [
             0.9,
             "#4d9221"
            ],
            [
             1,
             "#276419"
            ]
           ],
           "sequential": [
            [
             0,
             "#0d0887"
            ],
            [
             0.1111111111111111,
             "#46039f"
            ],
            [
             0.2222222222222222,
             "#7201a8"
            ],
            [
             0.3333333333333333,
             "#9c179e"
            ],
            [
             0.4444444444444444,
             "#bd3786"
            ],
            [
             0.5555555555555556,
             "#d8576b"
            ],
            [
             0.6666666666666666,
             "#ed7953"
            ],
            [
             0.7777777777777778,
             "#fb9f3a"
            ],
            [
             0.8888888888888888,
             "#fdca26"
            ],
            [
             1,
             "#f0f921"
            ]
           ],
           "sequentialminus": [
            [
             0,
             "#0d0887"
            ],
            [
             0.1111111111111111,
             "#46039f"
            ],
            [
             0.2222222222222222,
             "#7201a8"
            ],
            [
             0.3333333333333333,
             "#9c179e"
            ],
            [
             0.4444444444444444,
             "#bd3786"
            ],
            [
             0.5555555555555556,
             "#d8576b"
            ],
            [
             0.6666666666666666,
             "#ed7953"
            ],
            [
             0.7777777777777778,
             "#fb9f3a"
            ],
            [
             0.8888888888888888,
             "#fdca26"
            ],
            [
             1,
             "#f0f921"
            ]
           ]
          },
          "colorway": [
           "#636efa",
           "#EF553B",
           "#00cc96",
           "#ab63fa",
           "#FFA15A",
           "#19d3f3",
           "#FF6692",
           "#B6E880",
           "#FF97FF",
           "#FECB52"
          ],
          "font": {
           "color": "#2a3f5f"
          },
          "geo": {
           "bgcolor": "white",
           "lakecolor": "white",
           "landcolor": "#E5ECF6",
           "showlakes": true,
           "showland": true,
           "subunitcolor": "white"
          },
          "hoverlabel": {
           "align": "left"
          },
          "hovermode": "closest",
          "mapbox": {
           "style": "light"
          },
          "paper_bgcolor": "white",
          "plot_bgcolor": "#E5ECF6",
          "polar": {
           "angularaxis": {
            "gridcolor": "white",
            "linecolor": "white",
            "ticks": ""
           },
           "bgcolor": "#E5ECF6",
           "radialaxis": {
            "gridcolor": "white",
            "linecolor": "white",
            "ticks": ""
           }
          },
          "scene": {
           "xaxis": {
            "backgroundcolor": "#E5ECF6",
            "gridcolor": "white",
            "gridwidth": 2,
            "linecolor": "white",
            "showbackground": true,
            "ticks": "",
            "zerolinecolor": "white"
           },
           "yaxis": {
            "backgroundcolor": "#E5ECF6",
            "gridcolor": "white",
            "gridwidth": 2,
            "linecolor": "white",
            "showbackground": true,
            "ticks": "",
            "zerolinecolor": "white"
           },
           "zaxis": {
            "backgroundcolor": "#E5ECF6",
            "gridcolor": "white",
            "gridwidth": 2,
            "linecolor": "white",
            "showbackground": true,
            "ticks": "",
            "zerolinecolor": "white"
           }
          },
          "shapedefaults": {
           "line": {
            "color": "#2a3f5f"
           }
          },
          "ternary": {
           "aaxis": {
            "gridcolor": "white",
            "linecolor": "white",
            "ticks": ""
           },
           "baxis": {
            "gridcolor": "white",
            "linecolor": "white",
            "ticks": ""
           },
           "bgcolor": "#E5ECF6",
           "caxis": {
            "gridcolor": "white",
            "linecolor": "white",
            "ticks": ""
           }
          },
          "title": {
           "x": 0.05
          },
          "xaxis": {
           "automargin": true,
           "gridcolor": "white",
           "linecolor": "white",
           "ticks": "",
           "title": {
            "standoff": 15
           },
           "zerolinecolor": "white",
           "zerolinewidth": 2
          },
          "yaxis": {
           "automargin": true,
           "gridcolor": "white",
           "linecolor": "white",
           "ticks": "",
           "title": {
            "standoff": 15
           },
           "zerolinecolor": "white",
           "zerolinewidth": 2
          }
         }
        },
        "title": {
         "font": {
          "size": 18
         },
         "text": "Distribuição Proporcional dos Tipos de Crime na Zona Sul"
        }
       }
      }
     },
     "metadata": {},
     "output_type": "display_data"
    }
   ],
   "source": [
    "import pandas as pd\n",
    "import plotly.express as px\n",
    "\n",
    "# Preparando os dados\n",
    "crimes = [\n",
    "    \"roubo_transeunte\", \"roubo_celular\", \"roubo_em_coletivo\", \"roubo_rua\",\n",
    "    \"roubo_veiculo\", \"roubo_carga\", \"roubo_comercio\", \"roubo_residencia\",\n",
    "    \"roubo_banco\", \"roubo_cx_eletronico\", \"roubo_conducao_saque\",\n",
    "    \"roubo_apos_saque\", \"roubo_bicicleta\",\n",
    "    \"furto_veiculos\", \"furto_transeunte\", \"furto_coletivo\", \"furto_celular\",\n",
    "    \"furto_bicicleta\"\n",
    "]\n",
    "\n",
    "# Agrupando os dados por tipo de crime\n",
    "df_crimes = df_zona_sul.melt(\n",
    "    id_vars=[\"mes\", \"ano\", \"mes_ano\", \"município\", \"regiao\", \"bairro\", \"cisp\"], \n",
    "    value_vars=crimes, \n",
    "    var_name=\"tipo_crime\", \n",
    "    value_name=\"quantidade\"\n",
    ").groupby(\"tipo_crime\")[\"quantidade\"].sum().reset_index()\n",
    "\n",
    "# Renomeando os crimes para rótulos mais amigáveis\n",
    "nome_amigavel = {\n",
    "    \"roubo_transeunte\": \"Roubo de Transeunte\",\n",
    "    \"roubo_celular\": \"Roubo de Celular\",\n",
    "    \"roubo_em_coletivo\": \"Roubo em Coletivo\",\n",
    "    \"roubo_rua\": \"Roubo na Rua\",\n",
    "    \"roubo_veiculo\": \"Roubo de Veículo\",\n",
    "    \"roubo_carga\": \"Roubo de Carga\",\n",
    "    \"roubo_comercio\": \"Roubo no Comércio\",\n",
    "    \"roubo_residencia\": \"Roubo em Residência\",\n",
    "    \"roubo_banco\": \"Roubo em Banco\",\n",
    "    \"roubo_cx_eletronico\": \"Roubo no Caixa Eletrônico\",\n",
    "    \"roubo_conducao_saque\": \"Roubo em Condução Após Saque\",\n",
    "    \"roubo_apos_saque\": \"Roubo Após Saque\",\n",
    "    \"roubo_bicicleta\": \"Roubo de Bicicleta\",\n",
    "    \"furto_veiculos\": \"Furto de Veículos\",\n",
    "    \"furto_transeunte\": \"Furto de Transeunte\",\n",
    "    \"furto_coletivo\": \"Furto em Coletivo\",\n",
    "    \"furto_celular\": \"Furto de Celular\",\n",
    "    \"furto_bicicleta\": \"Furto de Bicicleta\",\n",
    "}\n",
    "df_crimes[\"tipo_crime\"] = df_crimes[\"tipo_crime\"].map(nome_amigavel)\n",
    "\n",
    "# Criando o gráfico de Tree Map com melhorias\n",
    "fig = px.treemap(\n",
    "    df_crimes,\n",
    "    path=[\"tipo_crime\"],\n",
    "    values=\"quantidade\",\n",
    "    color=\"quantidade\",\n",
    "    color_continuous_scale=px.colors.sequential.YlOrRd,  # Ajustando a escala correta\n",
    "    title=\"Distribuição Proporcional dos Tipos de Crime na Zona Sul\"\n",
    ")\n",
    "\n",
    "# Ajustes na aparência do gráfico\n",
    "fig.update_traces(\n",
    "    textinfo=\"label+value\",  # Mostra os valores dentro dos blocos\n",
    "    textfont_size=14,        # Aumenta o tamanho da fonte\n",
    "    texttemplate=\"%{label}<br>%{value} ocorrências\"\n",
    ")\n",
    "fig.update_layout(\n",
    "    margin=dict(t=50, l=25, r=25, b=25),\n",
    "    title_font_size=18,\n",
    "    coloraxis_colorbar=dict(\n",
    "        title=\"Ocorrências\",\n",
    "        thickness=15\n",
    "    )\n",
    ")\n",
    "\n",
    "# Exibindo o gráfico\n",
    "fig.show()"
   ]
  },
  {
   "cell_type": "code",
   "execution_count": 16,
   "metadata": {},
   "outputs": [
    {
     "data": {
      "application/vnd.plotly.v1+json": {
       "config": {
        "plotlyServerURL": "https://plot.ly"
       },
       "data": [
        {
         "alignmentgroup": "True",
         "hovertemplate": "cor=white<br>Mês=%{x}<br>Total de Crimes=%{y}<extra></extra>",
         "legendgroup": "white",
         "marker": {
          "color": "white",
          "line": {
           "color": "black",
           "width": 1.5
          },
          "pattern": {
           "shape": ""
          }
         },
         "name": "white",
         "offsetgroup": "white",
         "orientation": "v",
         "showlegend": true,
         "textposition": "auto",
         "type": "bar",
         "x": [
          1,
          3,
          4,
          5,
          6,
          7,
          8,
          9,
          10,
          11,
          12
         ],
         "xaxis": "x",
         "y": [
          65021,
          57391,
          47120,
          48830,
          45182,
          48161,
          47545,
          46636,
          45768,
          45964,
          48341
         ],
         "yaxis": "y"
        },
        {
         "alignmentgroup": "True",
         "hovertemplate": "cor=red<br>Mês=%{x}<br>Total de Crimes=%{y}<extra></extra>",
         "legendgroup": "red",
         "marker": {
          "color": "red",
          "line": {
           "color": "black",
           "width": 1.5
          },
          "pattern": {
           "shape": ""
          }
         },
         "name": "red",
         "offsetgroup": "red",
         "orientation": "v",
         "showlegend": true,
         "textposition": "auto",
         "type": "bar",
         "x": [
          2
         ],
         "xaxis": "x",
         "y": [
          68017
         ],
         "yaxis": "y"
        }
       ],
       "layout": {
        "barmode": "relative",
        "legend": {
         "title": {
          "text": "cor"
         },
         "tracegroupgap": 0
        },
        "template": {
         "data": {
          "bar": [
           {
            "error_x": {
             "color": "#2a3f5f"
            },
            "error_y": {
             "color": "#2a3f5f"
            },
            "marker": {
             "line": {
              "color": "#E5ECF6",
              "width": 0.5
             },
             "pattern": {
              "fillmode": "overlay",
              "size": 10,
              "solidity": 0.2
             }
            },
            "type": "bar"
           }
          ],
          "barpolar": [
           {
            "marker": {
             "line": {
              "color": "#E5ECF6",
              "width": 0.5
             },
             "pattern": {
              "fillmode": "overlay",
              "size": 10,
              "solidity": 0.2
             }
            },
            "type": "barpolar"
           }
          ],
          "carpet": [
           {
            "aaxis": {
             "endlinecolor": "#2a3f5f",
             "gridcolor": "white",
             "linecolor": "white",
             "minorgridcolor": "white",
             "startlinecolor": "#2a3f5f"
            },
            "baxis": {
             "endlinecolor": "#2a3f5f",
             "gridcolor": "white",
             "linecolor": "white",
             "minorgridcolor": "white",
             "startlinecolor": "#2a3f5f"
            },
            "type": "carpet"
           }
          ],
          "choropleth": [
           {
            "colorbar": {
             "outlinewidth": 0,
             "ticks": ""
            },
            "type": "choropleth"
           }
          ],
          "contour": [
           {
            "colorbar": {
             "outlinewidth": 0,
             "ticks": ""
            },
            "colorscale": [
             [
              0,
              "#0d0887"
             ],
             [
              0.1111111111111111,
              "#46039f"
             ],
             [
              0.2222222222222222,
              "#7201a8"
             ],
             [
              0.3333333333333333,
              "#9c179e"
             ],
             [
              0.4444444444444444,
              "#bd3786"
             ],
             [
              0.5555555555555556,
              "#d8576b"
             ],
             [
              0.6666666666666666,
              "#ed7953"
             ],
             [
              0.7777777777777778,
              "#fb9f3a"
             ],
             [
              0.8888888888888888,
              "#fdca26"
             ],
             [
              1,
              "#f0f921"
             ]
            ],
            "type": "contour"
           }
          ],
          "contourcarpet": [
           {
            "colorbar": {
             "outlinewidth": 0,
             "ticks": ""
            },
            "type": "contourcarpet"
           }
          ],
          "heatmap": [
           {
            "colorbar": {
             "outlinewidth": 0,
             "ticks": ""
            },
            "colorscale": [
             [
              0,
              "#0d0887"
             ],
             [
              0.1111111111111111,
              "#46039f"
             ],
             [
              0.2222222222222222,
              "#7201a8"
             ],
             [
              0.3333333333333333,
              "#9c179e"
             ],
             [
              0.4444444444444444,
              "#bd3786"
             ],
             [
              0.5555555555555556,
              "#d8576b"
             ],
             [
              0.6666666666666666,
              "#ed7953"
             ],
             [
              0.7777777777777778,
              "#fb9f3a"
             ],
             [
              0.8888888888888888,
              "#fdca26"
             ],
             [
              1,
              "#f0f921"
             ]
            ],
            "type": "heatmap"
           }
          ],
          "heatmapgl": [
           {
            "colorbar": {
             "outlinewidth": 0,
             "ticks": ""
            },
            "colorscale": [
             [
              0,
              "#0d0887"
             ],
             [
              0.1111111111111111,
              "#46039f"
             ],
             [
              0.2222222222222222,
              "#7201a8"
             ],
             [
              0.3333333333333333,
              "#9c179e"
             ],
             [
              0.4444444444444444,
              "#bd3786"
             ],
             [
              0.5555555555555556,
              "#d8576b"
             ],
             [
              0.6666666666666666,
              "#ed7953"
             ],
             [
              0.7777777777777778,
              "#fb9f3a"
             ],
             [
              0.8888888888888888,
              "#fdca26"
             ],
             [
              1,
              "#f0f921"
             ]
            ],
            "type": "heatmapgl"
           }
          ],
          "histogram": [
           {
            "marker": {
             "pattern": {
              "fillmode": "overlay",
              "size": 10,
              "solidity": 0.2
             }
            },
            "type": "histogram"
           }
          ],
          "histogram2d": [
           {
            "colorbar": {
             "outlinewidth": 0,
             "ticks": ""
            },
            "colorscale": [
             [
              0,
              "#0d0887"
             ],
             [
              0.1111111111111111,
              "#46039f"
             ],
             [
              0.2222222222222222,
              "#7201a8"
             ],
             [
              0.3333333333333333,
              "#9c179e"
             ],
             [
              0.4444444444444444,
              "#bd3786"
             ],
             [
              0.5555555555555556,
              "#d8576b"
             ],
             [
              0.6666666666666666,
              "#ed7953"
             ],
             [
              0.7777777777777778,
              "#fb9f3a"
             ],
             [
              0.8888888888888888,
              "#fdca26"
             ],
             [
              1,
              "#f0f921"
             ]
            ],
            "type": "histogram2d"
           }
          ],
          "histogram2dcontour": [
           {
            "colorbar": {
             "outlinewidth": 0,
             "ticks": ""
            },
            "colorscale": [
             [
              0,
              "#0d0887"
             ],
             [
              0.1111111111111111,
              "#46039f"
             ],
             [
              0.2222222222222222,
              "#7201a8"
             ],
             [
              0.3333333333333333,
              "#9c179e"
             ],
             [
              0.4444444444444444,
              "#bd3786"
             ],
             [
              0.5555555555555556,
              "#d8576b"
             ],
             [
              0.6666666666666666,
              "#ed7953"
             ],
             [
              0.7777777777777778,
              "#fb9f3a"
             ],
             [
              0.8888888888888888,
              "#fdca26"
             ],
             [
              1,
              "#f0f921"
             ]
            ],
            "type": "histogram2dcontour"
           }
          ],
          "mesh3d": [
           {
            "colorbar": {
             "outlinewidth": 0,
             "ticks": ""
            },
            "type": "mesh3d"
           }
          ],
          "parcoords": [
           {
            "line": {
             "colorbar": {
              "outlinewidth": 0,
              "ticks": ""
             }
            },
            "type": "parcoords"
           }
          ],
          "pie": [
           {
            "automargin": true,
            "type": "pie"
           }
          ],
          "scatter": [
           {
            "fillpattern": {
             "fillmode": "overlay",
             "size": 10,
             "solidity": 0.2
            },
            "type": "scatter"
           }
          ],
          "scatter3d": [
           {
            "line": {
             "colorbar": {
              "outlinewidth": 0,
              "ticks": ""
             }
            },
            "marker": {
             "colorbar": {
              "outlinewidth": 0,
              "ticks": ""
             }
            },
            "type": "scatter3d"
           }
          ],
          "scattercarpet": [
           {
            "marker": {
             "colorbar": {
              "outlinewidth": 0,
              "ticks": ""
             }
            },
            "type": "scattercarpet"
           }
          ],
          "scattergeo": [
           {
            "marker": {
             "colorbar": {
              "outlinewidth": 0,
              "ticks": ""
             }
            },
            "type": "scattergeo"
           }
          ],
          "scattergl": [
           {
            "marker": {
             "colorbar": {
              "outlinewidth": 0,
              "ticks": ""
             }
            },
            "type": "scattergl"
           }
          ],
          "scattermapbox": [
           {
            "marker": {
             "colorbar": {
              "outlinewidth": 0,
              "ticks": ""
             }
            },
            "type": "scattermapbox"
           }
          ],
          "scatterpolar": [
           {
            "marker": {
             "colorbar": {
              "outlinewidth": 0,
              "ticks": ""
             }
            },
            "type": "scatterpolar"
           }
          ],
          "scatterpolargl": [
           {
            "marker": {
             "colorbar": {
              "outlinewidth": 0,
              "ticks": ""
             }
            },
            "type": "scatterpolargl"
           }
          ],
          "scatterternary": [
           {
            "marker": {
             "colorbar": {
              "outlinewidth": 0,
              "ticks": ""
             }
            },
            "type": "scatterternary"
           }
          ],
          "surface": [
           {
            "colorbar": {
             "outlinewidth": 0,
             "ticks": ""
            },
            "colorscale": [
             [
              0,
              "#0d0887"
             ],
             [
              0.1111111111111111,
              "#46039f"
             ],
             [
              0.2222222222222222,
              "#7201a8"
             ],
             [
              0.3333333333333333,
              "#9c179e"
             ],
             [
              0.4444444444444444,
              "#bd3786"
             ],
             [
              0.5555555555555556,
              "#d8576b"
             ],
             [
              0.6666666666666666,
              "#ed7953"
             ],
             [
              0.7777777777777778,
              "#fb9f3a"
             ],
             [
              0.8888888888888888,
              "#fdca26"
             ],
             [
              1,
              "#f0f921"
             ]
            ],
            "type": "surface"
           }
          ],
          "table": [
           {
            "cells": {
             "fill": {
              "color": "#EBF0F8"
             },
             "line": {
              "color": "white"
             }
            },
            "header": {
             "fill": {
              "color": "#C8D4E3"
             },
             "line": {
              "color": "white"
             }
            },
            "type": "table"
           }
          ]
         },
         "layout": {
          "annotationdefaults": {
           "arrowcolor": "#2a3f5f",
           "arrowhead": 0,
           "arrowwidth": 1
          },
          "autotypenumbers": "strict",
          "coloraxis": {
           "colorbar": {
            "outlinewidth": 0,
            "ticks": ""
           }
          },
          "colorscale": {
           "diverging": [
            [
             0,
             "#8e0152"
            ],
            [
             0.1,
             "#c51b7d"
            ],
            [
             0.2,
             "#de77ae"
            ],
            [
             0.3,
             "#f1b6da"
            ],
            [
             0.4,
             "#fde0ef"
            ],
            [
             0.5,
             "#f7f7f7"
            ],
            [
             0.6,
             "#e6f5d0"
            ],
            [
             0.7,
             "#b8e186"
            ],
            [
             0.8,
             "#7fbc41"
            ],
            [
             0.9,
             "#4d9221"
            ],
            [
             1,
             "#276419"
            ]
           ],
           "sequential": [
            [
             0,
             "#0d0887"
            ],
            [
             0.1111111111111111,
             "#46039f"
            ],
            [
             0.2222222222222222,
             "#7201a8"
            ],
            [
             0.3333333333333333,
             "#9c179e"
            ],
            [
             0.4444444444444444,
             "#bd3786"
            ],
            [
             0.5555555555555556,
             "#d8576b"
            ],
            [
             0.6666666666666666,
             "#ed7953"
            ],
            [
             0.7777777777777778,
             "#fb9f3a"
            ],
            [
             0.8888888888888888,
             "#fdca26"
            ],
            [
             1,
             "#f0f921"
            ]
           ],
           "sequentialminus": [
            [
             0,
             "#0d0887"
            ],
            [
             0.1111111111111111,
             "#46039f"
            ],
            [
             0.2222222222222222,
             "#7201a8"
            ],
            [
             0.3333333333333333,
             "#9c179e"
            ],
            [
             0.4444444444444444,
             "#bd3786"
            ],
            [
             0.5555555555555556,
             "#d8576b"
            ],
            [
             0.6666666666666666,
             "#ed7953"
            ],
            [
             0.7777777777777778,
             "#fb9f3a"
            ],
            [
             0.8888888888888888,
             "#fdca26"
            ],
            [
             1,
             "#f0f921"
            ]
           ]
          },
          "colorway": [
           "#636efa",
           "#EF553B",
           "#00cc96",
           "#ab63fa",
           "#FFA15A",
           "#19d3f3",
           "#FF6692",
           "#B6E880",
           "#FF97FF",
           "#FECB52"
          ],
          "font": {
           "color": "#2a3f5f"
          },
          "geo": {
           "bgcolor": "white",
           "lakecolor": "white",
           "landcolor": "#E5ECF6",
           "showlakes": true,
           "showland": true,
           "subunitcolor": "white"
          },
          "hoverlabel": {
           "align": "left"
          },
          "hovermode": "closest",
          "mapbox": {
           "style": "light"
          },
          "paper_bgcolor": "white",
          "plot_bgcolor": "#E5ECF6",
          "polar": {
           "angularaxis": {
            "gridcolor": "white",
            "linecolor": "white",
            "ticks": ""
           },
           "bgcolor": "#E5ECF6",
           "radialaxis": {
            "gridcolor": "white",
            "linecolor": "white",
            "ticks": ""
           }
          },
          "scene": {
           "xaxis": {
            "backgroundcolor": "#E5ECF6",
            "gridcolor": "white",
            "gridwidth": 2,
            "linecolor": "white",
            "showbackground": true,
            "ticks": "",
            "zerolinecolor": "white"
           },
           "yaxis": {
            "backgroundcolor": "#E5ECF6",
            "gridcolor": "white",
            "gridwidth": 2,
            "linecolor": "white",
            "showbackground": true,
            "ticks": "",
            "zerolinecolor": "white"
           },
           "zaxis": {
            "backgroundcolor": "#E5ECF6",
            "gridcolor": "white",
            "gridwidth": 2,
            "linecolor": "white",
            "showbackground": true,
            "ticks": "",
            "zerolinecolor": "white"
           }
          },
          "shapedefaults": {
           "line": {
            "color": "#2a3f5f"
           }
          },
          "ternary": {
           "aaxis": {
            "gridcolor": "white",
            "linecolor": "white",
            "ticks": ""
           },
           "baxis": {
            "gridcolor": "white",
            "linecolor": "white",
            "ticks": ""
           },
           "bgcolor": "#E5ECF6",
           "caxis": {
            "gridcolor": "white",
            "linecolor": "white",
            "ticks": ""
           }
          },
          "title": {
           "x": 0.05
          },
          "xaxis": {
           "automargin": true,
           "gridcolor": "white",
           "linecolor": "white",
           "ticks": "",
           "title": {
            "standoff": 15
           },
           "zerolinecolor": "white",
           "zerolinewidth": 2
          },
          "yaxis": {
           "automargin": true,
           "gridcolor": "white",
           "linecolor": "white",
           "ticks": "",
           "title": {
            "standoff": 15
           },
           "zerolinecolor": "white",
           "zerolinewidth": 2
          }
         }
        },
        "title": {
         "font": {
          "size": 18
         },
         "text": "Total de Ocorrências por Mês na Zona Sul"
        },
        "xaxis": {
         "anchor": "y",
         "domain": [
          0,
          1
         ],
         "tickmode": "array",
         "ticktext": [
          "Jan",
          "Fev",
          "Mar",
          "Abr",
          "Mai",
          "Jun",
          "Jul",
          "Ago",
          "Set",
          "Out",
          "Nov",
          "Dez"
         ],
         "tickvals": [
          1,
          2,
          3,
          4,
          5,
          6,
          7,
          8,
          9,
          10,
          11,
          12
         ],
         "title": {
          "text": "Mês"
         }
        },
        "yaxis": {
         "anchor": "x",
         "domain": [
          0,
          1
         ],
         "title": {
          "text": "Total de Crimes"
         }
        }
       }
      }
     },
     "metadata": {},
     "output_type": "display_data"
    }
   ],
   "source": [
    "import pandas as pd\n",
    "import plotly.express as px\n",
    "\n",
    "# Calculando o total de crimes por mês\n",
    "df_meses = df_zona_sul.copy()\n",
    "df_meses[\"total_crimes\"] = df_meses[[\n",
    "    \"roubo_transeunte\", \"roubo_celular\", \"roubo_em_coletivo\", \"roubo_rua\",\n",
    "    \"roubo_veiculo\", \"roubo_carga\", \"roubo_comercio\", \"roubo_residencia\",\n",
    "    \"roubo_banco\", \"roubo_cx_eletronico\", \"roubo_conducao_saque\",\n",
    "    \"roubo_apos_saque\", \"roubo_bicicleta\", \"outros_roubos\",\n",
    "    \"furto_veiculos\", \"furto_transeunte\", \"furto_coletivo\", \"furto_celular\",\n",
    "    \"furto_bicicleta\", \"outros_furtos\"\n",
    "]].sum(axis=1)\n",
    "\n",
    "# Agrupando por mês\n",
    "df_meses_agrupados = df_meses.groupby(\"mes\")[\"total_crimes\"].sum().reset_index()\n",
    "\n",
    "# Identificando o mês com mais crimes\n",
    "mes_maximo = df_meses_agrupados.loc[df_meses_agrupados[\"total_crimes\"].idxmax(), \"mes\"]\n",
    "\n",
    "# Adicionando uma coluna para destacar o mês com mais ocorrências\n",
    "df_meses_agrupados[\"cor\"] = df_meses_agrupados[\"mes\"].apply(\n",
    "    lambda x: \"red\" if x == mes_maximo else \"white\"\n",
    ")\n",
    "\n",
    "# Criando o gráfico\n",
    "fig = px.bar(\n",
    "    df_meses_agrupados,\n",
    "    x=\"mes\",\n",
    "    y=\"total_crimes\",\n",
    "    color=\"cor\",  # Usando a coluna de cores para personalizar\n",
    "    color_discrete_map={\"red\": \"red\", \"white\": \"white\"},\n",
    "    labels={\"mes\": \"Mês\", \"total_crimes\": \"Total de Crimes\"},\n",
    "    title=\"Total de Ocorrências por Mês na Zona Sul\"\n",
    ")\n",
    "\n",
    "# Ajustando o layout\n",
    "fig.update_traces(\n",
    "    marker=dict(line=dict(color=\"black\", width=1.5))  # Contorno das barras\n",
    ")\n",
    "fig.update_layout(\n",
    "    xaxis=dict(\n",
    "        tickmode=\"array\",\n",
    "        tickvals=list(range(1, 13)),\n",
    "        ticktext=[\"Jan\", \"Fev\", \"Mar\", \"Abr\", \"Mai\", \"Jun\", \"Jul\", \"Ago\", \"Set\", \"Out\", \"Nov\", \"Dez\"]\n",
    "    ),\n",
    "    title_font_size=18\n",
    ")\n",
    "\n",
    "# Exibindo o gráfico\n",
    "fig.show()"
   ]
  },
  {
   "cell_type": "code",
   "execution_count": 4,
   "metadata": {},
   "outputs": [
    {
     "data": {
      "text/html": [
       "<div>\n",
       "<style scoped>\n",
       "    .dataframe tbody tr th:only-of-type {\n",
       "        vertical-align: middle;\n",
       "    }\n",
       "\n",
       "    .dataframe tbody tr th {\n",
       "        vertical-align: top;\n",
       "    }\n",
       "\n",
       "    .dataframe thead th {\n",
       "        text-align: right;\n",
       "    }\n",
       "</style>\n",
       "<table border=\"1\" class=\"dataframe\">\n",
       "  <thead>\n",
       "    <tr style=\"text-align: right;\">\n",
       "      <th></th>\n",
       "      <th>objectid</th>\n",
       "      <th>área</th>\n",
       "      <th>nome</th>\n",
       "      <th>regiao_adm</th>\n",
       "      <th>area_plane</th>\n",
       "      <th>codbairro</th>\n",
       "      <th>codra</th>\n",
       "      <th>codbnum</th>\n",
       "      <th>link</th>\n",
       "      <th>rp</th>\n",
       "      <th>cod_rp</th>\n",
       "      <th>codbairro_long</th>\n",
       "      <th>st_areashape</th>\n",
       "      <th>st_perimetershape</th>\n",
       "    </tr>\n",
       "  </thead>\n",
       "  <tbody>\n",
       "    <tr>\n",
       "      <th>0</th>\n",
       "      <td>325</td>\n",
       "      <td>1.705685e+06</td>\n",
       "      <td>Paquetá</td>\n",
       "      <td>PAQUETA</td>\n",
       "      <td>1</td>\n",
       "      <td>13</td>\n",
       "      <td>21</td>\n",
       "      <td>13</td>\n",
       "      <td>Paqueta&amp;area=013                              ...</td>\n",
       "      <td>Centro</td>\n",
       "      <td>1.1</td>\n",
       "      <td>13</td>\n",
       "      <td>1.705689e+06</td>\n",
       "      <td>24841.459984</td>\n",
       "    </tr>\n",
       "    <tr>\n",
       "      <th>1</th>\n",
       "      <td>326</td>\n",
       "      <td>4.056403e+06</td>\n",
       "      <td>Freguesia (Ilha)</td>\n",
       "      <td>ILHA DO GOVERNADOR</td>\n",
       "      <td>3</td>\n",
       "      <td>98</td>\n",
       "      <td>20</td>\n",
       "      <td>98</td>\n",
       "      <td>Freguesia (Ilha)          &amp;area=98            ...</td>\n",
       "      <td>Ilha do Governador</td>\n",
       "      <td>3.7</td>\n",
       "      <td>98</td>\n",
       "      <td>4.056414e+06</td>\n",
       "      <td>18303.621385</td>\n",
       "    </tr>\n",
       "    <tr>\n",
       "      <th>2</th>\n",
       "      <td>327</td>\n",
       "      <td>9.780465e+05</td>\n",
       "      <td>Bancários</td>\n",
       "      <td>ILHA DO GOVERNADOR</td>\n",
       "      <td>3</td>\n",
       "      <td>97</td>\n",
       "      <td>20</td>\n",
       "      <td>97</td>\n",
       "      <td>Bancários                 &amp;area=97            ...</td>\n",
       "      <td>Ilha do Governador</td>\n",
       "      <td>3.7</td>\n",
       "      <td>97</td>\n",
       "      <td>9.780492e+05</td>\n",
       "      <td>7758.791895</td>\n",
       "    </tr>\n",
       "    <tr>\n",
       "      <th>3</th>\n",
       "      <td>328</td>\n",
       "      <td>1.895742e+07</td>\n",
       "      <td>Galeão</td>\n",
       "      <td>ILHA DO GOVERNADOR</td>\n",
       "      <td>3</td>\n",
       "      <td>104</td>\n",
       "      <td>20</td>\n",
       "      <td>104</td>\n",
       "      <td>Galeão                    &amp;area=104           ...</td>\n",
       "      <td>Ilha do Governador</td>\n",
       "      <td>3.7</td>\n",
       "      <td>104</td>\n",
       "      <td>1.895747e+07</td>\n",
       "      <td>21510.088396</td>\n",
       "    </tr>\n",
       "    <tr>\n",
       "      <th>4</th>\n",
       "      <td>329</td>\n",
       "      <td>1.672546e+06</td>\n",
       "      <td>Tauá</td>\n",
       "      <td>ILHA DO GOVERNADOR</td>\n",
       "      <td>3</td>\n",
       "      <td>101</td>\n",
       "      <td>20</td>\n",
       "      <td>101</td>\n",
       "      <td>Tauá                      &amp;area=101           ...</td>\n",
       "      <td>Ilha do Governador</td>\n",
       "      <td>3.7</td>\n",
       "      <td>101</td>\n",
       "      <td>1.672550e+06</td>\n",
       "      <td>8246.120720</td>\n",
       "    </tr>\n",
       "    <tr>\n",
       "      <th>...</th>\n",
       "      <td>...</td>\n",
       "      <td>...</td>\n",
       "      <td>...</td>\n",
       "      <td>...</td>\n",
       "      <td>...</td>\n",
       "      <td>...</td>\n",
       "      <td>...</td>\n",
       "      <td>...</td>\n",
       "      <td>...</td>\n",
       "      <td>...</td>\n",
       "      <td>...</td>\n",
       "      <td>...</td>\n",
       "      <td>...</td>\n",
       "      <td>...</td>\n",
       "    </tr>\n",
       "    <tr>\n",
       "      <th>160</th>\n",
       "      <td>512</td>\n",
       "      <td>2.534304e+06</td>\n",
       "      <td>Gericinó</td>\n",
       "      <td>BANGU</td>\n",
       "      <td>5</td>\n",
       "      <td>160</td>\n",
       "      <td>17</td>\n",
       "      <td>160</td>\n",
       "      <td>Gericinó                &amp;area=160</td>\n",
       "      <td>Bangu</td>\n",
       "      <td>5.1</td>\n",
       "      <td>160</td>\n",
       "      <td>2.534311e+06</td>\n",
       "      <td>8828.555709</td>\n",
       "    </tr>\n",
       "    <tr>\n",
       "      <th>161</th>\n",
       "      <td>513</td>\n",
       "      <td>3.273271e+05</td>\n",
       "      <td>Jabour</td>\n",
       "      <td>BANGU</td>\n",
       "      <td>5</td>\n",
       "      <td>163</td>\n",
       "      <td>17</td>\n",
       "      <td>163</td>\n",
       "      <td>Jabour            &amp;area=163</td>\n",
       "      <td>Bangu</td>\n",
       "      <td>5.1</td>\n",
       "      <td>163</td>\n",
       "      <td>3.273280e+05</td>\n",
       "      <td>2235.748407</td>\n",
       "    </tr>\n",
       "    <tr>\n",
       "      <th>162</th>\n",
       "      <td>890</td>\n",
       "      <td>1.473737e+06</td>\n",
       "      <td>Vila Kennedy</td>\n",
       "      <td>BANGU</td>\n",
       "      <td>5</td>\n",
       "      <td>162</td>\n",
       "      <td>17</td>\n",
       "      <td>162</td>\n",
       "      <td>Vila Kennedy                &amp;area=162</td>\n",
       "      <td>Bangu</td>\n",
       "      <td>5.1</td>\n",
       "      <td>162</td>\n",
       "      <td>1.473741e+06</td>\n",
       "      <td>6789.609579</td>\n",
       "    </tr>\n",
       "    <tr>\n",
       "      <th>163</th>\n",
       "      <td>894</td>\n",
       "      <td>7.714616e+06</td>\n",
       "      <td>Ilha de Guaratiba</td>\n",
       "      <td>GUARATIBA</td>\n",
       "      <td>5</td>\n",
       "      <td>164</td>\n",
       "      <td>26</td>\n",
       "      <td>164</td>\n",
       "      <td>Ilha de Guaratiba                 &amp;area=164</td>\n",
       "      <td>Guaratiba</td>\n",
       "      <td>5.4</td>\n",
       "      <td>164</td>\n",
       "      <td>7.714637e+06</td>\n",
       "      <td>13955.136856</td>\n",
       "    </tr>\n",
       "    <tr>\n",
       "      <th>164</th>\n",
       "      <td>900</td>\n",
       "      <td>1.097306e+07</td>\n",
       "      <td>Barra Olímpica</td>\n",
       "      <td>BARRA DA TIJUCA</td>\n",
       "      <td>4</td>\n",
       "      <td>165</td>\n",
       "      <td>24</td>\n",
       "      <td>165</td>\n",
       "      <td>Barra Olímpica                 &amp;area=165</td>\n",
       "      <td>Barra da Tijuca</td>\n",
       "      <td>4.2</td>\n",
       "      <td>165</td>\n",
       "      <td>1.097306e+07</td>\n",
       "      <td>23597.086234</td>\n",
       "    </tr>\n",
       "  </tbody>\n",
       "</table>\n",
       "<p>165 rows × 14 columns</p>\n",
       "</div>"
      ],
      "text/plain": [
       "     objectid          área               nome                regiao_adm  \\\n",
       "0         325  1.705685e+06            Paquetá  PAQUETA                    \n",
       "1         326  4.056403e+06   Freguesia (Ilha)  ILHA DO GOVERNADOR         \n",
       "2         327  9.780465e+05          Bancários  ILHA DO GOVERNADOR         \n",
       "3         328  1.895742e+07             Galeão  ILHA DO GOVERNADOR         \n",
       "4         329  1.672546e+06               Tauá  ILHA DO GOVERNADOR         \n",
       "..        ...           ...                ...                       ...   \n",
       "160       512  2.534304e+06           Gericinó  BANGU                      \n",
       "161       513  3.273271e+05             Jabour                     BANGU   \n",
       "162       890  1.473737e+06       Vila Kennedy  BANGU                      \n",
       "163       894  7.714616e+06  Ilha de Guaratiba  GUARATIBA                  \n",
       "164       900  1.097306e+07     Barra Olímpica  BARRA DA TIJUCA            \n",
       "\n",
       "     area_plane  codbairro  codra  codbnum  \\\n",
       "0             1         13     21       13   \n",
       "1             3         98     20       98   \n",
       "2             3         97     20       97   \n",
       "3             3        104     20      104   \n",
       "4             3        101     20      101   \n",
       "..          ...        ...    ...      ...   \n",
       "160           5        160     17      160   \n",
       "161           5        163     17      163   \n",
       "162           5        162     17      162   \n",
       "163           5        164     26      164   \n",
       "164           4        165     24      165   \n",
       "\n",
       "                                                  link                  rp  \\\n",
       "0    Paqueta&area=013                              ...              Centro   \n",
       "1    Freguesia (Ilha)          &area=98            ...  Ilha do Governador   \n",
       "2    Bancários                 &area=97            ...  Ilha do Governador   \n",
       "3    Galeão                    &area=104           ...  Ilha do Governador   \n",
       "4    Tauá                      &area=101           ...  Ilha do Governador   \n",
       "..                                                 ...                 ...   \n",
       "160                  Gericinó                &area=160               Bangu   \n",
       "161                        Jabour            &area=163               Bangu   \n",
       "162              Vila Kennedy                &area=162               Bangu   \n",
       "163  Ilha de Guaratiba                 &area=164                 Guaratiba   \n",
       "164           Barra Olímpica                 &area=165     Barra da Tijuca   \n",
       "\n",
       "     cod_rp  codbairro_long  st_areashape  st_perimetershape  \n",
       "0       1.1              13  1.705689e+06       24841.459984  \n",
       "1       3.7              98  4.056414e+06       18303.621385  \n",
       "2       3.7              97  9.780492e+05        7758.791895  \n",
       "3       3.7             104  1.895747e+07       21510.088396  \n",
       "4       3.7             101  1.672550e+06        8246.120720  \n",
       "..      ...             ...           ...                ...  \n",
       "160     5.1             160  2.534311e+06        8828.555709  \n",
       "161     5.1             163  3.273280e+05        2235.748407  \n",
       "162     5.1             162  1.473741e+06        6789.609579  \n",
       "163     5.4             164  7.714637e+06       13955.136856  \n",
       "164     4.2             165  1.097306e+07       23597.086234  \n",
       "\n",
       "[165 rows x 14 columns]"
      ]
     },
     "execution_count": 4,
     "metadata": {},
     "output_type": "execute_result"
    }
   ],
   "source": [
    "df_mapa = pd.read_csv('Limite_de_Bairros.csv')\n",
    "df_mapa"
   ]
  },
  {
   "cell_type": "code",
   "execution_count": 5,
   "metadata": {},
   "outputs": [
    {
     "data": {
      "text/html": [
       "<div>\n",
       "<style scoped>\n",
       "    .dataframe tbody tr th:only-of-type {\n",
       "        vertical-align: middle;\n",
       "    }\n",
       "\n",
       "    .dataframe tbody tr th {\n",
       "        vertical-align: top;\n",
       "    }\n",
       "\n",
       "    .dataframe thead th {\n",
       "        text-align: right;\n",
       "    }\n",
       "</style>\n",
       "<table border=\"1\" class=\"dataframe\">\n",
       "  <thead>\n",
       "    <tr style=\"text-align: right;\">\n",
       "      <th></th>\n",
       "      <th>objectid</th>\n",
       "      <th>área</th>\n",
       "      <th>nome</th>\n",
       "      <th>regiao_adm</th>\n",
       "      <th>area_plane</th>\n",
       "      <th>codbairro</th>\n",
       "      <th>codra</th>\n",
       "      <th>codbnum</th>\n",
       "      <th>link</th>\n",
       "      <th>rp</th>\n",
       "      <th>cod_rp</th>\n",
       "      <th>codbairro_long</th>\n",
       "      <th>st_areashape</th>\n",
       "      <th>st_perimetershape</th>\n",
       "    </tr>\n",
       "  </thead>\n",
       "  <tbody>\n",
       "    <tr>\n",
       "      <th>111</th>\n",
       "      <td>438</td>\n",
       "      <td>1.140065e+06</td>\n",
       "      <td>Glória</td>\n",
       "      <td>BOTAFOGO</td>\n",
       "      <td>2</td>\n",
       "      <td>16</td>\n",
       "      <td>4</td>\n",
       "      <td>16</td>\n",
       "      <td>Glória                    &amp;area=16            ...</td>\n",
       "      <td>Zona Sul</td>\n",
       "      <td>2.1</td>\n",
       "      <td>16</td>\n",
       "      <td>1.140069e+06</td>\n",
       "      <td>7225.248107</td>\n",
       "    </tr>\n",
       "    <tr>\n",
       "      <th>120</th>\n",
       "      <td>447</td>\n",
       "      <td>6.810267e+05</td>\n",
       "      <td>Catete</td>\n",
       "      <td>BOTAFOGO</td>\n",
       "      <td>2</td>\n",
       "      <td>18</td>\n",
       "      <td>4</td>\n",
       "      <td>18</td>\n",
       "      <td>Catete                    &amp;area=18            ...</td>\n",
       "      <td>Zona Sul</td>\n",
       "      <td>2.1</td>\n",
       "      <td>18</td>\n",
       "      <td>6.810285e+05</td>\n",
       "      <td>4260.147747</td>\n",
       "    </tr>\n",
       "    <tr>\n",
       "      <th>121</th>\n",
       "      <td>448</td>\n",
       "      <td>1.646254e+06</td>\n",
       "      <td>Flamengo</td>\n",
       "      <td>BOTAFOGO</td>\n",
       "      <td>2</td>\n",
       "      <td>15</td>\n",
       "      <td>4</td>\n",
       "      <td>15</td>\n",
       "      <td>Flamengo                  &amp;area=15            ...</td>\n",
       "      <td>Zona Sul</td>\n",
       "      <td>2.1</td>\n",
       "      <td>15</td>\n",
       "      <td>1.646258e+06</td>\n",
       "      <td>6665.349163</td>\n",
       "    </tr>\n",
       "    <tr>\n",
       "      <th>122</th>\n",
       "      <td>449</td>\n",
       "      <td>2.493507e+06</td>\n",
       "      <td>Laranjeiras</td>\n",
       "      <td>BOTAFOGO</td>\n",
       "      <td>2</td>\n",
       "      <td>17</td>\n",
       "      <td>4</td>\n",
       "      <td>17</td>\n",
       "      <td>Laranjeiras               &amp;area=17            ...</td>\n",
       "      <td>Zona Sul</td>\n",
       "      <td>2.1</td>\n",
       "      <td>17</td>\n",
       "      <td>2.493514e+06</td>\n",
       "      <td>10537.128736</td>\n",
       "    </tr>\n",
       "    <tr>\n",
       "      <th>126</th>\n",
       "      <td>453</td>\n",
       "      <td>8.925401e+05</td>\n",
       "      <td>Cosme Velho</td>\n",
       "      <td>BOTAFOGO</td>\n",
       "      <td>2</td>\n",
       "      <td>19</td>\n",
       "      <td>4</td>\n",
       "      <td>19</td>\n",
       "      <td>Cosme Velho               &amp;area=19            ...</td>\n",
       "      <td>Zona Sul</td>\n",
       "      <td>2.1</td>\n",
       "      <td>19</td>\n",
       "      <td>8.925425e+05</td>\n",
       "      <td>7889.681452</td>\n",
       "    </tr>\n",
       "    <tr>\n",
       "      <th>128</th>\n",
       "      <td>455</td>\n",
       "      <td>4.798956e+06</td>\n",
       "      <td>Botafogo</td>\n",
       "      <td>BOTAFOGO</td>\n",
       "      <td>2</td>\n",
       "      <td>20</td>\n",
       "      <td>4</td>\n",
       "      <td>20</td>\n",
       "      <td>Botafogo                  &amp;area=20            ...</td>\n",
       "      <td>Zona Sul</td>\n",
       "      <td>2.1</td>\n",
       "      <td>20</td>\n",
       "      <td>4.798969e+06</td>\n",
       "      <td>12136.391939</td>\n",
       "    </tr>\n",
       "    <tr>\n",
       "      <th>129</th>\n",
       "      <td>456</td>\n",
       "      <td>2.319002e+06</td>\n",
       "      <td>Urca</td>\n",
       "      <td>BOTAFOGO</td>\n",
       "      <td>2</td>\n",
       "      <td>22</td>\n",
       "      <td>4</td>\n",
       "      <td>22</td>\n",
       "      <td>Urca                      &amp;area=22            ...</td>\n",
       "      <td>Zona Sul</td>\n",
       "      <td>2.1</td>\n",
       "      <td>22</td>\n",
       "      <td>2.319008e+06</td>\n",
       "      <td>14138.523910</td>\n",
       "    </tr>\n",
       "    <tr>\n",
       "      <th>135</th>\n",
       "      <td>462</td>\n",
       "      <td>1.054475e+06</td>\n",
       "      <td>Humaitá</td>\n",
       "      <td>BOTAFOGO</td>\n",
       "      <td>2</td>\n",
       "      <td>21</td>\n",
       "      <td>4</td>\n",
       "      <td>21</td>\n",
       "      <td>Humaitá                   &amp;area=21            ...</td>\n",
       "      <td>Zona Sul</td>\n",
       "      <td>2.1</td>\n",
       "      <td>21</td>\n",
       "      <td>1.054478e+06</td>\n",
       "      <td>7100.855819</td>\n",
       "    </tr>\n",
       "    <tr>\n",
       "      <th>137</th>\n",
       "      <td>464</td>\n",
       "      <td>2.689204e+06</td>\n",
       "      <td>Jardim Botânico</td>\n",
       "      <td>LAGOA</td>\n",
       "      <td>2</td>\n",
       "      <td>28</td>\n",
       "      <td>6</td>\n",
       "      <td>28</td>\n",
       "      <td>Jardim Botânico           &amp;area=28            ...</td>\n",
       "      <td>Zona Sul</td>\n",
       "      <td>2.1</td>\n",
       "      <td>28</td>\n",
       "      <td>2.689211e+06</td>\n",
       "      <td>12263.131623</td>\n",
       "    </tr>\n",
       "    <tr>\n",
       "      <th>139</th>\n",
       "      <td>466</td>\n",
       "      <td>4.100850e+06</td>\n",
       "      <td>Copacabana</td>\n",
       "      <td>COPACABANA</td>\n",
       "      <td>2</td>\n",
       "      <td>24</td>\n",
       "      <td>5</td>\n",
       "      <td>24</td>\n",
       "      <td>Copacabana                &amp;area=24            ...</td>\n",
       "      <td>Zona Sul</td>\n",
       "      <td>2.1</td>\n",
       "      <td>24</td>\n",
       "      <td>4.100861e+06</td>\n",
       "      <td>12803.516209</td>\n",
       "    </tr>\n",
       "    <tr>\n",
       "      <th>140</th>\n",
       "      <td>467</td>\n",
       "      <td>9.771991e+05</td>\n",
       "      <td>Leme</td>\n",
       "      <td>COPACABANA</td>\n",
       "      <td>2</td>\n",
       "      <td>23</td>\n",
       "      <td>5</td>\n",
       "      <td>23</td>\n",
       "      <td>Leme                      &amp;area=23            ...</td>\n",
       "      <td>Zona Sul</td>\n",
       "      <td>2.1</td>\n",
       "      <td>23</td>\n",
       "      <td>9.772016e+05</td>\n",
       "      <td>7045.331379</td>\n",
       "    </tr>\n",
       "    <tr>\n",
       "      <th>141</th>\n",
       "      <td>468</td>\n",
       "      <td>5.109893e+06</td>\n",
       "      <td>Lagoa</td>\n",
       "      <td>LAGOA</td>\n",
       "      <td>2</td>\n",
       "      <td>27</td>\n",
       "      <td>6</td>\n",
       "      <td>27</td>\n",
       "      <td>Lagoa                     &amp;area=27            ...</td>\n",
       "      <td>Zona Sul</td>\n",
       "      <td>2.1</td>\n",
       "      <td>27</td>\n",
       "      <td>5.109907e+06</td>\n",
       "      <td>10368.053471</td>\n",
       "    </tr>\n",
       "    <tr>\n",
       "      <th>143</th>\n",
       "      <td>470</td>\n",
       "      <td>2.579637e+06</td>\n",
       "      <td>Gávea</td>\n",
       "      <td>LAGOA</td>\n",
       "      <td>2</td>\n",
       "      <td>29</td>\n",
       "      <td>6</td>\n",
       "      <td>29</td>\n",
       "      <td>Gávea                     &amp;area=29            ...</td>\n",
       "      <td>Zona Sul</td>\n",
       "      <td>2.1</td>\n",
       "      <td>29</td>\n",
       "      <td>2.579643e+06</td>\n",
       "      <td>14268.524286</td>\n",
       "    </tr>\n",
       "    <tr>\n",
       "      <th>145</th>\n",
       "      <td>472</td>\n",
       "      <td>2.153096e+06</td>\n",
       "      <td>Leblon</td>\n",
       "      <td>LAGOA</td>\n",
       "      <td>2</td>\n",
       "      <td>26</td>\n",
       "      <td>6</td>\n",
       "      <td>26</td>\n",
       "      <td>Leblon                    &amp;area=26            ...</td>\n",
       "      <td>Zona Sul</td>\n",
       "      <td>2.1</td>\n",
       "      <td>26</td>\n",
       "      <td>2.153102e+06</td>\n",
       "      <td>7188.672220</td>\n",
       "    </tr>\n",
       "    <tr>\n",
       "      <th>146</th>\n",
       "      <td>473</td>\n",
       "      <td>3.084907e+06</td>\n",
       "      <td>Ipanema</td>\n",
       "      <td>LAGOA</td>\n",
       "      <td>2</td>\n",
       "      <td>25</td>\n",
       "      <td>6</td>\n",
       "      <td>25</td>\n",
       "      <td>Ipanema                   &amp;area=25            ...</td>\n",
       "      <td>Zona Sul</td>\n",
       "      <td>2.1</td>\n",
       "      <td>25</td>\n",
       "      <td>3.084915e+06</td>\n",
       "      <td>23487.557826</td>\n",
       "    </tr>\n",
       "    <tr>\n",
       "      <th>147</th>\n",
       "      <td>474</td>\n",
       "      <td>6.488566e+06</td>\n",
       "      <td>São Conrado</td>\n",
       "      <td>LAGOA</td>\n",
       "      <td>2</td>\n",
       "      <td>31</td>\n",
       "      <td>6</td>\n",
       "      <td>31</td>\n",
       "      <td>São Conrado               &amp;area=31            ...</td>\n",
       "      <td>Zona Sul</td>\n",
       "      <td>2.1</td>\n",
       "      <td>31</td>\n",
       "      <td>6.488583e+06</td>\n",
       "      <td>13311.910710</td>\n",
       "    </tr>\n",
       "    <tr>\n",
       "      <th>148</th>\n",
       "      <td>475</td>\n",
       "      <td>1.437195e+06</td>\n",
       "      <td>Rocinha</td>\n",
       "      <td>ROCINHA</td>\n",
       "      <td>2</td>\n",
       "      <td>154</td>\n",
       "      <td>27</td>\n",
       "      <td>154</td>\n",
       "      <td>Rocinha                   &amp;area=154           ...</td>\n",
       "      <td>Zona Sul</td>\n",
       "      <td>2.1</td>\n",
       "      <td>154</td>\n",
       "      <td>1.437199e+06</td>\n",
       "      <td>6120.753452</td>\n",
       "    </tr>\n",
       "    <tr>\n",
       "      <th>151</th>\n",
       "      <td>478</td>\n",
       "      <td>1.621378e+06</td>\n",
       "      <td>Vidigal</td>\n",
       "      <td>LAGOA</td>\n",
       "      <td>2</td>\n",
       "      <td>30</td>\n",
       "      <td>6</td>\n",
       "      <td>30</td>\n",
       "      <td>Vidigal                   &amp;area=30            ...</td>\n",
       "      <td>Zona Sul</td>\n",
       "      <td>2.1</td>\n",
       "      <td>30</td>\n",
       "      <td>1.621382e+06</td>\n",
       "      <td>7553.353992</td>\n",
       "    </tr>\n",
       "  </tbody>\n",
       "</table>\n",
       "</div>"
      ],
      "text/plain": [
       "     objectid          área             nome                regiao_adm  \\\n",
       "111       438  1.140065e+06           Glória  BOTAFOGO                   \n",
       "120       447  6.810267e+05           Catete  BOTAFOGO                   \n",
       "121       448  1.646254e+06         Flamengo  BOTAFOGO                   \n",
       "122       449  2.493507e+06      Laranjeiras  BOTAFOGO                   \n",
       "126       453  8.925401e+05      Cosme Velho  BOTAFOGO                   \n",
       "128       455  4.798956e+06         Botafogo  BOTAFOGO                   \n",
       "129       456  2.319002e+06             Urca  BOTAFOGO                   \n",
       "135       462  1.054475e+06          Humaitá  BOTAFOGO                   \n",
       "137       464  2.689204e+06  Jardim Botânico  LAGOA                      \n",
       "139       466  4.100850e+06       Copacabana  COPACABANA                 \n",
       "140       467  9.771991e+05             Leme  COPACABANA                 \n",
       "141       468  5.109893e+06            Lagoa  LAGOA                      \n",
       "143       470  2.579637e+06            Gávea  LAGOA                      \n",
       "145       472  2.153096e+06           Leblon  LAGOA                      \n",
       "146       473  3.084907e+06          Ipanema  LAGOA                      \n",
       "147       474  6.488566e+06      São Conrado  LAGOA                      \n",
       "148       475  1.437195e+06          Rocinha  ROCINHA                    \n",
       "151       478  1.621378e+06          Vidigal  LAGOA                      \n",
       "\n",
       "     area_plane  codbairro  codra  codbnum  \\\n",
       "111           2         16      4       16   \n",
       "120           2         18      4       18   \n",
       "121           2         15      4       15   \n",
       "122           2         17      4       17   \n",
       "126           2         19      4       19   \n",
       "128           2         20      4       20   \n",
       "129           2         22      4       22   \n",
       "135           2         21      4       21   \n",
       "137           2         28      6       28   \n",
       "139           2         24      5       24   \n",
       "140           2         23      5       23   \n",
       "141           2         27      6       27   \n",
       "143           2         29      6       29   \n",
       "145           2         26      6       26   \n",
       "146           2         25      6       25   \n",
       "147           2         31      6       31   \n",
       "148           2        154     27      154   \n",
       "151           2         30      6       30   \n",
       "\n",
       "                                                  link        rp  cod_rp  \\\n",
       "111  Glória                    &area=16            ...  Zona Sul     2.1   \n",
       "120  Catete                    &area=18            ...  Zona Sul     2.1   \n",
       "121  Flamengo                  &area=15            ...  Zona Sul     2.1   \n",
       "122  Laranjeiras               &area=17            ...  Zona Sul     2.1   \n",
       "126  Cosme Velho               &area=19            ...  Zona Sul     2.1   \n",
       "128  Botafogo                  &area=20            ...  Zona Sul     2.1   \n",
       "129  Urca                      &area=22            ...  Zona Sul     2.1   \n",
       "135  Humaitá                   &area=21            ...  Zona Sul     2.1   \n",
       "137  Jardim Botânico           &area=28            ...  Zona Sul     2.1   \n",
       "139  Copacabana                &area=24            ...  Zona Sul     2.1   \n",
       "140  Leme                      &area=23            ...  Zona Sul     2.1   \n",
       "141  Lagoa                     &area=27            ...  Zona Sul     2.1   \n",
       "143  Gávea                     &area=29            ...  Zona Sul     2.1   \n",
       "145  Leblon                    &area=26            ...  Zona Sul     2.1   \n",
       "146  Ipanema                   &area=25            ...  Zona Sul     2.1   \n",
       "147  São Conrado               &area=31            ...  Zona Sul     2.1   \n",
       "148  Rocinha                   &area=154           ...  Zona Sul     2.1   \n",
       "151  Vidigal                   &area=30            ...  Zona Sul     2.1   \n",
       "\n",
       "     codbairro_long  st_areashape  st_perimetershape  \n",
       "111              16  1.140069e+06        7225.248107  \n",
       "120              18  6.810285e+05        4260.147747  \n",
       "121              15  1.646258e+06        6665.349163  \n",
       "122              17  2.493514e+06       10537.128736  \n",
       "126              19  8.925425e+05        7889.681452  \n",
       "128              20  4.798969e+06       12136.391939  \n",
       "129              22  2.319008e+06       14138.523910  \n",
       "135              21  1.054478e+06        7100.855819  \n",
       "137              28  2.689211e+06       12263.131623  \n",
       "139              24  4.100861e+06       12803.516209  \n",
       "140              23  9.772016e+05        7045.331379  \n",
       "141              27  5.109907e+06       10368.053471  \n",
       "143              29  2.579643e+06       14268.524286  \n",
       "145              26  2.153102e+06        7188.672220  \n",
       "146              25  3.084915e+06       23487.557826  \n",
       "147              31  6.488583e+06       13311.910710  \n",
       "148             154  1.437199e+06        6120.753452  \n",
       "151              30  1.621382e+06        7553.353992  "
      ]
     },
     "execution_count": 5,
     "metadata": {},
     "output_type": "execute_result"
    }
   ],
   "source": [
    "filtro_zs = df_mapa[df_mapa['rp'] == 'Zona Sul']\n",
    "filtro_zs.to_csv('Limites_filtrados.csv')\n",
    "filtro_zs"
   ]
  },
  {
   "cell_type": "code",
   "execution_count": 9,
   "metadata": {},
   "outputs": [
    {
     "data": {
      "image/png": "[encoded data removed]",
      "text/plain": [
       "<Figure size 1000x4000 with 1 Axes>"
      ]
     },
     "metadata": {},
     "output_type": "display_data"
    }
   ],
   "source": [
    "# Carregar o arquivo GeoJSON\n",
    "geojson_path = \"Limite_de_Bairros.geojson\"  # Substitua pelo caminho correto\n",
    "gdf = gpd.read_file(geojson_path)\n",
    "\n",
    "# Definir os grupos de bairros para cada região\n",
    "bairros = {\n",
    "    \"Botafogo, Humaitá, Urca\": [\"Botafogo\", \"Humaitá\", \"Urca\"],\n",
    "    \"Catete, Flamengo, Glória, Laranjeiras e Cosme Velho\": [\"Catete\", \"Flamengo\", \"Glória\", \"Laranjeiras\", \"Cosme Velho\"],\n",
    "    \"Copacabana, Leme\": [\"Copacabana\", \"Leme\"],\n",
    "    \"Gávea, Jardim Botânico, Lagoa e São Conrado\": [\"Gávea\", \"Jardim Botânico\", \"Lagoa\", \"São Conrado\"],\n",
    "    \"Leblon e Ipanema\": [\"Leblon\", \"Ipanema\"]\n",
    "}\n",
    "\n",
    "# Filtrar apenas os bairros da Zona Sul\n",
    "# Criar uma nova coluna 'regiao' com base nos grupos definidos\n",
    "gdf[\"bairro\"] = None\n",
    "\n",
    "for bairro, bairros in bairros.items():\n",
    "    gdf.loc[gdf[\"nome\"].isin(bairros), \"bairro\"] = bairro\n",
    "\n",
    "# Filtrar apenas os bairros que pertencem às regiões definidas\n",
    "gdf_zona_sul = gdf[gdf[\"bairro\"].notnull()]\n",
    "\n",
    "# Dissolver as geometrias por região (agrupando os bairros por região)\n",
    "gdf_regioes = gdf_zona_sul.dissolve(by=\"bairro\", as_index=False)\n",
    "\n",
    "# Plotar o mapa para visualizar as regiões\n",
    "import matplotlib.pyplot as plt\n",
    "\n",
    "fig, ax = plt.subplots(figsize=(10, 40))\n",
    "gdf_regioes.plot(ax=ax, column=\"bairro\", legend=True, edgecolor=\"black\", cmap=\"Set3\")\n",
    "plt.title(\"Regiões da Zona Sul do Rio de Janeiro\", fontsize=16)\n",
    "plt.axis(\"off\")\n",
    "plt.show()\n",
    "\n",
    "# Salvar o GeoJSON com as regiões agrupadas\n",
    "gdf_regioes.to_file(\"Regioes_Zona_Sul.geojson\", driver=\"GeoJSON\")"
   ]
  },
  {
   "cell_type": "code",
   "execution_count": 10,
   "metadata": {},
   "outputs": [
    {
     "name": "stdout",
     "output_type": "stream",
     "text": [
      "GeoJSON convertido para CSV e salvo em: Regioes_Zona_Sul.csv\n"
     ]
    }
   ],
   "source": [
    "# Carregar o arquivo GeoJSON\n",
    "geojson_path = \"Regioes_Zona_Sul.geojson\"\n",
    "gdf = gpd.read_file(geojson_path)\n",
    "\n",
    "# Salvar como CSV\n",
    "csv_path = \"Regioes_Zona_Sul.csv\"\n",
    "gdf.to_csv(csv_path, index=False)\n",
    "\n",
    "print(f\"GeoJSON convertido para CSV e salvo em: {csv_path}\")"
   ]
  },
  {
   "cell_type": "code",
   "execution_count": 11,
   "metadata": {},
   "outputs": [
    {
     "data": {
      "text/html": [
       "<div>\n",
       "<style scoped>\n",
       "    .dataframe tbody tr th:only-of-type {\n",
       "        vertical-align: middle;\n",
       "    }\n",
       "\n",
       "    .dataframe tbody tr th {\n",
       "        vertical-align: top;\n",
       "    }\n",
       "\n",
       "    .dataframe thead th {\n",
       "        text-align: right;\n",
       "    }\n",
       "</style>\n",
       "<table border=\"1\" class=\"dataframe\">\n",
       "  <thead>\n",
       "    <tr style=\"text-align: right;\">\n",
       "      <th></th>\n",
       "      <th>bairro</th>\n",
       "      <th>objectid</th>\n",
       "      <th>área</th>\n",
       "      <th>nome</th>\n",
       "      <th>regiao_adm</th>\n",
       "      <th>area_plane</th>\n",
       "      <th>codbairro</th>\n",
       "      <th>codra</th>\n",
       "      <th>codbnum</th>\n",
       "      <th>link</th>\n",
       "      <th>rp</th>\n",
       "      <th>cod_rp</th>\n",
       "      <th>codbairro_long</th>\n",
       "      <th>st_areashape</th>\n",
       "      <th>st_perimetershape</th>\n",
       "      <th>geometry</th>\n",
       "    </tr>\n",
       "  </thead>\n",
       "  <tbody>\n",
       "    <tr>\n",
       "      <th>0</th>\n",
       "      <td>Botafogo, Humaitá, Urca</td>\n",
       "      <td>455</td>\n",
       "      <td>4.798956e+06</td>\n",
       "      <td>Botafogo</td>\n",
       "      <td>BOTAFOGO</td>\n",
       "      <td>2</td>\n",
       "      <td>20</td>\n",
       "      <td>4</td>\n",
       "      <td>20</td>\n",
       "      <td>Botafogo                  &amp;area=20            ...</td>\n",
       "      <td>Zona Sul</td>\n",
       "      <td>2.1</td>\n",
       "      <td>20</td>\n",
       "      <td>4.798969e+06</td>\n",
       "      <td>12136.391939</td>\n",
       "      <td>MULTIPOLYGON (((-43.19901357398269 -22.9624069...</td>\n",
       "    </tr>\n",
       "    <tr>\n",
       "      <th>1</th>\n",
       "      <td>Catete, Flamengo, Glória, Laranjeiras e Cosme ...</td>\n",
       "      <td>438</td>\n",
       "      <td>1.140065e+06</td>\n",
       "      <td>Glória</td>\n",
       "      <td>BOTAFOGO</td>\n",
       "      <td>2</td>\n",
       "      <td>16</td>\n",
       "      <td>4</td>\n",
       "      <td>16</td>\n",
       "      <td>Glória                    &amp;area=16            ...</td>\n",
       "      <td>Zona Sul</td>\n",
       "      <td>2.1</td>\n",
       "      <td>16</td>\n",
       "      <td>1.140069e+06</td>\n",
       "      <td>7225.248107</td>\n",
       "      <td>POLYGON ((-43.19965558631965 -22.9433368098720...</td>\n",
       "    </tr>\n",
       "    <tr>\n",
       "      <th>2</th>\n",
       "      <td>Copacabana, Leme</td>\n",
       "      <td>466</td>\n",
       "      <td>4.100850e+06</td>\n",
       "      <td>Copacabana</td>\n",
       "      <td>COPACABANA</td>\n",
       "      <td>2</td>\n",
       "      <td>24</td>\n",
       "      <td>5</td>\n",
       "      <td>24</td>\n",
       "      <td>Copacabana                &amp;area=24            ...</td>\n",
       "      <td>Zona Sul</td>\n",
       "      <td>2.1</td>\n",
       "      <td>24</td>\n",
       "      <td>4.100861e+06</td>\n",
       "      <td>12803.516209</td>\n",
       "      <td>MULTIPOLYGON (((-43.18250496691897 -22.9864852...</td>\n",
       "    </tr>\n",
       "    <tr>\n",
       "      <th>3</th>\n",
       "      <td>Gávea, Jardim Botânico, Lagoa e São Conrado</td>\n",
       "      <td>464</td>\n",
       "      <td>2.689204e+06</td>\n",
       "      <td>Jardim Botânico</td>\n",
       "      <td>LAGOA</td>\n",
       "      <td>2</td>\n",
       "      <td>28</td>\n",
       "      <td>6</td>\n",
       "      <td>28</td>\n",
       "      <td>Jardim Botânico           &amp;area=28            ...</td>\n",
       "      <td>Zona Sul</td>\n",
       "      <td>2.1</td>\n",
       "      <td>28</td>\n",
       "      <td>2.689211e+06</td>\n",
       "      <td>12263.131623</td>\n",
       "      <td>MULTIPOLYGON (((-43.27535779568179 -23.0297350...</td>\n",
       "    </tr>\n",
       "    <tr>\n",
       "      <th>4</th>\n",
       "      <td>Leblon e Ipanema</td>\n",
       "      <td>472</td>\n",
       "      <td>2.153096e+06</td>\n",
       "      <td>Leblon</td>\n",
       "      <td>LAGOA</td>\n",
       "      <td>2</td>\n",
       "      <td>26</td>\n",
       "      <td>6</td>\n",
       "      <td>26</td>\n",
       "      <td>Leblon                    &amp;area=26            ...</td>\n",
       "      <td>Zona Sul</td>\n",
       "      <td>2.1</td>\n",
       "      <td>26</td>\n",
       "      <td>2.153102e+06</td>\n",
       "      <td>7188.672220</td>\n",
       "      <td>MULTIPOLYGON (((-43.20847617797942 -23.0821021...</td>\n",
       "    </tr>\n",
       "  </tbody>\n",
       "</table>\n",
       "</div>"
      ],
      "text/plain": [
       "                                              bairro  objectid          área  \\\n",
       "0                            Botafogo, Humaitá, Urca       455  4.798956e+06   \n",
       "1  Catete, Flamengo, Glória, Laranjeiras e Cosme ...       438  1.140065e+06   \n",
       "2                                   Copacabana, Leme       466  4.100850e+06   \n",
       "3        Gávea, Jardim Botânico, Lagoa e São Conrado       464  2.689204e+06   \n",
       "4                                   Leblon e Ipanema       472  2.153096e+06   \n",
       "\n",
       "              nome                regiao_adm  area_plane  codbairro  codra  \\\n",
       "0         Botafogo  BOTAFOGO                           2         20      4   \n",
       "1           Glória  BOTAFOGO                           2         16      4   \n",
       "2       Copacabana  COPACABANA                         2         24      5   \n",
       "3  Jardim Botânico  LAGOA                              2         28      6   \n",
       "4           Leblon  LAGOA                              2         26      6   \n",
       "\n",
       "   codbnum                                               link        rp  \\\n",
       "0       20  Botafogo                  &area=20            ...  Zona Sul   \n",
       "1       16  Glória                    &area=16            ...  Zona Sul   \n",
       "2       24  Copacabana                &area=24            ...  Zona Sul   \n",
       "3       28  Jardim Botânico           &area=28            ...  Zona Sul   \n",
       "4       26  Leblon                    &area=26            ...  Zona Sul   \n",
       "\n",
       "   cod_rp  codbairro_long  st_areashape  st_perimetershape  \\\n",
       "0     2.1              20  4.798969e+06       12136.391939   \n",
       "1     2.1              16  1.140069e+06        7225.248107   \n",
       "2     2.1              24  4.100861e+06       12803.516209   \n",
       "3     2.1              28  2.689211e+06       12263.131623   \n",
       "4     2.1              26  2.153102e+06        7188.672220   \n",
       "\n",
       "                                            geometry  \n",
       "0  MULTIPOLYGON (((-43.19901357398269 -22.9624069...  \n",
       "1  POLYGON ((-43.19965558631965 -22.9433368098720...  \n",
       "2  MULTIPOLYGON (((-43.18250496691897 -22.9864852...  \n",
       "3  MULTIPOLYGON (((-43.27535779568179 -23.0297350...  \n",
       "4  MULTIPOLYGON (((-43.20847617797942 -23.0821021...  "
      ]
     },
     "execution_count": 11,
     "metadata": {},
     "output_type": "execute_result"
    }
   ],
   "source": [
    "df_zona_geo = pd.read_csv('Regioes_Zona_Sul.csv')\n",
    "df_zona_geo"
   ]
  },
  {
   "cell_type": "code",
   "execution_count": 17,
   "metadata": {},
   "outputs": [
    {
     "data": {
      "text/html": [
       "<div style=\"width:100%;\"><div style=\"position:relative;width:100%;height:0;padding-bottom:60%;\"><span style=\"color:#565656\">Make this Notebook Trusted to load map: File -> Trust Notebook</span><iframe srcdoc=\"&lt;!DOCTYPE html&gt;\n",
       "&lt;html&gt;\n",
       "&lt;head&gt;\n",
       "    \n",
       "    &lt;meta http-equiv=&quot;content-type&quot; content=&quot;text/html; charset=UTF-8&quot; /&gt;\n",
       "    \n",
       "        &lt;script&gt;\n",
       "            L_NO_TOUCH = false;\n",
       "            L_DISABLE_3D = false;\n",
       "        &lt;/script&gt;\n",
       "    \n",
       "    &lt;style&gt;html, body {width: 100%;height: 100%;margin: 0;padding: 0;}&lt;/style&gt;\n",
       "    &lt;style&gt;#map {position:absolute;top:0;bottom:0;right:0;left:0;}&lt;/style&gt;\n",
       "    &lt;script src=&quot;https://cdn.jsdelivr.net/npm/leaflet@1.9.3/dist/leaflet.js&quot;&gt;&lt;/script&gt;\n",
       "    &lt;script src=&quot;https://code.jquery.com/jquery-3.7.1.min.js&quot;&gt;&lt;/script&gt;\n",
       "    &lt;script src=&quot;https://cdn.jsdelivr.net/npm/bootstrap@5.2.2/dist/js/bootstrap.bundle.min.js&quot;&gt;&lt;/script&gt;\n",
       "    &lt;script src=&quot;https://cdnjs.cloudflare.com/ajax/libs/Leaflet.awesome-markers/2.0.2/leaflet.awesome-markers.js&quot;&gt;&lt;/script&gt;\n",
       "    &lt;link rel=&quot;stylesheet&quot; href=&quot;https://cdn.jsdelivr.net/npm/leaflet@1.9.3/dist/leaflet.css&quot;/&gt;\n",
       "    &lt;link rel=&quot;stylesheet&quot; href=&quot;https://cdn.jsdelivr.net/npm/bootstrap@5.2.2/dist/css/bootstrap.min.css&quot;/&gt;\n",
       "    &lt;link rel=&quot;stylesheet&quot; href=&quot;https://netdna.bootstrapcdn.com/bootstrap/3.0.0/css/bootstrap-glyphicons.css&quot;/&gt;\n",
       "    &lt;link rel=&quot;stylesheet&quot; href=&quot;https://cdn.jsdelivr.net/npm/@fortawesome/fontawesome-free@6.2.0/css/all.min.css&quot;/&gt;\n",
       "    &lt;link rel=&quot;stylesheet&quot; href=&quot;https://cdnjs.cloudflare.com/ajax/libs/Leaflet.awesome-markers/2.0.2/leaflet.awesome-markers.css&quot;/&gt;\n",
       "    &lt;link rel=&quot;stylesheet&quot; href=&quot;https://cdn.jsdelivr.net/gh/python-visualization/folium/folium/templates/leaflet.awesome.rotate.min.css&quot;/&gt;\n",
       "    \n",
       "            &lt;meta name=&quot;viewport&quot; content=&quot;width=device-width,\n",
       "                initial-scale=1.0, maximum-scale=1.0, user-scalable=no&quot; /&gt;\n",
       "            &lt;style&gt;\n",
       "                #map_1035e241e0d6ead3de7800ecedb7bbbe {\n",
       "                    position: relative;\n",
       "                    width: 100.0%;\n",
       "                    height: 100.0%;\n",
       "                    left: 0.0%;\n",
       "                    top: 0.0%;\n",
       "                }\n",
       "                .leaflet-container { font-size: 1rem; }\n",
       "            &lt;/style&gt;\n",
       "        \n",
       "&lt;/head&gt;\n",
       "&lt;body&gt;\n",
       "    \n",
       "    \n",
       "            &lt;div class=&quot;folium-map&quot; id=&quot;map_1035e241e0d6ead3de7800ecedb7bbbe&quot; &gt;&lt;/div&gt;\n",
       "        \n",
       "&lt;/body&gt;\n",
       "&lt;script&gt;\n",
       "    \n",
       "    \n",
       "            var map_1035e241e0d6ead3de7800ecedb7bbbe = L.map(\n",
       "                &quot;map_1035e241e0d6ead3de7800ecedb7bbbe&quot;,\n",
       "                {\n",
       "                    center: [-22.971, -43.182],\n",
       "                    crs: L.CRS.EPSG3857,\n",
       "                    zoom: 13,\n",
       "                    zoomControl: true,\n",
       "                    preferCanvas: false,\n",
       "                }\n",
       "            );\n",
       "\n",
       "            \n",
       "\n",
       "        \n",
       "    \n",
       "            var tile_layer_15cf7bf1b519b520ba4772549a844b7e = L.tileLayer(\n",
       "                &quot;https://tile.openstreetmap.org/{z}/{x}/{y}.png&quot;,\n",
       "                {&quot;attribution&quot;: &quot;\\u0026copy; \\u003ca href=\\&quot;https://www.openstreetmap.org/copyright\\&quot;\\u003eOpenStreetMap\\u003c/a\\u003e contributors&quot;, &quot;detectRetina&quot;: false, &quot;maxNativeZoom&quot;: 19, &quot;maxZoom&quot;: 19, &quot;minZoom&quot;: 0, &quot;noWrap&quot;: false, &quot;opacity&quot;: 1, &quot;subdomains&quot;: &quot;abc&quot;, &quot;tms&quot;: false}\n",
       "            );\n",
       "        \n",
       "    \n",
       "            tile_layer_15cf7bf1b519b520ba4772549a844b7e.addTo(map_1035e241e0d6ead3de7800ecedb7bbbe);\n",
       "        \n",
       "    \n",
       "        function geo_json_2402bf332e57531308d7433d1fb7193f_styler(feature) {\n",
       "            switch(feature.id) {\n",
       "                default:\n",
       "                    return {&quot;color&quot;: &quot;black&quot;, &quot;fillColor&quot;: &quot;#FEB24C&quot;, &quot;fillOpacity&quot;: 0.7, &quot;weight&quot;: 1};\n",
       "            }\n",
       "        }\n",
       "\n",
       "        function geo_json_2402bf332e57531308d7433d1fb7193f_onEachFeature(feature, layer) {\n",
       "            layer.on({\n",
       "            });\n",
       "        };\n",
       "        var geo_json_2402bf332e57531308d7433d1fb7193f = L.geoJson(null, {\n",
       "                onEachFeature: geo_json_2402bf332e57531308d7433d1fb7193f_onEachFeature,\n",
       "            \n",
       "                style: geo_json_2402bf332e57531308d7433d1fb7193f_styler,\n",
       "        });\n",
       "\n",
       "        function geo_json_2402bf332e57531308d7433d1fb7193f_add (data) {\n",
       "            geo_json_2402bf332e57531308d7433d1fb7193f\n",
       "                .addData(data);\n",
       "        }\n",
       "            geo_json_2402bf332e57531308d7433d1fb7193f_add({&quot;features&quot;: [{&quot;geometry&quot;: {&quot;coordinates&quot;: [[[[-43.19901357398269, -22.962406938599774], [-43.19959646637247, -22.96219131977733], [-43.19991191423743, -22.961935186420835], [-43.1999227435415, -22.961846361146993], [-43.199827525065515, -22.961783059005295], [-43.19963921615165, -22.961496285421255], [-43.199640629376205, -22.96138956071404], [-43.19969060508496, -22.96123887042503], [-43.19973207981752, -22.961008073618796], [-43.199751523261256, -22.960990504560982], [-43.1998843322315, -22.961116541252835], [-43.19993169243675, -22.961170447530808], [-43.200033992647, -22.961420668333567], [-43.20037385054334, -22.961869272012446], [-43.200459630240175, -22.96192361514052], [-43.200546488644264, -22.961889020415512], [-43.20075765624345, -22.96117097390153], [-43.200692595661934, -22.961010126180415], [-43.20036215488489, -22.96057941991813], [-43.2001822212912, -22.960381689377737], [-43.20060091126323, -22.960680018932685], [-43.200724890576154, -22.960743645172887], [-43.200821987700785, -22.960664737004645], [-43.20029875327464, -22.959924990787687], [-43.20031335938192, -22.959911791622908], [-43.20038954378482, -22.959961600942382], [-43.200807371098925, -22.960317624214998], [-43.20125415360916, -22.960674066183053], [-43.20152036902361, -22.960512553565685], [-43.20114320002982, -22.959618780295074], [-43.20195452183623, -22.96001042007747], [-43.20262543385104, -22.960298238610054], [-43.20291243477911, -22.9603860170354], [-43.20345828450292, -22.960507791729995], [-43.20387915511321, -22.960641512924756], [-43.20407337731086, -22.960666018935], [-43.204103730205176, -22.960442771325507], [-43.20412651601813, -22.960275242156676], [-43.20419954654122, -22.959840173529425], [-43.20422239593112, -22.959564732838498], [-43.20398260499226, -22.959535286949098], [-43.203694723485896, -22.959514236880203], [-43.203559915084426, -22.959539440432778], [-43.203445491667466, -22.95947583345765], [-43.203497318690005, -22.959191873290106], [-43.20351922854189, -22.958987491225244], [-43.20358840348102, -22.95883710721929], [-43.203744179496525, -22.9586787632509], [-43.20388922731181, -22.95860924688455], [-43.204082007458716, -22.958558060864604], [-43.20472539195636, -22.957835960264422], [-43.20486160419973, -22.957704123508073], [-43.20469651040623, -22.95784457426082], [-43.20430907159762, -22.95808915502371], [-43.20431801949187, -22.958142625040725], [-43.204086705815584, -22.958202315949265], [-43.20380838116094, -22.958181373566628], [-43.20379976690667, -22.958110116547804], [-43.203417259711244, -22.95798125416519], [-43.2033202809805, -22.958051314789426], [-43.203204920715464, -22.958058857412823], [-43.203119259058866, -22.957995667379862], [-43.20312172637149, -22.957808946103356], [-43.203151879642405, -22.95771140023782], [-43.203238968755514, -22.95765901569747], [-43.203314506555955, -22.957757760969468], [-43.203285274976594, -22.95779301037238], [-43.203351981536926, -22.957829345912348], [-43.203428225706666, -22.957874638360636], [-43.20370572687278, -22.957957792307546], [-43.20395460208863, -22.958022920187446], [-43.20407963928934, -22.958006547434312], [-43.20424341909856, -22.957972822573012], [-43.20440781083408, -22.95788573397093], [-43.20454320297766, -22.957816110308087], [-43.20466952903635, -22.957701948942514], [-43.20478747511842, -22.957498655658384], [-43.2044769404223, -22.957014813336066], [-43.20463142107911, -22.95695434215503], [-43.20479428467452, -22.95698282566306], [-43.204977038661376, -22.956967104640686], [-43.20518078060345, -22.95680930108179], [-43.20522048298695, -22.95671195220431], [-43.20515542064656, -22.956551108760532], [-43.20501319687569, -22.956407179057933], [-43.20483206577755, -22.956307327722307], [-43.20457318691366, -22.95626881714088], [-43.20447642649307, -22.956329941870223], [-43.20437108919049, -22.95630210857713], [-43.204353410023046, -22.956186229097792], [-43.204077652666406, -22.95597856802705], [-43.20414553522082, -22.955859413221788], [-43.204182360353876, -22.95581774773126], [-43.204182147879564, -22.955774760671417], [-43.20417661213646, -22.95570651944502], [-43.20416047557916, -22.95564375520548], [-43.20415125542894, -22.955632994932373], [-43.20410343345713, -22.95557691466386], [-43.204030634001896, -22.955573745016068], [-43.20400139539561, -22.955572510839808], [-43.203923791994114, -22.95558598934333], [-43.20383212918641, -22.955608250455146], [-43.203718603930575, -22.955609763988658], [-43.20361129591044, -22.955605386910225], [-43.2035208478654, -22.955572666540267], [-43.203403982527874, -22.955517069062726], [-43.203344539542485, -22.95548451834532], [-43.20329002452227, -22.955440554849215], [-43.203250979791555, -22.955406790345886], [-43.203207463175474, -22.955371620607774], [-43.20318458468391, -22.955354202747067], [-43.203171162868664, -22.955344027844635], [-43.20311203745163, -22.955302359954327], [-43.20307299573854, -22.955275458538598], [-43.20304906875785, -22.955263447913932], [-43.203020687662814, -22.95524912921759], [-43.20296182240452, -22.955224530749433], [-43.20290427201055, -22.955203741728777], [-43.20285042560306, -22.955182993760747], [-43.202800869888826, -22.955162384704924], [-43.20273791477003, -22.955137289191285], [-43.20273170591215, -22.95513487092453], [-43.202672454476996, -22.955102682453813], [-43.20266073952692, -22.955096319617763], [-43.20259212074533, -22.955057071555398], [-43.202538380205375, -22.955028469154843], [-43.20244252598404, -22.954998756351827], [-43.20240901914209, -22.955010748172583], [-43.20238235754193, -22.95504340775846], [-43.20235581634427, -22.955074260821032], [-43.20231819353635, -22.955087649019262], [-43.20224903276573, -22.955089485623645], [-43.20217965369114, -22.955078403565725], [-43.20213311219747, -22.955043561377128], [-43.202080988824704, -22.954995831845547], [-43.202023819848066, -22.95493883410261], [-43.2020129601647, -22.954926789067283], [-43.201974036886966, -22.954883726160283], [-43.20195110850974, -22.954855201099694], [-43.20194717112457, -22.954821111914477], [-43.201946031376735, -22.95481143648241], [-43.201944636151644, -22.95479895783201], [-43.20194394448969, -22.95479226840969], [-43.201967958712345, -22.954746034212583], [-43.20198306644533, -22.95471703646282], [-43.20200982988215, -22.95466929916558], [-43.202174089077886, -22.95465833825073], [-43.20216547382358, -22.954587081159445], [-43.20218562233515, -22.954516150150408], [-43.20235709769114, -22.954394196208604], [-43.202611250479585, -22.95416309962975], [-43.203016341406844, -22.953828869247758], [-43.2032113132355, -22.95368523667953], [-43.204268561055684, -22.953144279643794], [-43.204763344685354, -22.95301785685706], [-43.20724507712186, -22.952583751959786], [-43.21006385382533, -22.95197470145122], [-43.20922666796149, -22.951208590958117], [-43.20783679629569, -22.95062072460325], [-43.20746931853045, -22.950558777318626], [-43.20698241395223, -22.950539546631163], [-43.20521803550028, -22.950180320764], [-43.20290851751132, -22.94939850699491], [-43.20215660637896, -22.948846807261113], [-43.201695546630624, -22.94857690003101], [-43.20106974513447, -22.948030778322583], [-43.199178228512906, -22.947460900257965], [-43.19878094365726, -22.9473901977012], [-43.19831417625054, -22.947176835948046], [-43.19808106867137, -22.947041802786114], [-43.19785942522916, -22.94682183249507], [-43.197718503465374, -22.94666897354277], [-43.19755658362064, -22.946563103850085], [-43.19732373104891, -22.946409108768194], [-43.19717530396184, -22.946057583433014], [-43.19709786536507, -22.945735221984584], [-43.19704840637792, -22.94561175736254], [-43.196817783356884, -22.945297043599027], [-43.196422889732986, -22.945046749461962], [-43.19516825272265, -22.945725471661707], [-43.19400402863691, -22.946152091494532], [-43.1936547055901, -22.946215120294983], [-43.19337873007658, -22.946291082550793], [-43.19304276355906, -22.946244000478252], [-43.192828139790684, -22.94621554811668], [-43.19264230280764, -22.946126830646566], [-43.1924566932403, -22.94602086667339], [-43.19229870389647, -22.945949802616404], [-43.19186376049229, -22.945962094470392], [-43.19148109544064, -22.94591447686288], [-43.191266724527445, -22.945860108193873], [-43.19105302163367, -22.945762401161524], [-43.19085863105639, -22.94561298957263], [-43.190710693768935, -22.945490023801604], [-43.19066560702319, -22.945368322223185], [-43.190667334699185, -22.945238396048516], [-43.19065878124741, -22.94517770391737], [-43.19063127912973, -22.94513413484386], [-43.190566667816455, -22.945072803315522], [-43.190473635731465, -22.945037065593446], [-43.19030594181561, -22.944991897275635], [-43.19016598150872, -22.944972961398165], [-43.19006313230085, -22.94497178799302], [-43.189950688551555, -22.94498784422467], [-43.18986551698084, -22.945064804318708], [-43.18980853976447, -22.945133417855622], [-43.18974231682278, -22.94519325401667], [-43.18968593173835, -22.945209950650735], [-43.18959255287638, -22.945200215868535], [-43.18949975167077, -22.945147141948144], [-43.18948251264168, -22.945043095279274], [-43.18953059320032, -22.94493970469171], [-43.18957784855017, -22.94490565865699], [-43.18963436469737, -22.94487162708454], [-43.18969099980916, -22.944829018015085], [-43.18971029449726, -22.944785891612277], [-43.18972045955287, -22.94472541395835], [-43.18966509256006, -22.94467285762057], [-43.1896006160349, -22.944594189898165], [-43.18942448763546, -22.944479571348186], [-43.18924845705401, -22.944364951926943], [-43.18913739748371, -22.944277177099973], [-43.189119831816576, -22.944190373736735], [-43.18913080451988, -22.94406922140132], [-43.189216205536944, -22.94397492512755], [-43.189310965172936, -22.943880826823143], [-43.18940572394077, -22.94378663723772], [-43.18963672787381, -22.943287005370333], [-43.18977168734407, -22.942985486758815], [-43.189867729795765, -22.942787461523103], [-43.18989672667552, -22.942718530460557], [-43.189888866395165, -22.942605830467844], [-43.189871875612205, -22.942475781033476], [-43.189845163498994, -22.942380206030546], [-43.18977200295361, -22.942258094534854], [-43.18971688529155, -22.94217953368019], [-43.18969953001175, -22.942084155726572], [-43.1896828853965, -22.94192809919763], [-43.18978052316563, -22.941617487261517], [-43.18980075623362, -22.941496440460707], [-43.18979287603502, -22.94139250057488], [-43.18974677379032, -22.94133995791296], [-43.18960762224765, -22.94126043909706], [-43.18960911878108, -22.941147938869143], [-43.189601833048954, -22.940991991826284], [-43.18957536976721, -22.94087041220707], [-43.189502208995144, -22.940748390019234], [-43.18938223893833, -22.940634411558285], [-43.18912324963047, -22.940423669167842], [-43.189041881952384, -22.940214950237365], [-43.18900698108221, -22.940024010531932], [-43.18895277028105, -22.93988486704933], [-43.1888330480219, -22.939744883638888], [-43.18860213922078, -22.939534459238896], [-43.18843618303246, -22.939359361481333], [-43.18820584825441, -22.939105689540142], [-43.18808324609236, -22.93918222054955], [-43.188016912069955, -22.939250725815988], [-43.18787430739457, -22.93943087814201], [-43.187845420635455, -22.939491232171957], [-43.187797363131594, -22.939585862267606], [-43.18777793537843, -22.939646325219908], [-43.18770977365187, -22.939844666773972], [-43.18769866720107, -22.93998306455486], [-43.18766955350444, -22.94006066481453], [-43.18760298699964, -22.940146505479618], [-43.18752740798348, -22.940206235756804], [-43.187405150517264, -22.940256853904465], [-43.18720754266747, -22.940349867314563], [-43.18721848695326, -22.940421332093717], [-43.18721815540782, -22.94051181237393], [-43.18722794234656, -22.940575226017714], [-43.1854701981668, -22.940581051156897], [-43.185227164625616, -22.940578271496626], [-43.18340913626801, -22.939570992656325], [-43.18284803232446, -22.93941656214272], [-43.18205353616053, -22.939099614412804], [-43.1813786824044, -22.938899353319673], [-43.18039344243417, -22.93957030044189], [-43.17831346247171, -22.94005791203437], [-43.17857271822015, -22.940895831475032], [-43.17791996222088, -22.9408361420483], [-43.17767261250204, -22.940791580269764], [-43.17745895170288, -22.940757791772086], [-43.1768365722465, -22.94094894856426], [-43.17651914934533, -22.94109141016372], [-43.1766029191025, -22.942407458431024], [-43.17675518421222, -22.94366162253231], [-43.17693292838478, -22.943574715776162], [-43.17698657173779, -22.943544448564385], [-43.1770392150056, -22.94351597680568], [-43.177089581437485, -22.943482782203155], [-43.17714154248946, -22.943454211362692], [-43.177195250585214, -22.943426383001928], [-43.17724751712915, -22.943396912603458], [-43.177302241406636, -22.943365936174423], [-43.17735272531368, -22.9433385213255], [-43.17740901616142, -22.943314334683546], [-43.17746426219773, -22.943288149349538], [-43.17752113894607, -22.943271101534616], [-43.17757608862013, -22.943252408814793], [-43.177631003913824, -22.943228928712966], [-43.17768856760403, -22.94321162052613], [-43.17774851948047, -22.943205354018314], [-43.177815451769085, -22.943202060975302], [-43.177874674293214, -22.94319921846302], [-43.17793436228291, -22.943205231882015], [-43.17799492402297, -22.943211528029], [-43.17802475565048, -22.943204644580145], [-43.17803263227514, -22.943191731391476], [-43.178026464004134, -22.94317179386726], [-43.177988834339935, -22.943149237441396], [-43.1779501871104, -22.94313750479053], [-43.17793790808276, -22.943122464655396], [-43.177944139947265, -22.943101314095006], [-43.17796587825967, -22.943087115261058], [-43.177991663455295, -22.943076665328828], [-43.178041389426234, -22.943047437285635], [-43.17808470409941, -22.94300928498937], [-43.17812058348481, -22.942965719410203], [-43.17815984833574, -22.942924179367473], [-43.178196019530766, -22.94289515592177], [-43.178218612223354, -22.9428826817171], [-43.17826482115168, -22.942868675340698], [-43.17832019657847, -22.942847366640105], [-43.17838153531256, -22.942839311550642], [-43.1784429767097, -22.942838300356858], [-43.178504258801944, -22.942849117923462], [-43.17854930494323, -22.94288548635673], [-43.178594063257016, -22.94292157966135], [-43.178641699861636, -22.9429613172213], [-43.178679950293734, -22.943002844280837], [-43.17871994585673, -22.94304511469462], [-43.17876473046244, -22.943086536142555], [-43.17880840105438, -22.943123700543115], [-43.178849896486796, -22.943163187845], [-43.17890125818511, -22.943208658096843], [-43.17895156372042, -22.94325276166307], [-43.17900556541308, -22.94329753795684], [-43.17905440675699, -22.943341987705523], [-43.17910006714317, -22.943390914281366], [-43.17914156659941, -22.943430040348048], [-43.179189320177215, -22.943475562115186], [-43.17923227817965, -22.9435150643072], [-43.17928079267859, -22.943561945717814], [-43.179333979391885, -22.943609424360627], [-43.17938474222631, -22.943655880932763], [-43.17942737258784, -22.943698090217755], [-43.179471423494235, -22.943743295798303], [-43.17951220910416, -22.943784851771067], [-43.17955588916848, -22.943828701236825], [-43.179590962186815, -22.943881838037054], [-43.17962052688984, -22.94393121100056], [-43.17965907134272, -22.943972740320145], [-43.179695446869985, -22.94401605351676], [-43.179729057593136, -22.94406917802698], [-43.17976150986969, -22.944121291389227], [-43.17979592754014, -22.944179842433037], [-43.17982590348964, -22.944235000387994], [-43.17985489602474, -22.94429800252733], [-43.179877820504274, -22.94434820500458], [-43.1799066314804, -22.944402988368118], [-43.1799304066319, -22.94445527486274], [-43.179951154047565, -22.94450779843003], [-43.17997392137586, -22.944569827904623], [-43.17999765974147, -22.944631866710946], [-43.1800262364854, -22.94468980888325], [-43.18004787313311, -22.94474875326388], [-43.18005334097494, -22.944770128443388], [-43.18006358628479, -22.944813319688496], [-43.18007496479988, -22.944873773644325], [-43.18009140444746, -22.944927691724658], [-43.18010862971143, -22.944988483663014], [-43.18012649548842, -22.945045128099192], [-43.180148562428336, -22.9451085040665], [-43.18017013671311, -22.94516482892668], [-43.18018989897687, -22.945225557852762], [-43.180206738209286, -22.945285984141606], [-43.180221053131994, -22.945345748446154], [-43.18023492068514, -22.945402438213048], [-43.1802506347408, -22.945459511276656], [-43.180262637499624, -22.945517260578704], [-43.18027214341155, -22.94557200213649], [-43.18028780689211, -22.945625641290633], [-43.18029201885685, -22.945638783566046], [-43.180303208745315, -22.945684335322717], [-43.1803167455031, -22.94574381888138], [-43.18032799680662, -22.945799215289224], [-43.18033607606522, -22.945858637146262], [-43.18033663971902, -22.94593314372294], [-43.18033823744219, -22.94600323730586], [-43.18034155824574, -22.946061070326692], [-43.18034816553646, -22.946121195013628], [-43.18035435558624, -22.94617599154256], [-43.18036338156243, -22.94623009727376], [-43.18038036786256, -22.94630163071783], [-43.18040310978743, -22.946365373806973], [-43.180411376202, -22.946388858954172], [-43.18041930126583, -22.946430577812194], [-43.18042393825992, -22.946463050740004], [-43.180426021409325, -22.9464968489208], [-43.180425970903244, -22.946551662360527], [-43.1804226418491, -22.94661095335055], [-43.18042155243241, -22.946670540939838], [-43.180426428741455, -22.946736156065807], [-43.18044333915595, -22.946798568917593], [-43.1804593889072, -22.946852574604836], [-43.18046741754984, -22.946915787703453], [-43.18047290730418, -22.947001007455853], [-43.180475762448765, -22.947057208770374], [-43.18047105137335, -22.94711783845323], [-43.1804677595061, -22.947174420772566], [-43.1804682484733, -22.947240077678845], [-43.180469244510824, -22.94729661797639], [-43.180470202294316, -22.947371037859412], [-43.18046914438699, -22.947435413679337], [-43.18046456008383, -22.94748656207864], [-43.180460941068496, -22.947509277863027], [-43.180453938460474, -22.947566269129098], [-43.180446383689976, -22.94762831103678], [-43.1804353399295, -22.947688326251495], [-43.18042396441838, -22.94774427492027], [-43.180392540671335, -22.94777542753896], [-43.18038277151513, -22.947791391239043], [-43.180371453942996, -22.947821061447854], [-43.18036148610732, -22.947844516222126], [-43.18035428193011, -22.947880194526967], [-43.180346704049825, -22.94792923250648], [-43.1803413155734, -22.9479602349727], [-43.18034546800541, -22.94801428388845], [-43.1803518540659, -22.948069080852775], [-43.18035168053896, -22.948111069823582], [-43.18034285423937, -22.948165963183488], [-43.18034001921512, -22.94823212196009], [-43.180316917345756, -22.94828260820365], [-43.18029371774536, -22.948333182721576], [-43.1802604434236, -22.948378674980802], [-43.18021461058148, -22.948415534656412], [-43.18016796595858, -22.948447328931284], [-43.180147782464935, -22.94844736646662], [-43.180098043897715, -22.948477048249863], [-43.180047744102936, -22.948505458429985], [-43.18000116763925, -22.948539149799416], [-43.17995544159764, -22.948575378496386], [-43.179908983793524, -22.948615210906777], [-43.17986640874087, -22.94865635210048], [-43.17982129766707, -22.94869755357954], [-43.179785517252455, -22.94872613118592], [-43.17974907047605, -22.94873185354512], [-43.17966863266417, -22.948738788611156], [-43.17965910718348, -22.94876567811762], [-43.17960019510602, -22.948774212924825], [-43.17949999424261, -22.948785975350766], [-43.1789794918192, -22.948852242941996], [-43.178965165542536, -22.948749496867492], [-43.178748764089654, -22.948788369266975], [-43.17872346710772, -22.94870436784664], [-43.17864649196052, -22.94872199520495], [-43.17865423753576, -22.94874059717926], [-43.17850501555027, -22.94879433062091], [-43.178497914222724, -22.948778445130824], [-43.17824597955701, -22.948878588475118], [-43.178184503503054, -22.948780263878017], [-43.177768548714305, -22.948932161575968], [-43.17773379146771, -22.948869905585767], [-43.17679100498804, -22.949283767441237], [-43.17656567397285, -22.949370396529428], [-43.176536642665134, -22.94937566156401], [-43.17669455940515, -22.949619216275792], [-43.174561671956184, -22.950527516221015], [-43.173098626034694, -22.951146944862252], [-43.1723506621904, -22.9514496925678], [-43.17254619320037, -22.95187600866276], [-43.171034599177325, -22.95252149859578], [-43.17101496975393, -22.95250944255978], [-43.1709901876888, -22.952481523210906], [-43.17097483695185, -22.95244829626686], [-43.170960368265064, -22.952414810391787], [-43.170946195544225, -22.95238114190526], [-43.170946096223574, -22.95234501965241], [-43.17093290133853, -22.95231100303711], [-43.170913725044244, -22.952279538024104], [-43.1709013144691, -22.952245352555625], [-43.17087357245696, -22.952220016028573], [-43.170891877242454, -22.9521277571049], [-43.17115690090783, -22.952012155557174], [-43.1711416268032, -22.951980554058874], [-43.170921830869325, -22.95147376866205], [-43.1707938096178, -22.951502182412106], [-43.170784607524766, -22.951504878375385], [-43.17071830227485, -22.951533820534415], [-43.1705958749374, -22.951588486440208], [-43.17051851537404, -22.951620011891368], [-43.17046348953297, -22.95164412100752], [-43.170397847875186, -22.951674246421465], [-43.17022749604839, -22.951747143039405], [-43.170196985351296, -22.9518334816704], [-43.170171979133514, -22.951909228076595], [-43.17012672438556, -22.952062220608084], [-43.17009550744901, -22.95209942636973], [-43.17008875521829, -22.952137457121705], [-43.170083205458326, -22.95217315477912], [-43.17011844575332, -22.9522282830379], [-43.1701171551573, -22.9522443420349], [-43.17008633698787, -22.95226647183514], [-43.17005427300725, -22.952287052107636], [-43.16995932000041, -22.952350703536254], [-43.16968436016486, -22.952131979737672], [-43.169700599211644, -22.952106338759968], [-43.169704698766346, -22.952098710339133], [-43.169709860821314, -22.952062918825824], [-43.169684684265725, -22.952035356851155], [-43.169656648562565, -22.952010200049816], [-43.169627919704396, -22.951985758569155], [-43.16959810166429, -22.951962477545795], [-43.169565606099965, -22.951942597118673], [-43.16953360992577, -22.95192190972454], [-43.16950309853498, -22.951899432503893], [-43.16947199439553, -22.95187767266422], [-43.16945183630035, -22.951846736172293], [-43.169444806766286, -22.95181116787392], [-43.169454933557226, -22.95173976319556], [-43.16943874333502, -22.951674829276403], [-43.16940834019103, -22.95165163177127], [-43.16937534996849, -22.951632287416697], [-43.169336591415004, -22.95162849884451], [-43.16930099579894, -22.951643349132233], [-43.16926778283791, -22.95166229053699], [-43.16922877558362, -22.951662562689517], [-43.16919984825581, -22.951638388852366], [-43.169170230949995, -22.95161483916451], [-43.169138132066244, -22.951594331116794], [-43.16910583652104, -22.951574090797873], [-43.16907433624183, -22.951552867226802], [-43.16904293418755, -22.951531373875753], [-43.16901183044873, -22.951509523655112], [-43.1689825071414, -22.951485796723713], [-43.1689537785295, -22.951461354231473], [-43.16892455516733, -22.95143744783875], [-43.16889463963672, -22.951414255871452], [-43.168867689046486, -22.95138811723846], [-43.16880834549279, -22.95134173981086], [-43.16877555407053, -22.951322126726428], [-43.168746528188365, -22.951298041978443], [-43.168717009986814, -22.95127431275191], [-43.168686102575606, -22.951252373533727], [-43.16865470065434, -22.951230880113474], [-43.16862607086533, -22.95120634840545], [-43.16859724342793, -22.95118208531856], [-43.168566633653306, -22.951159697099293], [-43.16853731170421, -22.951135880708698], [-43.1685087806779, -22.951111258916146], [-43.168478963013676, -22.951087978607518], [-43.16844993820993, -22.951063893822447], [-43.16842051761757, -22.95104016476965], [-43.168389413119485, -22.95101831442807], [-43.16835860673295, -22.9509961948095], [-43.16832918517232, -22.950972467536047], [-43.1683013464099, -22.95094713037972], [-43.16827321004975, -22.9509222431015], [-43.16824289989788, -22.950899408577936], [-43.16821367678393, -22.950875502068484], [-43.1681854419867, -22.95085061363921], [-43.16815918140508, -22.950823940147366], [-43.1681300572236, -22.950799857773283], [-43.168102811763035, -22.950773985621897], [-43.16807950444169, -22.95074508956458], [-43.16805482296794, -22.950717082465157], [-43.16802984538932, -22.950689341947196], [-43.168005776139374, -22.950659173745162], [-43.16798620714555, -22.950627973889244], [-43.16797026973316, -22.950595009022575], [-43.16795658777691, -22.950561168986475], [-43.1679422187412, -22.950527592824056], [-43.167930884442434, -22.950493054773457], [-43.16791945263161, -22.95045851740188], [-43.16790665277048, -22.950424415740482], [-43.16789580837169, -22.950389703644497], [-43.16788692086496, -22.950354564445227], [-43.16787724089375, -22.95029855436614], [-43.16785900204824, -22.950277123455106], [-43.16784940144516, -22.950251637500735], [-43.16784231528897, -22.9502129964002], [-43.16783401617975, -22.9501776824871], [-43.16782415014846, -22.950142801083583], [-43.16782092939337, -22.950106825217624], [-43.16783794239915, -22.950074330367464], [-43.16787210962701, -22.950056845115057], [-43.16786820838558, -22.950020859582605], [-43.16784883570658, -22.94998957167902], [-43.16781414861296, -22.949973187416166], [-43.16778413585725, -22.94995008444203], [-43.16777123562754, -22.949915983418673], [-43.16774921027998, -22.949886107898152], [-43.16772718467632, -22.949856324480752], [-43.167701912403786, -22.94982876112136], [-43.16767219363337, -22.949805480919178], [-43.16763930282181, -22.949786047081673], [-43.16760829744111, -22.949764107447905], [-43.16757848219607, -22.949740825212], [-43.167547675240044, -22.94971870635135], [-43.167517956737846, -22.94969533762911], [-43.16748804282735, -22.94967214363736], [-43.167456641483845, -22.949650648205804], [-43.16742474266877, -22.94962996335693], [-43.16739640957161, -22.949605163068835], [-43.16736778130974, -22.9495806320798], [-43.1673377667802, -22.949557528105185], [-43.16730715755255, -22.949535141481242], [-43.16727704408144, -22.949512217861212], [-43.16724841489828, -22.949487685938863], [-43.167219885662654, -22.949462973658374], [-43.167191452688805, -22.949438354594268], [-43.16716351767516, -22.94941310735502], [-43.167134391836626, -22.949389110587852], [-43.16710417970688, -22.949366277003463], [-43.167073572511626, -22.949343890361735], [-43.16704365897335, -22.949320607800956], [-43.16701394068325, -22.949297236285688], [-43.16698362868175, -22.949274581228387], [-43.166954504842984, -22.94925058535716], [-43.16692745632741, -22.949224536504254], [-43.166899915254355, -22.949198933467976], [-43.16687168104028, -22.94917404483783], [-43.16684097011486, -22.949151836658455], [-43.166809868998286, -22.949130075477203], [-43.16678133870177, -22.949105453415335], [-43.1667498398467, -22.949084048836887], [-43.166719626876066, -22.949061215175693], [-43.1666906008762, -22.949037129185427], [-43.166660191242165, -22.949014564148708], [-43.16662819646378, -22.948993785031387], [-43.16659649780894, -22.948972739326013], [-43.16656727245902, -22.948948833422158], [-43.16653686386513, -22.948926266569657], [-43.16650506530316, -22.948905401200875], [-43.166475251644606, -22.948882029393804], [-43.16644424644642, -22.948860178049607], [-43.16641316818416, -22.948829207094132], [-43.16639300988045, -22.94880567598071], [-43.16636632866049, -22.948781255831644], [-43.16633324925981, -22.948754143839015], [-43.166305243205905, -22.94873404469778], [-43.166276220505296, -22.94870986927683], [-43.16621866649823, -22.948661161987964], [-43.166188948727154, -22.94863770093778], [-43.16616390129936, -22.9486151978081], [-43.16613080883434, -22.948588988652308], [-43.16610187415645, -22.948565449047546], [-43.16607462321422, -22.948539755320937], [-43.16604757915157, -22.94851361608102], [-43.16602062552403, -22.94848756818525], [-43.16599081058238, -22.948464376885653], [-43.16595970926087, -22.948442435846772], [-43.16592860529722, -22.948420763873546], [-43.165900866184735, -22.948395338995248], [-43.165872929665575, -22.948370092435162], [-43.16584360880283, -22.948346274705], [-43.165813701785666, -22.948322540494473], [-43.1657856629617, -22.948297652141903], [-43.16575585612161, -22.948273649074984], [-43.16572783043015, -22.94824786054783], [-43.16569886405081, -22.948226755068312], [-43.16567023443998, -22.94820222378477], [-43.16564189926992, -22.948177333788124], [-43.16561445880204, -22.94815182382159], [-43.165587211420636, -22.948125951261225], [-43.16555808929582, -22.94810186487354], [-43.16552787676044, -22.948079030106754], [-43.165498556021866, -22.948055212319932], [-43.165469927470774, -22.948030680112787], [-43.165438528737106, -22.948009187956615], [-43.16540742302048, -22.947987514966382], [-43.1653787945126, -22.947962981841695], [-43.165347395821684, -22.947941488766347], [-43.16531490310325, -22.947921515466494], [-43.16528260777517, -22.947901366547452], [-43.165249420427244, -22.94788229093568], [-43.16521702642238, -22.947862230262384], [-43.1651832385738, -22.94784423041989], [-43.16514735009071, -22.94783008928357], [-43.16511025787576, -22.94781873359582], [-43.16507264752341, -22.94780935856324], [-43.16503565404231, -22.947797912795142], [-43.164999163109215, -22.94778520949902], [-43.16496186179946, -22.94777475528793], [-43.16492332948369, -22.947768891356574], [-43.164884683359894, -22.947764019427975], [-43.16484570409083, -22.947762304226764], [-43.16480669581214, -22.94776266744621], [-43.16476778580532, -22.94776311848353], [-43.164728772680114, -22.947763841032017], [-43.1646898465728, -22.947765557906255], [-43.16465107695636, -22.947769985659374], [-43.16461222348898, -22.947773328801517], [-43.16457364373535, -22.94777821024528], [-43.16453505496444, -22.94778354308808], [-43.164496653134414, -22.947789690807824], [-43.16445815747741, -22.94779556562153], [-43.16442067742454, -22.94780551760081], [-43.164384326581505, -22.947818642325974], [-43.16434882780997, -22.94783358295475], [-43.16431428152424, -22.947850340649733], [-43.16428164095683, -22.9478700994738], [-43.16425043810945, -22.9478917730899], [-43.16421971517774, -22.94791408256556], [-43.16418995469382, -22.947937398308106], [-43.164158847370196, -22.947959072106933], [-43.16412659208994, -22.94797946747349], [-43.164091661613796, -22.947995499151997], [-43.164037174714856, -22.948015908992385], [-43.164018870803034, -22.948021115283645], [-43.16398046645424, -22.948027443449245], [-43.163941532476905, -22.948029521254174], [-43.16390254438807, -22.948028528135907], [-43.16386421559031, -22.948022033280544], [-43.163826092234046, -22.94801454927216], [-43.16378838738612, -22.94800517193976], [-43.16375936237668, -22.947980996964073], [-43.16373576446326, -22.94795227847718], [-43.16369846567777, -22.947941642492587], [-43.16366438044469, -22.94792409040594], [-43.16363268255462, -22.947903042345388], [-43.16360484404749, -22.947877798352465], [-43.16357205329208, -22.94785818337214], [-43.16353656592039, -22.947843234703562], [-43.16350228282767, -22.947826041503703], [-43.16347058497467, -22.947804994316495], [-43.16344017643791, -22.9477823375087], [-43.16340927192596, -22.94776030707072], [-43.163379358164214, -22.94773711506872], [-43.16334894843943, -22.94771454853365], [-43.16331824259619, -22.947692249472066], [-43.16328634616603, -22.947671470859152], [-43.16325335637072, -22.94765230592853], [-43.16321966999909, -22.947634036853813], [-43.16318827054706, -22.94761263276262], [-43.163158653253966, -22.947589081139125], [-43.16312972790101, -22.94756490630863], [-43.16309922075488, -22.947542339504306], [-43.16307611343642, -22.947513265400328], [-43.163059884831945, -22.94748038794419], [-43.16304414417551, -22.947447335532388], [-43.16304385187833, -22.94741121113151], [-43.16305650118132, -22.947377132955978], [-43.16306798571294, -22.947342589777605], [-43.16308509787334, -22.947310097521147], [-43.163099784944286, -22.947276675056642], [-43.1631176721223, -22.947244553883714], [-43.16313865606459, -22.94721409401466], [-43.16315934972018, -22.947183540478182], [-43.16317656028959, -22.947151050251623], [-43.16319648009913, -22.94712003623541], [-43.16324783208893, -22.947050285177166], [-43.163265352290225, -22.947052565006096], [-43.16327494295097, -22.947035517669782], [-43.16328296768846, -22.947004457111277], [-43.16329707243868, -22.946970755166557], [-43.16331117786355, -22.946937147142542], [-43.16333332184226, -22.946907423094093], [-43.16335527423122, -22.946877517121507], [-43.163368507132006, -22.946843535068915], [-43.16338784680861, -22.946812151289528], [-43.163403892242194, -22.946779288137023], [-43.16342545610841, -22.946749196145813], [-43.163450112843535, -22.946721125713253], [-43.16347042099574, -22.94669029856177], [-43.163487919297324, -22.94665807982217], [-43.163507838945904, -22.946627066658603], [-43.16352543590168, -22.94659476146242], [-43.16354428949256, -22.946563193232574], [-43.163559558873196, -22.94652995715592], [-43.163577059275696, -22.946497651737527], [-43.1635963978516, -22.946466269719572], [-43.16361554364435, -22.946434794261275], [-43.163636625550176, -22.946404426650535], [-43.163657609249725, -22.946373965790887], [-43.16367772356264, -22.94634304425376], [-43.16369696679532, -22.946311570814277], [-43.163718337731815, -22.94628138623823], [-43.163737096897165, -22.946249727486993], [-43.16375265547949, -22.94621658593953], [-43.16376908829232, -22.946183906022693], [-43.16378057349801, -22.946149362780762], [-43.163789238079744, -22.94611415476942], [-43.16379381858732, -22.94607826646119], [-43.16379596039149, -22.946042169318375], [-43.163801125537994, -22.94600638169154], [-43.16380122202106, -22.945970259969823], [-43.16380102797265, -22.945934135788], [-43.16379761333708, -22.945898156737833], [-43.163787651098424, -22.945863274024017], [-43.163775926964185, -22.945828824233942], [-43.1637650858567, -22.945794112853896], [-43.16375854549347, -22.94575854823098], [-43.163733176088606, -22.94573107168117], [-43.16371851388383, -22.94569758210888], [-43.163701007219416, -22.94566541234108], [-43.16368222712265, -22.945633678440313], [-43.16366158009282, -22.94560300836291], [-43.16364613412933, -22.94556986911653], [-43.16363392019298, -22.945535592447126], [-43.163616906849796, -22.945503068075123], [-43.16359881188525, -22.945471072092737], [-43.16357934428296, -22.945439782638843], [-43.16355958081003, -22.945408670362873], [-43.163536377214186, -22.94537959431551], [-43.16351356599692, -22.945350344008645], [-43.163492329273105, -22.94532002558689], [-43.16347236961532, -22.945289003139006], [-43.16345348992463, -22.94525735926798], [-43.16343323639157, -22.945226511309727], [-43.16341484757458, -22.9451946925127], [-43.163384933148734, -22.945171589023886], [-43.163363401539286, -22.945141450487405], [-43.16334736734937, -22.945108485011616], [-43.16332829128278, -22.94507701855642], [-43.16331000120415, -22.945045111492703], [-43.163285025860496, -22.94501727913605], [-43.16325916189115, -22.944990341318825], [-43.163241361988824, -22.944958167210054], [-43.16322414943976, -22.944925821101247], [-43.163208313464196, -22.944892766703177], [-43.163192180642554, -22.944859889471836], [-43.163178498169856, -22.944826140294758], [-43.16316521226323, -22.94479212299475], [-43.16314338391752, -22.944762160699106], [-43.16312067161434, -22.944732819380338], [-43.16308055647697, -22.944670859728898], [-43.16306000819404, -22.944640189825154], [-43.163038670993366, -22.944609962296617], [-43.16301655048059, -22.94458026751045], [-43.16299403590443, -22.944550656654908], [-43.16297456660069, -22.94451936802121], [-43.16295441074211, -22.944488522947918], [-43.16293189594974, -22.94445900238482], [-43.162912426672385, -22.944427713744947], [-43.16289462763719, -22.944395630819084], [-43.16287506090065, -22.944364340143675], [-43.16285480760987, -22.94433349302826], [-43.16283504445117, -22.944302380679076], [-43.162811741507, -22.9442733936923], [-43.16278656994929, -22.944245740503433], [-43.16276287317084, -22.944217110159578], [-43.16273947053744, -22.9441882150206], [-43.1627163657653, -22.944159140917115], [-43.162693556125085, -22.944129801127165], [-43.162668972496604, -22.94410179171474], [-43.16264537543689, -22.94407307311089], [-43.16262256583801, -22.94404373240946], [-43.16259709605669, -22.944016436047267], [-43.162573005979276, -22.943987982631402], [-43.16255088590829, -22.943958197491504], [-43.1625284677756, -22.943928679804262], [-43.162504081581766, -22.943900495663158], [-43.16247831891017, -22.94387337559374], [-43.16245116946267, -22.94384750459632], [-43.162422645170146, -22.943822793408838], [-43.162394807718215, -22.943797546551284], [-43.162368451103205, -22.943770873807868], [-43.162341700424896, -22.943744646202536], [-43.162313468163426, -22.94371975687199], [-43.16228573066711, -22.943694331452978], [-43.16225769584055, -22.943669263795456], [-43.1622266937026, -22.943647323251263], [-43.162195096942256, -22.94362609462131], [-43.1621659751371, -22.943602098890416], [-43.16213784164486, -22.943577120373142], [-43.162108224155034, -22.94355365889938], [-43.162076230107346, -22.94353297197543], [-43.16204700964861, -22.9435090644812], [-43.162018580076484, -22.94348435342209], [-43.16198856877445, -22.94346124857549], [-43.16195667351112, -22.943440469762184], [-43.16192358519901, -22.94342139557738], [-43.16189020079959, -22.9434025870571], [-43.16185741109162, -22.94338306300039], [-43.16182302646901, -22.943366048928425], [-43.16178734451218, -22.943351457985667], [-43.161751256284745, -22.94333785475255], [-43.1617145660401, -22.94332551057724], [-43.16167837983854, -22.94331208770106], [-43.161640570908496, -22.94330316113951], [-43.16160224356269, -22.94329666673001], [-43.161564326679645, -22.94328837011443], [-43.16152662647148, -22.94327890297116], [-43.161488710059814, -22.943270788754525], [-43.16144996036121, -22.94326654517153], [-43.16130944331698, -22.94326049271761], [-43.161284682975975, -22.943260026040804], [-43.16124609957679, -22.94326526790637], [-43.16116809991561, -22.943265086258354], [-43.16112917536672, -22.943266712040316], [-43.1610903246384, -22.943269873811076], [-43.16105148195947, -22.943272584152947], [-43.16101254521972, -22.943275111886827], [-43.1609345316366, -22.943276104797764], [-43.160895524977796, -22.943276375032557], [-43.160856589206354, -22.943278542432118], [-43.16081775311012, -22.9432809818851], [-43.16077874596096, -22.94328143269038], [-43.16073981579918, -22.943283329218605], [-43.16070114198394, -22.943288117486205], [-43.16066228757407, -22.943291550918943], [-43.16062388472851, -22.94329778805201], [-43.16058538707921, -22.943303753168884], [-43.16054662957774, -22.943300233501468], [-43.16050799178104, -22.943294999465326], [-43.16046923355625, -22.94329138946834], [-43.1604302142039, -22.943292743070952], [-43.16039236672389, -22.94330124505233], [-43.16035516921085, -22.943312010317555], [-43.160316855269514, -22.943318882329507], [-43.16027863372056, -22.94332620420675], [-43.160240600064604, -22.94333397976591], [-43.16020210579927, -22.943339765125476], [-43.160163701718744, -22.94334609153023], [-43.16012575574955, -22.943354592303965], [-43.160087719896126, -22.943362457199473], [-43.16004922806058, -22.94336806194432], [-43.160010555405904, -22.943372761557725], [-43.159972056027975, -22.94337863529738], [-43.15992836633906, -22.943386617891655], [-43.15985451203303, -22.94339713936546], [-43.1598507301243, -22.943373978066354], [-43.159833047305156, -22.943376482031674], [-43.15983728221505, -22.943402267357097], [-43.15981930668376, -22.94340485822783], [-43.15976357300318, -22.943409268674543], [-43.159701983983446, -22.943414061787603], [-43.15966322310869, -22.943417857266883], [-43.15962437061653, -22.943421289560852], [-43.15958552520363, -22.943424270415033], [-43.15954666905789, -22.943427972651715], [-43.15951108374205, -22.943434875217076], [-43.15946986785083, -22.94344017640538], [-43.159431552893935, -22.943447046380964], [-43.15939388710112, -22.94345645415346], [-43.15935512941897, -22.943460156581743], [-43.15931627497506, -22.943463587873406], [-43.15927796707586, -22.943470007283743], [-43.15924011242506, -22.943478959509164], [-43.159201712904455, -22.943485015724736], [-43.159163488085106, -22.943492428494604], [-43.15912685434471, -22.943504826351965], [-43.159090506965406, -22.943517678132647], [-43.15905481778449, -22.94353225509491], [-43.15901932064725, -22.94354719458402], [-43.15898543829497, -22.943565222183768], [-43.15895270404258, -22.94358479824084], [-43.15892303998788, -22.943608205332175], [-43.158890879388416, -22.943628691960033], [-43.158856332664996, -22.943645447585688], [-43.15883520229747, -22.94365053109907], [-43.15881857102666, -22.943654582293462], [-43.158780170469946, -22.943660638391037], [-43.158742693462344, -22.943670498803087], [-43.158703841619435, -22.943674021176054], [-43.158664844422965, -22.943673657945094], [-43.15862584573432, -22.94367347709812], [-43.158586977534846, -22.943670858687824], [-43.15854823248343, -22.943666345346724], [-43.15850980287826, -22.94366020931139], [-43.15847147369026, -22.94365371412593], [-43.15843314646959, -22.94364685774456], [-43.15839481874603, -22.943640543162772], [-43.1583562884986, -22.943634496225048], [-43.1583185803934, -22.94362548155192], [-43.15828087159052, -22.943616374753525], [-43.15824317184028, -22.94360681563644], [-43.15820596955838, -22.94359608925784], [-43.158169682293014, -22.943583025631565], [-43.15813530253765, -22.94356583023321], [-43.15810320827024, -22.94354532017424], [-43.15806982198675, -22.94352669145867], [-43.15803534110552, -22.94350976577303], [-43.15800056043811, -22.94349337841391], [-43.15796477358678, -22.943479149331246], [-43.15792888934166, -22.9434649127888], [-43.15789260237691, -22.943451759706274], [-43.15785702007918, -22.943436899052763], [-43.15782423005512, -22.94341737238212], [-43.15779451564406, -22.94339400112603], [-43.1577660881472, -22.943369199067735], [-43.15774002749356, -22.94334234753491], [-43.15771396879989, -22.94331549602103], [-43.157688401714545, -22.943288198700362], [-43.157663522186695, -22.943260457848712], [-43.157643369970465, -22.943229520103458], [-43.157642005699536, -22.94319338330353], [-43.15764551625133, -22.943157484623146], [-43.15765505806043, -22.943122467802162], [-43.15766596101559, -22.943087737694267], [-43.157676084328045, -22.943052907325892], [-43.157683293506345, -22.94301741280453], [-43.15768504978082, -22.942981312241834], [-43.157679390933396, -22.94294557708082], [-43.15767148499946, -22.942910177034168], [-43.15767246332805, -22.94287406743714], [-43.15767343675658, -22.94283795958908], [-43.157674219158544, -22.94280184591039], [-43.15766650821737, -22.942766447224805], [-43.157660262224844, -22.94273079825605], [-43.15765479938673, -22.942695061758158], [-43.15766902682658, -22.942695498788886], [-43.157694823956824, -22.942691463847602], [-43.15769710858205, -22.94270268787541], [-43.157707667465054, -22.942700643233447], [-43.157694788762655, -22.942629245086255], [-43.15765912445724, -22.942634790886125], [-43.157650009282726, -22.942609490664278], [-43.15765587564864, -22.94257235329841], [-43.15766661162387, -22.9425426790842], [-43.15767741995638, -22.94250794787179], [-43.15765500121131, -22.942478428649217], [-43.157625683082856, -22.94245461046146], [-43.15761131739831, -22.942421031745738], [-43.1576015531584, -22.942386060724512], [-43.15758973312477, -22.94235169975148], [-43.15757448520246, -22.942318471094108], [-43.15756296105948, -22.94228393295093], [-43.157556616694535, -22.94224827922425], [-43.157549201424025, -22.94221279456839], [-43.157536304138986, -22.942178785000404], [-43.157533478366574, -22.942142717914674], [-43.15753659725109, -22.942106724381542], [-43.15754380642087, -22.942071228055845], [-43.15755198604241, -22.942035924507394], [-43.15755860954587, -22.942000331979465], [-43.15756698608018, -22.941965030716304], [-43.157583807487306, -22.94193244629253], [-43.15760053043707, -22.94189985981999], [-43.157620549054, -22.94186884856386], [-43.15764056669884, -22.941837836390267], [-43.157660195871614, -22.94180663819459], [-43.15768214829277, -22.941776823316374], [-43.1577062251266, -22.94174838673663], [-43.15772953134481, -22.94171939938973], [-43.157754573240936, -22.941691696426957], [-43.15777729941137, -22.941662341126737], [-43.15779489572618, -22.941630126882337], [-43.157809972038216, -22.941596801551654], [-43.157821456088705, -22.941562346363945], [-43.1578316779148, -22.941527427715926], [-43.15783674494333, -22.941491637394623], [-43.15783840460352, -22.941455536602014], [-43.15783840313954, -22.94141941381248], [-43.157833918262085, -22.941383601980746], [-43.157824545171366, -22.941348546112412], [-43.15781076811373, -22.941314703341643], [-43.157796009118954, -22.941281300680306], [-43.15777673962599, -22.94124992259979], [-43.15775225746135, -22.94122173397354], [-43.1577244223847, -22.941196488196297], [-43.157695004584454, -22.941172848576496], [-43.15766082314629, -22.94115538450192], [-43.157627039253285, -22.94113729201696], [-43.15759135642283, -22.94112270107364], [-43.1575555724601, -22.941108378952453], [-43.157520890455665, -22.94109181025441], [-43.157486604713014, -22.941074707948758], [-43.157451824473746, -22.9410584108089], [-43.15741694358552, -22.94104220279531], [-43.157383657925834, -22.94102339453157], [-43.15735256047105, -22.941001541393614], [-43.1573231430401, -22.940977810508816], [-43.15729194151602, -22.940956227961475], [-43.15726163425125, -22.940933480960723], [-43.15722785118561, -22.94091547961101], [-43.15719446467934, -22.9408968507438], [-43.15716415867958, -22.9408740125351], [-43.15713137128104, -22.94085448759032], [-43.15709578851475, -22.940839717099237], [-43.15706070786762, -22.940823867901344], [-43.15702642325469, -22.94080676370938], [-43.15699084272345, -22.940791902016457], [-43.15695415245317, -22.940779646194002], [-43.156916240255065, -22.94077144067915], [-43.15687925021783, -22.94075972226896], [-43.156844165963385, -22.94074414298766], [-43.15680888450023, -22.940728655322406], [-43.15677249530634, -22.940715769034572], [-43.15673611076329, -22.94070261188562], [-43.15670102772807, -22.940686944995026], [-43.15666754459764, -22.940668405202956], [-43.15663505614389, -22.940648341820413], [-43.15660137123291, -22.94063015997739], [-43.1565697758282, -22.940609022426855], [-43.156537881111866, -22.940588244408325], [-43.156502599268244, -22.940572934569904], [-43.1564701108509, -22.940552872059275], [-43.15643791762985, -22.94053253935637], [-43.15640413354682, -22.940514629034933], [-43.15637174510233, -22.940494386159436], [-43.15633925429022, -22.94047450329773], [-43.156304873614836, -22.940457306636844], [-43.15627009296252, -22.940440918945278], [-43.15623500885531, -22.940425340441394], [-43.15620112759112, -22.940407338647613], [-43.1561679429378, -22.94038844011284], [-43.156134655661916, -22.940369632487375], [-43.15610196774847, -22.94034983759193], [-43.15607007389493, -22.940329149798096], [-43.15603907239297, -22.94030729482649], [-43.15600628359055, -22.94028768024793], [-43.1559731972135, -22.94026851281328], [-43.1559410070263, -22.940248182760634], [-43.15591050249075, -22.940225704134424], [-43.15587920391495, -22.940204118394174], [-43.15584562231528, -22.9401856675976], [-43.155813032938056, -22.940165874695108], [-43.155780243980196, -22.94014634856752], [-43.15574745818075, -22.940126733974022], [-43.15571556347367, -22.940106045201034], [-43.155686838714814, -22.940081599668513], [-43.1556615706943, -22.94005403463445], [-43.155636300448805, -22.940026562582375], [-43.15560846534361, -22.940001222549324], [-43.15558131993429, -22.939975352327465], [-43.15555309168095, -22.939950461936178], [-43.15552367479045, -22.939926731652736], [-43.15549465371829, -22.939902644756465], [-43.155471747675044, -22.93987339140965], [-43.155456403020594, -22.93984016236018], [-43.155435366109536, -22.93980975500211], [-43.155409798866756, -22.939782549469232], [-43.15538147027537, -22.939757657884137], [-43.15535066763327, -22.93973553600029], [-43.155317185181765, -22.939716905648815], [-43.155283601335114, -22.93969863532117], [-43.155249017937194, -22.939681889408085], [-43.155212130969964, -22.93967008152684], [-43.1551762668967, -22.939661717922746], [-43.1551751098071, -22.939660621743865], [-43.15513614735661, -22.93965800055178], [-43.15509771442821, -22.93965213552626], [-43.15505970203911, -22.939644017823248], [-43.15502084122765, -22.9396409480794], [-43.15498197850567, -22.939637875594855], [-43.15494386350004, -22.939630208182983], [-43.15490757617016, -22.939616964174725], [-43.15487777988861, -22.93960713683023], [-43.154845526963534, -22.939598362733083], [-43.154812933079405, -22.93959337916819], [-43.15478165919932, -22.939591570626447], [-43.15474977053722, -22.939592102789145], [-43.15469142268146, -22.9395880830094], [-43.15463618668569, -22.93957028134018], [-43.154587155319454, -22.93954063462126], [-43.15453643197654, -22.939513676374915], [-43.15448109266615, -22.939496235564796], [-43.15443963065003, -22.939483744887337], [-43.1544254530491, -22.939479515467482], [-43.15439035658109, -22.93943612332159], [-43.154354176801576, -22.939393530385214], [-43.15430950710762, -22.93935860648657], [-43.15426612433386, -22.93932225180707], [-43.15422066550567, -22.939288220825723], [-43.15420978511362, -22.939234906191654], [-43.15416323489894, -22.939202127634832], [-43.15411668473161, -22.939169347259927], [-43.15408993969363, -22.939121178598416], [-43.154073387934915, -22.939069149802666], [-43.154117849902285, -22.939054676884602], [-43.15407713290218, -22.939015734405974], [-43.154024413399654, -22.938992274576673], [-43.15398508101422, -22.938952176061633], [-43.153940513503194, -22.938917068139194], [-43.153885276404566, -22.938899088318358], [-43.1538380346997, -22.938867202846488], [-43.15378999671424, -22.938836304130668], [-43.15374146182111, -22.93880602902634], [-43.153685821115886, -22.938789489279923], [-43.153638674557506, -22.938757424255336], [-43.153600131073475, -22.938716610609145], [-43.153551497284695, -22.93868651671058], [-43.15349897595102, -22.938662696008187], [-43.15344996314716, -22.938689217204566], [-43.15339162187618, -22.938684745533763], [-43.153430266193894, -22.938725379795887], [-43.1534338207594, -22.938779513136563], [-43.15341295199597, -22.938830109549613], [-43.15335982782287, -22.938807458422673], [-43.153307609183784, -22.93878310117171], [-43.153252847493086, -22.93880224000479], [-43.15325006531585, -22.938856388087505], [-43.15325459807193, -22.938910352208463], [-43.153239091497966, -22.938917847418498], [-43.153183854746636, -22.93890013736593], [-43.15313083372443, -22.93887721465073], [-43.15307931293338, -22.93885151181727], [-43.1530278908839, -22.938825718912135], [-43.15297507100138, -22.938802347880628], [-43.15291663660272, -22.938804737018483], [-43.1528581997285, -22.93880730851642], [-43.152800100624134, -22.938813584511763], [-43.15274997508277, -22.938785730564767], [-43.15269855337835, -22.938759847259004], [-43.15264352252008, -22.93874141700402], [-43.15258737085198, -22.93872640426356], [-43.15253354878221, -22.938705189579153], [-43.15248471566398, -22.938675362145787], [-43.15243119516381, -22.938653338219595], [-43.152375958643866, -22.93863562789895], [-43.1523182607209, -22.9386266482151], [-43.15225978601502, -22.938624973946734], [-43.15220128607357, -22.93862501510562], [-43.15214287137184, -22.938625959355008], [-43.15208450756131, -22.93863033656367], [-43.15202731907155, -22.938641501913214], [-43.151969670174665, -22.938650671617864], [-43.15191822860513, -22.93867653192087], [-43.15185987555443, -22.938680186752674], [-43.15180139521642, -22.938678783155307], [-43.15174289282475, -22.93867900381659], [-43.151689266734344, -22.938700592585093], [-43.15166558475406, -22.938750165347884], [-43.15164355069563, -22.93880029731027], [-43.15161667013398, -22.93884847646287], [-43.15158233992398, -22.938892327328688], [-43.15154791129406, -22.93893617252397], [-43.15152112940377, -22.938984260697616], [-43.15153787343976, -22.93903620074236], [-43.15157031544466, -22.939081278285908], [-43.151607382140796, -22.93912324821889], [-43.151654030581504, -22.939155850741326], [-43.15169998542036, -22.93918934458145], [-43.15174643380788, -22.939222394453473], [-43.1518002583606, -22.939243430638925], [-43.15185468328307, -22.939263479572606], [-43.15190700906552, -22.939287477336105], [-43.15195733174765, -22.93931524444584], [-43.151994496602306, -22.939357035738862], [-43.15204871880643, -22.93937744345741], [-43.152105279485255, -22.93939128542742], [-43.15215427152828, -22.939438000450345], [-43.15218919968969, -22.939443464154373], [-43.152267774699006, -22.939437063838945], [-43.15232466063608, -22.93943384510651], [-43.15236992392128, -22.93943211464357], [-43.15240560214395, -22.939432530109038], [-43.1524212747795, -22.939434428353717], [-43.15241571761584, -22.93944158782227], [-43.152398664687, -22.93944807070946], [-43.152373180556175, -22.939457887802707], [-43.15231707731139, -22.939468161047504], [-43.15226034771779, -22.939481407854604], [-43.152209952968974, -22.939508995266337], [-43.15215154325088, -22.939509759855042], [-43.152094440865525, -22.939521737124977], [-43.15204319026536, -22.939547870580448], [-43.152007797534175, -22.939590982224747], [-43.15196815762007, -22.939630796219593], [-43.15194031143295, -22.93967842326247], [-43.15193491338387, -22.939724053312734], [-43.15189935136937, -22.939779625565517], [-43.15188415344969, -22.93982189148619], [-43.15183664444356, -22.939809418195484], [-43.15177834815836, -22.939801605250235], [-43.151720863598804, -22.939791456591266], [-43.151685567235745, -22.93983456747007], [-43.151736491869826, -22.939861168643265], [-43.151732637922095, -22.939915214774963], [-43.15173190224737, -22.93996938753349], [-43.15168217781804, -22.93999806619556], [-43.15163948330264, -22.94002601311477], [-43.15159933744443, -22.940017057916094], [-43.151546415617744, -22.94000118029533], [-43.15148206356966, -22.940015691632784], [-43.151422104055584, -22.940051294534413], [-43.15137675874455, -22.940080655329286], [-43.15133957377532, -22.940119232616887], [-43.151304311621594, -22.940152775375946], [-43.151274252753716, -22.940205072212883], [-43.151238734971514, -22.94025721513123], [-43.151201667889424, -22.94028739474782], [-43.15117552285232, -22.94032438579553], [-43.151158748662176, -22.94034622406284], [-43.151132764291475, -22.940371386484536], [-43.151112535414605, -22.940374582237734], [-43.151092454530975, -22.94037434822981], [-43.151067648235916, -22.94041334060273], [-43.15104076614061, -22.94046151960293], [-43.1510206733668, -22.940512396482386], [-43.15107570467276, -22.940530826426215], [-43.151102801383644, -22.94056022220823], [-43.1511565214265, -22.940538812677275], [-43.15121461788818, -22.94053271700005], [-43.1512053352027, -22.940584442288685], [-43.151169362149176, -22.94062709724468], [-43.15118336781034, -22.940679726022136], [-43.15124044111548, -22.940691677950788], [-43.15121765410195, -22.940703965330115], [-43.1512240322953, -22.94071532652349], [-43.15128204627748, -22.94072241398421], [-43.15129918473872, -22.940774177139133], [-43.15130605982922, -22.940827985245964], [-43.151357480011896, -22.940853870813715], [-43.151421808030086, -22.940862836937626], [-43.15141979171628, -22.94087482453942], [-43.151355137819984, -22.940897098272426], [-43.15132264204725, -22.940942231935793], [-43.1513324478145, -22.940995624485087], [-43.15137637863182, -22.941020247951563], [-43.15143120786678, -22.941039217243148], [-43.15147904951672, -22.94107029770539], [-43.151535196364065, -22.94108558082745], [-43.151573742008615, -22.941126304690826], [-43.15159734630002, -22.94117588469264], [-43.15163904830797, -22.94121393624926], [-43.15166637940641, -22.94126184391875], [-43.151712533521064, -22.94129507281268], [-43.15176256175924, -22.941323103880045], [-43.15181079647204, -22.94135382852373], [-43.1518463870551, -22.941396775458983], [-43.15188148215212, -22.941440168126476], [-43.15190861913095, -22.94148816380092], [-43.151944010417616, -22.941531288097], [-43.15195889943682, -22.941583657107763], [-43.15192717865477, -22.941629161129764], [-43.1519198198457, -22.941682895523293], [-43.15196428894425, -22.941718092276652], [-43.15202146199459, -22.941729773301844], [-43.15208117630664, -22.941740852694192], [-43.15212888431072, -22.94176019123201], [-43.152176451046074, -22.941790006779364], [-43.1522147987287, -22.941830905191207], [-43.15226522573455, -22.941858313158264], [-43.15231985409376, -22.94187782163907], [-43.15237539292782, -22.94189490344825], [-43.15243382891563, -22.941892423395867], [-43.15248924617431, -22.94187537041376], [-43.1525381769001, -22.941905199033283], [-43.152595458609895, -22.94191606840325], [-43.15265369269363, -22.94192135191049], [-43.15271045656687, -22.941934385172516], [-43.15276859100423, -22.941939755974115], [-43.15282525128558, -22.941953239500986], [-43.15288048893965, -22.94197104004923], [-43.15293829120608, -22.941979479004445], [-43.15299657026374, -22.941974196646445], [-43.15305427038044, -22.941982907083347], [-43.1531107281655, -22.941997018462825], [-43.15316759106327, -22.942009873919325], [-43.15322497577199, -22.942020202452117], [-43.1532823572404, -22.942030986050206], [-43.153338811924506, -22.942045185810763], [-43.153394979739716, -22.942059114918138], [-43.153452240041666, -22.94207142947517], [-43.153510702297844, -22.942074277167478], [-43.153568712919956, -22.94206736693818], [-43.15362252923804, -22.94204614011683], [-43.15368027188637, -22.9420374206818], [-43.15373588039203, -22.94202063948812], [-43.1537848262909, -22.941998994721494], [-43.15383438203179, -22.941997223534386], [-43.15388161627796, -22.941965264359762], [-43.15393880778475, -22.94195382934623], [-43.15399582020832, -22.941941579507297], [-43.15405291886147, -22.941929872464254], [-43.1541104767691, -22.941920247695883], [-43.154167298131455, -22.941907633458495], [-43.154212133336515, -22.941872756594368], [-43.15422250843037, -22.9418194183486], [-43.154280688170644, -22.941814407069206], [-43.15433673382437, -22.941829868657777], [-43.154395010579364, -22.941825037263595], [-43.154442652392724, -22.94185647576373], [-43.15448504667043, -22.941893812256875], [-43.15454351253754, -22.94189639140934], [-43.15457369348801, -22.94194288424], [-43.154569547107286, -22.941996927083718], [-43.154567838600535, -22.942051088586656], [-43.15456847002087, -22.942105186102108], [-43.154569781632105, -22.942159382734626], [-43.154578122749214, -22.942213030824718], [-43.15459438258618, -22.942265052572413], [-43.154617105892264, -22.942314984052132], [-43.154650040056595, -22.94235970465759], [-43.15469016297128, -22.942399181940438], [-43.15472673722054, -22.94244150761238], [-43.15477776753071, -22.942467479706558], [-43.154809959738714, -22.94248789943206], [-43.15484695397834, -22.94249925446934], [-43.15488580944898, -22.94250277755382], [-43.154924793037296, -22.942504042755285], [-43.15496312068384, -22.94251053965839], [-43.154998201434644, -22.942526392038214], [-43.15501973075859, -22.942556529766744], [-43.155045888450424, -22.942583291635795], [-43.15507510835663, -22.942607201244023], [-43.155098505105336, -22.942636099156417], [-43.155116207225085, -22.94266827202923], [-43.15510812246724, -22.94270357651668], [-43.15510305244678, -22.94273945787548], [-43.15510753955376, -22.94277526886585], [-43.15512926606163, -22.942805322184885], [-43.15515601608507, -22.94283154911298], [-43.155185333798094, -22.942855369539185], [-43.15521633451258, -22.9428773122794], [-43.15524604731393, -22.942900687584046], [-43.15527289612622, -22.942926822631705], [-43.15528892709282, -22.94295978968007], [-43.155310948552994, -22.94298966760839], [-43.15534165322293, -22.943011875082007], [-43.15537384294686, -22.943032206177946], [-43.15540415199798, -22.943055044768688], [-43.15543535270007, -22.943076625876863], [-43.1554648669622, -22.943100267936742], [-43.15549497692187, -22.943123194499087], [-43.15552627730349, -22.943144689156473], [-43.155557970588546, -22.94316582716689], [-43.155586993287784, -22.94318991500253], [-43.15561799538116, -22.943211766481564], [-43.15564800665688, -22.943234783978305], [-43.15568029887968, -22.94325511349929], [-43.15571139651639, -22.943276967878287], [-43.15574378989281, -22.9432970294623], [-43.155779472295634, -22.943311532336846], [-43.155816059748624, -22.94332414847284], [-43.15585428261709, -22.94333127516963], [-43.1558926056732, -22.943338132115034], [-43.15593072271099, -22.94334580208665], [-43.1559026904043, -22.943370936978493], [-43.155927271476344, -22.943398946428967], [-43.155959064559426, -22.943419996125776], [-43.15596823859085, -22.94343373751164], [-43.155979612007066, -22.943450665043613], [-43.15598595497439, -22.943486321502323], [-43.1559837120575, -22.943522323351612], [-43.15597825445594, -22.943558110841387], [-43.155968808447504, -22.943593218950838], [-43.15595742125137, -22.943627672378813], [-43.15594651781509, -22.94366240233573], [-43.1559360043222, -22.9436971368242], [-43.15592821095571, -22.943732533240958], [-43.15591964178417, -22.94376783394862], [-43.15591039096584, -22.943802854018767], [-43.15590045992809, -22.943837775878535], [-43.15589004267064, -22.9438726017829], [-43.15588011064644, -22.943907523629104], [-43.15587047179312, -22.943942540087605], [-43.15586229061455, -22.943977843494036], [-43.15585683297846, -22.944013629168662], [-43.15584952672, -22.94404912425209], [-43.15583571082123, -22.944082917316496], [-43.15582141115981, -22.944116432945496], [-43.15581099284415, -22.944151261538124], [-43.1558036875876, -22.944186753017412], [-43.15579395120193, -22.9442217683342], [-43.15578460184936, -22.944256787246342], [-43.15577729655377, -22.94429228052889], [-43.155769019785374, -22.94432758281543], [-43.15575889075085, -22.944362503261488], [-43.15574935057406, -22.944397427843203], [-43.1557342723856, -22.944430756513874], [-43.15572162137319, -22.944464924315074], [-43.15571013433943, -22.94449946685624], [-43.155702442216175, -22.94453486623616], [-43.15570107434287, -22.944570971256788], [-43.15570087729941, -22.944607089889224], [-43.15570058179216, -22.94464320737677], [-43.1557002882338, -22.94467932488681], [-43.155698920355555, -22.944715429906676], [-43.1556919074441, -22.944750928386256], [-43.15568936970352, -22.944787019804707], [-43.1556864442068, -22.944823016412496], [-43.155676125264044, -22.94485784343498], [-43.155661337301275, -22.94489126306073], [-43.15564626318866, -22.944924500559143], [-43.15563399961702, -22.944958852553906], [-43.155626303502906, -22.94499425458852], [-43.15562337899254, -22.945030248495563], [-43.15561928263312, -22.945066231486756], [-43.15561460572575, -22.945102028026174], [-43.1556109002767, -22.945138016464625], [-43.15561099566233, -22.94517413849329], [-43.155612553635436, -22.9452101863216], [-43.15561303798693, -22.945246313775424], [-43.15561264787823, -22.945282430158965], [-43.15560923489798, -22.945318421093802], [-43.15559755498161, -22.94535287017017], [-43.15558373788995, -22.94538666318329], [-43.15556778901863, -22.945419617784687], [-43.15555290660677, -22.945452948702123], [-43.15554278132382, -22.945487868263065], [-43.155534696451824, -22.945523172756655], [-43.155527195046446, -22.94555866373524], [-43.155519887614574, -22.945594158774583], [-43.15551131845826, -22.94562936733262], [-43.15549750225059, -22.945663163053883], [-43.155471975891956, -22.945690405729955], [-43.15544278996268, -22.945714356771575], [-43.15542713102005, -22.94574749623259], [-43.15541797711891, -22.94578260948745], [-43.15540911571576, -22.945817723433528], [-43.155400641802714, -22.945853023392203], [-43.155393044048736, -22.945888424743647], [-43.15538583602127, -22.945923919122528], [-43.15537920875007, -22.945959512362382], [-43.15537200070163, -22.945995007642736], [-43.1553606118739, -22.946029552185923], [-43.15534805686784, -22.9460638104538], [-43.15533686204258, -22.94609835634737], [-43.15532770813699, -22.94613346598097], [-43.15531865166619, -22.94616858035878], [-43.15531796801573, -22.946204693319924], [-43.1553234313407, -22.946240425349462], [-43.15532742960775, -22.946276413054637], [-43.15532976739754, -22.946312470849374], [-43.15532947175365, -22.94634858832219], [-43.15532265362122, -22.946384088131257], [-43.15530825383898, -22.94641769462951], [-43.15529618498705, -22.946452049747997], [-43.155285376643654, -22.946486780733025], [-43.15527389441543, -22.946521232973197], [-43.15526289205569, -22.94655596169955], [-43.155254809001825, -22.946591264382416], [-43.15525120086487, -22.946627254833846], [-43.15525051522294, -22.946663368671604], [-43.155248075042536, -22.946699369996303], [-43.15523843673952, -22.946734387295415], [-43.15522530134728, -22.946768366986166], [-43.15520828495297, -22.946800858509498], [-43.1551861371043, -22.94683067158573], [-43.15516834568433, -22.946862791977942], [-43.15515026298639, -22.946894820483735], [-43.15513053229787, -22.946925924991344], [-43.15510722846549, -22.94695491279218], [-43.155085081804636, -22.94698463465977], [-43.15506825908986, -22.947017219621944], [-43.15505104789359, -22.94704961855582], [-43.15503306358102, -22.94708164999509], [-43.15501381956146, -22.94711302924587], [-43.15498993271667, -22.947141648132558], [-43.15496382807153, -22.947168436076424], [-43.15493310513732, -22.947190654280718], [-43.15489950892469, -22.94720904636188], [-43.154868593440455, -22.947231081708278], [-43.15483998244271, -22.947255672317766], [-43.15481938424053, -22.94728631517622], [-43.154797720236985, -22.947316315323587], [-43.15476422216659, -22.94733480062311], [-43.154725358506674, -22.9473316367446], [-43.15469157330564, -22.947313635678068], [-43.154653965945926, -22.947304258251716], [-43.15461519755842, -22.94730859234726], [-43.15457884755041, -22.947321534184645], [-43.154505738685636, -22.94734154433401], [-43.154466811786016, -22.94734325868636], [-43.15442831282145, -22.947349222213145], [-43.15438171138469, -22.94736321955967], [-43.154343220248535, -22.947368821044385], [-43.154304994895455, -22.947375961653123], [-43.15426939997999, -22.947390811258828], [-43.154246674025856, -22.947420163238462], [-43.15421193499102, -22.947436464916], [-43.15417776691367, -22.947453947158365], [-43.15414217225225, -22.9474687037252], [-43.15410809847387, -22.94748627735112], [-43.154087209067896, -22.94751673701268], [-43.15405994657285, -22.947542606490593], [-43.154021277762176, -22.947546854001672], [-43.15398323555112, -22.947555080286975], [-43.15395116954547, -22.94757565902217], [-43.1539179547759, -22.94759459532866], [-43.1538942874771, -22.947592783838026], [-43.153840517478265, -22.94760317579979], [-43.15380369335602, -22.947615118608226], [-43.15377556439348, -22.947640166131233], [-43.15373725025413, -22.947646944354815], [-43.15370045370231, -22.947635227378047], [-43.15366142825824, -22.947636940380324], [-43.153634456632, -22.947662995575193], [-43.15361047314249, -22.947691522804174], [-43.15358128353037, -22.94771547341395], [-43.15354664010026, -22.947732047859194], [-43.153512380257496, -22.947749167671894], [-43.153478497400755, -22.94776710368198], [-43.15344347258816, -22.947783039742028], [-43.15340693250641, -22.94779552937935], [-43.15337114761615, -22.947809921436683], [-43.153339943207186, -22.947831592793253], [-43.15330406422472, -22.94784580403771], [-43.15326635469948, -22.947836695996827], [-43.15322759692018, -22.947840307447983], [-43.15319524222268, -22.94786051964378], [-43.15315757732893, -22.94786974434327], [-43.15311972335235, -22.94787860381716], [-43.15308224387539, -22.94788846277233], [-43.1530448577173, -22.947898773412824], [-43.153007004241154, -22.947907451357363], [-43.152970274990174, -22.94791957747839], [-43.15293591462028, -22.94793669598902], [-43.15290155619196, -22.947953814514307], [-43.15286757718577, -22.947971569565283], [-43.152833505082356, -22.94798914291994], [-43.15280086394159, -22.94800890108624], [-43.15276679304684, -22.94802638413743], [-43.15272803327156, -22.948029994536398], [-43.15268944316617, -22.94803568656066], [-43.15265076981943, -22.948040112472558], [-43.152612729598864, -22.94804824904044], [-43.15257515719704, -22.948057836785217], [-43.15253776904901, -22.94806814456903], [-43.15250010377598, -22.948077462113275], [-43.15246356360425, -22.948089947007507], [-43.15243255226093, -22.94811189042564], [-43.152396863450406, -22.94812637457666], [-43.1523590074033, -22.94813523474091], [-43.15232087824898, -22.94814273718222], [-43.15228321101868, -22.948152052844076], [-43.15224563370201, -22.948161998950077], [-43.15220750674936, -22.948169410183823], [-43.15217002812808, -22.94817926802194], [-43.152135002087135, -22.9481952046667], [-43.15210226456454, -22.94821486944947], [-43.1520718589173, -22.948235285615016], [-43.152037861119936, -22.948254483287123], [-43.15201138659753, -22.94826537411567], [-43.15197847588509, -22.948283501716702], [-43.1519639221847, -22.948292543874036], [-43.1519337727049, -22.948315489649232], [-43.15190526040164, -22.948340081737832], [-43.151875206914, -22.948363209223363], [-43.15184958400016, -22.948390362523227], [-43.15183004777298, -22.948421651238476], [-43.15181167410067, -22.9484534926005], [-43.15179795417282, -22.948487287239445], [-43.151783942992346, -22.948520988180846], [-43.15176847584175, -22.94855412943934], [-43.151748746790474, -22.94858532559275], [-43.1517336681197, -22.948618651074728], [-43.15172850157636, -22.948654441718162], [-43.15172528144074, -22.948690433840113], [-43.15172147730846, -22.948726420962664], [-43.15169720444276, -22.948754673588578], [-43.151675540511384, -22.94878467235228], [-43.15164443384825, -22.94880643388407], [-43.151616881838585, -22.948832029521842], [-43.151590486226794, -22.94885863105059], [-43.15156505469973, -22.94888596803243], [-43.1515395254073, -22.948913395075365], [-43.15151554348811, -22.94894182985785], [-43.151481757317995, -22.948959857740263], [-43.151456288088234, -22.948932559678664], [-43.1514199007507, -22.948919494209182], [-43.15138381475809, -22.948905708020913], [-43.15138381803468, -22.948869589020894], [-43.151374934959705, -22.94883444736791], [-43.15134818587274, -22.94880812769759], [-43.15130974815557, -22.94880244308065], [-43.15127301735744, -22.948814655457774], [-43.15123458357602, -22.94880860966011], [-43.151192875576825, -22.948770919952313], [-43.15116868856673, -22.948771178936237], [-43.151131864643425, -22.94878321229983], [-43.151124363062664, -22.948818614487482], [-43.15114695044859, -22.94884271662679], [-43.151177912478026, -22.948867549397157], [-43.151144984324866, -22.948886941739143], [-43.15116661137321, -22.948916992620994], [-43.15116885348093, -22.948953049294374], [-43.15112992540367, -22.94895467338651], [-43.15109179228956, -22.94896244637544], [-43.15106097208828, -22.94898457233259], [-43.15101649358235, -22.94900717118075], [-43.15100133748281, -22.949031828481555], [-43.15100505443439, -22.949066909024214], [-43.15100977802658, -22.949106697010393], [-43.15099130557415, -22.949138538914045], [-43.15095233343332, -22.949136370661016], [-43.15091654483447, -22.9491222257216], [-43.15087995958004, -22.949109518126455], [-43.15085279242583, -22.949135479314464], [-43.150831804815375, -22.94916584613831], [-43.150827027717, -22.9492017315787], [-43.150828697576515, -22.949236697051536], [-43.15081130800631, -22.94926791944068], [-43.15080868209062, -22.94930328814689], [-43.15084648526341, -22.94933407128007], [-43.150858890201995, -22.949368349187356], [-43.15086103276052, -22.949404406504744], [-43.15087578880736, -22.94943780789713], [-43.150910971948264, -22.94945338881839], [-43.15094455842115, -22.949471660181224], [-43.15095373391053, -22.94950680345496], [-43.15093429479693, -22.94953809316825], [-43.15092407171449, -22.94957291999269], [-43.15092816535604, -22.949608908850095], [-43.15093372605093, -22.949644642097947], [-43.1509245687327, -22.94967975405855], [-43.15093893238788, -22.949713332379126], [-43.15097736612655, -22.94971947036856], [-43.15100589347793, -22.949744094192106], [-43.15103828461799, -22.94976415764609], [-43.1510504956167, -22.949798434183624], [-43.15103037797083, -22.94982935478841], [-43.151007070852465, -22.94985833915557], [-43.150980771154366, -22.94988503378877], [-43.150954376408734, -22.94991154670476], [-43.15093425750826, -22.949942556679307], [-43.1509148193199, -22.949973844589827], [-43.150892671232974, -22.950003566672002], [-43.150874878338676, -22.950035688282657], [-43.15085737546823, -22.95006799297317], [-43.15083445577001, -22.950097163333957], [-43.15080555367523, -22.950121479738204], [-43.150770720495515, -22.95013759799205], [-43.15074683345387, -22.950166125848337], [-43.15072497433079, -22.95019603277905], [-43.150720002428734, -22.95023182473216], [-43.150710555479016, -22.95026693148996], [-43.150702664951126, -22.950302237901358], [-43.1506963293663, -22.950337924553565], [-43.15069135646154, -22.950373717395856], [-43.15068142350004, -22.9504086387825], [-43.150655316168624, -22.950435515294963], [-43.15062105187236, -22.950452814973158], [-43.15058432051827, -22.950465030766647], [-43.1505498664098, -22.95048187489882], [-43.15051627006768, -22.950500174761427], [-43.15048535312467, -22.95052221095489], [-43.1504581846348, -22.950548171133278], [-43.15042736396067, -22.950570296932867], [-43.150395106689096, -22.950590508726368], [-43.150369674333085, -22.95061793577303], [-43.150340199849985, -22.95064152208591], [-43.150310338096645, -22.95066483297008], [-43.15028442538715, -22.950691801082815], [-43.15026314514067, -22.950722075897374], [-43.15024670929118, -22.95075484355689], [-43.15023842860115, -22.95079014809392], [-43.15024262084104, -22.95082604419213], [-43.15026424915957, -22.950856006715266], [-43.15028764780249, -22.950884996559797], [-43.15031726362308, -22.950908459278214], [-43.15035264696584, -22.950923680561502], [-43.15038994772449, -22.9509341390922], [-43.150423532014294, -22.950952591156987], [-43.15043867853976, -22.950985818343103], [-43.15045716432832, -22.951017639636103], [-43.150468980878806, -22.951052093119024], [-43.1504856042536, -22.951084705409325], [-43.1505083124717, -22.95111413687809], [-43.15053299236737, -22.95114205800702], [-43.15055954330814, -22.951168555214764], [-43.150594228077324, -22.95118503343455], [-43.15063132412392, -22.951196211942325], [-43.15066944517701, -22.951203790311098], [-43.150707253648115, -22.951212629255096], [-43.15074486024494, -22.951222188253013], [-43.15078298156612, -22.951229676296233], [-43.15082078980125, -22.951238605513197], [-43.15085911640663, -22.95124555411961], [-43.150897978393026, -22.951248625066885], [-43.15093684477412, -22.951251516354844], [-43.1509746574203, -22.951260265886212], [-43.150994517363166, -22.951291290425978], [-43.151007412386186, -22.951325394338056], [-43.15103386476322, -22.951351978819588], [-43.151069953799166, -22.951365584548054], [-43.151107763058135, -22.951374514614354], [-43.151145779856755, -22.951382451962363], [-43.151184645298606, -22.951385344083864], [-43.151223499633, -22.95138209462202], [-43.151244834072045, -22.9514123227002], [-43.1512727675265, -22.951437482285243], [-43.151305260016315, -22.951457366281783], [-43.15133974383855, -22.95147429351465], [-43.15137744978625, -22.951483582620146], [-43.15141645914583, -22.951483134283855], [-43.15145522362846, -22.951479251604496], [-43.15149335500364, -22.951471658247925], [-43.1515299883185, -22.95145935351953], [-43.15156615526491, -22.951445777311594], [-43.15160446639353, -22.951439090849348], [-43.15164340449868, -22.951436924983188], [-43.15168241065998, -22.951436567748463], [-43.15172140969244, -22.951437022236885], [-43.151760430097326, -22.951435760321903], [-43.15179873923484, -22.95142943499718], [-43.15183424551924, -22.951414316794573], [-43.151870596153586, -22.951401284467895], [-43.151909269715674, -22.951396771210284], [-43.151948257003106, -22.951397946116227], [-43.15198586498651, -22.951407414540753], [-43.1520222530237, -22.951420480826332], [-43.15205924519092, -22.951431927802002], [-43.15209594213807, -22.951444004347437], [-43.15213243013088, -22.951456892072173], [-43.15217086837576, -22.95146266774113], [-43.152209859595715, -22.951463483227194], [-43.152247152750334, -22.951452990253134], [-43.152282084596266, -22.951436872835114], [-43.15231625367467, -22.951419481390047], [-43.152342553434934, -22.951392787445275], [-43.15238140862586, -22.951396581273368], [-43.15241963619249, -22.95140343805281], [-43.15245693604968, -22.951413986403324], [-43.152495573469494, -22.951419312803182], [-43.152534221426826, -22.951424007201634], [-43.15257265063096, -22.95143023417884], [-43.152606536192515, -22.95144814659567], [-43.152631611224116, -22.951475801119088], [-43.15262956207891, -22.951511807799903], [-43.152663247054285, -22.95152998877588], [-43.15269893116956, -22.951544492449028], [-43.15273582909192, -22.951556209080035], [-43.15276981269075, -22.951573942905135], [-43.15279340749616, -22.951602754092864], [-43.15282144292595, -22.951627825210274], [-43.152858233648026, -22.95163989906537], [-43.15289710118129, -22.95164279079679], [-43.15293553317298, -22.95164874681605], [-43.15297142431763, -22.951662801331228], [-43.15301027889054, -22.951666504700654], [-43.153049215353875, -22.951664249072966], [-43.15308672258636, -22.951673896674837], [-43.15312402110298, -22.951684625463344], [-43.15316245234313, -22.951690854132416], [-43.15320110559118, -22.951695095118186], [-43.15323891415614, -22.951704023776696], [-43.153276521109994, -22.95171358219391], [-43.15330159440546, -22.951741234794106], [-43.1533390989666, -22.951751154116593], [-43.153377776083026, -22.95174645632828], [-43.153416623644816, -22.951743568364016], [-43.15345382251843, -22.951754386219182], [-43.15348136016226, -22.95178007993487], [-43.15350781750059, -22.951806486195014], [-43.15354217663466, -22.95178945700111], [-43.153564395449784, -22.951819155988844], [-43.15360950422614, -22.951836296746908], [-43.15363769118435, -22.951843036349246], [-43.153678937458224, -22.95183583993729], [-43.153717957971836, -22.95183457935252], [-43.153756635344465, -22.95182979207613], [-43.15379563136006, -22.951830336327223], [-43.15382080668096, -22.951857809434998], [-43.1538377195501, -22.95189042478877], [-43.15385130342774, -22.951924265620416], [-43.15384954485555, -22.951960366919742], [-43.15386567509555, -22.951993244067506], [-43.153874228909906, -22.952009598027285], [-43.153883261339544, -22.952026681781312], [-43.15390609809814, -22.95206107821406], [-43.153941533873535, -22.952072419057288], [-43.153977523504864, -22.952086202692186], [-43.15401584764051, -22.952093150526725], [-43.15405417694461, -22.952099645998445], [-43.15409097104858, -22.952111632928496], [-43.154058230817654, -22.952131299846013], [-43.154019478221294, -22.952127326102648], [-43.15399055690306, -22.9521030584925], [-43.15395155490395, -22.952102877230264], [-43.15391315058011, -22.952109022261162], [-43.153922280398675, -22.952147597256918], [-43.15394641257118, -22.95216557828423], [-43.15398425187753, -22.952186697021666], [-43.15397033925386, -22.952220398395177], [-43.153984606146885, -22.952254066563523], [-43.154023608415926, -22.95225415932697], [-43.15406191897306, -22.952247741370403], [-43.15409977291821, -22.952238972039392], [-43.1541271324459, -22.952213283449048], [-43.154127720045345, -22.95217716941818], [-43.15412323431403, -22.95214126724609], [-43.154116402868716, -22.952105698981114], [-43.1541138694332, -22.952069640732905], [-43.154144787187846, -22.95204760383173], [-43.15417807616807, -22.952066321706603], [-43.15420462899523, -22.95209281927324], [-43.15422380025887, -22.952124286946994], [-43.15421250801952, -22.95215883156171], [-43.15418370645841, -22.95218314794968], [-43.154200816877086, -22.952215585868156], [-43.15423903989524, -22.952222803380835], [-43.15427716866476, -22.952215481136697], [-43.154314745799454, -22.952205624002378], [-43.15434983014103, -22.952221383668935], [-43.15436723527292, -22.952253735602223], [-43.154357870454206, -22.95227565854673], [-43.15435587621501, -22.952286020089854], [-43.154355424231156, -22.9522978435127], [-43.154356738631684, -22.95230869597377], [-43.1543696949602, -22.952316792440598], [-43.154392697034744, -22.952317602838264], [-43.1544128830868, -22.9523174765375], [-43.15442824566753, -22.95231359171405], [-43.154441237302635, -22.952311756248854], [-43.15445407852718, -22.952306848757992], [-43.15447263755522, -22.952311579834166], [-43.15448216960387, -22.952313407400027], [-43.154522254140296, -22.952312789315027], [-43.15453366138533, -22.952305697878707], [-43.15453374789218, -22.952292063254944], [-43.154528190315034, -22.95227772993646], [-43.15451646098148, -22.952272626829235], [-43.15449794897508, -22.952271329594705], [-43.15448416247062, -22.952274327937587], [-43.154458244826664, -22.952279989898237], [-43.15450974068224, -22.952214485225287], [-43.15453873669552, -22.952190350739397], [-43.15457767086281, -22.95218827532041], [-43.15461309866077, -22.952207470409785], [-43.15465069754814, -22.95221757023209], [-43.1546917422821, -22.9522180478044], [-43.15473021226316, -22.95221425120556], [-43.15476014493818, -22.952236001091133], [-43.154783348819066, -22.952264989871072], [-43.15480202913803, -22.9522967199682], [-43.154816512061835, -22.952343302897447], [-43.15483988308156, -22.952359829202546], [-43.15485111637221, -22.9523944562376], [-43.154851895082246, -22.952430496777467], [-43.15485413525806, -22.952466551611348], [-43.15486429147978, -22.952501437021287], [-43.154878538280165, -22.952529416752256], [-43.154918571934694, -22.952561307673022], [-43.15495511198757, -22.952570401786428], [-43.15499771673422, -22.952570897433972], [-43.15503142602388, -22.9525586472786], [-43.15505378755828, -22.95252034747068], [-43.15507830147304, -22.952488849877813], [-43.15510991298271, -22.952480003172536], [-43.15511921705905, -22.952513162011904], [-43.15514726344473, -22.95253732804735], [-43.15517975557544, -22.952557302492018], [-43.155216852184715, -22.952568571176016], [-43.15525561109275, -22.95256504691564], [-43.15529445913443, -22.95256206820477], [-43.15533259409762, -22.952554293366834], [-43.15536437256427, -22.95253335166798], [-43.15540213218609, -22.952524492432445], [-43.15543876702967, -22.952512002598873], [-43.15545869258299, -22.952480899475443], [-43.15548074267132, -22.952451175591428], [-43.155512714356135, -22.952430507013908], [-43.15555001356007, -22.95244114495729], [-43.15558111342427, -22.952462908271198], [-43.15559802971906, -22.952495523501245], [-43.15560808865541, -22.95253040683928], [-43.155626183458864, -22.95256240365691], [-43.15564309418737, -22.952594927613024], [-43.15567320613611, -22.952617856060236], [-43.15571221638845, -22.952617585491364], [-43.155751218795245, -22.952617677836574], [-43.15579021603233, -22.952618223429265], [-43.15582921845305, -22.952618314852423], [-43.155867976921584, -22.9526220155186], [-43.155906198935064, -22.95262932383299], [-43.155938192736464, -22.95265010415158], [-43.15597508860021, -22.952661730634304], [-43.155995744450024, -22.952677230980804], [-43.156012492201285, -22.952722215619207], [-43.15601366119051, -22.952758260706428], [-43.15600164445039, -22.952788734346314], [-43.15599780400379, -22.952820204269443], [-43.15601030392669, -22.952861977133267], [-43.15603248796756, -22.952894294169887], [-43.15603894098472, -22.95292904525788], [-43.15607422809214, -22.952944263299933], [-43.15611171052514, -22.95293413463907], [-43.15612552839857, -22.952900341651777], [-43.15615211560258, -22.952873921302825], [-43.15617142366549, -22.95285951772351], [-43.15618813919658, -22.95285646117998], [-43.15617900655751, -22.952875588477085], [-43.15615962296161, -22.952909949780068], [-43.156149655789086, -22.952961937387354], [-43.156178896152795, -22.953013207807096], [-43.156239585239916, -22.953039018305567], [-43.15628452979967, -22.953018048883504], [-43.156275015262686, -22.952964569646028], [-43.1562691596955, -22.952936236969474], [-43.15628419787485, -22.95292024679208], [-43.15631682629115, -22.952923065174282], [-43.156325584423456, -22.952953146432357], [-43.15635619877719, -22.95297499336074], [-43.156410077066376, -22.953007046678955], [-43.15644762413407, -22.953013803404097], [-43.156422189168524, -22.953055860390112], [-43.156438940364154, -22.95310779830464], [-43.15647349801321, -22.95311921689424], [-43.156549444486316, -22.953077114932853], [-43.15658696912164, -22.953071139650906], [-43.156593653799696, -22.95308873689131], [-43.156607905103186, -22.95310922054948], [-43.15662763844355, -22.95311351261793], [-43.15663971742296, -22.953114556942044], [-43.15664994427409, -22.95311548853219], [-43.1566655286719, -22.953116752397232], [-43.156745695217055, -22.953108474239738], [-43.15678760083357, -22.953146256122587], [-43.15677217051317, -22.953198452094185], [-43.15679103381583, -22.953259895360915], [-43.156834147975545, -22.95328757833014], [-43.156856916510826, -22.953334347709564], [-43.156915359281996, -22.953324465171402], [-43.15695950043771, -22.95330528955724], [-43.15699336216257, -22.953245811769186], [-43.15700937712348, -22.953193712868458], [-43.157050010302164, -22.953217392745938], [-43.157103438479815, -22.95323950645794], [-43.15715886589022, -22.953222090086108], [-43.15716735820774, -22.953163852596482], [-43.15715896894436, -22.9531137285567], [-43.157185852518815, -22.953151786390677], [-43.157226268940796, -22.953191538413247], [-43.15728265036525, -22.953211518223917], [-43.157339844761744, -22.95320035317524], [-43.157385262493165, -22.95316611449748], [-43.15740432850494, -22.953126241804856], [-43.157425167381675, -22.953157184890284], [-43.15741187287324, -22.95320994846864], [-43.157450025504644, -22.953251118069865], [-43.157503256335566, -22.953273409962808], [-43.157543670395796, -22.953234236783153], [-43.157544013290845, -22.953180058492343], [-43.15751952143694, -22.953130921319048], [-43.157575573814505, -22.95314647239167], [-43.157632342910055, -22.953159503307184], [-43.157689419920345, -22.9531711832455], [-43.1577478827261, -22.953174571450706], [-43.157806393984856, -22.953174166597893], [-43.157864808701106, -22.953173762408085], [-43.1579233162818, -22.953173629279238], [-43.15798178131502, -22.953176565912823], [-43.158040218058, -22.953174535569687], [-43.158098717084954, -22.95317503439284], [-43.15815663107814, -22.953182660282238], [-43.1582140216567, -22.953193079443768], [-43.15826916428267, -22.953174936948816], [-43.158327680432535, -22.953174171653888], [-43.15838593289957, -22.95317854960432], [-43.15844280351721, -22.953191220203774], [-43.15849987913527, -22.953203442555157], [-43.15855768518535, -22.95321169825956], [-43.15861549807105, -22.953219593716334], [-43.158673844857944, -22.95322442597518], [-43.15873227358154, -22.953222845892736], [-43.15879037220504, -22.95321683804513], [-43.158848562196184, -22.95321128365133], [-43.15890684798642, -22.953205999449008], [-43.158963857092026, -22.953194108333783], [-43.159021427664264, -22.95318403156799], [-43.15907850459488, -22.95319580131399], [-43.15913344518229, -22.953214409220024], [-43.15919000973281, -22.953228159631017], [-43.15924708425701, -22.95324010989471], [-43.159304893782206, -22.953248546877646], [-43.15935323756899, -22.953257235187568], [-43.15936850187883, -22.95328215609548], [-43.159377760160254, -22.953311430304563], [-43.159405625718335, -22.953334690510758], [-43.15942424595242, -22.9533207291465], [-43.159427693242, -22.953281939144002], [-43.15947871558349, -22.953280183430426], [-43.15953568850915, -22.95329258392524], [-43.15959297225567, -22.953303633471737], [-43.15965057170814, -22.95331297091676], [-43.159708812578636, -22.953318071573317], [-43.15976732393602, -22.95331766690315], [-43.15982567622386, -22.953314460992296], [-43.159884043157405, -22.95331053281078], [-43.15994232554899, -22.953305429695845], [-43.160000342079364, -22.953298427124857], [-43.16005817241256, -22.95329069995305], [-43.16011610513288, -22.95328261183508], [-43.16017320801662, -22.9532709931788], [-43.160221498178714, -22.95324039906958], [-43.16027151096245, -22.953212354297296], [-43.16031403401053, -22.95318286718711], [-43.16036641664667, -22.95314527601419], [-43.160404605891095, -22.953111855603133], [-43.16043260645939, -22.953060257424703], [-43.160451047936405, -22.953008818366026], [-43.16050392073774, -22.952985590004307], [-43.160559348683776, -22.9529681715162], [-43.1606150529533, -22.952951661945818], [-43.16066972362297, -22.95293233918712], [-43.160724632536, -22.952917173985213], [-43.160746190126886, -22.952902161988632], [-43.16078178588505, -22.95288731459776], [-43.16081135868901, -22.95286372561085], [-43.160834807080626, -22.952831398369643], [-43.16084283083366, -22.952822190271092], [-43.16084771425069, -22.95281439149619], [-43.160853275255334, -22.952806960885436], [-43.16085970614836, -22.952800171576026], [-43.160866712952455, -22.952793842262974], [-43.16087227494234, -22.952786410759852], [-43.160879282474184, -22.95278017175701], [-43.1608852307282, -22.952773019251957], [-43.16088904905439, -22.952764664503764], [-43.16088819402268, -22.952755712843967], [-43.16088812111556, -22.9527466817576], [-43.16089057939374, -22.95273795093105], [-43.160897203061815, -22.952731255060716], [-43.16090237652521, -22.95272363934896], [-43.160901622133046, -22.95271460035983], [-43.16089959471727, -22.95270581661253], [-43.160896590869484, -22.952697203953072], [-43.16089270470406, -22.952688941368528], [-43.160888327651975, -22.95268085369623], [-43.16088375536635, -22.952672854062246], [-43.16087937806942, -22.952664856689307], [-43.160875102658544, -22.952656679892964], [-43.16088362798386, -22.952639077677755], [-43.16090171546692, -22.952642720723624], [-43.1609065826766, -22.952650543172325], [-43.16091144988685, -22.952658365620874], [-43.16091621839494, -22.952666276324152], [-43.16092088939725, -22.952674186799634], [-43.16092536419109, -22.952682185302137], [-43.16092964154343, -22.95269036302284], [-43.160933430217085, -22.952698624476078], [-43.1609369249422, -22.95270706312541], [-43.1609408101359, -22.952715325697746], [-43.16094528591927, -22.952723323308252], [-43.160950448058074, -22.952730968570986], [-43.16095658952648, -22.952738084278415], [-43.160963230677794, -22.952744663062404], [-43.16096996859475, -22.952751152665815], [-43.160976605847566, -22.952757731404112], [-43.160983147077324, -22.952764488730487], [-43.160988900054924, -22.952771778730707], [-43.16099268748903, -22.952780132276853], [-43.160994320801535, -22.95278900085273], [-43.16099429719627, -22.952798030820247], [-43.16099378611995, -22.952807055135164], [-43.16099405304729, -22.95281608847159], [-43.16099578674255, -22.952824960920537], [-43.160998792573274, -22.952833571795427], [-43.161002774293166, -22.95284183548581], [-43.16100783797016, -22.952849479605256], [-43.16101427949132, -22.952856327882877], [-43.16102151002814, -22.952862370781595], [-43.16102913858391, -22.95286796768622], [-43.161036766177574, -22.952873563676338], [-43.16104439373524, -22.952879162374764], [-43.1610523174873, -22.95288448998802], [-43.16106083838821, -22.95288892330697], [-43.16106965810955, -22.952892819178942], [-43.16107838229923, -22.952896713039724], [-43.16108650492567, -22.952901683553755], [-43.161094130561594, -22.95290728042164], [-43.16110215495778, -22.95291252070319], [-43.16111047843228, -22.95291713233528], [-43.16111870172601, -22.95292201371262], [-43.16112613066377, -22.95292787920561], [-43.16113227533276, -22.952934903738694], [-43.16113527723783, -22.952943517275013], [-43.16113505962745, -22.95295254499343], [-43.16113308859784, -22.952961370873197], [-43.16113072781194, -22.952970103737368], [-43.16112963079001, -22.95297912216199], [-43.16112941122911, -22.952988149857713], [-43.16112889821018, -22.95299717415079], [-43.16112751093695, -22.95300609619843], [-43.16112417594334, -22.953014546859208], [-43.16111842313747, -22.953021884050248], [-43.161110645622145, -22.95302730412274], [-43.16110277380683, -22.95303263099291], [-43.16109702001188, -22.953039969074613], [-43.16109533925344, -22.953048889524823], [-43.16109785344042, -22.95305758770898], [-43.16110484212491, -22.95306723989675], [-43.16111148768578, -22.953073277815182], [-43.16111935713563, -22.953075266315835], [-43.161129370516264, -22.953077638175582], [-43.161142492470034, -22.953080589698907], [-43.16115038535117, -22.953081133631095], [-43.16116023449387, -22.953081156624833], [-43.16116933588514, -22.953078644286396], [-43.161184625328424, -22.95307295190581], [-43.16119101127748, -22.95306941475486], [-43.1611965881561, -22.95306080948142], [-43.16120607343213, -22.953058752200814], [-43.16121583728524, -22.953057871177943], [-43.161220332179965, -22.953049887281534], [-43.16122356797018, -22.953041345165857], [-43.1612330493371, -22.95303964904786], [-43.16124280095842, -22.953039672711665], [-43.16124551111859, -22.953048373166148], [-43.161247437920025, -22.953057244239957], [-43.16125112886986, -22.95306559575925], [-43.16125501288344, -22.95307394771082], [-43.16125635664475, -22.95308281383072], [-43.16125691704691, -22.95309185056998], [-43.161257478424055, -22.95310088732055], [-43.161259500759094, -22.953109760404914], [-43.161267429874734, -22.953114909271843], [-43.16127717858899, -22.953114931997085], [-43.16128692046357, -22.953115677061785], [-43.16129514182592, -22.953120558408425], [-43.1612921007933, -22.953129192183027], [-43.161294712488655, -22.95313789149527], [-43.161301550130545, -22.953144291939953], [-43.161306417379954, -22.953152114378565], [-43.161306490313045, -22.953161145466122], [-43.1613017031446, -22.95316903838299], [-43.16130031490504, -22.953177960421282], [-43.161305574574506, -22.953185606804805], [-43.16131409671118, -22.95318995072635], [-43.16132305508223, -22.95319809060068], [-43.16133689329513, -22.953205836441153], [-43.16134716766084, -22.953210470680165], [-43.16133322701777, -22.95321744294745], [-43.16132300077977, -22.953230960051886], [-43.16132192330813, -22.953238532963073], [-43.16131901809691, -22.95324418833289], [-43.161301455572634, -22.953237843246878], [-43.16128662782422, -22.953238306159665], [-43.16127584339669, -22.953242694438753], [-43.16126636700327, -22.953251162394487], [-43.16126277673366, -22.953264214618617], [-43.16126078006145, -22.953274937456342], [-43.16126104756907, -22.953291286198358], [-43.16126613700123, -22.953304168149607], [-43.161285095572275, -22.95331558455511], [-43.16130654461347, -22.953315743836754], [-43.16132094321429, -22.95331103353944], [-43.16133411244292, -22.953303421116324], [-43.16135042738542, -22.95329385760622], [-43.16135693014339, -22.953288965460903], [-43.161367148900155, -22.953283215178875], [-43.16138164878636, -22.953271011852078], [-43.16140197578982, -22.95325318702709], [-43.16141696338794, -22.95324089904847], [-43.161426708259874, -22.953226923941838], [-43.16142980531501, -22.95320700391396], [-43.161427950766196, -22.95319271463096], [-43.161425350291225, -22.95318311242631], [-43.16141124805295, -22.953165972080477], [-43.161406646196106, -22.953160228774237], [-43.16140223762422, -22.95315439740626], [-43.161406205738416, -22.953149387377106], [-43.16141836773525, -22.953158649821866], [-43.16142459586386, -22.953174073437754], [-43.16145134686276, -22.953200390662694], [-43.16147012951351, -22.953232035459013], [-43.16148999102147, -22.953263146430746], [-43.161511033187075, -22.95329355047401], [-43.16153305783915, -22.953323336496478], [-43.16155813317303, -22.953350988816755], [-43.16158468777658, -22.953377484350032], [-43.16161075003565, -22.953404335381755], [-43.16164145803773, -22.95342654273037], [-43.16167216258559, -22.953448934250424], [-43.161702177113476, -22.95347194988364], [-43.16172962242373, -22.953497550889335], [-43.16176082426294, -22.953519223932428], [-43.1617944106579, -22.95353776312104], [-43.16182979758328, -22.95355280318364], [-43.16186669160835, -22.953564699218557], [-43.16190379429734, -22.953575514034455], [-43.16193998197188, -22.953589026406966], [-43.16197697716117, -22.953600653585394], [-43.16201468705892, -22.953609758764326], [-43.1620496728374, -22.953625696252207], [-43.162086468189955, -22.953637681396803], [-43.16212417685044, -22.95364687954774], [-43.16216137806845, -22.953657694544287], [-43.162198374518816, -22.95366923138508], [-43.162235576007234, -22.953679955162485], [-43.16227136251894, -22.953694367644115], [-43.16230785054919, -22.953707161899985], [-43.162343640038195, -22.953721571691464], [-43.16237832605997, -22.953738049257435], [-43.162413113293944, -22.953754253469523], [-43.162448901054105, -22.953768576528], [-43.162486097701894, -22.95377966230569], [-43.16252370624368, -22.953789131015235], [-43.16256151961263, -22.953797874251485], [-43.16259932831632, -22.953806891041364], [-43.16263744756164, -22.953814647185883], [-43.16267567650389, -22.95382150156775], [-43.16271359321844, -22.953829886562172], [-43.162751607641454, -22.95383818508633], [-43.16278659479501, -22.95385403213221], [-43.162823792474136, -22.95386511784513], [-43.16286180961151, -22.9538731445647], [-43.162899620555585, -22.95388207100848], [-43.162938061353394, -22.95388775385072], [-43.162976927757526, -22.953890731636697], [-43.16301568104821, -22.953894792635705], [-43.16305443286579, -22.953899035116237], [-43.163093074764944, -22.95390426873846], [-43.16313172814339, -22.953908508254106], [-43.16317047753188, -22.953912931283458], [-43.163207781527596, -22.95392329662323], [-43.163236310878474, -22.95394800782029], [-43.16326119242511, -22.953975747951603], [-43.163283511295326, -22.95400544595678], [-43.16330671739837, -22.95403443091195], [-43.16333179419727, -22.954062083895383], [-43.16336052224784, -22.954086526466224], [-43.16339004097535, -22.954110257575437], [-43.163423529776836, -22.954128614701727], [-43.16346083141592, -22.954139160563503], [-43.16349982342427, -22.954140064528936], [-43.16353876526504, -22.954137534603234], [-43.163577079241605, -22.9541310249907], [-43.163614838954054, -22.954121800778744], [-43.16365157057313, -22.954109856480933], [-43.163686692371336, -22.954094006011335], [-43.1637255454685, -22.954090753494274], [-43.16376002975981, -22.954107676335422], [-43.16379471704667, -22.954124153619485], [-43.16382681366124, -22.95414466270697], [-43.16386030228064, -22.954163110947817], [-43.16389599015749, -22.9541777025405], [-43.16392600798173, -22.954185996703277], [-43.16397527702932, -22.954191351348634], [-43.163981802112374, -22.954199104411366], [-43.16401320388729, -22.954220597843413], [-43.164043912454794, -22.954242807470493], [-43.16407056548687, -22.954269212553367], [-43.16409988841977, -22.95429294127179], [-43.164130002076014, -22.95431595491301], [-43.16415389595524, -22.954344499817104], [-43.16417415285927, -22.95437534415944], [-43.16419854013391, -22.95440352994721], [-43.16422381462798, -22.95443100358204], [-43.16424171458043, -22.954463086674057], [-43.164256180441846, -22.954496669669776], [-43.16427025519407, -22.954530332118395], [-43.164284230239076, -22.95456408552038], [-43.164298011249755, -22.95459783848137], [-43.164309245216664, -22.954632463177077], [-43.164327340423675, -22.954664460024873], [-43.16435143382971, -22.954692822995987], [-43.164358755787646, -22.95472830633431], [-43.16436568654699, -22.95476387544667], [-43.16437320372204, -22.954799272547678], [-43.164381112894546, -22.954834669670703], [-43.164388337369346, -22.95487015187954], [-43.16439360606781, -22.95490597356284], [-43.164398485784034, -22.95494178893742], [-43.16440365796557, -22.95497760950319], [-43.164408537673424, -22.955013425780383], [-43.16441341737096, -22.955049242960328], [-43.164417710887825, -22.95508514275451], [-43.16442171289306, -22.955121039174305], [-43.1644253217469, -22.955157021345773], [-43.164429517772085, -22.95519292001109], [-43.16443244587407, -22.95522898370206], [-43.16443351861297, -22.95526502682013], [-43.16443156873881, -22.955301124350747], [-43.16442640510754, -22.955336916483247], [-43.164423285517955, -22.955372910171235], [-43.16442367649803, -22.955409036602795], [-43.16442435900363, -22.955445165505648], [-43.16442465152366, -22.955481289894216], [-43.16442240938219, -22.955517294641034], [-43.16442250788266, -22.95555341678349], [-43.164423970356836, -22.955589554714052], [-43.164428850079865, -22.95562537098976], [-43.16443411882772, -22.95566119086532], [-43.16443860953154, -22.95569700354077], [-43.1644414381659, -22.955733067884942], [-43.16444007324461, -22.95576917308744], [-43.16443783207166, -22.955805177844475], [-43.164438026117296, -22.955841301091922], [-43.16443841710541, -22.955877426618894], [-43.16443909959569, -22.95591355642294], [-43.16443646746788, -22.955949555750806], [-43.16443130455601, -22.955985436384367], [-43.16442545767694, -22.956021130301373], [-43.164419515296075, -22.95605681950027], [-43.16441620263021, -22.95609281094928], [-43.16440850892002, -22.95612821167633], [-43.1643957624458, -22.956162288775992], [-43.1643793259538, -22.956195149227167], [-43.16436658043986, -22.956229226334635], [-43.164359081712455, -22.956264628411695], [-43.16435771577836, -22.956300733598148], [-43.16436132658498, -22.956336714886604], [-43.16437510653085, -22.95637055903789], [-43.16441014572046, -22.956404286262018], [-43.16442451434675, -22.956437864510562], [-43.16442568554084, -22.956473908763815], [-43.16441565698137, -22.95650883185205], [-43.164376726681674, -22.956510456357], [-43.16433771056029, -22.95651135924494], [-43.16429878023602, -22.95651298553638], [-43.16426019187894, -22.956518318179114], [-43.1642222455338, -22.95652672852935], [-43.164183565293364, -22.956531427068878], [-43.164144648128065, -22.956532150449497], [-43.16410642072858, -22.956539565093227], [-43.164069880999804, -22.95655205530303], [-43.16403504428506, -22.9565682676233], [-43.16400020951238, -22.956584479957932], [-43.16396404292968, -22.95659814839469], [-43.16392637489997, -22.956607464919017], [-43.16388945392812, -22.956619228251128], [-43.16385234869602, -22.956630266117834], [-43.16381403278279, -22.956636866941395], [-43.16377571396433, -22.95664382712567], [-43.16373730860569, -22.956649974479127], [-43.16369872044182, -22.956655216681476], [-43.163660679450814, -22.95666326549026], [-43.16362300894893, -22.956672762516597], [-43.16358571404412, -22.956683257210557], [-43.16354776665985, -22.95669166647926], [-43.16351019120262, -22.956701345183536], [-43.163472615242206, -22.956710844170882], [-43.16343485600949, -22.9567199780105], [-43.16339709334908, -22.956728932099242], [-43.16335970651392, -22.956739155669066], [-43.16332241254984, -22.956749650309753], [-43.163284833393675, -22.956759600726322], [-43.16324942840071, -22.956774631448397], [-43.16321440143855, -22.956790479263002], [-43.163181187376715, -22.956809420158464], [-43.16314873645438, -22.956829543818223], [-43.163120126883896, -22.9568540455831], [-43.16309624003059, -22.95688257535812], [-43.16306907435946, -22.956908538677883], [-43.163050881183366, -22.95692711083062], [-43.163037109529526, -22.956943205733623], [-43.16302233850659, -22.956961095106816], [-43.163007184808436, -22.95697843823057], [-43.16300200908316, -22.9569861442813], [-43.162996740016744, -22.956993758045034], [-43.16299156354777, -22.957001374687316], [-43.16298658574024, -22.95700908303028], [-43.16298150726517, -22.957016880509247], [-43.162975947401236, -22.957024220898987], [-43.162969709934075, -22.957031192228765], [-43.16296279560999, -22.957037522696776], [-43.16295501842939, -22.95704312165176], [-43.1629457195786, -22.957045723900208], [-43.16293597203888, -22.957045520671386], [-43.16292633834233, -22.957043964224297], [-43.16291670318158, -22.957042588364537], [-43.1629069488134, -22.95704274626458], [-43.16289737553334, -22.95704408019366], [-43.162889023380714, -22.957048858859], [-43.16288278615289, -22.957055739885377], [-43.16287548840628, -22.95706179590286], [-43.16286609645731, -22.95706421556001], [-43.16285670498544, -22.95706645552025], [-43.16284854243595, -22.957071418790896], [-43.16284307787757, -22.95707884967903], [-43.16283926051382, -22.95708720357831], [-43.16283680227091, -22.957095933530688], [-43.16283570556425, -22.957104860765398], [-43.162834803595196, -22.957113881461737], [-43.16283283356853, -22.957122707372797], [-43.162829110763006, -22.95713106327027], [-43.162825197082505, -22.95713932845979], [-43.16282157474712, -22.957147681908946], [-43.16280400674288, -22.95716328129225], [-43.16279044989175, -22.9571706184204], [-43.162776176390025, -22.957180476615143], [-43.16276056547636, -22.957188423864782], [-43.16274422110251, -22.957200064111202], [-43.16273190705743, -22.95720931288764], [-43.16271628563688, -22.95721789303086], [-43.16271294021423, -22.957205750131294], [-43.16271009362559, -22.957178266113775], [-43.16269668992573, -22.957195991593284], [-43.16268837964202, -22.957204743136], [-43.16267613223016, -22.95722356654321], [-43.16267900095754, -22.957234976985468], [-43.162664317688176, -22.95724636556258], [-43.16265700478553, -22.95725332532048], [-43.16264849972864, -22.957262346414183], [-43.162639888273254, -22.957278953484252], [-43.16263503272486, -22.95729190077155], [-43.16263710852821, -22.957304115651493], [-43.16263695904696, -22.957308178431546], [-43.162641766594504, -22.957313290169946], [-43.16264855276568, -22.957323302971645], [-43.16265499092196, -22.95733042116004], [-43.162658806171926, -22.95733687593657], [-43.16265854350156, -22.957348883115507], [-43.16266037829122, -22.95735757340802], [-43.162657724060736, -22.957366301085575], [-43.16265672578703, -22.95737523126461], [-43.162656505359834, -22.95738425624389], [-43.162656186386805, -22.95739328549944], [-43.162655092381094, -22.95740230035647], [-43.162653019916064, -22.95741112868931], [-43.16264949697285, -22.957419485994066], [-43.16264335477294, -22.957426548715105], [-43.16263500501552, -22.957431147691054], [-43.16262570494958, -22.95743383749814], [-43.16261621593902, -22.95743607721527], [-43.162606823230234, -22.957438406544075], [-43.16259742930122, -22.957440826160585], [-43.162587939094266, -22.95744315435849], [-43.16257845401187, -22.957445031103084], [-43.16256870396927, -22.95744501113506], [-43.16255937840702, -22.95744237099383], [-43.16255055492422, -22.957438656653096], [-43.16254102724388, -22.957436469292926], [-43.16248170382892, -22.957403093282142], [-43.16244581419972, -22.957388951416164], [-43.16240942439977, -22.95737588737513], [-43.16237150625881, -22.957367681944795], [-43.162335213252746, -22.957354527803638], [-43.16229937574842, -22.95734381890465], [-43.162264792191394, -22.95732698216046], [-43.162228500403856, -22.957313739513683], [-43.16219149735902, -22.957302474365477], [-43.162154402930746, -22.957291116944376], [-43.162115859567265, -22.957285885090805], [-43.16207687034169, -22.957284710765364], [-43.16203810429715, -22.95728859595184], [-43.16200165460419, -22.957301540024112], [-43.16196299938659, -22.957297297454325], [-43.161924232116895, -22.957301272900725], [-43.16188555086844, -22.95730624266107], [-43.16184686793781, -22.957311120283833], [-43.16180828636585, -22.957316001781077], [-43.16176935558158, -22.95731771773367], [-43.161730675779474, -22.957322507770613], [-43.16169199840424, -22.957327118124326], [-43.161653591610175, -22.957333352533286], [-43.16161536730778, -22.957340585986834], [-43.161577418909175, -22.957348905355325], [-43.1615353328105, -22.957353202533636], [-43.16149984275052, -22.957352791054095], [-43.16149156315928, -22.95732334768592], [-43.16145492478074, -22.957335746724006], [-43.16141744165721, -22.95734578629061], [-43.16137850819164, -22.957347772119423], [-43.161339507006424, -22.957347410194558], [-43.16130641434509, -22.957328425083766], [-43.161284292615655, -22.957298639691675], [-43.16126031527407, -22.957268923081962], [-43.16125356055148, -22.957242024949657], [-43.16128830618183, -22.95723258398853], [-43.16130309047381, -22.95719916383922], [-43.161269002137416, -22.957181701414537], [-43.161233717724876, -22.95716630116494], [-43.16118872066832, -22.957169391470458], [-43.16119778705963, -22.95720561755599], [-43.161220108325416, -22.95722799957473], [-43.16118290790756, -22.957238767492925], [-43.16114426519114, -22.957233532447443], [-43.161163606008756, -22.957202151805006], [-43.16116370632607, -22.957166032018918], [-43.16116077984658, -22.957130056834526], [-43.16112489166833, -22.95711582439436], [-43.161085885413094, -22.957115914766682], [-43.16104793779663, -22.957124323418526], [-43.16104452472418, -22.95716031538533], [-43.161069503833225, -22.95718805698988], [-43.16107438269001, -22.957223873308397], [-43.161054169736296, -22.95725470291313], [-43.16101857521655, -22.957269373320205], [-43.16099468156386, -22.95724082796278], [-43.16095570482591, -22.957238661084318], [-43.16097175252071, -22.957205706231733], [-43.160951988174695, -22.957174592699207], [-43.16091610098544, -22.957160360223778], [-43.16087796590249, -22.957168136348905], [-43.16086784013188, -22.957202965922523], [-43.16084675649486, -22.957233424190665], [-43.16082122948662, -22.957260760638388], [-43.160825326115415, -22.95729665728754], [-43.16085474776802, -22.957320297446017], [-43.16082363844289, -22.957342059800062], [-43.1607849595929, -22.95734684961486], [-43.160745954510844, -22.95734684870815], [-43.16070782980619, -22.957339362005037], [-43.16066897427861, -22.957342795206667], [-43.160630749234834, -22.95734993630259], [-43.16059234431639, -22.957355812875623], [-43.16055393426562, -22.95736250119777], [-43.16051544088803, -22.95736792431087], [-43.16047666967204, -22.95737226056311], [-43.16043844678519, -22.957379313140326], [-43.16040087095631, -22.957388991982793], [-43.16036338557463, -22.957399120668004], [-43.16032646634563, -22.95741079195524], [-43.160290207840724, -22.95742400694203], [-43.160255369285125, -22.957440308674204], [-43.16022733771425, -22.957465359303185], [-43.16020066721055, -22.957490424815457], [-43.16016592170282, -22.9575001355355], [-43.1601351987486, -22.957507816870752], [-43.16009579020691, -22.957515939232987], [-43.16005078010049, -22.95752020118031], [-43.16001831685359, -22.95752677776772], [-43.159979040517015, -22.957546820638537], [-43.15994594927551, -22.957563774690872], [-43.15991053273339, -22.957579619027115], [-43.15987718637691, -22.957593590126976], [-43.15984536942932, -22.957603062948873], [-43.159804269176796, -22.95762082795231], [-43.15977234004388, -22.957638517871075], [-43.1597392374716, -22.957663511361364], [-43.15970850300709, -22.95768644995629], [-43.15968323838579, -22.95770864201562], [-43.15967090841648, -22.95774787072368], [-43.15969490160057, -22.957776323509897], [-43.15973281696514, -22.95778479954999], [-43.15977115162595, -22.95779111499776], [-43.15980979714817, -22.957796076800193], [-43.15984833877151, -22.957801582813605], [-43.159884628203535, -22.957814917177753], [-43.15992254627204, -22.95782312320103], [-43.159960668868344, -22.957830699472574], [-43.15999899696693, -22.957837646003508], [-43.16003559018527, -22.95785007903015], [-43.160072893451115, -22.95786062755092], [-43.16011111747823, -22.957867843754865], [-43.16014987518558, -22.957871724052833], [-43.16018884619071, -22.957874254087383], [-43.16022773117514, -22.95787579069169], [-43.16026449326906, -22.95788316779266], [-43.160305012043715, -22.957886617876966], [-43.16031558359617, -22.957890714734422], [-43.16029859849516, -22.957906591487852], [-43.16027357877337, -22.957932308276167], [-43.1602406526844, -22.957958745144385], [-43.160216370138826, -22.95798049807595], [-43.16018594550239, -22.95800208672612], [-43.16015974230481, -22.95802878489401], [-43.16013402415601, -22.95805602869302], [-43.16010984667575, -22.95808428368978], [-43.16009282979966, -22.958116774774492], [-43.16007969204129, -22.958150847814203], [-43.16006694427999, -22.95818492447472], [-43.16004320245923, -22.9582171569134], [-43.16002114883887, -22.958239929902955], [-43.159994928271686, -22.95826797785684], [-43.159969013800506, -22.95829495114806], [-43.159945899427896, -22.95832412147482], [-43.15992133553167, -22.95835210104617], [-43.15989812583735, -22.9583811799562], [-43.15987414276265, -22.958409616867897], [-43.15984829155308, -22.95843198364631], [-43.15981897685558, -22.95845087693102], [-43.15978255697087, -22.95847592041551], [-43.159758066813566, -22.958505796259082], [-43.15972542590406, -22.958525553944565], [-43.15969002006618, -22.958540586521508], [-43.159661600890935, -22.958565358914946], [-43.15962866743556, -22.95858475468326], [-43.159595751818564, -22.958603336124465], [-43.159565108723605, -22.958619505773417], [-43.15952955527924, -22.95863823628405], [-43.15948974585905, -22.95865448012579], [-43.159457434517755, -22.958671352806665], [-43.15942855244784, -22.958694225238823], [-43.15940161763156, -22.958717392079002], [-43.1593699659845, -22.958743302627738], [-43.15934154786558, -22.958775121257943], [-43.15931974232245, -22.958801235492775], [-43.15928886772349, -22.958820022065773], [-43.15927540138006, -22.958835126823292], [-43.15926361916149, -22.958848353879464], [-43.159261049944504, -22.958857986398264], [-43.159255865508904, -22.958887996873937], [-43.15925584146186, -22.95890425190969], [-43.159259768666224, -22.958923893097534], [-43.159287605946595, -22.95894932029676], [-43.159312978909654, -22.958976703728254], [-43.15933490517493, -22.95900657831788], [-43.15935545549415, -22.959037247846748], [-43.15937276291312, -22.95906968848331], [-43.1593930192845, -22.959100535200378], [-43.15940915161225, -22.95913341280122], [-43.15942557987488, -22.959166112328347], [-43.15945440469016, -22.959190557640092], [-43.15949049797062, -22.959204070437888], [-43.15952608470583, -22.9592188415802], [-43.159560470430655, -22.959236036033385], [-43.15959706490635, -22.959248471901024], [-43.15963436999947, -22.959258838152678], [-43.159672903999464, -22.959264792943593], [-43.15971123883387, -22.959271197828258], [-43.15974956535363, -22.959278145324152], [-43.15978727683095, -22.959287162625817], [-43.15982447835626, -22.959297978240485], [-43.15986208890296, -22.95930753707038], [-43.15989908592764, -22.95931898150793], [-43.159935882556034, -22.95933096723141], [-43.159972373501894, -22.959343852422432], [-43.16000957751621, -22.959354486516396], [-43.16004657429719, -22.95936602302628], [-43.16008408054618, -22.95937594180415], [-43.16012199392516, -22.959384599259238], [-43.16015960626117, -22.95939388532853], [-43.16019389462028, -22.959411078520663], [-43.160172422166184, -22.959441262149547], [-43.16014882526026, -22.95946997538341], [-43.16014220025377, -22.959505567922733], [-43.16013450617278, -22.95954096745149], [-43.16014750069506, -22.95957507190665], [-43.1601840953237, -22.959587507647644], [-43.160217786522495, -22.959605596930977], [-43.16024503204732, -22.959631468622188], [-43.16022067489578, -22.95965150492474], [-43.160181695320944, -22.959664056161262], [-43.16014505718584, -22.959676453952756], [-43.160112222712904, -22.959695941259426], [-43.160082939051975, -22.95971980066185], [-43.160051830270376, -22.95974147162344], [-43.160015205272906, -22.959752968318465], [-43.159979312660454, -22.959767631375524], [-43.159949454433054, -22.959790854676175], [-43.15993166215721, -22.95982297641909], [-43.159952113980985, -22.959853736846764], [-43.15997011125194, -22.959885731213387], [-43.16000210858268, -22.959906420556962], [-43.1600229541089, -22.959936913735618], [-43.160011760986634, -22.959971459927704], [-43.159988908508126, -22.960009934416913], [-43.159972045269235, -22.96003105006308], [-43.15992741350878, -22.96003604325368], [-43.15991753628508, -22.96005254153935], [-43.15988388064035, -22.96008953610111], [-43.159874427073156, -22.960117961912687], [-43.159860699915335, -22.960137849709227], [-43.15983830921939, -22.96016395811698], [-43.15983246187125, -22.960199650865178], [-43.15983411905214, -22.96023579101653], [-43.15987160065811, -22.960225930657717], [-43.15991010221133, -22.960219965125532], [-43.15990542437825, -22.960255852054473], [-43.1599149941825, -22.960290820706767], [-43.15992985193477, -22.960324225286115], [-43.15994578832283, -22.96035718906471], [-43.15997728945727, -22.96037859507782], [-43.16001378191564, -22.960391389085196], [-43.16005128871023, -22.960401215782635], [-43.16007587351138, -22.960429223885843], [-43.16010321981978, -22.96045500737669], [-43.16013105878289, -22.96048034416562], [-43.160159589053144, -22.96050496655364], [-43.16019129014331, -22.960526013638496], [-43.16021528388872, -22.9605544663754], [-43.160233084095786, -22.960586549636517], [-43.160250787539375, -22.960618722075466], [-43.16027064967141, -22.960649835933182], [-43.16029533328293, -22.96067775485057], [-43.16032099850431, -22.960705053038097], [-43.16035111303932, -22.960727978033834], [-43.16038261774347, -22.96074920341018], [-43.16041441546276, -22.960770250672798], [-43.1604471104586, -22.960789775006752], [-43.16048209757724, -22.960805802331656], [-43.160516284161176, -22.96082326700459], [-43.160529671322735, -22.960857195385824], [-43.160499234294804, -22.960879869347497], [-43.16046128703998, -22.960888098099765], [-43.16042326206048, -22.960880160924482], [-43.160401405741474, -22.960910159511315], [-43.160400039593455, -22.960946264583676], [-43.16043902980919, -22.96094744029129], [-43.16047592834828, -22.960959064983292], [-43.16047027588154, -22.960994849419283], [-43.1604617057387, -22.961030058189124], [-43.16046932059337, -22.961065455644963], [-43.16048398330933, -22.961098948220613], [-43.160481156884195, -22.96113494514617], [-43.160482032303776, -22.961171074420488], [-43.16048564109778, -22.961207058415454], [-43.160496972238676, -22.961241594158228], [-43.16049921483657, -22.961277650798284], [-43.160482489822485, -22.961310237391384], [-43.16045609125061, -22.96133684209532], [-43.16043346245579, -22.96136619779669], [-43.16041363599919, -22.961397301752882], [-43.16039526004403, -22.961429237062802], [-43.1603731118972, -22.961458958636825], [-43.16035609456155, -22.961491452421992], [-43.16034334526938, -22.96152561936341], [-43.160317913807596, -22.961552957680002], [-43.16028766721463, -22.961575812597264], [-43.16181859560573, -22.96155952555108], [-43.162066893193796, -22.959992406222277], [-43.16225382660799, -22.959703979929184], [-43.162688597557924, -22.959454816374674], [-43.16334502810883, -22.959176071598453], [-43.16587181229163, -22.95908250788423], [-43.16724483758084, -22.95883479379943], [-43.16961466565091, -22.95733965889358], [-43.16992000955523, -22.957431590447214], [-43.170302808585184, -22.957507076174473], [-43.171700884568715, -22.95770091707547], [-43.17254297363181, -22.957870550406845], [-43.17284703449013, -22.958087259227685], [-43.1730528676783, -22.95848055255861], [-43.173181222764256, -22.95883430345532], [-43.17341378122699, -22.95892231696405], [-43.17364047860396, -22.95906941367624], [-43.17397266380299, -22.959160020560734], [-43.17430776596379, -22.959135163957463], [-43.174453491340856, -22.95910315884803], [-43.174590262673895, -22.959062742658357], [-43.17472635666288, -22.959072707529785], [-43.174898817978004, -22.959083090893564], [-43.17515175925791, -22.95917847227431], [-43.175621240870896, -22.959385791989806], [-43.176091289592215, -22.95955094546462], [-43.17635305862496, -22.95967171136581], [-43.176497091696945, -22.959765838054146], [-43.1766948408332, -22.959919549219954], [-43.176756607945904, -22.960054811711466], [-43.1769004162877, -22.96016582302591], [-43.1772171425055, -22.960253535606547], [-43.177714286328225, -22.960427484475105], [-43.178034691027975, -22.96058251524737], [-43.17830530943854, -22.96072017614085], [-43.17851212577222, -22.960873990283453], [-43.178600422739166, -22.961060036291133], [-43.17865927701666, -22.961150563824976], [-43.17875812435256, -22.961160457787745], [-43.17912324977083, -22.961071368559647], [-43.17984394167162, -22.961082443139905], [-43.181272248180605, -22.961018013359794], [-43.181616597608155, -22.96096534208934], [-43.18185713066919, -22.960961056887896], [-43.18193333090177, -22.960972495233012], [-43.1822218863635, -22.961088955332993], [-43.18266237408314, -22.96126368351786], [-43.183008116492346, -22.961391451692162], [-43.18334451772881, -22.961495994515907], [-43.18351992881466, -22.96151218188179], [-43.18371830207586, -22.961525019980705], [-43.183947144211885, -22.961541818960516], [-43.184168189733256, -22.96156557196366], [-43.184397034222144, -22.961582280023464], [-43.18463723979578, -22.961609773612036], [-43.18499225781695, -22.96175173109216], [-43.1852195405888, -22.961885182108897], [-43.185532639073266, -22.962084812953226], [-43.18584011894446, -22.96246426559212], [-43.18608748617751, -22.962927371329123], [-43.18635839920577, -22.962977878976798], [-43.18791530571649, -22.963275351839442], [-43.18897205178076, -22.963133368518168], [-43.19029429872687, -22.962818317373127], [-43.191374953453554, -22.96247684042312], [-43.193031002092475, -22.961478636811208], [-43.193720705207646, -22.961327287175273], [-43.19446450584899, -22.961412426867383], [-43.19546613481838, -22.96174811010007], [-43.19608590828492, -22.962067614133115], [-43.19692065715678, -22.962501717923942], [-43.19729758092195, -22.96275045504864], [-43.19822679606817, -22.96253227799314], [-43.19901357398269, -22.962406938599774]]], [[[-43.14621316401351, -22.934345730930627], [-43.146276358132305, -22.9343873768781], [-43.14630457657509, -22.934412991086518], [-43.14632507663411, -22.93445404618596], [-43.14632458708225, -22.93450424842217], [-43.14631349910885, -22.93453093952177], [-43.14627177439812, -22.93455230612789], [-43.14625725704563, -22.934587263147186], [-43.14628831861991, -22.934640363305668], [-43.1463963833764, -22.934709080362108], [-43.14654382527512, -22.93480011398859], [-43.146680773212935, -22.934874223322986], [-43.14686458344826, -22.934929378164984], [-43.14699231970027, -22.934963919462536], [-43.147131518900096, -22.935001665678925], [-43.147236515911466, -22.935023481392573], [-43.147364063999476, -22.935036258297966], [-43.14750299902521, -22.93504320809257], [-43.147624263917564, -22.935037399507383], [-43.147735152013645, -22.9350422156595], [-43.1478221066589, -22.935093257982412], [-43.14789411174252, -22.935139608866223], [-43.14794599873179, -22.93518121342574], [-43.14796124403081, -22.93522157489879], [-43.147936241978925, -22.93526056542471], [-43.147955885408564, -22.93530730028169], [-43.14799807703318, -22.93533768270388], [-43.1480839089626, -22.93537101167321], [-43.14816469910167, -22.935416474355378], [-43.148238513618566, -22.935466007690046], [-43.14827638077751, -22.935506182512444], [-43.14832042190192, -22.93555112598456], [-43.14835983642282, -22.935556462219843], [-43.148448035226394, -22.93556625066568], [-43.148496124139704, -22.93557150747687], [-43.148534439653304, -22.93555750618744], [-43.14854624776943, -22.935513756213297], [-43.14852903602645, -22.935445919990908], [-43.148466606086934, -22.935397962649482], [-43.14835672144223, -22.935319563359876], [-43.14819022482301, -22.935152637585873], [-43.148088895677766, -22.935047517329373], [-43.147955319434686, -22.934954752360742], [-43.147841819181764, -22.934862675829457], [-43.1474958993891, -22.934655096121503], [-43.14736434500742, -22.934585831942073], [-43.14734193102544, -22.934527778721176], [-43.1473297406302, -22.934434896131975], [-43.14729115466303, -22.934411689514636], [-43.14721169938911, -22.934411484274744], [-43.147109343912184, -22.934388887595667], [-43.14692276348591, -22.934322412957556], [-43.14676005608981, -22.93428565629178], [-43.146753233147074, -22.93430679850666], [-43.14664832319962, -22.934285796240587], [-43.14649523586822, -22.934258632476933], [-43.14641305102771, -22.934243948433224], [-43.14634479973834, -22.934229876808537], [-43.14630445914171, -22.934206737963052], [-43.146254508657556, -22.934187734661], [-43.14621434590152, -22.93418726549848], [-43.146172492657406, -22.934196527395642], [-43.14614490139519, -22.934232326806406], [-43.146141889328916, -22.93428168775577], [-43.146170159102624, -22.93431777672298], [-43.14621316401351, -22.934345730930627]]]], &quot;type&quot;: &quot;MultiPolygon&quot;}, &quot;id&quot;: &quot;0&quot;, &quot;type&quot;: &quot;Feature&quot;}], &quot;type&quot;: &quot;FeatureCollection&quot;});\n",
       "\n",
       "        \n",
       "    \n",
       "            geo_json_2402bf332e57531308d7433d1fb7193f.addTo(map_1035e241e0d6ead3de7800ecedb7bbbe);\n",
       "        \n",
       "    \n",
       "        function geo_json_2f050c7630c2f14f00337aaaab16cf13_styler(feature) {\n",
       "            switch(feature.id) {\n",
       "                default:\n",
       "                    return {&quot;color&quot;: &quot;black&quot;, &quot;fillColor&quot;: &quot;#FF7F32&quot;, &quot;fillOpacity&quot;: 0.7, &quot;weight&quot;: 1};\n",
       "            }\n",
       "        }\n",
       "\n",
       "        function geo_json_2f050c7630c2f14f00337aaaab16cf13_onEachFeature(feature, layer) {\n",
       "            layer.on({\n",
       "            });\n",
       "        };\n",
       "        var geo_json_2f050c7630c2f14f00337aaaab16cf13 = L.geoJson(null, {\n",
       "                onEachFeature: geo_json_2f050c7630c2f14f00337aaaab16cf13_onEachFeature,\n",
       "            \n",
       "                style: geo_json_2f050c7630c2f14f00337aaaab16cf13_styler,\n",
       "        });\n",
       "\n",
       "        function geo_json_2f050c7630c2f14f00337aaaab16cf13_add (data) {\n",
       "            geo_json_2f050c7630c2f14f00337aaaab16cf13\n",
       "                .addData(data);\n",
       "        }\n",
       "            geo_json_2f050c7630c2f14f00337aaaab16cf13_add({&quot;features&quot;: [{&quot;geometry&quot;: {&quot;coordinates&quot;: [[[-43.19965558631965, -22.943336809872008], [-43.20016867291137, -22.94365968856608], [-43.20047076485131, -22.943879122432953], [-43.20066402141063, -22.9441887098259], [-43.20085716899636, -22.944506602837603], [-43.20108673995673, -22.944783459194483], [-43.201280328529876, -22.945068125831764], [-43.20151831230249, -22.94539483448404], [-43.20158787089863, -22.945561782264342], [-43.20173540594345, -22.945937312071877], [-43.20187671787155, -22.9461050749374], [-43.20204537598296, -22.946239913994056], [-43.20225035219128, -22.946342022039378], [-43.20243793912929, -22.946402304477694], [-43.2025178180498, -22.946430301712248], [-43.202573812897, -22.9464356310986], [-43.20263488503984, -22.946455196615194], [-43.20285346710397, -22.94652386681902], [-43.20337226229993, -22.946666914330287], [-43.203657923945926, -22.946684328104595], [-43.204046843940496, -22.946613055295146], [-43.20430451256918, -22.946431572488194], [-43.20447985703963, -22.946296474919567], [-43.204661643162694, -22.946057423433608], [-43.20478117832209, -22.94590272819595], [-43.20486421403442, -22.94579494183481], [-43.205039370111805, -22.945674020068875], [-43.20515558786771, -22.945600743009262], [-43.20504472780376, -22.94537860500398], [-43.204965604408684, -22.945212182420523], [-43.204891611737885, -22.9450708302728], [-43.2048263028417, -22.944884336754498], [-43.20482808963475, -22.944748900930144], [-43.204877895925236, -22.944669184250156], [-43.204960064376294, -22.94460482420821], [-43.20514412293367, -22.94462198753612], [-43.20533884101437, -22.944644237964923], [-43.20552117813827, -22.94479186984096], [-43.205810837374536, -22.94501594046013], [-43.20603699228132, -22.94512388386005], [-43.20657524784991, -22.945395915398063], [-43.20689889530465, -22.94550504918657], [-43.20731993413648, -22.945630183138], [-43.20769186817338, -22.945774899932058], [-43.20834474877393, -22.94557656046338], [-43.20844349577577, -22.94548231452397], [-43.20845765198211, -22.945236576198976], [-43.20839414558017, -22.945120450282033], [-43.20815316070329, -22.944901900676186], [-43.20803544873239, -22.944785162364578], [-43.207945795695636, -22.94460345014614], [-43.20787854885019, -22.94435679141531], [-43.20790177514086, -22.94423658897302], [-43.2079515449815, -22.94416689546976], [-43.208359867439, -22.944020968583157], [-43.20873853519346, -22.943653914765544], [-43.20872962970994, -22.943508242977263], [-43.20864461096013, -22.94338185050775], [-43.20820418067999, -22.943085825562463], [-43.2080543746018, -22.942955541338286], [-43.20766301229723, -22.943383136326432], [-43.207529135561636, -22.943331775888648], [-43.20739350422659, -22.943413323200843], [-43.20736572254377, -22.943479473122668], [-43.20735500259851, -22.943612279670226], [-43.207318578111455, -22.943653407075338], [-43.20720876020936, -22.943818325685143], [-43.2072155414673, -22.943984564610354], [-43.20721302435044, -22.944175618778573], [-43.20717627229196, -22.944241667275634], [-43.20707782877843, -22.944223939672973], [-43.20691913483357, -22.94400613775124], [-43.20684913036692, -22.94387241975796], [-43.206859524447545, -22.943764530817504], [-43.206878995070646, -22.943648439194998], [-43.20692646842917, -22.943449584280856], [-43.206883592284754, -22.9432995560588], [-43.20672477623254, -22.943098369471507], [-43.20649442746413, -22.942879669639243], [-43.20643317598029, -22.94276266369395], [-43.206363503947095, -22.942604024447625], [-43.20633047451366, -22.94238764270469], [-43.20626570191552, -22.942160607400684], [-43.20634475332101, -22.941504086297513], [-43.20612310141994, -22.941054937078068], [-43.20610377286688, -22.94087907613569], [-43.20602984567374, -22.940732670027273], [-43.20582613403063, -22.940564749705562], [-43.20565438959941, -22.94044234091765], [-43.20540789020263, -22.940228783248703], [-43.20529544204165, -22.940127182590416], [-43.20516705071191, -22.94000020757108], [-43.20509825301792, -22.93987905395702], [-43.20521721571632, -22.939900446286522], [-43.20547668375814, -22.939943567348806], [-43.20573079432424, -22.93998653529904], [-43.20596365722096, -22.93999919223309], [-43.20626717032394, -22.939992600041297], [-43.20653289383743, -22.939975557259572], [-43.2067662542041, -22.93994306656713], [-43.20691271396156, -22.939934698031177], [-43.207042631196735, -22.939946189947275], [-43.2071399200571, -22.93996237010411], [-43.20727999840995, -22.940024095455776], [-43.20739303761142, -22.940080638775246], [-43.20758146385528, -22.940173071699967], [-43.20765862932416, -22.94007361547881], [-43.207508193370764, -22.939976554810364], [-43.2076224238795, -22.939942716045305], [-43.207893608769524, -22.939925641455446], [-43.208288621180124, -22.93996026419684], [-43.20829053722585, -22.939814715463875], [-43.20805224579486, -22.939807057680092], [-43.207748930523366, -22.939798574753677], [-43.20753162145628, -22.93984127201725], [-43.20736825008992, -22.939904717116555], [-43.20715765603963, -22.939852128526056], [-43.20713260286717, -22.939696250463076], [-43.2070898147388, -22.939650614887363], [-43.20664955124075, -22.939550278175155], [-43.20628845802599, -22.939405683233105], [-43.20599209417903, -22.93927689837445], [-43.205444433992696, -22.939305835327094], [-43.20514790343426, -22.93919709637138], [-43.204985193037544, -22.93921033649936], [-43.20465497913451, -22.939593012508354], [-43.204460799427046, -22.939530582390177], [-43.20428247061243, -22.939493435966483], [-43.20391838133314, -22.93946520558435], [-43.20385618204628, -22.939553358867418], [-43.20374345255119, -22.939591635875118], [-43.20356624256708, -22.93962493846846], [-43.20323019182247, -22.939614721730095], [-43.20298448617192, -22.939592614058668], [-43.20282556205794, -22.93955550427253], [-43.20273521014538, -22.939516012249072], [-43.20284504178908, -22.93940184687087], [-43.20299263136495, -22.939308157436336], [-43.20327691941493, -22.93911063014178], [-43.203326885358344, -22.939025948923888], [-43.20333377148427, -22.93891052893691], [-43.20330256588036, -22.93881490482437], [-43.203206307339, -22.938713396729927], [-43.202824438332236, -22.938503359415886], [-43.2025704007258, -22.938455238681424], [-43.20238059194733, -22.93846817010144], [-43.20223340006636, -22.938531792273093], [-43.20207456274362, -22.938665448551035], [-43.20200136195654, -22.938870420984497], [-43.2015094426539, -22.938975740138886], [-43.201140204498635, -22.939115952303265], [-43.20029439439345, -22.939498370289552], [-43.199989422569146, -22.939615376223337], [-43.19960787565352, -22.939786689240897], [-43.19935230840673, -22.939854045510938], [-43.19898456816006, -22.939799753039196], [-43.19880127925273, -22.939732381808838], [-43.19865681084359, -22.939590228892477], [-43.19845364222529, -22.93938220998145], [-43.19816490019371, -22.939097905674224], [-43.19810114000159, -22.93900182073269], [-43.19812930306709, -22.938921770126132], [-43.1982175625999, -22.938802396436564], [-43.198353968645804, -22.938728631912753], [-43.19870741715211, -22.938632317181277], [-43.198882837812604, -22.93848368163736], [-43.19912543814079, -22.938165313689176], [-43.19912742951647, -22.938014799688002], [-43.1990363687963, -22.9379333947984], [-43.198874256175415, -22.937901484442218], [-43.19869560124511, -22.937889431791415], [-43.19854444449789, -22.93784753053878], [-43.1983511018822, -22.937714847187955], [-43.198825117718165, -22.937113024266353], [-43.19876049307376, -22.93708221949902], [-43.19869087527963, -22.93701613950579], [-43.198724563141596, -22.936931274138498], [-43.198795678405006, -22.936876815406443], [-43.1989657678453, -22.936718186575526], [-43.19901603884715, -22.93660334784105], [-43.19905641635883, -22.936418141257743], [-43.19909526643752, -22.936348233616854], [-43.199069095077775, -22.936277681050885], [-43.19901026294152, -22.936221837651807], [-43.198888177374116, -22.936230475726628], [-43.198585270785074, -22.93619190914192], [-43.19834798394475, -22.936108934175635], [-43.19814329131407, -22.936016307050647], [-43.19795375150423, -22.936009097713246], [-43.197817546749555, -22.93606778358549], [-43.19772436243548, -22.9361470054081], [-43.19748781769865, -22.936420377558356], [-43.197356445067584, -22.936519212800324], [-43.197149493746835, -22.93659714180619], [-43.19691647116353, -22.93660460820312], [-43.196684477736774, -22.93652665943034], [-43.1959135586808, -22.93623181414188], [-43.19581154635345, -22.93616039796571], [-43.195775287230695, -22.93603455281992], [-43.195819731462926, -22.9359547789563], [-43.19592453453943, -22.935815456849625], [-43.19594750947095, -22.935715300204762], [-43.19593242623075, -22.935624824913788], [-43.19585964236024, -22.93539318089195], [-43.19592299455331, -22.93510781773517], [-43.195848084370276, -22.935036709726575], [-43.19577850050556, -22.934975685966926], [-43.19526907395817, -22.934578426290166], [-43.195129936602385, -22.934446445207726], [-43.19481541431215, -22.934056366613422], [-43.19431541589079, -22.933764685312074], [-43.19430616241693, -22.93363905867583], [-43.19441263167064, -22.933580129554404], [-43.19459374493971, -22.933612259422205], [-43.194761109294234, -22.93365931432633], [-43.19505245650721, -22.933753023240005], [-43.19519694978763, -22.933885065270957], [-43.19538888813855, -22.934123121564234], [-43.19556664287135, -22.934195399181], [-43.19585832451738, -22.93426400513275], [-43.19620413924266, -22.93433819168285], [-43.19629962894047, -22.93448981534425], [-43.19638479308505, -22.934611248617188], [-43.196491834661906, -22.934707826016922], [-43.19661988241234, -22.93485981771824], [-43.19673701422909, -22.935011687092924], [-43.19679678028394, -22.935203086152153], [-43.19686180083039, -22.93520382497288], [-43.19699609933939, -22.93488414279348], [-43.19705176154635, -22.934774331772168], [-43.19716126016715, -22.93468527101275], [-43.197353994591246, -22.934657388379126], [-43.19843738785415, -22.93467971507211], [-43.19877695247392, -22.9348140587979], [-43.19889317894746, -22.934835424546627], [-43.19905581438488, -22.934827247497456], [-43.199305247044904, -22.93481003327135], [-43.199533973525504, -22.93472223153078], [-43.19896328198878, -22.934444753546643], [-43.19729695949616, -22.933442242722453], [-43.196025791963585, -22.932875769816413], [-43.19529567319841, -22.932365649587606], [-43.194967469289615, -22.931779727474737], [-43.1940047047641, -22.930022389625538], [-43.19384493723543, -22.929748486246055], [-43.1935935716137, -22.929404997884067], [-43.19336540975515, -22.92908362771286], [-43.193265546984264, -22.92892409725614], [-43.19323739113087, -22.928724206283064], [-43.19316341028422, -22.928495165557983], [-43.192237589119344, -22.928071032622537], [-43.19127506962447, -22.927518245085853], [-43.19081549319044, -22.9273418802157], [-43.19039347401095, -22.92723719457795], [-43.18993361710952, -22.927089360928115], [-43.189750413322116, -22.92697321814901], [-43.1891675388671, -22.92680962290337], [-43.18824640524082, -22.926613808910837], [-43.18739699842449, -22.926588941668587], [-43.18612617832335, -22.926355710707117], [-43.18478056334609, -22.9250198175304], [-43.184614003150266, -22.924811116854777], [-43.184231166828354, -22.92465701508567], [-43.183364339928964, -22.924426034797595], [-43.182260139280565, -22.924106814679007], [-43.18166815939486, -22.924057231306513], [-43.18145388172953, -22.923962036974736], [-43.18150987684187, -22.923798685579065], [-43.18164972234587, -22.92370763522751], [-43.18192047130444, -22.923603816010925], [-43.1821362728658, -22.92358488629494], [-43.18238952905388, -22.923644767625007], [-43.182504561071255, -22.92367462053417], [-43.182774740749075, -22.923620732029317], [-43.1832996045083, -22.923512595670505], [-43.18347690445587, -22.923493222604165], [-43.18364725973269, -22.92341678655855], [-43.183764287980445, -22.923296939073186], [-43.18388835144904, -22.923234151686767], [-43.18405081964638, -22.923171804408792], [-43.18420492066226, -22.923159300010866], [-43.184335826175214, -22.92315366325276], [-43.18446664096658, -22.923162293308124], [-43.18453594275738, -22.92315595186101], [-43.184598112746095, -22.92311394923123], [-43.18459868313064, -22.923071151872286], [-43.18454554238288, -22.923013472341], [-43.18445370974236, -22.92297675044475], [-43.18427622034499, -22.923010392245658], [-43.183967063317176, -22.92309959773599], [-43.18362739201448, -22.923174094313968], [-43.183442204693094, -22.923207646177055], [-43.183227069724865, -22.92317664840977], [-43.18276675974788, -22.92306445972687], [-43.18212249667581, -22.92288595856953], [-43.18073387321611, -22.922542069567154], [-43.1802583576766, -22.92240820916374], [-43.180386618696126, -22.921739446480412], [-43.180447469766285, -22.921219633194816], [-43.18048873383455, -22.92101340157089], [-43.18055785363196, -22.920443746931554], [-43.180351284640174, -22.920348636139618], [-43.18018321221598, -22.920254060262874], [-43.18023407921239, -22.91990525753717], [-43.18012751637786, -22.91981842937814], [-43.17922175649686, -22.91962978585999], [-43.17882258351888, -22.919546824358186], [-43.17721868727506, -22.91917903542208], [-43.17719236936847, -22.91884361762727], [-43.17718021258804, -22.918608145774233], [-43.17715987934576, -22.918401118610312], [-43.1771937294, -22.918173400087348], [-43.17720324137439, -22.918030921216406], [-43.17721208665676, -22.917945414290138], [-43.177214924110196, -22.917878984507688], [-43.17722481586662, -22.917635098430097], [-43.177277104975076, -22.917165939761638], [-43.17743845110379, -22.916742552380327], [-43.177216033252854, -22.916695750670772], [-43.176787577102296, -22.91657280521873], [-43.17644167745948, -22.91414897189975], [-43.17612477389718, -22.91420637755362], [-43.17586051803759, -22.914270437654356], [-43.17558435792369, -22.913885271276808], [-43.175388643272925, -22.913612302353915], [-43.17498657951374, -22.913150115388213], [-43.17480506613378, -22.912684412143896], [-43.174270932024136, -22.913727507214904], [-43.17376571337342, -22.913099507618583], [-43.17323425256552, -22.9124589217101], [-43.172655399962196, -22.91192155188725], [-43.172107534211264, -22.911530915630358], [-43.17193114689062, -22.9114252172946], [-43.171751120938, -22.911343861466467], [-43.171495461437296, -22.91126162925187], [-43.17123994876703, -22.91116106858815], [-43.171056216592625, -22.911116241223123], [-43.17078034701579, -22.911058157921264], [-43.17055067695007, -22.911000609950207], [-43.170399542943166, -22.910974486181686], [-43.17028094456966, -22.910979170183925], [-43.170189005956196, -22.91096592001878], [-43.17009025596633, -22.910958731935388], [-43.169746977712784, -22.911027921846355], [-43.16943777202376, -22.911006117854846], [-43.16932717849375, -22.910901083891574], [-43.16926923001864, -22.910802798231714], [-43.16919763150949, -22.910741018274415], [-43.16907919710756, -22.910733512354714], [-43.16897359269585, -22.91075062641119], [-43.16832507680662, -22.910749288956804], [-43.168322290829295, -22.910956592742583], [-43.16829488238655, -22.911523652783618], [-43.168269277077215, -22.911956451074065], [-43.16821924164512, -22.912248636557838], [-43.16822504894118, -22.91230974842423], [-43.168705979516005, -22.91229091307011], [-43.16867097770581, -22.912937080506218], [-43.16865019645925, -22.913504215156475], [-43.16861920899294, -22.913851526471536], [-43.168551811635616, -22.91436204520901], [-43.16858033367463, -22.914357858999445], [-43.168677688347536, -22.914352841140897], [-43.16876129083294, -22.914399137391257], [-43.16883665216892, -22.914456537054416], [-43.168920425975124, -22.914410363038087], [-43.169017724311765, -22.91441672341465], [-43.169107583776004, -22.91438172854933], [-43.169200651805276, -22.914354897900523], [-43.169293809254526, -22.91432851974144], [-43.16939091712566, -22.914320247685577], [-43.169488332873385, -22.914317938220506], [-43.16958534373107, -22.91430948522308], [-43.169682839953886, -22.914308441712137], [-43.169780338605015, -22.91430721756291], [-43.16987766824961, -22.914311319289947], [-43.16997462813995, -22.91432110579321], [-43.17007063883397, -22.914336389790545], [-43.17016570809246, -22.914356448948663], [-43.17026290712623, -22.914363167727537], [-43.17031130345724, -22.91435966171553], [-43.17036875914898, -22.91435671158305], [-43.17042429313488, -22.914337304117964], [-43.17052194829597, -22.914404079582255], [-43.170612956113644, -22.914436372012084], [-43.170694666519914, -22.91448562639036], [-43.1707741934712, -22.914537924078914], [-43.17086409218569, -22.914572824193606], [-43.170953988762854, -22.914607814538186], [-43.17104824034653, -22.914630571957282], [-43.17112459645002, -22.91468671689972], [-43.171187322275166, -22.91475588819286], [-43.171270131159424, -22.91480344099082], [-43.17135782317386, -22.9148429181804], [-43.17143834562735, -22.91489378307455], [-43.17151926235849, -22.91494411065166], [-43.17159978176247, -22.914995066640728], [-43.1716710928273, -22.915056570538834], [-43.17175111872457, -22.91510806259396], [-43.171826088067526, -22.915165816716403], [-43.171901054562966, -22.9152235698706], [-43.17195316244213, -22.9152998447138], [-43.172005505504615, -22.915372689825684], [-43.172081269882035, -22.915429549959597], [-43.17213003567473, -22.91550768174466], [-43.17218636810111, -22.91558138545461], [-43.17225392726585, -22.915646548360844], [-43.17231606637486, -22.915716075519594], [-43.1723740685289, -22.91578871475117], [-43.1724190047514, -22.915868789053455], [-43.17244963800254, -22.91595447813546], [-43.172482910912926, -22.91603938486374], [-43.17253344269403, -22.916116634739037], [-43.17260080805924, -22.91618188739537], [-43.17262702361511, -22.91631321812391], [-43.172653250859675, -22.91640021192034], [-43.172680260566686, -22.916486942002173], [-43.17270981194853, -22.916573072819066], [-43.17272968349003, -22.916661435607764], [-43.17276188071527, -22.91674668931729], [-43.172775402238585, -22.916836066279167], [-43.172791560310074, -22.916925110560804], [-43.17281882032444, -22.91716743590907], [-43.17281928697247, -22.917176472501342], [-43.17282021444443, -22.917209082626954], [-43.172821975134305, -22.917237642308955], [-43.172789959225554, -22.917240700895878], [-43.17279148615126, -22.91729417885961], [-43.172829612897, -22.917293263953447], [-43.172830106903575, -22.91731458119165], [-43.172830378122434, -22.91735251165355], [-43.1728308240539, -22.917370217113756], [-43.172796886524786, -22.917371180226468], [-43.17279990864812, -22.917494749768203], [-43.1728307114535, -22.917494923622698], [-43.17283078652076, -22.917518403316162], [-43.17283047499762, -22.917534291286874], [-43.17282984270812, -22.917552435855225], [-43.17278646290177, -22.91755229877837], [-43.1727848640231, -22.917606100176418], [-43.172825371439544, -22.917609546321945], [-43.172824843508764, -22.917648913340464], [-43.17281928845909, -22.917707094972815], [-43.172815910173995, -22.917733514931392], [-43.172813615087904, -22.917752000674177], [-43.172787127308474, -22.917749979199396], [-43.17277008841692, -22.917850110862503], [-43.17274661451983, -22.917994146117405], [-43.172737919426176, -22.918046512202586], [-43.172766392121574, -22.91805289018061], [-43.17276108441583, -22.918085428548686], [-43.172743958917266, -22.918155667949282], [-43.17273441924747, -22.918205587933393], [-43.172729004144394, -22.918224035961018], [-43.17268922411874, -22.91821707632874], [-43.17267390017287, -22.91827677007628], [-43.17270907754594, -22.918285212801226], [-43.17269985236517, -22.91831887821649], [-43.172686484327805, -22.91836342624911], [-43.172673480991676, -22.918409782734585], [-43.1726449155727, -22.918402681243847], [-43.17260381834954, -22.918523214508852], [-43.17262955229581, -22.918530645536464], [-43.172610399928374, -22.918584968226924], [-43.1725983539851, -22.91861074569528], [-43.172585230285485, -22.918637144686418], [-43.17255716671005, -22.918628965315612], [-43.172510933324794, -22.91873986729505], [-43.17253743739198, -22.918748028725616], [-43.172528258978474, -22.91877086099248], [-43.17251625976099, -22.918793297772986], [-43.17248342958269, -22.918784429596798], [-43.172443249023644, -22.918865602979018], [-43.1724057244258, -22.918930460241132], [-43.17239919688371, -22.918937429654925], [-43.17243431047197, -22.918950565672546], [-43.172406123704455, -22.919002436456413], [-43.17236240930861, -22.91907814913801], [-43.172338447718936, -22.91911300034211], [-43.172311175233204, -22.919125780362275], [-43.17228550527419, -22.919128106367904], [-43.17226750349955, -22.919125639756402], [-43.17224293812903, -22.919118223020885], [-43.172213592833344, -22.919176582254156], [-43.172247551914076, -22.919195845638964], [-43.172272656887145, -22.91921383495814], [-43.17228562582769, -22.91923538700027], [-43.17228879835202, -22.91924589868644], [-43.17228969765108, -22.91926613694513], [-43.172279311731565, -22.919291844089944], [-43.17226418146676, -22.919315058433703], [-43.1722405041005, -22.919343324372488], [-43.172209479166355, -22.919374209398576], [-43.17218506362076, -22.9194137520143], [-43.17216728240502, -22.919431246730447], [-43.172137542166816, -22.919410044323385], [-43.172097936877535, -22.91944823811124], [-43.17204863380239, -22.919497246917587], [-43.1720024099029, -22.919534731453005], [-43.17194758208874, -22.91957401508275], [-43.171914196551064, -22.919599186476063], [-43.17189399813476, -22.91961511727021], [-43.17191357084707, -22.9196385514395], [-43.17187708076368, -22.919662602537368], [-43.17178949683309, -22.919709274109877], [-43.17174755193855, -22.919732993261313], [-43.1717028330058, -22.919760021672666], [-43.17168639068992, -22.919757573852152], [-43.171675095622156, -22.919749316502884], [-43.17166680731061, -22.919734863764564], [-43.171630635226414, -22.919749888151127], [-43.17163342169593, -22.919760034189522], [-43.17163118145593, -22.91978168114159], [-43.171628838115964, -22.919796555074875], [-43.17162501183809, -22.9198056307248], [-43.171569002876225, -22.919823950284474], [-43.17151643062715, -22.919840501534054], [-43.171505700938575, -22.919819246131777], [-43.171460187776184, -22.919832811061887], [-43.17146502412372, -22.91985742920975], [-43.17141947121428, -22.91987388156314], [-43.17137973891223, -22.919885343966723], [-43.17136135156805, -22.919889735844066], [-43.17135468195788, -22.919870968087917], [-43.17127559627993, -22.91988730508915], [-43.17120508175428, -22.919904282595688], [-43.17115323001687, -22.919910728071905], [-43.17113641233301, -22.91990719403894], [-43.171125111466786, -22.919899297797375], [-43.17111879836441, -22.919890285069048], [-43.171037358063906, -22.91990054451837], [-43.17103620832864, -22.91992075916901], [-43.17094223422793, -22.919920487520987], [-43.170806493194995, -22.91991621641627], [-43.17069296763936, -22.91990560722657], [-43.17060236746761, -22.919893726958893], [-43.17055241616105, -22.91988213622651], [-43.170501284797766, -22.919871162196646], [-43.17045942413837, -22.91985948044526], [-43.170439396396596, -22.91989898301674], [-43.17042300357331, -22.919892923512613], [-43.170408512085146, -22.919912171682682], [-43.17035299237187, -22.919886789749167], [-43.17029438391715, -22.919866518574274], [-43.17024237928141, -22.919840724694115], [-43.170237435171636, -22.919838590744664], [-43.17025132492282, -22.91981355535631], [-43.1702091568611, -22.919795731195173], [-43.17019135535595, -22.919836343928974], [-43.170095610580866, -22.9197937904414], [-43.17005334118896, -22.919776327187627], [-43.17008083266607, -22.91971830916338], [-43.17004096516538, -22.919703400270432], [-43.170022351651866, -22.91973921665893], [-43.169975051404876, -22.919718895102292], [-43.1699293592353, -22.91969497904202], [-43.16988979074857, -22.91967239960435], [-43.16990532977264, -22.91964774447128], [-43.169824292496784, -22.919591726400785], [-43.169747148049034, -22.919535842566905], [-43.169657852276174, -22.919456068912876], [-43.16959157705002, -22.919389563344026], [-43.16950485737515, -22.919284805364548], [-43.169430686264114, -22.919189401126935], [-43.16936930527973, -22.919085297336732], [-43.169304779816585, -22.918983056343503], [-43.16928424338593, -22.91893685259253], [-43.16927914434877, -22.918917377740325], [-43.16925612192397, -22.918918557132873], [-43.169238937607915, -22.918913302018996], [-43.169231799048745, -22.91888585698049], [-43.16924415688375, -22.91886586369845], [-43.16926394133253, -22.91885173363592], [-43.169282980610696, -22.918842202240416], [-43.169270008734856, -22.918806470559957], [-43.169236075154274, -22.918814296870394], [-43.1692141924569, -22.91880320818459], [-43.16920313900183, -22.918784387999654], [-43.169184800243535, -22.91869811773377], [-43.16918234689004, -22.91868481579937], [-43.16922480913048, -22.918673384510647], [-43.16921088420297, -22.91860694150867], [-43.16920670735362, -22.91855496909223], [-43.169199462192715, -22.918521021906592], [-43.16919836387592, -22.918450481655118], [-43.169197939374826, -22.9183731800557], [-43.16920374588496, -22.918282039116786], [-43.16922547067018, -22.918174287157367], [-43.16924604642549, -22.918086749828486], [-43.16927402216922, -22.917992614486703], [-43.1693172607021, -22.917887187525945], [-43.16936269534134, -22.917785036778476], [-43.16941181835952, -22.917698730670296], [-43.1694512391116, -22.917623420869532], [-43.169504591369076, -22.917519736795157], [-43.16955704192144, -22.91740312805954], [-43.16960685427913, -22.917309245264324], [-43.16963050318149, -22.91727592422808], [-43.16965305786728, -22.91723690238316], [-43.169684116139855, -22.91719635310008], [-43.16969990220087, -22.917167728382108], [-43.16974325855096, -22.91703882381938], [-43.16975065677505, -22.91694526659997], [-43.16971509252815, -22.916856809347905], [-43.1696644538794, -22.916802134094205], [-43.16957000133619, -22.91677973378318], [-43.169520054622986, -22.91677500406807], [-43.16947713145264, -22.916777398946472], [-43.16938161933754, -22.91681892088897], [-43.169310274212584, -22.91688338656843], [-43.16922176769817, -22.91696977949927], [-43.16910124880473, -22.917167779954877], [-43.1690762022464, -22.91720361237319], [-43.16904056655426, -22.917251152383407], [-43.16899640513405, -22.917301936186757], [-43.16895138081528, -22.917351713982345], [-43.16891415928877, -22.91740104353869], [-43.16888320129716, -22.917448908359003], [-43.16885308846037, -22.91749895019172], [-43.16882100558371, -22.917550504449395], [-43.16878728536839, -22.917600503760962], [-43.16875321384349, -22.917647699617678], [-43.16871757595463, -22.91769524041843], [-43.1686787934051, -22.917737687970035], [-43.1686435385712, -22.91778595469033], [-43.1686021073369, -22.917843993193195], [-43.16856097099169, -22.917894450532334], [-43.16852376862952, -22.917942694757134], [-43.16849052849487, -22.91799315194816], [-43.16845484987553, -22.91804385371759], [-43.16841687813858, -22.91809109299506], [-43.168383572737994, -22.91813929273325], [-43.16835342361662, -22.918191862515418], [-43.16832639643047, -22.91824446830497], [-43.16830087035335, -22.918294111405835], [-43.168274206071615, -22.91834879743673], [-43.16824530063906, -22.918403189406508], [-43.16820925017895, -22.91845252956358], [-43.16817433132187, -22.918497459724424], [-43.16813758296464, -22.918547876349496], [-43.16811018939161, -22.918605896045534], [-43.168089427178586, -22.918663810736692], [-43.168069044127854, -22.91872245312561], [-43.168046265807256, -22.91877790817176], [-43.16802085807522, -22.918840556212317], [-43.16799850093259, -22.918893757630205], [-43.16798085216937, -22.918959294579864], [-43.16796250068127, -22.919026269168782], [-43.16794795822533, -22.919085610144272], [-43.1679373584987, -22.91914165720676], [-43.16792636922939, -22.919204923109874], [-43.16791684045518, -22.919261071926886], [-43.16790773676502, -22.919314606860674], [-43.16789836042891, -22.919373917135946], [-43.167890030642475, -22.919427823112446], [-43.167877773864895, -22.919483850141972], [-43.167865658351836, -22.919543942434547], [-43.167859266902845, -22.919606086540874], [-43.1678522041888, -22.9196600080368], [-43.16784387050023, -22.919714273368136], [-43.16783673226016, -22.919773882175992], [-43.16782998171895, -22.919833584856676], [-43.16782488681317, -22.91990080179025], [-43.16782247575502, -22.919956851220448], [-43.16782154616376, -22.920011474704346], [-43.16781944331005, -22.920066352848387], [-43.1678166374633, -22.92012276164236], [-43.16781344855424, -22.92017844088231], [-43.167811750757004, -22.920225018533635], [-43.16781164143289, -22.920291208457485], [-43.167848155048006, -22.92033795706017], [-43.16790141225417, -22.920372073136065], [-43.16795341618292, -22.920405001697706], [-43.16792406360023, -22.920456496904766], [-43.16786238741382, -22.92044666458488], [-43.167804313805355, -22.920459269858725], [-43.16780540122209, -22.92051599268106], [-43.167833363250104, -22.92056796867183], [-43.16786592540984, -22.920618733501534], [-43.16789434108996, -22.920673151995935], [-43.167917541630814, -22.920723990295485], [-43.16791865047827, -22.920779267614506], [-43.1679384286184, -22.920830878242555], [-43.167955810129826, -22.920886796659367], [-43.167963158384495, -22.920942056576827], [-43.16796613013811, -22.920996542665108], [-43.167963337912006, -22.92105186707633], [-43.16796047477634, -22.92111260884771], [-43.167963181716054, -22.921179464290855], [-43.167970900784454, -22.921243396669286], [-43.16798332884728, -22.92130512761767], [-43.16800080825265, -22.92136826959282], [-43.16802127972624, -22.92141907548707], [-43.16804615722306, -22.921475711611315], [-43.16806676418761, -22.92153094300735], [-43.168084153572444, -22.921586139983248], [-43.16809185293081, -22.921644293641915], [-43.168091426879535, -22.92170497232907], [-43.16809168215769, -22.92176565887755], [-43.1680943480275, -22.92182854051265], [-43.168097816024044, -22.9218896244404], [-43.168098452102264, -22.92194381447036], [-43.168098691482946, -22.92199836113446], [-43.168098209471935, -22.922055878569385], [-43.16809499143588, -22.922114086856837], [-43.168075426395504, -22.922169848940122], [-43.168035437607095, -22.922214812604675], [-43.167990790728304, -22.92225086739529], [-43.16797946722231, -22.92225922520451], [-43.167956936793246, -22.922267272177464], [-43.16789927786213, -22.92228493919413], [-43.16784127405253, -22.92230657463634], [-43.16778557965389, -22.92233031638649], [-43.16772523919614, -22.922352011507666], [-43.16765830482513, -22.922377968653265], [-43.16760069469355, -22.92239924914108], [-43.16754535461981, -22.922418386732257], [-43.167482314240765, -22.922444749958217], [-43.16742905660284, -22.922468878206534], [-43.16737177407194, -22.92248754179705], [-43.16730747202653, -22.922506304938118], [-43.1672522273882, -22.922525806541763], [-43.16719501292631, -22.922546725715954], [-43.167155448773855, -22.922567128929156], [-43.167113227273475, -22.92257512904638], [-43.16707819592225, -22.922592154866337], [-43.16704611238795, -22.922614630179904], [-43.16705254697601, -22.92265082654895], [-43.16709010276481, -22.922663544062704], [-43.16712908563908, -22.922657217803103], [-43.16716505598365, -22.922643004913485], [-43.167193830368426, -22.92262744198889], [-43.167239769169, -22.92261117689488], [-43.167300157778435, -22.922593452242637], [-43.1673609408721, -22.922575462114555], [-43.167425160048566, -22.92255561436133], [-43.16748634783147, -22.922536454013365], [-43.16755284285963, -22.922514103993745], [-43.167615698954975, -22.922508688899658], [-43.16765533607729, -22.92255511059728], [-43.1676934010344, -22.92260259777623], [-43.167730309039904, -22.922656302498403], [-43.167765672318644, -22.922708815446633], [-43.16779833986686, -22.92275895210858], [-43.167832078992305, -22.922809004507613], [-43.16786661464038, -22.922857895766548], [-43.16790478020284, -22.922912338293706], [-43.16794094381342, -22.92296341469425], [-43.16797863884049, -22.923016676934473], [-43.168017882755244, -22.923070681270676], [-43.16805485317663, -22.923119690894126], [-43.16809489250704, -22.92317261895097], [-43.16812709261717, -22.92322121230149], [-43.16816877967281, -22.923282106016746], [-43.16820257762537, -22.923335052334032], [-43.16823367680923, -22.923393023568426], [-43.16826199661343, -22.92344744271834], [-43.16829436309096, -22.92351274400899], [-43.16832227363251, -22.923568602372313], [-43.16835068517123, -22.923623381973393], [-43.168382955112406, -22.923681368497718], [-43.16841677885357, -22.923739732349464], [-43.16845179170951, -22.923796666872928], [-43.168489887108656, -22.92385643544283], [-43.16852721416566, -22.92391520090489], [-43.16856346631194, -22.923974229382573], [-43.16859691489291, -22.92403150343207], [-43.16862597068233, -22.924081958590694], [-43.168652017210896, -22.92413138298749], [-43.16868232335119, -22.92419042953853], [-43.16870758624432, -22.92424020609958], [-43.16873633357247, -22.924298962847764], [-43.168766615240756, -22.924359907271793], [-43.16879147590507, -22.924410673417665], [-43.168817508334804, -22.924468406406366], [-43.16884120784001, -22.924518527030664], [-43.16886440347372, -22.924569725475603], [-43.16890822998482, -22.924667397921247], [-43.16890961637866, -22.924701908748133], [-43.16893109793392, -22.924742974382944], [-43.16895561117482, -22.92478326135477], [-43.16898403069643, -22.924823051562274], [-43.16901400013021, -22.924863581163283], [-43.169048207102335, -22.924900729025154], [-43.1690759297865, -22.924941594816808], [-43.16909208151389, -22.92498738501763], [-43.169116360218155, -22.92503787350036], [-43.16913567076056, -22.925080898931782], [-43.16915517686993, -22.92513106145561], [-43.169176540832304, -22.925180885095884], [-43.169198534803414, -22.925227284486486], [-43.169220828758526, -22.925273053407377], [-43.16924094220962, -22.925314373234766], [-43.169268572441176, -22.92536923489481], [-43.16928973241968, -22.925412553452208], [-43.1693135115925, -22.92545662554032], [-43.169337800136525, -22.925506393490934], [-43.1693608027379, -22.92555036360532], [-43.16938167204832, -22.92559340698853], [-43.16940444594921, -22.925639815350003], [-43.169425612565355, -22.925682500945065], [-43.16945474041278, -22.925742075604187], [-43.16947523443966, -22.92578403101374], [-43.169494562139604, -22.92582579507462], [-43.169517759425396, -22.925876903157395], [-43.169537462764744, -22.925919662169466], [-43.16955871841767, -22.925962982703656], [-43.16958062366022, -22.926008748003703], [-43.169601172753524, -22.926053865542556], [-43.16961941495855, -22.926096609504018], [-43.1696381227345, -22.926140982479957], [-43.16966009200577, -22.92618909638709], [-43.16968024833004, -22.926234571503713], [-43.16970191768312, -22.92628331406884], [-43.16972183810162, -22.926331763750674], [-43.16973975215489, -22.92638434965238], [-43.16976238663194, -22.926412060032817], [-43.16979422216698, -22.92645893313893], [-43.16982075300025, -22.926508725979264], [-43.16984286800287, -22.926567768208084], [-43.16986347753, -22.926622910048227], [-43.169883450369, -22.926674793637805], [-43.169909792010955, -22.9267386706487], [-43.16993389009906, -22.926795387853183], [-43.16996135940459, -22.926847900583972], [-43.169987536324825, -22.926902202664863], [-43.17001402046621, -22.926955336151245], [-43.17004055730549, -22.927004766915633], [-43.17006772410269, -22.927058177367595], [-43.17009550437216, -22.927109248816155], [-43.17012296265151, -22.927162663523607], [-43.17014655466361, -22.927213594572777], [-43.170178077676965, -22.927261909762777], [-43.17021076922826, -22.92731032781793], [-43.17024085023807, -22.92736431365725], [-43.17026472890304, -22.927415611014325], [-43.17029482665142, -22.927468426711197], [-43.17032912784477, -22.92752047542036], [-43.1703513135418, -22.927581683872805], [-43.17034775403562, -22.927636185854883], [-43.17036194256773, -22.927690350598475], [-43.17037168400284, -22.927748979230238], [-43.17039523517892, -22.92780289068069], [-43.17043032237097, -22.927847094780518], [-43.17045285397154, -22.92790433297374], [-43.17044967954335, -22.9279592006084], [-43.17048602385914, -22.92800431860621], [-43.17050766947145, -22.9280548677712], [-43.170513512341934, -22.92812067570132], [-43.17053732040802, -22.928177389488777], [-43.17055040793591, -22.928233618498076], [-43.17055913732713, -22.928294945449437], [-43.17056538378322, -22.928352629856366], [-43.17056868720817, -22.928411456087137], [-43.17058277744729, -22.92846561877926], [-43.170605358652175, -22.928519248116473], [-43.17061994693376, -22.92858009987128], [-43.17063172047612, -22.928639655844737], [-43.17064860846174, -22.928703422895676], [-43.17067078184804, -22.928758312670332], [-43.17069598290542, -22.92881287431896], [-43.17071658455558, -22.928868649003928], [-43.170710741898816, -22.928926194980644], [-43.17071146565134, -22.928981107545578], [-43.17072455426713, -22.92903733745889], [-43.1707383419907, -22.929092400586562], [-43.17075634940304, -22.92914534507303], [-43.17076527344705, -22.92919944821216], [-43.17076809192367, -22.9292654957988], [-43.17077752907111, -22.929325021224475], [-43.17078573899957, -22.92938155521631], [-43.17079521250856, -22.92943837467921], [-43.170809231106034, -22.929497955612547], [-43.17082026474067, -22.929562016390967], [-43.17083234129826, -22.92962094372328], [-43.17085326465776, -22.929674553927477], [-43.17087612351882, -22.929729089464967], [-43.17089674038318, -22.92978396308346], [-43.17091377680945, -22.929836623651017], [-43.17093475913543, -22.9298930339191], [-43.17094885181917, -22.929947106310664], [-43.17095735062225, -22.930003915436426], [-43.170975341236606, -22.93005812395189], [-43.17098452339068, -22.93011494004829], [-43.170968941389, -22.930171741673128], [-43.17097591428251, -22.93022609412912], [-43.170989554254014, -22.930284767656484], [-43.17100398450379, -22.930342818168988], [-43.17101472900297, -22.930399381358725], [-43.17103267600936, -22.930456841177577], [-43.171044223636784, -22.93051160756083], [-43.171054664571656, -22.93056907028016], [-43.17106625171357, -22.930635485300726], [-43.17108027414142, -22.93069479625309], [-43.17109887810291, -22.930754159096352], [-43.17110761366958, -22.930815123074883], [-43.171113529589654, -22.930875515452286], [-43.17111577772605, -22.93093315376527], [-43.17112227127358, -22.930994092810153], [-43.1711343068353, -22.9310560881469], [-43.17114418720026, -22.931111739244578], [-43.17115576953742, -22.931178517221973], [-43.171158790233044, -22.93123670715696], [-43.171164108752095, -22.931290768729294], [-43.17117457425346, -22.93134633626483], [-43.171182074158395, -22.93140493902552], [-43.17119176276037, -22.93146753853192], [-43.17120224813486, -22.931528886589252], [-43.17121007325006, -22.931585054012228], [-43.17121665172705, -22.931639673725034], [-43.17121833077079, -22.931696132441076], [-43.17121969069529, -22.931754574145337], [-43.17122330986875, -22.931811687337877], [-43.17122728210506, -22.93187169429406], [-43.17123123227758, -22.931926012810525], [-43.1712280412057, -22.93198205419456], [-43.1712196650407, -22.932039570077293], [-43.17121120252742, -22.932096182837004], [-43.171224714219164, -22.932149979410735], [-43.17123879019579, -22.932205316733572], [-43.17124170397273, -22.93226413755217], [-43.17124566022399, -22.932325407660514], [-43.17125126659086, -22.93237974525929], [-43.17126043099186, -22.93243782537645], [-43.171254911780366, -22.932493208712614], [-43.17124584665443, -22.932550987562305], [-43.17125016808773, -22.932606845504353], [-43.17124629851252, -22.932662516950543], [-43.17124148319427, -22.93272341687692], [-43.17123753429068, -22.93278513861028], [-43.171236209839385, -22.93284752270626], [-43.171235533582255, -22.932905127310292], [-43.171234884675734, -22.932967881304815], [-43.17123366224971, -22.933044444142244], [-43.171232734728605, -22.933098979160384], [-43.171231720182625, -22.933159920171374], [-43.17123015567031, -22.9332183272641], [-43.17122990665461, -22.93327322950563], [-43.17123414124829, -22.933335406748835], [-43.17123480711272, -22.933394563772115], [-43.17123289100174, -22.933450257722402], [-43.17122255560618, -22.933508384037413], [-43.1712242312165, -22.933565023309196], [-43.17122657780215, -22.933622663645476], [-43.1712177741871, -22.93368288457831], [-43.17121159891361, -22.933743406707386], [-43.17120726630972, -22.933804582191048], [-43.17119167173214, -22.9338622866813], [-43.17118276570887, -22.933930273386796], [-43.17118290946595, -22.9339848198403], [-43.17118363428123, -22.93403973058941], [-43.17117972141673, -22.93409883393809], [-43.171175286230074, -22.93415305490676], [-43.1711720634786, -22.93421144378347], [-43.171170488216596, -22.934270573166458], [-43.17116754285788, -22.934330230383317], [-43.171165836870195, -22.934391977947598], [-43.171166225296325, -22.93445022783289], [-43.17116528462856, -22.934505663009013], [-43.171164367451865, -22.934566606935906], [-43.171163365406265, -22.934626828363633], [-43.17115793306544, -22.934682842991673], [-43.1711487177821, -22.93474459521717], [-43.17114087573717, -22.934805730243724], [-43.17113638374228, -22.934864465697903], [-43.171134798481866, -22.934924408589318], [-43.17113384929272, -22.9349804757839], [-43.171128437547395, -22.935034954591455], [-43.17112066071755, -22.93509130521185], [-43.17111129262809, -22.935149985368547], [-43.17109113677348, -22.935206102110598], [-43.171064917881246, -22.93525646078754], [-43.171040969686345, -22.93530449685021], [-43.1709996367851, -22.93533300770603], [-43.170946271948075, -22.93535018140064], [-43.17089195159453, -22.93537294465114], [-43.17084286252265, -22.935398205458412], [-43.17078061471164, -22.935430539704107], [-43.170713978242965, -22.93546282152669], [-43.17065700787139, -22.935487177790012], [-43.17061021540072, -22.935508402266933], [-43.17055097933547, -22.93553426842308], [-43.170490412710386, -22.93555750043086], [-43.17043562600561, -22.93557149785285], [-43.17036440966875, -22.93558196461585], [-43.170305072426295, -22.935586337414836], [-43.17023269163907, -22.935596610085373], [-43.17016692302572, -22.935615086230598], [-43.17010616518501, -22.935623596506648], [-43.17004141643442, -22.93564605678362], [-43.1699802894097, -22.93566034304176], [-43.16991139194928, -22.9356723714882], [-43.16985266261102, -22.935675036273615], [-43.16978765325702, -22.935673292260994], [-43.16972412479992, -22.9356703949769], [-43.169656408921796, -22.935674306969847], [-43.16959735457385, -22.935679317592758], [-43.169538037961225, -22.935682152480666], [-43.169473116250174, -22.93568853751286], [-43.16941005434807, -22.93570162548328], [-43.16935030676493, -22.935714757081314], [-43.16929210418973, -22.935729072290723], [-43.16923044677583, -22.935753645759394], [-43.16917601712315, -22.935777400467416], [-43.16911956033656, -22.935806819944897], [-43.169063961274475, -22.935844737767365], [-43.16902284920711, -22.93588607363049], [-43.16898346338476, -22.935929324857344], [-43.169030795061374, -22.935962200329016], [-43.16908385250601, -22.935939063770096], [-43.16913979369079, -22.93590449019341], [-43.16919430644088, -22.93587441616171], [-43.16925011786637, -22.93584977707146], [-43.169305441021734, -22.935832082036974], [-43.16936353503981, -22.935818664989444], [-43.169422112817905, -22.935805524409282], [-43.16948018155916, -22.935793913083867], [-43.16954342669353, -22.935788953558138], [-43.16960636797312, -22.935784983833805], [-43.16966632235457, -22.935785405377036], [-43.16972879164483, -22.93578738924771], [-43.169848190464755, -22.935790120892534], [-43.16985652269764, -22.93585929870777], [-43.16979419190161, -22.93586869374484], [-43.1697335581233, -22.93587521863774], [-43.169675427323654, -22.935884120252652], [-43.16961399934658, -22.93589162927034], [-43.169543211678594, -22.935906527243734], [-43.16947526343313, -22.935920460092408], [-43.16941987758886, -22.93594267050924], [-43.169359410658615, -22.93597303533525], [-43.1693103422033, -22.936011299491692], [-43.16926764954247, -22.93605388052118], [-43.16922781987782, -22.936101282427156], [-43.16919126589318, -22.93614420606803], [-43.169147611431455, -22.93618587383785], [-43.16910720084246, -22.93622550115315], [-43.16906810830143, -22.93626876029464], [-43.169031259139686, -22.936311948686377], [-43.16899827812302, -22.93635735258283], [-43.16896284269704, -22.936396767257534], [-43.16892987405079, -22.936397831672355], [-43.168907456883524, -22.936397210878383], [-43.168884294651555, -22.93640145964395], [-43.16886716989227, -22.936413361710674], [-43.168870109800025, -22.936448343745315], [-43.16889620404381, -22.93646553149682], [-43.16891131163088, -22.936480515499245], [-43.16887570481539, -22.936525346344553], [-43.16883568615338, -22.936564888702403], [-43.168799786121646, -22.936609987052588], [-43.168768422092846, -22.93665838864318], [-43.168740506459685, -22.936711435468023], [-43.16871110395408, -22.93675904695586], [-43.168671332654554, -22.936801935131115], [-43.168642730936774, -22.93685524402166], [-43.16861411468168, -22.936916950902233], [-43.168587911289954, -22.93696577322084], [-43.16856815690922, -22.93702108146892], [-43.16855060281758, -22.93707930570283], [-43.16852566395823, -22.937128415317133], [-43.16851396713715, -22.93718616262377], [-43.16851171014322, -22.937245284931482], [-43.16852519196421, -22.93730124769479], [-43.16853596851544, -22.937355375884955], [-43.1685353158075, -22.93741830671921], [-43.16853436254368, -22.937474734988818], [-43.16853253483396, -22.937530791953638], [-43.16852570362563, -22.93758922934276], [-43.1685111487785, -22.93764207001192], [-43.16852648379312, -22.93769805416503], [-43.16853535863914, -22.937755769808582], [-43.16852270753774, -22.93781197275241], [-43.168526332365055, -22.937868723866693], [-43.16852406973634, -22.937928117916204], [-43.16850076097351, -22.937979321487383], [-43.16850675624772, -22.93803366268859], [-43.168508435981096, -22.938090122247914], [-43.168531994193174, -22.93814349223243], [-43.168555136493616, -22.938198934378565], [-43.16855398627789, -22.938255361273203], [-43.16856907289505, -22.938308000448153], [-43.16859294986237, -22.938359568048167], [-43.16859464955518, -22.938414401483055], [-43.16858436110283, -22.93846891594213], [-43.16858757559044, -22.93852710806508], [-43.16860528945099, -22.93858013967597], [-43.168624929943356, -22.93863490837331], [-43.16864814527199, -22.93869188740322], [-43.168654411721256, -22.93874803597964], [-43.168681885238584, -22.93880027900653], [-43.168718183932995, -22.938849009966937], [-43.16875916056055, -22.93891224426541], [-43.16879098254261, -22.938960291424397], [-43.16881906173422, -22.939011004467343], [-43.168845525084144, -22.939065942187963], [-43.16887490568641, -22.939121457195096], [-43.16890697064665, -22.939173119251834], [-43.16895442943087, -22.939218366845214], [-43.168990727604964, -22.939267006540152], [-43.169025205133444, -22.939313280053376], [-43.16907515791017, -22.939347087031706], [-43.16912372988076, -22.9393821432048], [-43.16915933117556, -22.93943185936136], [-43.16919525442308, -22.939486636184924], [-43.169228189339485, -22.93953162581376], [-43.16925678366937, -22.939580449278182], [-43.16928907502703, -22.939636899028127], [-43.169317740166285, -22.939687709962843], [-43.16934568433087, -22.939741310156627], [-43.16937424159942, -22.939792750152023], [-43.16940319050373, -22.93984428767361], [-43.16943655373176, -22.93989361674372], [-43.1694698985404, -22.93994438953778], [-43.16950027861225, -22.939990795391004], [-43.169531724506356, -22.94003784475244], [-43.169569110729455, -22.940085504457418], [-43.16960450052403, -22.940129077494902], [-43.16965028658521, -22.94017556984754], [-43.16968874327874, -22.940223241876954], [-43.169727944684304, -22.940273540368615], [-43.16977081412646, -22.940326592056106], [-43.16980488671082, -22.94037394257942], [-43.16984113023866, -22.94041951208144], [-43.169880636568244, -22.940468822532235], [-43.16991939656717, -22.940515775588544], [-43.16996450858472, -22.94056876189165], [-43.17000555484863, -22.94061971733478], [-43.17004035131167, -22.94066400225425], [-43.170077591692646, -22.94070795865826], [-43.170114187947064, -22.94075624125967], [-43.17015003371213, -22.940802257626682], [-43.17018953311429, -22.940845065221353], [-43.17022607104179, -22.940890367133182], [-43.17026445760146, -22.940935960362776], [-43.17030114831001, -22.940984696433212], [-43.17033851514526, -22.941033619093158], [-43.1703783945388, -22.941084288280678], [-43.17041535506991, -22.941127247153347], [-43.17045150805485, -22.94117218336924], [-43.170491683268494, -22.941215358999138], [-43.17053341075716, -22.941259185542503], [-43.170574686013346, -22.941300389884326], [-43.17061486518311, -22.941343204320614], [-43.170653952583045, -22.941387452811338], [-43.17069119919519, -22.941431047045903], [-43.1707313258565, -22.941470519644323], [-43.17077406378634, -22.941511649598404], [-43.170815720679165, -22.941553487695376], [-43.170857368115676, -22.941595958696706], [-43.17090113559821, -22.94163303686049], [-43.1709311849941, -22.941682417756056], [-43.1709546780272, -22.941733348513154], [-43.17098880299269, -22.941784401836834], [-43.1710304456982, -22.941827233955152], [-43.171074505786194, -22.941864313643677], [-43.17112300496185, -22.94189756327525], [-43.17116421005696, -22.941936687899144], [-43.171214563734345, -22.941969867676534], [-43.171266161768806, -22.941997372700687], [-43.1713168338991, -22.9420284800552], [-43.171359892331985, -22.942067625092033], [-43.171399319716706, -22.94210844582811], [-43.17143982532317, -22.94214891686809], [-43.171484298615454, -22.94218428636332], [-43.1715320123083, -22.94221788623234], [-43.171576938878765, -22.942255879711784], [-43.17162253720578, -22.942294603344532], [-43.17166704377798, -22.942334760132997], [-43.17171158411499, -22.942372478218015], [-43.17175901683477, -22.94241248629231], [-43.17180617505256, -22.942451228755942], [-43.17185069629795, -22.942490301128956], [-43.17190058013551, -22.942522120748386], [-43.171941833416824, -22.942564947260475], [-43.17198559665806, -22.9426023863156], [-43.17203263767698, -22.942635346175436], [-43.17207965201348, -22.94267029418499], [-43.172125904677515, -22.942703877959392], [-43.17217508781852, -22.942737134272623], [-43.17222904811557, -22.942770355306283], [-43.172276378078905, -22.942803589336993], [-43.172319525024086, -22.94284336998647], [-43.1723495128679, -22.942890131154176], [-43.17238999620108, -22.94293222626788], [-43.17243196921711, -22.942972084572332], [-43.17247396756838, -22.943010493796844], [-43.1725174301622, -22.943048560472644], [-43.17256110693065, -22.943085274157898], [-43.17261324695523, -22.94311603592511], [-43.17265801430126, -22.943151409410106], [-43.172707280927135, -22.943185658962673], [-43.17276274313919, -22.94322323257188], [-43.172810838750124, -22.943257558910176], [-43.172854988772336, -22.943295273110294], [-43.172896270459574, -22.943336023661285], [-43.17294736280639, -22.9433722817395], [-43.17299649181137, -22.943402195986728], [-43.173048855655594, -22.94343097353418], [-43.17310501211346, -22.94346042595756], [-43.173155201436, -22.943491255398484], [-43.17320739803541, -22.943525087935512], [-43.17326165039903, -22.94355831200762], [-43.17331486508131, -22.94358908683776], [-43.17337868737084, -22.94362151803486], [-43.17342959172258, -22.94365000775102], [-43.173478820615735, -22.943679832705826], [-43.17352983684203, -22.943714373977432], [-43.17358055483429, -22.943749634223938], [-43.17363155367426, -22.94378562011234], [-43.173677539441385, -22.943824617671396], [-43.17372527725795, -22.94385650416362], [-43.17378617196165, -22.943888991808127], [-43.17384489525417, -22.943923443809243], [-43.17388987257939, -22.94396486607718], [-43.1739359157386, -22.944006935431883], [-43.17398225794797, -22.944048374289896], [-43.174028953920484, -22.944085395974522], [-43.17407533930354, -22.94412376681012], [-43.17412490782462, -22.94415729790974], [-43.17417761822275, -22.94418201546494], [-43.17423389298842, -22.944202620088905], [-43.17429663126819, -22.94421399787316], [-43.17435943360363, -22.944227724247515], [-43.17441782852123, -22.94423580109402], [-43.17447943331009, -22.944244456674284], [-43.17453783778522, -22.9442589450987], [-43.17459791813596, -22.944264874002766], [-43.17466094906578, -22.944268759865672], [-43.1747224601891, -22.944270008527532], [-43.17478220025745, -22.944272231024733], [-43.174843243967544, -22.944271763020424], [-43.174907367455596, -22.94427430319879], [-43.17497040518941, -22.94427782870862], [-43.17503112476852, -22.94427979147187], [-43.17509449518574, -22.94428024955484], [-43.175158440006534, -22.944274301803894], [-43.17521948678339, -22.94426633492861], [-43.17528048655888, -22.944261799905956], [-43.175340264880624, -22.94424677385579], [-43.17540320982898, -22.944242531164377], [-43.175465073606084, -22.944246494490063], [-43.17552838868072, -22.94424388055675], [-43.17558744893032, -22.94423128523751], [-43.17564580689697, -22.94422030817677], [-43.175702623024165, -22.944200553067603], [-43.175756402555145, -22.94417471181309], [-43.17581210609395, -22.944158014171556], [-43.175870500104345, -22.944144417749015], [-43.17592812869704, -22.944129366751945], [-43.175985312674335, -22.94411133242718], [-43.17603824133667, -22.94408349552526], [-43.17608911691073, -22.944055995308943], [-43.176146460558265, -22.94402604456406], [-43.17620066616609, -22.944004631091442], [-43.176252606301084, -22.943977867288055], [-43.176312784889674, -22.94394008909268], [-43.17636314800421, -22.943907166514432], [-43.176410513393996, -22.943872312192894], [-43.17675518421222, -22.94366162253231], [-43.1766029191025, -22.942407458431024], [-43.17651914934533, -22.94109141016372], [-43.1768365722465, -22.94094894856426], [-43.17745895170288, -22.940757791772086], [-43.17767261250204, -22.940791580269764], [-43.17791996222088, -22.9408361420483], [-43.17857271822015, -22.940895831475032], [-43.17831346247171, -22.94005791203437], [-43.18039344243417, -22.93957030044189], [-43.1813786824044, -22.938899353319673], [-43.18205353616053, -22.939099614412804], [-43.18284803232446, -22.93941656214272], [-43.18340913626801, -22.939570992656325], [-43.185227164625616, -22.940578271496626], [-43.1854701981668, -22.940581051156897], [-43.18722794234656, -22.940575226017714], [-43.18721815540782, -22.94051181237393], [-43.18721848695326, -22.940421332093717], [-43.18720754266747, -22.940349867314563], [-43.187405150517264, -22.940256853904465], [-43.18752740798348, -22.940206235756804], [-43.18760298699964, -22.940146505479618], [-43.18766955350444, -22.94006066481453], [-43.18769866720107, -22.93998306455486], [-43.18770977365187, -22.939844666773972], [-43.18777793537843, -22.939646325219908], [-43.187797363131594, -22.939585862267606], [-43.187845420635455, -22.939491232171957], [-43.18787430739457, -22.93943087814201], [-43.188016912069955, -22.939250725815988], [-43.18808324609236, -22.93918222054955], [-43.18820584825441, -22.939105689540142], [-43.18843618303246, -22.939359361481333], [-43.18860213922078, -22.939534459238896], [-43.1888330480219, -22.939744883638888], [-43.18895277028105, -22.93988486704933], [-43.18900698108221, -22.940024010531932], [-43.189041881952384, -22.940214950237365], [-43.18912324963047, -22.940423669167842], [-43.18938223893833, -22.940634411558285], [-43.189502208995144, -22.940748390019234], [-43.18957536976721, -22.94087041220707], [-43.189601833048954, -22.940991991826284], [-43.18960911878108, -22.941147938869143], [-43.18960762224765, -22.94126043909706], [-43.18974677379032, -22.94133995791296], [-43.18979287603502, -22.94139250057488], [-43.18980075623362, -22.941496440460707], [-43.18978052316563, -22.941617487261517], [-43.1896828853965, -22.94192809919763], [-43.18969953001175, -22.942084155726572], [-43.18971688529155, -22.94217953368019], [-43.18977200295361, -22.942258094534854], [-43.189845163498994, -22.942380206030546], [-43.189871875612205, -22.942475781033476], [-43.189888866395165, -22.942605830467844], [-43.18989672667552, -22.942718530460557], [-43.189867729795765, -22.942787461523103], [-43.18977168734407, -22.942985486758815], [-43.18963672787381, -22.943287005370333], [-43.18940572394077, -22.94378663723772], [-43.189310965172936, -22.943880826823143], [-43.189216205536944, -22.94397492512755], [-43.18913080451988, -22.94406922140132], [-43.189119831816576, -22.944190373736735], [-43.18913739748371, -22.944277177099973], [-43.18924845705401, -22.944364951926943], [-43.18942448763546, -22.944479571348186], [-43.1896006160349, -22.944594189898165], [-43.18966509256006, -22.94467285762057], [-43.18972045955287, -22.94472541395835], [-43.18971029449726, -22.944785891612277], [-43.18969099980916, -22.944829018015085], [-43.18963436469737, -22.94487162708454], [-43.18957784855017, -22.94490565865699], [-43.18953059320032, -22.94493970469171], [-43.18948251264168, -22.945043095279274], [-43.18949975167077, -22.945147141948144], [-43.18959255287638, -22.945200215868535], [-43.18968593173835, -22.945209950650735], [-43.18974231682278, -22.94519325401667], [-43.18980853976447, -22.945133417855622], [-43.18986551698084, -22.945064804318708], [-43.189950688551555, -22.94498784422467], [-43.19006313230085, -22.94497178799302], [-43.19016598150872, -22.944972961398165], [-43.19030594181561, -22.944991897275635], [-43.190473635731465, -22.945037065593446], [-43.190566667816455, -22.945072803315522], [-43.19063127912973, -22.94513413484386], [-43.19065878124741, -22.94517770391737], [-43.190667334699185, -22.945238396048516], [-43.19066560702319, -22.945368322223185], [-43.190710693768935, -22.945490023801604], [-43.19085863105639, -22.94561298957263], [-43.19105302163367, -22.945762401161524], [-43.191266724527445, -22.945860108193873], [-43.19148109544064, -22.94591447686288], [-43.19186376049229, -22.945962094470392], [-43.19229870389647, -22.945949802616404], [-43.1924566932403, -22.94602086667339], [-43.19264230280764, -22.946126830646566], [-43.192828139790684, -22.94621554811668], [-43.19304276355906, -22.946244000478252], [-43.19337873007658, -22.946291082550793], [-43.1936547055901, -22.946215120294983], [-43.19400402863691, -22.946152091494532], [-43.19516825272265, -22.945725471661707], [-43.196422889732986, -22.945046749461962], [-43.199598663689116, -22.94334997948185], [-43.19965558631965, -22.943336809872008]]], &quot;type&quot;: &quot;Polygon&quot;}, &quot;id&quot;: &quot;0&quot;, &quot;type&quot;: &quot;Feature&quot;}], &quot;type&quot;: &quot;FeatureCollection&quot;});\n",
       "\n",
       "        \n",
       "    \n",
       "            geo_json_2f050c7630c2f14f00337aaaab16cf13.addTo(map_1035e241e0d6ead3de7800ecedb7bbbe);\n",
       "        \n",
       "    \n",
       "        function geo_json_1c3f2c1ab533611811e120b3e84fbdca_styler(feature) {\n",
       "            switch(feature.id) {\n",
       "                default:\n",
       "                    return {&quot;color&quot;: &quot;black&quot;, &quot;fillColor&quot;: &quot;#FC4E2A&quot;, &quot;fillOpacity&quot;: 0.7, &quot;weight&quot;: 1};\n",
       "            }\n",
       "        }\n",
       "\n",
       "        function geo_json_1c3f2c1ab533611811e120b3e84fbdca_onEachFeature(feature, layer) {\n",
       "            layer.on({\n",
       "            });\n",
       "        };\n",
       "        var geo_json_1c3f2c1ab533611811e120b3e84fbdca = L.geoJson(null, {\n",
       "                onEachFeature: geo_json_1c3f2c1ab533611811e120b3e84fbdca_onEachFeature,\n",
       "            \n",
       "                style: geo_json_1c3f2c1ab533611811e120b3e84fbdca_styler,\n",
       "        });\n",
       "\n",
       "        function geo_json_1c3f2c1ab533611811e120b3e84fbdca_add (data) {\n",
       "            geo_json_1c3f2c1ab533611811e120b3e84fbdca\n",
       "                .addData(data);\n",
       "        }\n",
       "            geo_json_1c3f2c1ab533611811e120b3e84fbdca_add({&quot;features&quot;: [{&quot;geometry&quot;: {&quot;coordinates&quot;: [[[[-43.18250496691897, -22.986485243560892], [-43.182571790739004, -22.986411420082412], [-43.18263386886212, -22.98642983071813], [-43.182685087191985, -22.986377862950935], [-43.182649834496196, -22.986279027543425], [-43.182574415371754, -22.986215311544832], [-43.18249876440311, -22.98617606492014], [-43.18236384047109, -22.986156819339953], [-43.1822926821556, -22.986124485377406], [-43.182220373358874, -22.98601772956261], [-43.182027354372806, -22.985996009212723], [-43.18183876206875, -22.986080535536576], [-43.18190883684606, -22.986230069402573], [-43.18212280002031, -22.986268375968745], [-43.182370995083424, -22.98635105069385], [-43.18241890081544, -22.986459061611136], [-43.18250496691897, -22.986485243560892]]], [[[-43.17257816351365, -22.96648322895378], [-43.17261325262591, -22.966499075214784], [-43.17264934496216, -22.96651276486566], [-43.17268655257495, -22.966523579484953], [-43.1727240621717, -22.966533403344194], [-43.17276136705516, -22.966543947256636], [-43.17279605647838, -22.966560511293327], [-43.17282974877801, -22.966578779580672], [-43.17286344035063, -22.966596957550212], [-43.17289753143443, -22.96661450709594], [-43.17293192328644, -22.96663151918821], [-43.172966513049246, -22.96664817324671], [-43.17300030656523, -22.966666169952386], [-43.17303359940717, -22.96668506751999], [-43.17306749066097, -22.966702976842], [-43.173103685462344, -22.966716306364386], [-43.17314078886489, -22.96672748089131], [-43.173177386810345, -22.966739912016582], [-43.17321267713142, -22.966755309859778], [-43.17324746660089, -22.96677169435044], [-43.17328145807716, -22.966789333875948], [-43.1733157488689, -22.966806616535937], [-43.1733506404974, -22.966822730371273], [-43.17338483041262, -22.96684019155711], [-43.17341703043644, -22.966860519493483], [-43.17344972843825, -22.966880221042818], [-43.17348232554323, -22.96690010202871], [-43.17351641799125, -22.96691756206485], [-43.17355281128728, -22.96693071497729], [-43.17358961137, -22.96694269773035], [-43.173626309816385, -22.966954769606883], [-43.173663313415524, -22.966966122569268], [-43.173700515921205, -22.96697711570104], [-43.173737517571546, -22.966988469527298], [-43.17377381439338, -22.96700162037648], [-43.17380820327634, -22.9670187243632], [-43.17384349454722, -22.967034207871407], [-43.17388009285129, -22.967046551252043], [-43.17391719668174, -22.96705763350087], [-43.173954501569746, -22.967068268349834], [-43.17399191102131, -22.96707845197816], [-43.17402951960398, -22.967088186378074], [-43.17406672580502, -22.96709890946439], [-43.174103525986496, -22.967110892103676], [-43.17414012072451, -22.9671235044875], [-43.17417652193401, -22.96713629523957], [-43.17421281251847, -22.967149626525824], [-43.174248905900015, -22.96716340975556], [-43.17428469738201, -22.967177816201296], [-43.17431998943185, -22.967193031417914], [-43.17435517984702, -22.967208698776247], [-43.174390370770325, -22.967224183721495], [-43.17442576227655, -22.967239401867182], [-43.17446135390213, -22.967254169893273], [-43.17449624359662, -22.96727037467206], [-43.17452983785268, -22.967288640585394], [-43.174564125782105, -22.967306013258828], [-43.17459952074367, -22.967321049898967], [-43.174635915730576, -22.967334021084028], [-43.17467414197309, -22.96734141457784], [-43.17471258384362, -22.96734727539882], [-43.17475112127345, -22.967353137310976], [-43.17478988284224, -22.96735719573972], [-43.17482842950422, -22.96736251592317], [-43.17486665479354, -22.96736990936045], [-43.17490437147572, -22.967379012685168], [-43.1749400623892, -22.96739351084296], [-43.17497555275093, -22.967408637900384], [-43.175011045770766, -22.967423494975588], [-43.17504623509834, -22.967439254283576], [-43.17507933130092, -22.96745823496811], [-43.17511024012836, -22.96748026617634], [-43.17514214592806, -22.96750104010254], [-43.17517613664407, -22.96751876953642], [-43.17521273599389, -22.9675312002273], [-43.17524983546225, -22.967542553937015], [-43.175286333909355, -22.967555164958554], [-43.17532272879769, -22.96756822629378], [-43.175359226035326, -22.96758092849107], [-43.17539582419722, -22.96759345033342], [-43.17543192030612, -22.96760704911906], [-43.17546781021499, -22.967621189146104], [-43.17550340378153, -22.96763604727365], [-43.1755385949498, -22.9676515328815], [-43.175573685723215, -22.967667378537538], [-43.175609076779644, -22.967682504317004], [-43.175644467346494, -22.967697812494926], [-43.17568086474849, -22.96771069227179], [-43.17571837445067, -22.96772069695879], [-43.17575506895447, -22.967732948922045], [-43.17578996089347, -22.96774915345529], [-43.175824353431445, -22.96776616495921], [-43.175858945122854, -22.96778272542791], [-43.175894034246156, -22.967798481597722], [-43.17592902785081, -22.967814597872124], [-43.175961923420424, -22.96783393909113], [-43.17599521920606, -22.967852743995305], [-43.17602970754217, -22.96786966986883], [-43.17606439999132, -22.96788613844266], [-43.17609899365914, -22.96790270159367], [-43.17613318300986, -22.967920253416146], [-43.17616648002949, -22.96793896980395], [-43.17620096947067, -22.967955889333783], [-43.17623716373424, -22.96796930937135], [-43.17627416543223, -22.967980843235036], [-43.176310965341344, -22.967992735076937], [-43.176347869322925, -22.968004357199565], [-43.176384566894335, -22.968016609058843], [-43.17642126447292, -22.968028860910035], [-43.17645806636028, -22.9680407527418], [-43.176494459333775, -22.968053903197493], [-43.17652965023943, -22.96806957100462], [-43.176562249350596, -22.96808935930674], [-43.17659118039603, -22.968113532051458], [-43.17661695418715, -22.968140650271852], [-43.17664292350937, -22.968167587422975], [-43.17667096369528, -22.968192744140936], [-43.17669969929764, -22.968217095225206], [-43.17672932239129, -22.968240643787784], [-43.176757461586114, -22.96826561921902], [-43.17678353257825, -22.968292469022114], [-43.1768107821265, -22.968318337240124], [-43.17683872681867, -22.968343492832858], [-43.17686577797791, -22.968369539366105], [-43.1768918490112, -22.968396389153718], [-43.17692107610923, -22.968420383740256], [-43.17695646751605, -22.968435510142537], [-43.17699286618408, -22.968448393260328], [-43.177028358298834, -22.96846342869666], [-43.177064050738316, -22.968477925515337], [-43.17710074705249, -22.9684903587123], [-43.177137244504635, -22.968503149922448], [-43.177173038330594, -22.968517287575352], [-43.17720683169457, -22.968535374637327], [-43.17723774310452, -22.968557403682286], [-43.177267069006106, -22.968581309945947], [-43.177296692516556, -22.9686047681127], [-43.177331386247815, -22.96862124005239], [-43.17736859435299, -22.968631874824872], [-43.17740508849959, -22.96864484473799], [-43.1774396806132, -22.96866140578949], [-43.177474471133074, -22.968677789412478], [-43.177508464659745, -22.96869542810429], [-43.17753977126197, -22.96871701012401], [-43.17757068375706, -22.968739038217965], [-43.17760427736548, -22.96875748501807], [-43.177638469810866, -22.968774764759395], [-43.1776718650407, -22.968793388967942], [-43.17770446303134, -22.968813359450014], [-43.17773745975569, -22.96883261299012], [-43.17777235150905, -22.968848725903793], [-43.17780864828724, -22.968861876774454], [-43.17784514736142, -22.968874487242598], [-43.17788133842209, -22.96888817779604], [-43.177916233357166, -22.968904201316292], [-43.17794992600965, -22.968922468580168], [-43.177983518016404, -22.968940824080242], [-43.17801761134861, -22.9689583753196], [-43.178052304315344, -22.968974845295143], [-43.1780857973613, -22.968993382952107], [-43.178117106091165, -22.969014963986805], [-43.178147522006626, -22.969037528085323], [-43.178177146502804, -22.96906107731659], [-43.17820736380651, -22.969083909127338], [-43.17823807808942, -22.96910611542774], [-43.178269288153295, -22.969127785603572], [-43.178300496277195, -22.969149455751417], [-43.17833131028286, -22.969171572878388], [-43.17836182595015, -22.969194048685644], [-43.17839353108538, -22.969215092408476], [-43.17842692652229, -22.96923371737338], [-43.1784616173917, -22.96925028025287], [-43.17849620834285, -22.969267022582688], [-43.17852960162254, -22.969285737805308], [-43.17856349748457, -22.96930355486497], [-43.17859748788925, -22.96932137661633], [-43.1786303883765, -22.96934062616742], [-43.178662984932906, -22.969360506145893], [-43.178694197311295, -22.969382085967712], [-43.17872500801757, -22.96940438539751], [-43.178756814151065, -22.969425250510422], [-43.17878891477874, -22.969445754177535], [-43.17882151452071, -22.969465545665457], [-43.17885560695195, -22.96948318251333], [-43.17889029938672, -22.96949956471676], [-43.17892489142187, -22.96951630787403], [-43.1789587842374, -22.969534215122238], [-43.1789908868007, -22.96955472419151], [-43.179022393503296, -22.96957603461994], [-43.17905449417271, -22.969596540946405], [-43.17908659996208, -22.96961695702277], [-43.17911810546094, -22.969638359528666], [-43.17914862139305, -22.96966083339242], [-43.17917953338872, -22.969682862092228], [-43.179211834701995, -22.969703099785384], [-43.17924443167004, -22.969722889354216], [-43.17927792802378, -22.96974142500761], [-43.17931222065155, -22.96975861435462], [-43.17934611477989, -22.969776432140506], [-43.179380706712166, -22.969793265506027], [-43.17941559770419, -22.969809469276193], [-43.179448993449505, -22.969828093139814], [-43.17948219053685, -22.969846987429843], [-43.179516883665514, -22.96986354921488], [-43.17955197379329, -22.969879304632403], [-43.179603636881765, -22.969902924322735], [-43.179654701851284, -22.969927441962927], [-43.17968462298715, -22.96995072162576], [-43.17971563409116, -22.969972570760625], [-43.17974923026762, -22.969991017163885], [-43.17978272286132, -22.970009552673826], [-43.17981363505632, -22.970031580357787], [-43.1798434579706, -22.970054770368204], [-43.17987437018608, -22.97007679804149], [-43.179907467495596, -22.9700958699021], [-43.17994276150966, -22.970111264561684], [-43.17997288036858, -22.97013427824511], [-43.17999776607304, -22.970162105481158], [-43.18002432874049, -22.97018850892888], [-43.180054347962816, -22.97021160995101], [-43.18008575722681, -22.970233011173185], [-43.18011994797931, -22.970250470095184], [-43.1801527457998, -22.97026999179008], [-43.18018356037459, -22.970292108589504], [-43.18021120779213, -22.97031762053109], [-43.180235897342264, -22.970345536687304], [-43.180259502226185, -22.9703743434162], [-43.1802799612457, -22.970405100688883], [-43.18030396004121, -22.970433550722802], [-43.18033279429607, -22.970457902333322], [-43.180361627598344, -22.97048225302512], [-43.18039145168219, -22.970505442954668], [-43.180422660242215, -22.970527203023188], [-43.18045149379731, -22.970551464303053], [-43.180479339960414, -22.970576707575287], [-43.18050540802149, -22.970603646186813], [-43.18053276062095, -22.97062933529931], [-43.180563968257594, -22.97065109533176], [-43.18058865988997, -22.970679011462828], [-43.18061394262489, -22.970706482861065], [-43.18064505084634, -22.970728240834767], [-43.18067775065156, -22.970748032213557], [-43.18071064740462, -22.97076746373195], [-43.18074454295573, -22.970785281255626], [-43.180781240523885, -22.970797622455155], [-43.18081017486872, -22.970821794529257], [-43.18084078906191, -22.97084418162653], [-43.180869821934955, -22.97086835301548], [-43.18089915020321, -22.97089216838422], [-43.180932545455356, -22.970910791951646], [-43.180964748605966, -22.970931119392755], [-43.18099704831178, -22.97095144703289], [-43.18102865557986, -22.97097257854358], [-43.18105917307768, -22.970995054795146], [-43.181089491004805, -22.971017796950736], [-43.181117828772535, -22.97104268545353], [-43.18114686413117, -22.971066678024673], [-43.18117886630549, -22.971087453730835], [-43.18121086774808, -22.97110813911964], [-43.18124396865309, -22.97112712136303], [-43.18127875737843, -22.971143504182184], [-43.18131385175057, -22.97115934778059], [-43.18134864340662, -22.97117573152185], [-43.181381344881686, -22.97119534127561], [-43.18141037325024, -22.971219424927938], [-43.18144198357326, -22.971240556397166], [-43.18147497927835, -22.971259898600103], [-43.18150757989289, -22.971279687778267], [-43.18154227049622, -22.97129633942296], [-43.181574971054886, -22.97131594912894], [-43.18160608345286, -22.97133770878169], [-43.18163650025627, -22.971360362574934], [-43.18166513677693, -22.97138480199755], [-43.18169476242578, -22.97140834973353], [-43.181725873865524, -22.971430111159698], [-43.18175668682151, -22.971452315252627], [-43.18178571704258, -22.971476488262986], [-43.181814553973815, -22.9715007493541], [-43.18184506687388, -22.971523223607083], [-43.181875783810455, -22.97154560989225], [-43.18190570712287, -22.97156870949189], [-43.18193276283981, -22.971594755287086], [-43.1819600162093, -22.97162053424252], [-43.181986186641986, -22.971647293201336], [-43.18201038223991, -22.9716756549574], [-43.18203418517566, -22.971704282212094], [-43.18205778968845, -22.971733089599677], [-43.18207913317884, -22.971763314091522], [-43.18210687996072, -22.97178873747202], [-43.18213838984933, -22.97180995886753], [-43.18216732247352, -22.971834220998073], [-43.18219349103745, -22.97186097990485], [-43.18222420564882, -22.971883185496], [-43.18225492196376, -22.971905483210215], [-43.18228276561077, -22.971930814661626], [-43.18231140018624, -22.97195534425886], [-43.18234009664225, -22.97197554001857], [-43.182342415122186, -22.97197719206139], [-43.182372635735696, -22.97200002408148], [-43.182401766096994, -22.972024018434812], [-43.18242902138337, -22.97204988583635], [-43.18245706467285, -22.97207495134961], [-43.182485799989664, -22.972099390867434], [-43.18251680889226, -22.972121329775458], [-43.182552808786184, -22.972135197739906], [-43.18259174274438, -22.97213356722955], [-43.18262976502083, -22.972141768377046], [-43.182667275582176, -22.972151771513687], [-43.18270266866618, -22.972166896728968], [-43.182734971121214, -22.972187133769292], [-43.18276449744327, -22.972210770485994], [-43.18279353116714, -22.97223485306458], [-43.18282058740906, -22.972260809328066], [-43.182846262333435, -22.972288107003862], [-43.18286996589683, -22.97231682060035], [-43.182892687814345, -22.972346159575086], [-43.182914917609274, -22.972375762910705], [-43.1829394094603, -22.97240394642698], [-43.18296547955842, -22.972430795295317], [-43.18299648983653, -22.972452642926356], [-43.18303410360911, -22.972462375352897], [-43.18306730189198, -22.97248126715319], [-43.18309791880569, -22.972503652977114], [-43.18312497590234, -22.972529699506442], [-43.18314986267976, -22.9725575272118], [-43.18317465075048, -22.972585444085166], [-43.18320141098459, -22.972611667805733], [-43.18322649620099, -22.972639317169172], [-43.18325207185413, -22.97266661093899], [-43.18327873534031, -22.972692924744866], [-43.18330017675926, -22.972723150213533], [-43.183318768897806, -22.97275487907354], [-43.18334306563625, -22.97278315150365], [-43.183372297007, -22.972807056548923], [-43.183408189977975, -22.972821283415282], [-43.18343850892464, -22.972843936673105], [-43.1834657635875, -22.972869804808656], [-43.183488287339074, -22.97289932023629], [-43.18350943702547, -22.972929634445418], [-43.183532844883445, -22.972958527879683], [-43.183559110468146, -22.972985287694808], [-43.18358114524577, -22.973014979918787], [-43.18359806774891, -22.973047592644715], [-43.18362078995405, -22.97307693062746], [-43.18365150484779, -22.973099226271525], [-43.1836858998027, -22.97311623620798], [-43.183715229059665, -22.973140051111713], [-43.183739819916795, -22.973168146252327], [-43.183763428210675, -22.973196862250482], [-43.1837891027917, -22.973224066773696], [-43.18381527291763, -22.973250825456933], [-43.18383976534181, -22.973278918552783], [-43.183863174279324, -22.97330781376235], [-43.18389102459762, -22.973333054731164], [-43.18391906622963, -22.973358211196917], [-43.18394631913587, -22.973384079238315], [-43.18397426622791, -22.973409232805853], [-43.18400250632418, -22.973434209120324], [-43.1840310447755, -22.97345882673381], [-43.184058399597085, -22.97348451531956], [-43.18408466634889, -22.973511275973078], [-43.18410728807937, -22.973540702142788], [-43.18412853574113, -22.973570927099072], [-43.18415194478896, -22.973599822272114], [-43.18417456849825, -22.973629248456113], [-43.18419512538855, -22.973660008211272], [-43.1842170607423, -22.9736897877153], [-43.184240075947706, -22.97371903867365], [-43.18426348603084, -22.973747932941126], [-43.184285716357614, -22.973777535210363], [-43.18430735456271, -22.97380758672334], [-43.18432791156867, -22.973838341949783], [-43.1843481767715, -22.97386918593999], [-43.18436922417577, -22.973899589180153], [-43.184391061618896, -22.973929549050673], [-43.18441571331988, -22.9739530384386], [-43.18446973052944, -22.973990500890313], [-43.184501638819846, -22.97401109429916], [-43.18452958274248, -22.974036429251846], [-43.184557134232016, -22.974061939407655], [-43.18458359768669, -22.974088518925797], [-43.18460996456778, -22.974115100945863], [-43.184637220912144, -22.974140878617327], [-43.184662894636844, -22.974168173307685], [-43.184689260573606, -22.974194755305117], [-43.18471859125048, -22.974218567348675], [-43.1847475270211, -22.974242739688204], [-43.18477290681703, -22.97427021160193], [-43.18479868052854, -22.974297325908736], [-43.18482327300818, -22.9743253315187], [-43.18484835765827, -22.974353070950283], [-43.18487304696108, -22.974380984650264], [-43.184897345257525, -22.974409258692766], [-43.18492193875231, -22.974437264300835], [-43.184946630011204, -22.974465179819134], [-43.18497240281848, -22.974492294090467], [-43.184999063835335, -22.974518697912202], [-43.18502484347681, -22.974545813157203], [-43.18505268815724, -22.97457114598728], [-43.185084396840324, -22.974592097312254], [-43.185116500632994, -22.97461260164094], [-43.18514513700792, -22.974637222904384], [-43.18517219613587, -22.974663177937607], [-43.18520192205044, -22.974686546523127], [-43.18522897900597, -22.974712592728775], [-43.18525366819634, -22.97474059848358], [-43.18527993664091, -22.974767267773387], [-43.18530897135796, -22.97479134994713], [-43.185336323531224, -22.974817128607633], [-43.18536170476991, -22.9748445092475], [-43.185388860261746, -22.974870557459923], [-43.18541562136867, -22.974896780855463], [-43.185439623971746, -22.974925230238142], [-43.185462149455944, -22.974954745438307], [-43.185483984378386, -22.974984705147175], [-43.18550454322077, -22.97501528236407], [-43.18552746116657, -22.97504462324969], [-43.185549788521726, -22.97507422557056], [-43.1855715288834, -22.97510418508932], [-43.185594644535215, -22.975133256417866], [-43.18561884148249, -22.975161618601838], [-43.18564343527117, -22.97518962321069], [-43.18567039271764, -22.975215758512885], [-43.18569883310261, -22.975240466842603], [-43.185722637425954, -22.975269093620653], [-43.185745459178044, -22.975298341268182], [-43.185770345988935, -22.9753261704141], [-43.18579208426907, -22.975356219282585], [-43.18581048207222, -22.97538803596827], [-43.18582554302541, -22.975421348701524], [-43.18583795886872, -22.975455625389806], [-43.18585615947836, -22.975487531019752], [-43.18587701296158, -22.975518111567883], [-43.18589501932104, -22.975550104370406], [-43.18591538187631, -22.975580859900468], [-43.18593869390833, -22.975609843130293], [-43.185960726239855, -22.97563971473892], [-43.185983249987466, -22.975669230757855], [-43.18600646453651, -22.97569821286307], [-43.186027710785226, -22.975728526077766], [-43.186048074358624, -22.975759282507827], [-43.186071582908085, -22.975788087363885], [-43.18609548709419, -22.975816624933238], [-43.18611840456361, -22.975845874532872], [-43.1861408296605, -22.97587547970617], [-43.18616119426734, -22.97590623523245], [-43.18617959221302, -22.97593805278636], [-43.18620074078116, -22.97596845606906], [-43.18622100474671, -22.975999300739918], [-43.18624156150011, -22.976030057553547], [-43.1862633999133, -22.97605992690622], [-43.18628651585612, -22.976088999053253], [-43.18630903973318, -22.976118515936456], [-43.186331664299715, -22.97614794276314], [-43.186354484142704, -22.9761772806158], [-43.186377010228874, -22.97620670721279], [-43.186401603380745, -22.976234711711378], [-43.18642639180962, -22.976262627235283], [-43.18645029515115, -22.97629116655421], [-43.18647498683261, -22.976319171267274], [-43.18649751299153, -22.976348596044016], [-43.18651218172262, -22.976382086646407], [-43.186527931074316, -22.976415138098673], [-43.1865445619037, -22.97644783752166], [-43.186560800510094, -22.976480622757848], [-43.186581654294734, -22.976511203229474], [-43.186607528692136, -22.976538138725193], [-43.186630153171734, -22.976567654913918], [-43.18665691386886, -22.97659387811997], [-43.186686839601336, -22.976617159343547], [-43.186710642643405, -22.976645695674367], [-43.186728649118145, -22.976677777797477], [-43.186745967422254, -22.976710124759787], [-43.186762794567265, -22.976742736106676], [-43.18678355115237, -22.976773225140004], [-43.186808535972844, -22.97680105345875], [-43.18683480630337, -22.976827633142747], [-43.18686245630795, -22.97685314316582], [-43.18688872547815, -22.976879811325514], [-43.18690565115254, -22.976912424689854], [-43.18692090970518, -22.976945651099932], [-43.18694137017718, -22.9769764094427], [-43.18696517506545, -22.977005035161348], [-43.186994505731825, -22.97702884953733], [-43.18702334281912, -22.977053109776794], [-43.18705119153296, -22.977078352037687], [-43.18707893912956, -22.97710386404655], [-43.18710639299257, -22.97712946299371], [-43.18713601986462, -22.977153009825294], [-43.187163375030465, -22.97717869793746], [-43.18718688285938, -22.977207592040358], [-43.18721177348245, -22.97723532892191], [-43.18723735271947, -22.97726262306507], [-43.18726154941176, -22.977290984123016], [-43.18728604421808, -22.97731907767864], [-43.18731290660118, -22.977345301949175], [-43.187339963734686, -22.97737125753407], [-43.18737008767436, -22.977394177890414], [-43.18740050800769, -22.97741674041946], [-43.18742805830301, -22.977442430722544], [-43.187449208552835, -22.97747274538241], [-43.187469472061856, -22.977503588103524], [-43.18749131074113, -22.97753354761451], [-43.18751186919345, -22.97756421490443], [-43.18753419830233, -22.97759382061352], [-43.18756066301358, -22.977620399704318], [-43.18758752354614, -22.97764662481511], [-43.187615273791835, -22.977671954357717], [-43.187649270732884, -22.97768968138343], [-43.18767948958916, -22.97771251427503], [-43.18770369133973, -22.977740874427788], [-43.18772366093385, -22.97777189707439], [-43.18774402325341, -22.977802651494915], [-43.18776399380417, -22.977833676857202], [-43.18778504452971, -22.977864077933763], [-43.18780786497514, -22.977893414706617], [-43.18782234088266, -22.977926992402296], [-43.187833287950234, -22.97796161337801], [-43.187851195375025, -22.977993695161956], [-43.18787293377406, -22.97802365348037], [-43.1878942804404, -22.978053880031798], [-43.18791537797963, -22.978080849208073], [-43.18791719868248, -22.978083127606435], [-43.18794002232169, -22.978112375902402], [-43.18796126934691, -22.97814268980362], [-43.187980354215945, -22.97817424322103], [-43.18800130630897, -22.97820473435119], [-43.18802225864024, -22.9782351351786], [-43.18804458896443, -22.978264739032873], [-43.18806603226753, -22.978294964863277], [-43.18808698561353, -22.97832536479186], [-43.18810921626046, -22.978355058704572], [-43.18813174090429, -22.978384574467025], [-43.18815141670852, -22.97841577431439], [-43.18817453250055, -22.978444843509294], [-43.18819971848351, -22.97847240392805], [-43.188226480597635, -22.97849871721793], [-43.18825146721408, -22.978526455956036], [-43.1882658735177, -22.97855063949292], [-43.18828590879006, -22.978591234959122], [-43.18829460790595, -22.978626372929057], [-43.18831231928702, -22.97865854273038], [-43.18833610979096, -22.978703062353716], [-43.18838474681036, -22.97877829999808], [-43.188413572197874, -22.97882549686819], [-43.188445347117224, -22.978870921392385], [-43.18847564317108, -22.97891732233834], [-43.18849476148033, -22.978968471860448], [-43.18851485564633, -22.97901936072454], [-43.18852790421783, -22.97907215751511], [-43.18853664912959, -22.97912580903918], [-43.18854735039507, -22.979179028703285], [-43.18856352717672, -22.97923113611931], [-43.188576772015026, -22.979283844847245], [-43.18859069967001, -22.9793364728831], [-43.18860687648288, -22.97938858029597], [-43.18862354521496, -22.979440514530857], [-43.18863786419938, -22.979493054024765], [-43.188657469476205, -22.979544117892026], [-43.188675116245314, -22.97959570299358], [-43.188687673973035, -22.979648673865846], [-43.18870150520694, -22.979701297179624], [-43.1887121078234, -22.979754607816368], [-43.18872075654551, -22.97980816612348], [-43.188719994695774, -22.979850599876645], [-43.18874616966563, -22.979899030644457], [-43.18875530598216, -22.979952594523724], [-43.18875985403272, -22.980006558372583], [-43.188760105876064, -22.980060742214366], [-43.18875792921411, -22.980114267979733], [-43.18875743516054, -22.9801148944539], [-43.188756810325025, -22.98016906917662], [-43.18875647608319, -22.980223247220785], [-43.18875985252967, -22.98027737737888], [-43.188771334510015, -22.980330426251527], [-43.18878819842608, -22.980382362704027], [-43.188807314095605, -22.980433512166694], [-43.188824568519195, -22.980485275182843], [-43.18884163069239, -22.98053712088485], [-43.18885702613039, -22.98058940175821], [-43.18886694407533, -22.980642793959873], [-43.18886700186334, -22.980696977387765], [-43.188866865605476, -22.98075115769422], [-43.18886507060219, -22.980805319039803], [-43.188874109484644, -22.980858881798618], [-43.18889136499954, -22.980910641209494], [-43.18891381292273, -22.98096065571432], [-43.18893557368706, -22.98101093146538], [-43.188935337980595, -22.98106511063466], [-43.18892351402131, -22.981118164914317], [-43.188920158996524, -22.981172218124335], [-43.188930078942406, -22.98122561034492], [-43.188950956312254, -22.981276237209716], [-43.1889741890366, -22.981325988866395], [-43.18898968427662, -22.981378181470216], [-43.18899188744964, -22.98143238941813], [-43.18898814334488, -22.981486438181438], [-43.18898137767388, -22.98154027089784], [-43.18899080789939, -22.981593747820536], [-43.18900620566445, -22.981645938405876], [-43.18901993648706, -22.981698651755465], [-43.189010251083666, -22.981752091692815], [-43.18901509180472, -22.981806057974037], [-43.18904322955392, -22.98185360991709], [-43.18907058362591, -22.98190142019582], [-43.18908685640114, -22.98195353047303], [-43.18907318539478, -22.982006200627847], [-43.189058830230294, -22.98205868506364], [-43.18905352705215, -22.982112625701927], [-43.18906618479724, -22.982165506486027], [-43.18908314577441, -22.982217353720436], [-43.189088668158234, -22.982271328693276], [-43.1890742174215, -22.982323810229293], [-43.189071934848556, -22.982377965997884], [-43.18907960622668, -22.98243169372079], [-43.189101172949776, -22.982482058444496], [-43.18911803645409, -22.982533904561983], [-43.18911809429895, -22.98258808708107], [-43.18911590827312, -22.98264224395287], [-43.18911918855053, -22.98269628179379], [-43.18913379954405, -22.982748825492106], [-43.18914020202892, -22.982802629012166], [-43.18913967572215, -22.982856806659434], [-43.18913661303596, -22.98291095170403], [-43.18912313305852, -22.98296362403682], [-43.18911821963639, -22.983017663041306], [-43.1891228644223, -22.983071625270487], [-43.189137379157295, -22.98312407575903], [-43.189142512477986, -22.983178046280553], [-43.18911631379343, -22.983226509597458], [-43.18908991928348, -22.983274882173433], [-43.18908705059164, -22.98332903123642], [-43.18909736100974, -22.983382336702203], [-43.189111093932084, -22.98343505097159], [-43.18908683366445, -22.983484353678314], [-43.18906063395436, -22.983532814259355], [-43.18905357677589, -22.983586555133375], [-43.18906232425864, -22.98364011454729], [-43.189070190702815, -22.983693844496198], [-43.18907288170716, -22.983747966802422], [-43.189056486425244, -22.983799974576907], [-43.189044660256485, -22.983853027910843], [-43.18904257264875, -22.983907184993217], [-43.189038827399095, -22.983961237339084], [-43.18903352413057, -22.98401517434757], [-43.18902654372407, -22.98407054154855], [-43.189004709246746, -22.98412077228222], [-43.18898627322495, -22.984172214897193], [-43.188967543886776, -22.98422356385287], [-43.18893940777892, -22.984271012542713], [-43.18891039584022, -22.984318092710808], [-43.18888177551878, -22.98436535253719], [-43.188856253549645, -22.984414094432985], [-43.188835390289235, -22.984464697450495], [-43.18881404086492, -22.984515113396945], [-43.18878910032655, -22.984564133737713], [-43.188767460490894, -22.984614456052377], [-43.18874300485867, -22.984663753739532], [-43.18871816276998, -22.984712774288045], [-43.188696618437156, -22.984763098584484], [-43.18867963797946, -22.98481500930639], [-43.18866227081635, -22.984866734997976], [-43.18864383259499, -22.9849181775314], [-43.188618990406184, -22.984967198960494], [-43.188592013840626, -22.985015293852527], [-43.188568432144265, -22.98506487059903], [-43.18853709731116, -22.98511065716655], [-43.1885065397403, -22.985156813826404], [-43.188478982580456, -22.985204630243], [-43.18845268689553, -22.985253002896734], [-43.188430076425426, -22.985302953740657], [-43.18839612919006, -22.985347084042623], [-43.188361894685364, -22.985391032250803], [-43.18832823951543, -22.985435345578455], [-43.188294873447894, -22.98547984642194], [-43.188260151991805, -22.985523516319986], [-43.188223309433596, -22.985565629508447], [-43.188183666984386, -22.985605451283213], [-43.1881380566338, -22.985639334191113], [-43.18809350307011, -22.985674494316907], [-43.18804760470599, -22.985708102992835], [-43.18799104506221, -22.985721814250454], [-43.187940595328634, -22.985694418099445], [-43.18791541357214, -22.985681217629534], [-43.18788964936873, -22.985667737778297], [-43.18783378281563, -22.985651656911283], [-43.18779881092144, -22.985655681710217], [-43.18778263372797, -22.98566190816841], [-43.18777694365838, -22.98566446096197], [-43.18772749311795, -22.985693604961508], [-43.187680156925595, -22.985725392823067], [-43.18762860792614, -22.98575099006225], [-43.18757515623979, -22.9857731358071], [-43.18754010553427, -22.985783209043635], [-43.18746233205825, -22.98580065253811], [-43.187380372536374, -22.985781111459488], [-43.187351776457746, -22.985767961235418], [-43.187301723657114, -22.985739846101403], [-43.18725147613658, -22.98571199873039], [-43.18720162471653, -22.985683706168082], [-43.18715077569759, -22.98565693642308], [-43.18709572074812, -22.985638516709844], [-43.18703975341663, -22.98562261502066], [-43.186983473740774, -22.985607973979604], [-43.186926073434286, -22.985597203122314], [-43.18686757161287, -22.985595810245325], [-43.18680918634743, -22.98559306594208], [-43.186751251925756, -22.985585629216516], [-43.18669426582977, -22.985573057860982], [-43.18663685759, -22.98556273832479], [-43.18658079019403, -22.985547106241082], [-43.18652643874123, -22.985527068935212], [-43.18647138319942, -22.985508558701877], [-43.18641592026759, -22.9854914877309], [-43.18635882392873, -22.98547972772276], [-43.1863006820219, -22.985473372999262], [-43.18624274911711, -22.985465756405993], [-43.186185554609395, -22.985454265218568], [-43.18612783823702, -22.98544511591279], [-43.186069678976374, -22.985439843639497], [-43.18601227641304, -22.985429253941103], [-43.185956205772115, -22.985413802211244], [-43.18589890438095, -22.985402941819316], [-43.18584324194674, -22.98538613927773], [-43.18579339119893, -22.985357755997068], [-43.18574443406656, -22.985328117791134], [-43.18569318795387, -22.985301975171716], [-43.185635424033514, -22.985311066342], [-43.1855847353993, -22.98533802820523], [-43.1855329006464, -22.98536317086517], [-43.18548183401276, -22.98538958654613], [-43.185428287314174, -22.985411458655523], [-43.185370259002994, -22.98541828822068], [-43.185311727118304, -22.9854191547113], [-43.18525414805498, -22.98542915088512], [-43.18519630127816, -22.985437065197267], [-43.185138183610476, -22.985443354543992], [-43.185079665017405, -22.985443225962108], [-43.18502115245961, -22.98544264591312], [-43.18496552760676, -22.98545952739116], [-43.184950419197406, -22.985466126108115], [-43.18489767346366, -22.985442585742963], [-43.1848393014135, -22.985438936937445], [-43.184780923327814, -22.985442963789218], [-43.18472247693097, -22.985444731360644], [-43.18466675960063, -22.98546115925439], [-43.18461160320781, -22.98547940141998], [-43.184554118215736, -22.98548957901873], [-43.18449681589213, -22.985500391712883], [-43.18443843370608, -22.985504869000803], [-43.18437993076307, -22.985503569109476], [-43.18432153868105, -22.985501272620123], [-43.184263040609004, -22.985499608820863], [-43.18420451839489, -22.98549975078122], [-43.18414648471208, -22.985507122551038], [-43.18409048779274, -22.98552264400306], [-43.184035617611684, -22.98554143015739], [-43.18398340307578, -22.985565846416396], [-43.1839346233923, -22.985595899005894], [-43.18389478614509, -22.985635537703466], [-43.18388276469856, -22.985688587384548], [-43.18389365848027, -22.985741811268248], [-43.183853065819754, -22.98575778103417], [-43.183794561570046, -22.985756572111903], [-43.183737466699085, -22.98574471545991], [-43.183679430846645, -22.9857377288695], [-43.18362092906346, -22.98573633659698], [-43.183564740794694, -22.985751496255016], [-43.183528572425864, -22.98579406661095], [-43.183521512915306, -22.9858478052705], [-43.18353513846609, -22.985886520829915], [-43.18355333075005, -22.985926462688784], [-43.18356758502109, -22.985947123978384], [-43.18360852079605, -22.985985792363895], [-43.18365906934617, -22.986013101588412], [-43.1836985220931, -22.98605319689189], [-43.18370619263173, -22.986106834439735], [-43.18374564541863, -22.98614692973366], [-43.18378895314173, -22.986183279203328], [-43.18383186266252, -22.98622016049606], [-43.183879824162595, -22.98625123181464], [-43.18393367333977, -22.986272348802373], [-43.183990455659305, -22.986285642143386], [-43.184047756993486, -22.98629659263622], [-43.184106014236455, -22.986301776487743], [-43.18416438903075, -22.986305245007628], [-43.184222777632904, -22.986307900035364], [-43.18428125259, -22.986311099654863], [-43.184339766009494, -22.986311860612613], [-43.18439761225057, -22.986303943921424], [-43.184455821983306, -22.98629801984434], [-43.184510072468704, -22.986318237308705], [-43.18456696034802, -22.986331082851034], [-43.18462489156456, -22.986338697343246], [-43.18468315031425, -22.986343699492735], [-43.184741527119584, -22.986347166921377], [-43.184800019540646, -22.98634928201283], [-43.184858503517034, -22.98635202910636], [-43.184916952952726, -22.986349990631368], [-43.18497453030631, -22.98634044519507], [-43.18503224642166, -22.986349415230844], [-43.18508831610483, -22.98636495759327], [-43.18514634146634, -22.986358306920245], [-43.185201874204516, -22.986340973731664], [-43.18525636951127, -22.986321278956368], [-43.185312175951154, -22.986305212200822], [-43.185367987705725, -22.986288965782894], [-43.18542529174679, -22.98627797310485], [-43.185482801530306, -22.986287933042277], [-43.185540201971264, -22.98629870443324], [-43.18559455355372, -22.98631874208626], [-43.18565001382813, -22.986336173634196], [-43.18570406273398, -22.986356748699173], [-43.18575751090889, -22.98637885201664], [-43.185805077775875, -22.986410372481323], [-43.185857620033, -22.986434363559948], [-43.185906778425085, -22.98646364193928], [-43.18595832164547, -22.986489336398773], [-43.18600917048145, -22.98651619592636], [-43.18606101668313, -22.986541262606092], [-43.18611436310124, -22.98656354615314], [-43.186169318326115, -22.98658214568274], [-43.186223769828935, -22.98660209397089], [-43.18628045166269, -22.98661556596386], [-43.18633652501645, -22.986630927332797], [-43.18639289962765, -22.986645568804736], [-43.18645051319909, -22.9866550789783], [-43.1865084531261, -22.98666206257832], [-43.18656617143393, -22.98667103480083], [-43.18661851630837, -22.986695290675623], [-43.186617685520844, -22.98669907298707], [-43.186574092175576, -22.986735237869205], [-43.18655720739546, -22.986787059088467], [-43.186568202753364, -22.986840283100822], [-43.18658027033684, -22.986893337877806], [-43.186612241561214, -22.986938675642705], [-43.186669617777376, -22.986965970904688], [-43.18672813200703, -22.986966551300874], [-43.18678657647223, -22.986965052102523], [-43.186844692778934, -22.986958764875013], [-43.186902181447714, -22.986948496208388], [-43.1869592056438, -22.98693641614495], [-43.187017408629835, -22.98693094076572], [-43.18703586127351, -22.986936931340203], [-43.18708359695749, -22.986985067318678], [-43.18710986904231, -22.98703350037395], [-43.18714302037879, -22.987078128220375], [-43.1871913859969, -22.98713015350433], [-43.18722113952951, -22.987158760631125], [-43.18726020293118, -22.987199121567354], [-43.18727583873224, -22.987211401091148], [-43.18730123478721, -22.987237789263308], [-43.18734414974018, -22.987274582134827], [-43.187393105978764, -22.987304219884077], [-43.18743036077803, -22.987333722825895], [-43.18745217600663, -22.98736539878287], [-43.18746468167292, -22.98740780276969], [-43.18747528342869, -22.987461023135946], [-43.18747680425657, -22.98751522233055], [-43.187486159701166, -22.987552353600808], [-43.18752167346877, -22.987595382955483], [-43.187580146071, -22.98759903107025], [-43.187637873344514, -22.987607368197942], [-43.18768573633768, -22.987638617908175], [-43.18772697102425, -22.987713409023797], [-43.18776839708256, -22.987751720812405], [-43.187819449791256, -22.987778130615222], [-43.18787109502442, -22.987803555653876], [-43.18791539776725, -22.987816703972186], [-43.18792686182996, -22.98782008692443], [-43.18798303147141, -22.987835448844976], [-43.18804086221959, -22.98784342399752], [-43.1880992328903, -22.987840028932204], [-43.188157532096675, -22.9878348260646], [-43.188211634333925, -22.98785169941015], [-43.18827414794902, -22.987837513497553], [-43.18833190803367, -22.987828782581683], [-43.18838777649899, -22.987844864243783], [-43.18844334376699, -22.987861663963432], [-43.18889328941909, -22.98652219754323], [-43.18936047882173, -22.98665432268398], [-43.18965361323513, -22.98674634868862], [-43.19082006911269, -22.987051263366435], [-43.19166607750467, -22.987257332459127], [-43.19203543561615, -22.986767228060035], [-43.19222036678415, -22.986503123932426], [-43.192359477202366, -22.98633999927408], [-43.1925051491269, -22.98618949967371], [-43.19295096627818, -22.98561149797176], [-43.19355703976823, -22.98481994720425], [-43.19394669587382, -22.98434271140219], [-43.194099961191085, -22.98414163653345], [-43.19419000640195, -22.984066628483365], [-43.19434268161372, -22.98390988641797], [-43.19512653366926, -22.983639960775516], [-43.197461968970735, -22.98195665204198], [-43.19727030395267, -22.980113182438956], [-43.19706242944377, -22.979145927192913], [-43.1957975956564, -22.978894029976207], [-43.19555321943037, -22.9787519082972], [-43.194871617225914, -22.97745777206921], [-43.19541688260393, -22.977136092764056], [-43.19544076713942, -22.97712200561729], [-43.19544165946109, -22.977017894183696], [-43.19545738898363, -22.97692786113759], [-43.19551401861024, -22.976761625357806], [-43.195015538971724, -22.976667180119254], [-43.19502429337748, -22.97663955579836], [-43.19512576839823, -22.976342438656367], [-43.19525043168018, -22.9761424828265], [-43.195954355543805, -22.975425089789645], [-43.19648438277147, -22.973928652307936], [-43.19697073902544, -22.97242972689758], [-43.19733334118143, -22.97093697811722], [-43.19796554808961, -22.96909402661225], [-43.19735851004825, -22.96820124662237], [-43.19697531081492, -22.966637886475958], [-43.197087685244774, -22.96506941534984], [-43.19721150291585, -22.963924779114446], [-43.19729758092195, -22.96275045504864], [-43.19692065715678, -22.962501717923942], [-43.19608590828492, -22.962067614133115], [-43.19546613481838, -22.96174811010007], [-43.19446450584899, -22.961412426867383], [-43.193720705207646, -22.961327287175273], [-43.193031002092475, -22.961478636811208], [-43.191374953453554, -22.96247684042312], [-43.19029429872687, -22.962818317373127], [-43.18897205178076, -22.963133368518168], [-43.18791530571649, -22.963275351839442], [-43.18635839920577, -22.962977878976798], [-43.18608748617751, -22.962927371329123], [-43.18584011894446, -22.96246426559212], [-43.185532639073266, -22.962084812953226], [-43.1852195405888, -22.961885182108897], [-43.18499225781695, -22.96175173109216], [-43.18463723979578, -22.961609773612036], [-43.184397034222144, -22.961582280023464], [-43.184168189733256, -22.96156557196366], [-43.183947144211885, -22.961541818960516], [-43.18371830207586, -22.961525019980705], [-43.18351992881466, -22.96151218188179], [-43.18334451772881, -22.961495994515907], [-43.183008116492346, -22.961391451692162], [-43.18266237408314, -22.96126368351786], [-43.1822218863635, -22.961088955332993], [-43.18193333090177, -22.960972495233012], [-43.18185713066919, -22.960961056887896], [-43.181616597608155, -22.96096534208934], [-43.181272248180605, -22.961018013359794], [-43.17984394167162, -22.961082443139905], [-43.17912324977083, -22.961071368559647], [-43.17875812435256, -22.961160457787745], [-43.17865927701666, -22.961150563824976], [-43.178600422739166, -22.961060036291133], [-43.17851212577222, -22.960873990283453], [-43.17830530943854, -22.96072017614085], [-43.178034691027975, -22.96058251524737], [-43.177714286328225, -22.960427484475105], [-43.1772171425055, -22.960253535606547], [-43.1769004162877, -22.96016582302591], [-43.176756607945904, -22.960054811711466], [-43.1766948408332, -22.959919549219954], [-43.176497091696945, -22.959765838054146], [-43.17635305862496, -22.95967171136581], [-43.176091289592215, -22.95955094546462], [-43.175621240870896, -22.959385791989806], [-43.17515175925791, -22.95917847227431], [-43.174898817978004, -22.959083090893564], [-43.17472635666288, -22.959072707529785], [-43.174590262673895, -22.959062742658357], [-43.174453491340856, -22.95910315884803], [-43.17430776596379, -22.959135163957463], [-43.17397266380299, -22.959160020560734], [-43.17364047860396, -22.95906941367624], [-43.17341378122699, -22.95892231696405], [-43.173181222764256, -22.95883430345532], [-43.1730528676783, -22.95848055255861], [-43.17284703449013, -22.958087259227685], [-43.17254297363181, -22.957870550406845], [-43.171700884568715, -22.95770091707547], [-43.170302808585184, -22.957507076174473], [-43.16992000955523, -22.957431590447214], [-43.16961466565091, -22.95733965889358], [-43.16724483758084, -22.95883479379943], [-43.16587181229163, -22.95908250788423], [-43.16334502810883, -22.959176071598453], [-43.162688597557924, -22.959454816374674], [-43.16225382660799, -22.959703979929184], [-43.162066893193796, -22.959992406222277], [-43.16181859560573, -22.96155952555108], [-43.16028766721463, -22.961575812597264], [-43.16025322535928, -22.961606027227354], [-43.160247457461196, -22.961628715572868], [-43.16024340302338, -22.96166162886333], [-43.160250118364424, -22.961734671945074], [-43.16023199988913, -22.961776542567407], [-43.160198882681364, -22.96180975072251], [-43.16015579010514, -22.961830741700226], [-43.16011107835263, -22.961848735705665], [-43.16006931507931, -22.96187209084722], [-43.16002708237036, -22.96189453660307], [-43.15999464122069, -22.961928295273445], [-43.15996162143179, -22.96196150360087], [-43.1599281192458, -22.961994255713318], [-43.15989538824841, -22.962027739186553], [-43.159855827790636, -22.96205419101336], [-43.15981933994122, -22.962084109075995], [-43.15980601432293, -22.962089011335227], [-43.15976410080059, -22.962066038675474], [-43.15971797857803, -22.962051417070644], [-43.159670357605464, -22.962061068463708], [-43.15967753803891, -22.9621069341603], [-43.15970511839475, -22.9621441888342], [-43.15973910062506, -22.96217655028477], [-43.15977239766071, -22.96220953589157], [-43.159801749188595, -22.962245548683175], [-43.15982343657861, -22.96228598220933], [-43.15983698882671, -22.962329395199916], [-43.159812955817806, -22.96236866864798], [-43.159764197029006, -22.96236864361075], [-43.15971544872206, -22.962367988370346], [-43.15966673147813, -22.96236489441128], [-43.159617973409695, -22.962364960542747], [-43.15956936903477, -22.96236800841806], [-43.159520682072596, -22.962369881390188], [-43.15947194111822, -22.962368683443604], [-43.15942320799464, -22.962366763154897], [-43.15937445140085, -22.962366648623938], [-43.15932576566344, -22.962368431247974], [-43.15927898025705, -22.96238125279535], [-43.15923182172104, -22.962392534857887], [-43.159187014408666, -22.962410434463994], [-43.15914258896245, -22.96242915482302], [-43.15910082975122, -22.96245232913183], [-43.159061847434124, -22.962479418669886], [-43.159021712453715, -22.96250514027908], [-43.158978807652666, -22.962526494302722], [-43.15893400023018, -22.962544396540608], [-43.15888530660162, -22.962546901351715], [-43.158838058546, -22.962557730741153], [-43.15879984148489, -22.962585912723846], [-43.158773775535145, -22.96262398845612], [-43.15875711165864, -22.962666417581378], [-43.15874890250803, -22.962710930641848], [-43.15874215339896, -22.962755643068586], [-43.158733749208984, -22.962800155668145], [-43.15873099300906, -22.962845184470464], [-43.15872658220909, -22.962890194055888], [-43.1587203184004, -22.962935001515422], [-43.158716879692605, -22.962980021486715], [-43.1587012855562, -22.963022734834894], [-43.1586732841455, -22.963059703534178], [-43.15865807461963, -22.963102601947988], [-43.15866165793966, -22.96314770347332], [-43.158673156227806, -22.96319154419941], [-43.15869827940008, -22.96323021443486], [-43.15873098015859, -22.963263735145063], [-43.15875738163845, -22.96330169780103], [-43.15877308845883, -22.963344411664234], [-43.158792224917114, -22.963385904738228], [-43.15881194890326, -22.96342721951413], [-43.15883530367331, -22.96346686251806], [-43.15884944436741, -22.96351001150409], [-43.15887830230637, -22.96354646753332], [-43.158913573169556, -22.963577581704314], [-43.158946274098355, -22.96361109966891], [-43.158968941532684, -22.963651095883037], [-43.15899406681779, -22.963689766103112], [-43.15901614461119, -22.963730027273982], [-43.15903263525011, -22.96377247840875], [-43.15905049699076, -22.963814497564748], [-43.159073655676615, -22.963854227661262], [-43.159097798657356, -22.96389342917726], [-43.15912380375207, -22.963931658085276], [-43.159152171646056, -22.96396837928789], [-43.15918231268488, -22.964003856843792], [-43.15921501374213, -22.964037377470866], [-43.15924495638767, -22.964073033317103], [-43.15926948997005, -22.964112057838534], [-43.15929363209916, -22.96415125751306], [-43.159316889584645, -22.96419090203635], [-43.15934152195652, -22.964229835587062], [-43.15936841104874, -22.96426753381394], [-43.15939471639789, -22.964305492554026], [-43.15941257806373, -22.96434760197773], [-43.159444393166574, -22.964381745296084], [-43.1594847155154, -22.964407045648674], [-43.15952762646976, -22.964428493950965], [-43.159572234578846, -22.964446892571782], [-43.159619070392644, -22.964459356190865], [-43.15966388087701, -22.96447721441986], [-43.159706093489504, -22.964499827595613], [-43.15974651683536, -22.96452494935662], [-43.15978505121583, -22.964552668849226], [-43.159822695879136, -22.96458128012511], [-43.159861428975645, -22.964608730097513], [-43.15990204666146, -22.964633763775307], [-43.15994525637778, -22.9646547639277], [-43.15998876645515, -22.964675044234095], [-43.160030679532646, -22.96469810987873], [-43.16007189651413, -22.964722243836828], [-43.16011301374986, -22.964746471444627], [-43.160154131012966, -22.96477069813976], [-43.16019604421122, -22.96479375922972], [-43.16023765878172, -22.964817270161006], [-43.16027817764418, -22.964842482303347], [-43.1603207892672, -22.964864379344185], [-43.160364100320436, -22.964885107852208], [-43.16040701205836, -22.96490637623799], [-43.16044832661625, -22.964930515751853], [-43.16049143779451, -22.964951604922827], [-43.16053605109592, -22.96496964304127], [-43.16058136530528, -22.964986331134238], [-43.160627590743026, -22.965000683734573], [-43.16067422112221, -22.965013866187604], [-43.16072125762679, -22.96502579091351], [-43.1607687046856, -22.965036274649595], [-43.16081646233889, -22.965045497743297], [-43.16086497728201, -22.965049130867005], [-43.16091371679785, -22.96505050902415], [-43.160962447296896, -22.96505269797627], [-43.1610106257439, -22.965059579840474], [-43.16105584325219, -22.965076358788743], [-43.161100551789346, -22.96509457485126], [-43.161144363949816, -22.965114319255186], [-43.161188775106105, -22.965132893956696], [-43.161234092351165, -22.965149584613982], [-43.1612794079288, -22.96516618313119], [-43.16132502430576, -22.965182245117045], [-43.16137165606258, -22.965195336181964], [-43.161420388296094, -22.965197257721545], [-43.161468566851966, -22.965204137645454], [-43.161514084309665, -22.96522037813302], [-43.16155869787862, -22.965238414171694], [-43.16160431407225, -22.96525456638019], [-43.16165207578611, -22.965263428066557], [-43.16170068715488, -22.965267150553846], [-43.16174944825027, -22.96526708477454], [-43.16179821471018, -22.965266478131543], [-43.16184535701892, -22.96527794953922], [-43.161891177322346, -22.965293290410354], [-43.16193924574315, -22.965301252544826], [-43.16198793427333, -22.965299198297277], [-43.162036284075846, -22.965293346506908], [-43.16208492571138, -22.965294904681556], [-43.162130341390984, -22.96531132442195], [-43.162174151373186, -22.965331247325434], [-43.162220477319195, -22.965345329733495], [-43.16226854774251, -22.96535293058386], [-43.162317057984815, -22.96535692442515], [-43.1623658179181, -22.965356947843528], [-43.162414580539156, -22.96535670037103], [-43.162463283493814, -22.965353652819484], [-43.16251136153253, -22.965346263497157], [-43.16255814701206, -22.965333711944826], [-43.16260267101546, -22.965315173309044], [-43.16264785336777, -22.965298358034957], [-43.1626930400639, -22.96528136490208], [-43.16273841470373, -22.965264823639547], [-43.162782936222484, -22.965246465526327], [-43.162823740499284, -22.96522174496213], [-43.162865406451665, -22.965198206496886], [-43.162905731725516, -22.96517284824232], [-43.16294624736766, -22.96514776218671], [-43.16299267548828, -22.96516157464698], [-43.163036786851634, -22.965180779292787], [-43.16308553381992, -22.965181614154094], [-43.16313415106299, -22.965184976866443], [-43.16318289070328, -22.965186354330168], [-43.163231628647985, -22.96518800176337], [-43.163280389031954, -22.965187844297315], [-43.163328103309276, -22.96517864536237], [-43.16337581419075, -22.96516962517203], [-43.16342352870213, -22.96516033590796], [-43.16347170487487, -22.96515303772666], [-43.163530898328716, -22.96510974621064], [-43.16355989993877, -22.965085158722154], [-43.16358523179057, -22.965036326776076], [-43.16360037311322, -22.96498394618992], [-43.16365305915525, -22.964960354557753], [-43.16370942582034, -22.964945836682467], [-43.163765510942255, -22.96493050280384], [-43.16381619471968, -22.964903458237693], [-43.163846080777525, -22.964856847152213], [-43.16386995748638, -22.96480736708373], [-43.16392349873622, -22.9647855019087], [-43.163978928324404, -22.964768083401935], [-43.16403538921296, -22.964754018007422], [-43.16409212798188, -22.96474067732639], [-43.1641492343035, -22.964729147831928], [-43.16420569465169, -22.964714903569767], [-43.164257523697685, -22.964689766659546], [-43.16431030579562, -22.96466626711344], [-43.164355050049444, -22.964631385773114], [-43.16440573433857, -22.964604431313436], [-43.16445718328257, -22.964578478113484], [-43.1644930620573, -22.964535728073482], [-43.16453847873311, -22.964501668086253], [-43.164584279778076, -22.96446788434504], [-43.164623345365726, -22.964427518126936], [-43.16466452940331, -22.96438907367725], [-43.16470503935845, -22.964349994712865], [-43.16472357962543, -22.964298553652277], [-43.16472616133763, -22.96424449328905], [-43.16474120462697, -22.964192110523065], [-43.164753232870105, -22.964139061637255], [-43.164762048639716, -22.9640855240488], [-43.16476940527686, -22.964031788962934], [-43.16477423051271, -22.963977752761643], [-43.16477457281558, -22.963923575264882], [-43.164774328152475, -22.96386939097293], [-43.16478041845565, -22.963815550922593], [-43.16478670375693, -22.963761713128772], [-43.16478636353224, -22.963707527729387], [-43.16477528246464, -22.96365430162196], [-43.16476468793992, -22.963601081146216], [-43.16473636801899, -22.963553615436656], [-43.164726458466866, -22.963500222283567], [-43.16476687189884, -22.963461047349426], [-43.16479956071462, -22.96341618423336], [-43.16483997528235, -22.96337692169752], [-43.16484816692707, -22.963369610817374], [-43.16487836675749, -22.963343046654295], [-43.16488231434445, -22.963339572359747], [-43.1649355687048, -22.963317160760823], [-43.16499367741297, -22.96331079066931], [-43.165052151784074, -22.96331345322726], [-43.165110511084066, -22.96331719986737], [-43.165168886731436, -22.96332031365515], [-43.16522723947314, -22.963324691390817], [-43.165285491062704, -22.96332933884192], [-43.16534396423712, -22.96333209158141], [-43.16540246664596, -22.963332678281713], [-43.1654609824472, -22.963332272691336], [-43.16551938639505, -22.963332857306064], [-43.16557774815549, -22.963336785311487], [-43.165636108019605, -22.963340709661527], [-43.165694471506924, -22.963344365833837], [-43.16575270584786, -22.963350366548806], [-43.16581073713839, -22.963356817308867], [-43.16586844572224, -22.963365792783854], [-43.16592542233291, -22.9633782824699], [-43.16598303027851, -22.96338734613919], [-43.16604073791627, -22.96339632154169], [-43.1660978206002, -22.96340817937381], [-43.16615428418047, -22.9634225584941], [-43.166211266962506, -22.963434594832723], [-43.16626855685257, -22.96344555287975], [-43.166326053203775, -22.96345551996708], [-43.166383448680456, -22.96346602587617], [-43.16644052679195, -22.963478155345395], [-43.166496888570755, -22.963492712871442], [-43.16654952586425, -22.96351625936092], [-43.16660135907321, -22.963541510476382], [-43.16665509547064, -22.96356281208068], [-43.16670902935003, -22.963583933540168], [-43.16676216446873, -22.963606581791236], [-43.16681459662271, -22.963630667639954], [-43.16686693008866, -22.96365484173061], [-43.1669201642267, -22.96367731047127], [-43.16697390147916, -22.9636987013819], [-43.16702773455651, -22.963720002177524], [-43.16708267961137, -22.963738607639453], [-43.167138432929946, -22.963755056070216], [-43.167195003297564, -22.963768623344194], [-43.16725157296343, -22.96378246059497], [-43.16730551140776, -22.963803402211035], [-43.167349003000474, -22.963839664776604], [-43.167384010043676, -22.96388305616344], [-43.16742552780499, -22.96392128074263], [-43.16747986511818, -22.963941503590778], [-43.1675362293681, -22.963955974100312], [-43.16759472362109, -22.963957190222626], [-43.167652866687504, -22.96396282889454], [-43.16770449991653, -22.963988258864205], [-43.1677562316556, -22.964013689053502], [-43.16780517612337, -22.96404333303931], [-43.16785114419583, -22.96407682471943], [-43.16789849825678, -22.96410870695885], [-43.16794625184392, -22.964139961684396], [-43.16799241642478, -22.96417327679859], [-43.16804365228606, -22.964199331481407], [-43.16809638474073, -22.964222877680083], [-43.168148119057825, -22.96424812898002], [-43.16819984999893, -22.96427355992706], [-43.16825298567703, -22.964296206806956], [-43.16830521877111, -22.9643205598929], [-43.168355656445804, -22.964347962505496], [-43.16840719052071, -22.964373752324263], [-43.16845256336527, -22.96440786998627], [-43.168496251932964, -22.964443953931294], [-43.16854152685031, -22.96447825014072], [-43.16858600960281, -22.964513440212492], [-43.16863296691605, -22.964545770080296], [-43.16868400411796, -22.96457218619316], [-43.168738643168616, -22.96459168969663], [-43.1687967829349, -22.964597598834523], [-43.16885459539826, -22.964605943243182], [-43.168908132527164, -22.96462769152636], [-43.1689610673639, -22.96465078918041], [-43.169014099988246, -22.964673795838465], [-43.16906413942338, -22.964701825757253], [-43.16911637379634, -22.96472617950822], [-43.16916910568639, -22.964749725362392], [-43.16921467923288, -22.964783663631025], [-43.16925688710269, -22.964821175123127], [-43.16930245973276, -22.964855112455048], [-43.169350409400394, -22.96488618934768], [-43.16940364471999, -22.964908567008578], [-43.16945070086608, -22.9649408968882], [-43.16948669659486, -22.964983574142064], [-43.16952594400143, -22.965023760462287], [-43.169578277560184, -22.965047933707993], [-43.16963403397536, -22.965064290132112], [-43.169689887415046, -22.965080467052296], [-43.16974686884693, -22.96509268366226], [-43.16980395363156, -22.96510454023502], [-43.16986103503356, -22.96511657645085], [-43.16991608247938, -22.965134821851702], [-43.16996851562432, -22.965158995220666], [-43.170020650429066, -22.96518352724271], [-43.17007408682069, -22.96520554670313], [-43.170126822246026, -22.965229001993883], [-43.17017835556491, -22.96525460975208], [-43.17022978945202, -22.965280578460277], [-43.17028072538404, -22.96530717352361], [-43.17032887726811, -22.965337891262138], [-43.170375340266936, -22.965370846157267], [-43.170421207569355, -22.965404516585746], [-43.17046707685711, -22.965438186121887], [-43.17051791390252, -22.965464963287108], [-43.170566660919484, -22.965494872394085], [-43.17061262899424, -22.965528452728634], [-43.1706620719125, -22.965557379219263], [-43.17071480685106, -22.965580744017576], [-43.17076724055195, -22.965604827744254], [-43.17082148256231, -22.96562504930703], [-43.170876022441405, -22.965644732473177], [-43.17092805646359, -22.965669533958636], [-43.17097939314731, -22.96569550221947], [-43.17103262909566, -22.965717878465806], [-43.1710818720842, -22.965747253136556], [-43.17112903009104, -22.965779312818082], [-43.17117757746066, -22.965809583365303], [-43.17122961282095, -22.96583429447024], [-43.17127965196057, -22.965862414031193], [-43.17132879755417, -22.965891787506717], [-43.17138043203992, -22.96591730576141], [-43.171432266640124, -22.96594237569832], [-43.171483402689994, -22.96596870270177], [-43.171535039426296, -22.9659941306322], [-43.17158567609055, -22.966021264568294], [-43.17163641367191, -22.96604821995085], [-43.17168824913374, -22.966073378315276], [-43.17173948523209, -22.966099524886395], [-43.171785948862926, -22.96613247850088], [-43.171828848904106, -22.966169366128486], [-43.1718657932211, -22.96619227664652], [-43.171899682957665, -22.96621027739309], [-43.171935676177334, -22.966224146661553], [-43.17197086604728, -22.966239813614497], [-43.172005657647595, -22.966256017783362], [-43.17204134985455, -22.96627051748253], [-43.17207663773281, -22.966286004938002], [-43.172111230229234, -22.966302658302332], [-43.17214601847296, -22.96631904210559], [-43.17218241384846, -22.9663320174462], [-43.17221961970492, -22.966342738235824], [-43.17225692425002, -22.966353372561297], [-43.172294024319115, -22.966364636639423], [-43.172330926731, -22.966376168435296], [-43.172367220805306, -22.966389500165715], [-43.17240251093293, -22.966404898178215], [-43.1724374013512, -22.966421013093463], [-43.172472692734104, -22.966436318996852], [-43.17250818372712, -22.96645135809197], [-43.17254347314029, -22.966466666666744], [-43.17256217696307, -22.966475550441043], [-43.172573416133105, -22.96648091665903], [-43.17257816351365, -22.96648322895378]]], [[[-43.14745105836838, -22.961750349172682], [-43.14746266377716, -22.96175048477826], [-43.14747119361014, -22.96176142247297], [-43.14746504961078, -22.96178293101629], [-43.14745595715887, -22.96179889850129], [-43.14746156299643, -22.961809800224476], [-43.14749024889559, -22.961837225959425], [-43.14756822944007, -22.961868117316424], [-43.1475826472162, -22.961876411133318], [-43.14758229259489, -22.961895280978045], [-43.147564693948716, -22.961905731875685], [-43.14749503502889, -22.961893901136456], [-43.14740471709763, -22.961895193638366], [-43.14734940138715, -22.961896986313125], [-43.1473172156277, -22.96190455676696], [-43.147287845104685, -22.96192028727726], [-43.14725822870691, -22.96194676082625], [-43.147228185762515, -22.961997520576254], [-43.147218871801314, -22.96202973888243], [-43.147206563136976, -22.96206725180431], [-43.14718461956497, -22.962153232702516], [-43.14714008520021, -22.962201024621333], [-43.14714458911268, -22.962271241774637], [-43.14716414658235, -22.96231734276223], [-43.14719519485646, -22.96237170700669], [-43.147226636440095, -22.962404583105165], [-43.147251835723104, -22.962458878083503], [-43.14729167086135, -22.962505397533608], [-43.14729053430491, -22.96256733040106], [-43.14731573362714, -22.962621626274707], [-43.14733553509102, -22.96265698598518], [-43.14734050449131, -22.962700208329323], [-43.1473335775149, -22.962764783488716], [-43.14733519342973, -22.96283225693191], [-43.14734583050452, -22.96288900138195], [-43.14737395200808, -22.962943330493882], [-43.14737617065097, -22.962981102582752], [-43.14741539443488, -22.963065270726343], [-43.147399838825564, -22.963118997333776], [-43.147387602669326, -22.96315118420529], [-43.14738646611641, -22.963213117974046], [-43.14741198332986, -22.963251252622435], [-43.14741427261211, -22.963283698631265], [-43.14743422185499, -22.963308222035423], [-43.14746577053107, -22.96333297218499], [-43.14749467887193, -22.963344239213505], [-43.147521149346126, -22.96333389109933], [-43.147530218492165, -22.963312414031744], [-43.14754316361832, -22.963242581377006], [-43.14754651805842, -22.963218330284086], [-43.14755297696102, -22.96318065868711], [-43.14755914545531, -22.963164657038146], [-43.14757924109932, -22.963178437120828], [-43.147578386418665, -22.9632269192165], [-43.14758578086644, -22.963299789793687], [-43.14760244829577, -22.963343237313005], [-43.14762507743341, -22.963378631839756], [-43.14762358636718, -22.96345943365117], [-43.147639863245125, -22.963524460547074], [-43.147657204254116, -22.963532790327044], [-43.147668452272406, -22.9635517948321], [-43.14769086103143, -22.96360343839665], [-43.14773094298872, -22.963639034118717], [-43.14777944302713, -22.9636937809671], [-43.147828261042285, -22.963732278090536], [-43.14785625236464, -22.963789316471438], [-43.147849826544, -22.963824276703644], [-43.147843158745395, -22.96386998273525], [-43.14784790812969, -22.96392936652595], [-43.14785858045064, -22.963983400501444], [-43.14786122443736, -22.963996977568872], [-43.14788053723269, -22.9640539127496], [-43.14790329902936, -22.964086597932827], [-43.14791683751229, -22.964138047539976], [-43.14794220959303, -22.964186929047752], [-43.14799389108148, -22.964222838120502], [-43.14802529756907, -22.96425833423612], [-43.148062659796246, -22.96428585944508], [-43.14809410006052, -22.96431873538382], [-43.14810227871545, -22.9643484508293], [-43.14817122764985, -22.96439810773912], [-43.14825170969128, -22.964453228951534], [-43.148329044395076, -22.964524567696095], [-43.14841541138337, -22.96457713881626], [-43.148464451969744, -22.964599474335447], [-43.14846737507856, -22.964599508475725], [-43.148556386236564, -22.964665656586767], [-43.14865745321536, -22.96471307145357], [-43.14871822810641, -22.964732834879058], [-43.14879602933446, -22.964777178607946], [-43.148853560411006, -22.96481315753594], [-43.14890819529205, -22.964854432242195], [-43.148939819085015, -22.9648738551947], [-43.14899463526482, -22.964901676110003], [-43.14902896432668, -22.96493720526783], [-43.1490427104769, -22.96498053005823], [-43.149013129336815, -22.965004385566598], [-43.14900131964357, -22.96501228454012], [-43.14898640266833, -22.965033602208354], [-43.14896570736668, -22.965049434292965], [-43.14893069333264, -22.96505697291563], [-43.148875241960305, -22.96506147081745], [-43.148819998468895, -22.965057936068153], [-43.14876175639167, -22.96505969409231], [-43.14871496731714, -22.965072513271032], [-43.14870015803388, -22.965085705000526], [-43.14866730237262, -22.965128304983565], [-43.148652345263386, -22.965152421505106], [-43.148663374420224, -22.965187586522394], [-43.1486590322965, -22.965263029060253], [-43.14866141769457, -22.965295384979097], [-43.148686655881264, -22.96534697116983], [-43.14871220950277, -22.965382486409133], [-43.14876920523889, -22.96545070140119], [-43.148779280420094, -22.965534436763132], [-43.14881064638402, -22.96557272982301], [-43.14881839506554, -22.965626729609912], [-43.148829569628575, -22.965651151299145], [-43.14885788031378, -22.96569202742671], [-43.14886301955384, -22.96572983451559], [-43.14886544358296, -22.965759572130207], [-43.14887965270409, -22.96577599058163], [-43.148911338530944, -22.96579803393016], [-43.148966374156316, -22.965809694306067], [-43.14900409435809, -22.96581835221985], [-43.14907904398854, -22.965857244434414], [-43.149148241965925, -22.965896069461465], [-43.149206092116074, -22.965915888882826], [-43.149246456782954, -22.96593803259327], [-43.149289962454894, -22.965944138330162], [-43.149322077290414, -22.965941985710984], [-43.149362195998, -22.965974962745552], [-43.149402279077705, -22.96601055810905], [-43.14946305636082, -22.96603041161243], [-43.149497849634166, -22.966039034342174], [-43.14955305767175, -22.966045276616093], [-43.14957932038529, -22.96604305653605], [-43.14961979255795, -22.966057167253574], [-43.149665799444804, -22.966087501182283], [-43.14972054252197, -22.966120739135892], [-43.14975509402255, -22.966140105815462], [-43.14975798127177, -22.966142848571447], [-43.14978992420385, -22.966146020760856], [-43.149818721806255, -22.96616541057139], [-43.14985055415392, -22.966176707724383], [-43.14988553278266, -22.966171789059324], [-43.14992367805358, -22.9661562508187], [-43.149955939452646, -22.96614326175155], [-43.14998777179648, -22.966154559780286], [-43.15002749857098, -22.966209114234157], [-43.15004109987775, -22.96626318409268], [-43.15006957813482, -22.96629873417141], [-43.15010144738864, -22.966307323553668], [-43.15017082827173, -22.96633260501074], [-43.15023449306922, -22.96635520278919], [-43.15026628865322, -22.966369207587356], [-43.15030341112277, -22.966407476347047], [-43.15033496200447, -22.96643222691155], [-43.15036919600063, -22.96646784410175], [-43.150380576794845, -22.966484230332455], [-43.15040930108386, -22.966508947902625], [-43.15042922849906, -22.966528053509364], [-43.15043133056799, -22.966573952302397], [-43.15041302659746, -22.966622229948953], [-43.15041231705184, -22.966659968765153], [-43.15042045752942, -22.966692391826133], [-43.15043170620168, -22.966711394364435], [-43.15042263722155, -22.966732872507407], [-43.15039918888581, -22.966743254535654], [-43.150383782299315, -22.96678614786946], [-43.15039741748252, -22.966837598441913], [-43.150397306895, -22.9668457252249], [-43.150426044365545, -22.96686231306964], [-43.150446422359394, -22.966862642945802], [-43.15046665320335, -22.96687371522188], [-43.150504090094906, -22.96689591387392], [-43.150544955735676, -22.966888444100622], [-43.15057157313557, -22.966867263700575], [-43.15058338292819, -22.966859363713432], [-43.15060362562731, -22.966862398338808], [-43.150632925143285, -22.96685208635049], [-43.15065700950069, -22.966809293325177], [-43.15064661453208, -22.966741805930248], [-43.150646859436414, -22.966730973462155], [-43.15064421584471, -22.966717487637183], [-43.15065320910878, -22.96670142851642], [-43.1506709803768, -22.966685561201317], [-43.15067416124895, -22.96666672521248], [-43.150674760115436, -22.966637115883508], [-43.15068068405753, -22.966631765073547], [-43.150701597376845, -22.96659977036904], [-43.15070755911848, -22.966591712747736], [-43.150708547151545, -22.9665405230933], [-43.15070861963876, -22.966535195223432], [-43.150717750149546, -22.96651642954455], [-43.1507352020531, -22.96651672253602], [-43.15074652418232, -22.966530399904308], [-43.1507461702041, -22.966549178571714], [-43.1507572336231, -22.96658172872917], [-43.150777182712055, -22.96660634206138], [-43.15080020527727, -22.96662015591901], [-43.150828757497756, -22.96665028952565], [-43.15083410830867, -22.96667997006793], [-43.15085405741308, -22.9667045842949], [-43.150871155113435, -22.96672374714318], [-43.15088829090756, -22.96674011017192], [-43.150870447907856, -22.966761394790154], [-43.150855676192876, -22.966771968403], [-43.150860781125076, -22.96681248320847], [-43.15087180876398, -22.966847738387376], [-43.15089166162246, -22.966872261186182], [-43.15091781421316, -22.966878075574122], [-43.15093748285784, -22.9669161406026], [-43.150966036142925, -22.96694627420084], [-43.151012080431116, -22.96697390366144], [-43.15106121891869, -22.96699623596927], [-43.151084484235106, -22.966999308499616], [-43.15108174212962, -22.966985820627674], [-43.15107049458358, -22.96696672693827], [-43.151047619061266, -22.96694216890315], [-43.151027450040495, -22.966933716174964], [-43.15101878523912, -22.96692548793462], [-43.15101356874405, -22.966893099002977], [-43.151031658553926, -22.966860982823736], [-43.151049217875375, -22.966853239262417], [-43.15106980393886, -22.966845442506763], [-43.15107294791682, -22.966829315134664], [-43.1510535238751, -22.96678050704628], [-43.15103953229967, -22.966747925460545], [-43.15103403823761, -22.966728987374008], [-43.15104003584934, -22.96671822019742], [-43.151057623069015, -22.966715808384624], [-43.15108956596883, -22.966719067912916], [-43.15111562005054, -22.966724882021172], [-43.151153340665644, -22.966733540350727], [-43.15119962860878, -22.96675042395968], [-43.15125462804177, -22.966764791302527], [-43.15132129206478, -22.966782003720716], [-43.151341669094776, -22.966782332566837], [-43.151362156679156, -22.96677453281711], [-43.151385737337634, -22.966761444030904], [-43.151389018530836, -22.966742610095594], [-43.15138637414224, -22.966729033967855], [-43.15138067103704, -22.96671822062651], [-43.15138070788791, -22.966715511095373], [-43.15136649739505, -22.966699091929716], [-43.151366958880864, -22.966672187336812], [-43.15137309249143, -22.966658803879078], [-43.15137631107998, -22.9666372592528], [-43.15137966400925, -22.96661300713512], [-43.151353885516784, -22.966593742200303], [-43.15132794167507, -22.96657989525506], [-43.15127615870365, -22.966544073594346], [-43.151241791067655, -22.966511164086022], [-43.151216015527524, -22.966491900068053], [-43.15117569036409, -22.96646695793628], [-43.15111526554114, -22.96642832637865], [-43.151083506711814, -22.96641161131071], [-43.15106387594329, -22.966370834975017], [-43.151055453838495, -22.966351864543153], [-43.151020622541516, -22.966345950760576], [-43.15098592464679, -22.96633732766293], [-43.150980112254594, -22.966334551711302], [-43.150951277602196, -22.96631786982397], [-43.15093157316793, -22.966282512536107], [-43.150920581166595, -22.966244639020836], [-43.15090052156886, -22.96622815068756], [-43.15087746442359, -22.96621695429611], [-43.15086012187293, -22.966208625727475], [-43.15085440506672, -22.966205849080602], [-43.15080265920384, -22.966167319556284], [-43.15078295386577, -22.966131961339], [-43.150753972831836, -22.966126115746885], [-43.150724859409344, -22.96612297675951], [-43.1507132936352, -22.966120042476085], [-43.15069587741787, -22.966117130242807], [-43.15066693228099, -22.96610857509359], [-43.150624353887345, -22.96604856850179], [-43.15041428708642, -22.965913192340007], [-43.15036228467903, -22.965893533690174], [-43.150324491616566, -22.965890292455136], [-43.15011392581132, -22.965784530023004], [-43.150026848721524, -22.965769697663575], [-43.149890095429086, -22.965764851722398], [-43.14983220738004, -22.96574774116296], [-43.14976857856642, -22.965722525808463], [-43.14970237931262, -22.965678317032598], [-43.14964491917731, -22.965637011402134], [-43.149663079696126, -22.965599566591568], [-43.1497070771787, -22.96558400730451], [-43.14971888688716, -22.96557610827946], [-43.14965039759943, -22.965499547392994], [-43.149567383484936, -22.965422812420403], [-43.14947555561522, -22.96534859688917], [-43.14940304243471, -22.965331314556256], [-43.14935364822522, -22.96532775887112], [-43.14933662441146, -22.965303268929038], [-43.14930838740234, -22.965256975629842], [-43.149320382207655, -22.965235623816167], [-43.14935581128209, -22.965211927724972], [-43.149393641016445, -22.965212458746038], [-43.14944903086893, -22.96520524908462], [-43.14944113667668, -22.96516199173239], [-43.149432826465876, -22.96513489536519], [-43.14946840079838, -22.96510045411534], [-43.14952984959855, -22.965085277380464], [-43.14958820230018, -22.96507539409871], [-43.14964961446282, -22.965062835642946], [-43.149727695852064, -22.965093727227757], [-43.149838964131646, -22.96505773209749], [-43.149906411470376, -22.96503178809139], [-43.14997692686477, -22.964995226944843], [-43.150035206048635, -22.96499066954543], [-43.15017799276273, -22.964982130739344], [-43.15021895214272, -22.964974753317456], [-43.1502627781601, -22.964964609071206], [-43.15029204044433, -22.96495700394], [-43.15031841453735, -22.964946654240833], [-43.150353671452294, -22.96492828281311], [-43.15037436557459, -22.964912453232444], [-43.15038600398634, -22.964909969364907], [-43.15040927017931, -22.964912949877522], [-43.150450169881346, -22.964902860834204], [-43.15048274831223, -22.964873712198177], [-43.15054169782363, -22.964834216489905], [-43.15056239292261, -22.9648183841849], [-43.15058584015806, -22.96480791360304], [-43.15061795475992, -22.964805757993382], [-43.150659172029734, -22.964779419155036], [-43.15069132151133, -22.964774555782277], [-43.15072013323775, -22.96478572901574], [-43.15075816845973, -22.96477831643524], [-43.150790781706526, -22.96474645817552], [-43.15084980672027, -22.9647015451091], [-43.150855620992154, -22.96470432108406], [-43.150876462441715, -22.964677654210043], [-43.150912184390855, -22.964632469302718], [-43.15094733159538, -22.96462222362791], [-43.15097374046047, -22.964609166063532], [-43.15100074932545, -22.96456640705827], [-43.15103336440228, -22.964534549666414], [-43.15107169329306, -22.964505467965157], [-43.15110127275766, -22.964481702327962], [-43.15112278338464, -22.96442009636899], [-43.15112952382263, -22.964368971971886], [-43.15113312226531, -22.964333978590552], [-43.151131370171626, -22.96426921166255], [-43.15113254190409, -22.96420456913509], [-43.151130006860775, -22.964182957405267], [-43.151121867543836, -22.964150444082158], [-43.15111665400521, -22.96411805518264], [-43.15110897618281, -22.96405863726126], [-43.15110333507441, -22.96405044429635], [-43.151070105194265, -22.963955509707077], [-43.15106887332659, -22.963866547923033], [-43.151046429043404, -22.963817703713012], [-43.151010200510704, -22.9637281531609], [-43.1509739351807, -22.963641311231346], [-43.15094862365711, -22.963595142627128], [-43.15094102156659, -22.963530306563168], [-43.15092431524445, -22.963489565233434], [-43.15091306380804, -22.96347056270159], [-43.15089689757859, -22.963397499572537], [-43.15086849111428, -22.96335662357766], [-43.150828690070945, -22.963307486594235], [-43.15080877827947, -22.96328016285551], [-43.15076830572906, -22.963266056985965], [-43.150719448198345, -22.963230267522686], [-43.15065748176869, -22.963118833611883], [-43.15062061892669, -22.96306160458528], [-43.150586423485905, -22.963023277966855], [-43.15054041933326, -22.962992942565684], [-43.150480387250106, -22.962932733262143], [-43.150400518248865, -22.962839782912177], [-43.15035479402406, -22.962795904534946], [-43.15032046506743, -22.962760377473728], [-43.15030900985328, -22.962749410302553], [-43.15024625910747, -22.962681039318326], [-43.150203366404305, -22.962637193938665], [-43.15017535045078, -22.96257473932816], [-43.150129980384584, -22.962512083127848], [-43.15009585963911, -22.962468430376816], [-43.1500700971192, -22.962441037385904], [-43.15003008978996, -22.962399933787744], [-43.15000717926545, -22.962378086096255], [-43.14997294828131, -22.96234246800379], [-43.149924164987205, -22.96230126287739], [-43.14989246886372, -22.962287257411624], [-43.14986035559345, -22.962289502320452], [-43.14983405576238, -22.96229443201466], [-43.149813715043926, -22.962291485581723], [-43.14979946929831, -22.962277774045248], [-43.149791293522135, -22.962247969301984], [-43.14978279932814, -22.96223432488563], [-43.1497566833009, -22.962225892931812], [-43.14972794812455, -22.96220921202965], [-43.14969658037643, -22.962171010348875], [-43.149680229857424, -22.962111400865844], [-43.14966052434266, -22.96207604344081], [-43.14964589833489, -22.962075872741366], [-43.1495850509626, -22.96206143668947], [-43.14956474839408, -22.96205569040963], [-43.14951563571513, -22.962038773440586], [-43.14947520057681, -22.962021956838885], [-43.14944615986139, -22.9620134003978], [-43.149402896261044, -22.961996550763978], [-43.14936532234615, -22.961977148777894], [-43.149327741687706, -22.961965693272262], [-43.14926668531531, -22.961959381833815], [-43.14921461207964, -22.961945048067545], [-43.149139566015506, -22.961906153984913], [-43.149105016630905, -22.961886786345875], [-43.14906758033601, -22.961864587443674], [-43.14903578469577, -22.961850671859004], [-43.14897501223573, -22.96183081834219], [-43.14893165126001, -22.96181396744861], [-43.148905596262544, -22.96180815392552], [-43.148888180899064, -22.96180515123176], [-43.14880103271239, -22.961795738327538], [-43.14873708837613, -22.96178668120401], [-43.14867909247315, -22.96177769712705], [-43.14862684813781, -22.961768777483115], [-43.14858320749683, -22.96176537911471], [-43.148542306705046, -22.961775467709774], [-43.14848674405319, -22.9617880923207], [-43.14845724123723, -22.961806530568058], [-43.14841287843911, -22.961848997070078], [-43.14838326226109, -22.961875470844898], [-43.14833926806828, -22.961890941369436], [-43.14828398705851, -22.961890114216597], [-43.14826381896249, -22.96188166119172], [-43.14825828756037, -22.96186543255264], [-43.148261603978845, -22.961843888238025], [-43.14825018593064, -22.961830210501862], [-43.14818327970294, -22.961823830326715], [-43.14818031683566, -22.961826504775953], [-43.148163111636, -22.961815376387133], [-43.14810805175324, -22.961798389530077], [-43.1480471668402, -22.961786661519405], [-43.14800348642272, -22.96178596977677], [-43.14798596331008, -22.96179109379657], [-43.14797993104433, -22.961804477405135], [-43.147976688378364, -22.961820604461703], [-43.14795603136012, -22.961833727831525], [-43.147938616034644, -22.961830724131683], [-43.14791555961766, -22.961819618569777], [-43.147886615577164, -22.961811063882383], [-43.14782848438067, -22.96180478606834], [-43.14779939496276, -22.96180697468437], [-43.147770356383504, -22.961798417065765], [-43.14775057565661, -22.961768477566185], [-43.147736234646544, -22.961754763841384], [-43.14769875855154, -22.96173536352144], [-43.14764091039669, -22.961715543670543], [-43.14759747681501, -22.96170410968461], [-43.14755394575392, -22.961692673645157], [-43.14749887304636, -22.961683723296844], [-43.14744951789062, -22.961677547889916], [-43.147411763279536, -22.961671507116936], [-43.14739688408939, -22.961690207240952], [-43.147393676330246, -22.961703624731946], [-43.14739324910945, -22.961727820632312], [-43.147401742063224, -22.96174146424556], [-43.14742479841975, -22.96175256987874], [-43.14745105836838, -22.961750349172682]]]], &quot;type&quot;: &quot;MultiPolygon&quot;}, &quot;id&quot;: &quot;0&quot;, &quot;type&quot;: &quot;Feature&quot;}], &quot;type&quot;: &quot;FeatureCollection&quot;});\n",
       "\n",
       "        \n",
       "    \n",
       "            geo_json_1c3f2c1ab533611811e120b3e84fbdca.addTo(map_1035e241e0d6ead3de7800ecedb7bbbe);\n",
       "        \n",
       "    \n",
       "        function geo_json_895b56a0cff1c31ab580d91ea931f821_styler(feature) {\n",
       "            switch(feature.id) {\n",
       "                default:\n",
       "                    return {&quot;color&quot;: &quot;black&quot;, &quot;fillColor&quot;: &quot;#FFFFB2&quot;, &quot;fillOpacity&quot;: 0.7, &quot;weight&quot;: 1};\n",
       "            }\n",
       "        }\n",
       "\n",
       "        function geo_json_895b56a0cff1c31ab580d91ea931f821_onEachFeature(feature, layer) {\n",
       "            layer.on({\n",
       "            });\n",
       "        };\n",
       "        var geo_json_895b56a0cff1c31ab580d91ea931f821 = L.geoJson(null, {\n",
       "                onEachFeature: geo_json_895b56a0cff1c31ab580d91ea931f821_onEachFeature,\n",
       "            \n",
       "                style: geo_json_895b56a0cff1c31ab580d91ea931f821_styler,\n",
       "        });\n",
       "\n",
       "        function geo_json_895b56a0cff1c31ab580d91ea931f821_add (data) {\n",
       "            geo_json_895b56a0cff1c31ab580d91ea931f821\n",
       "                .addData(data);\n",
       "        }\n",
       "            geo_json_895b56a0cff1c31ab580d91ea931f821_add({&quot;features&quot;: [{&quot;geometry&quot;: {&quot;coordinates&quot;: [[[[-43.27535779568179, -23.02973508177614], [-43.275354266989986, -23.0297746874382], [-43.275343211679846, -23.029830556344283], [-43.27531842125208, -23.029869659280685], [-43.27530804621016, -23.02993348248677], [-43.275305610245866, -23.030025296660735], [-43.27530528672434, -23.030027641077456], [-43.27529903226243, -23.03012049909024], [-43.27536008254935, -23.030130374963615], [-43.27541577415978, -23.030139651462726], [-43.27547236813349, -23.030208358826574], [-43.275550635654646, -23.030253190864368], [-43.275573230944765, -23.030263912624534], [-43.27567455634683, -23.03030619919808], [-43.27574397290315, -23.03037170223198], [-43.27575492384666, -23.03041589070647], [-43.2758215192804, -23.030488409501707], [-43.27590212602644, -23.030571645831277], [-43.27598612708142, -23.030618166563027], [-43.27607632496652, -23.03066069013375], [-43.27618462593703, -23.030683814628038], [-43.276292144243975, -23.03068417351926], [-43.276406571824154, -23.030685962204927], [-43.27652223692487, -23.03069769790393], [-43.276630810823846, -23.030722540877083], [-43.27673607195523, -23.03072377793237], [-43.27682656520865, -23.03068954456319], [-43.27690685425945, -23.03063669005112], [-43.27699668640262, -23.030593054887376], [-43.27708872700492, -23.0305520652947], [-43.277185905920845, -23.03050598328529], [-43.277274777424594, -23.03044572397062], [-43.27735530380217, -23.030374175829046], [-43.277458070549784, -23.0303337552452], [-43.277564765726225, -23.03032209364732], [-43.27766646508752, -23.03034261578312], [-43.27776272661628, -23.030384120762868], [-43.27781354751262, -23.030423596685235], [-43.277911465224186, -23.03043459631052], [-43.27800281824612, -23.03047072058542], [-43.278110804228795, -23.030495464937907], [-43.278219077312, -23.030490322083104], [-43.27832190216173, -23.030460830349643], [-43.278398481266066, -23.030392666689902], [-43.27844338964253, -23.030313869796174], [-43.278476242678686, -23.03022382777558], [-43.27847689689156, -23.03020297519521], [-43.27842724392157, -23.030117637828205], [-43.278358506565745, -23.030052411513168], [-43.27828668092879, -23.029984442389335], [-43.27820210423457, -23.02991407680754], [-43.278114789207706, -23.029851900093302], [-43.27802578372381, -23.029792230781368], [-43.27793280836166, -23.029737848947686], [-43.27781585069191, -23.02969720153989], [-43.27770671097414, -23.02967108987222], [-43.27760735594741, -23.029673348520483], [-43.277506943867834, -23.029682008197803], [-43.27740077963369, -23.029659540042935], [-43.27726812422107, -23.029641388911426], [-43.27716567031418, -23.029603518750015], [-43.277067854372504, -23.029561545884615], [-43.27696945905775, -23.029526699890106], [-43.27686685153103, -23.029493251940757], [-43.27676328116353, -23.029451125004794], [-43.27673651597675, -23.029376782854364], [-43.276743626371136, -23.029316354661113], [-43.2767821565905, -23.029225022995558], [-43.27678733371126, -23.029224629668803], [-43.276788477006015, -23.029188429578998], [-43.27673936486777, -23.02910670985798], [-43.27665905300899, -23.029054089864793], [-43.276559311976435, -23.029010017806097], [-43.276456499439995, -23.02898505700751], [-43.276361703693, -23.0289358912906], [-43.276277114710616, -23.02888963620858], [-43.276172635980025, -23.028872873078384], [-43.27615614968976, -23.028872424317665], [-43.27606004919932, -23.028902984033536], [-43.2759678917763, -23.028930063840743], [-43.27592991551794, -23.02900090196082], [-43.275972852594826, -23.029069460303496], [-43.276035149957394, -23.029119175147258], [-43.27602741168752, -23.029159908934762], [-43.27603310723001, -23.029210722735012], [-43.276049941971095, -23.02930626887997], [-43.276026471126194, -23.02932587941934], [-43.27592849797274, -23.029334655889585], [-43.275830082189174, -23.0293783748237], [-43.27573617515348, -23.029427832991097], [-43.27564690089988, -23.029473818778683], [-43.27555177497863, -23.029504117862945], [-43.27545686441006, -23.029548235984254], [-43.27539089079151, -23.02961849690722], [-43.275360706741736, -23.02970567390649], [-43.27535779568179, -23.02973508177614]]], [[[-43.25480115535594, -22.983791897013287], [-43.2553617917818, -22.984186656456302], [-43.25577674934012, -22.984563013479534], [-43.25598766102238, -22.985190519383185], [-43.25644974278221, -22.986158713140643], [-43.256676728687786, -22.9869553574446], [-43.25697806117882, -22.987651496924105], [-43.25703310811535, -22.988332555321623], [-43.25705650758058, -22.98860679924454], [-43.25701814839807, -22.98897374026538], [-43.2568412387993, -22.989146443217486], [-43.25645448391548, -22.98934465217207], [-43.25605639700372, -22.98949902578061], [-43.254665963120935, -22.989894241174763], [-43.25445866913376, -22.990077986706474], [-43.254243685123896, -22.99024530102788], [-43.25393955795164, -22.990449921823423], [-43.2535047664722, -22.990696899350194], [-43.25311367389491, -22.99076925575414], [-43.252776576811605, -22.990776465513942], [-43.2524473350865, -22.99063602104018], [-43.252408262132995, -22.990632789588716], [-43.252293881101615, -22.99079696666299], [-43.25220057702245, -22.990990636892896], [-43.25203354073563, -22.991342882903083], [-43.251920510231706, -22.99157624648787], [-43.251757851484655, -22.991959512379008], [-43.251654702045236, -22.992175286770127], [-43.251639796718045, -22.99221937266046], [-43.25151562550983, -22.992196599635776], [-43.251172285709735, -22.9920750511723], [-43.25080719435673, -22.992051963461247], [-43.25062993484841, -22.992107081304965], [-43.250490324593976, -22.992109330284368], [-43.24964451890244, -22.992111364867583], [-43.24955309309984, -22.992174200176414], [-43.24924435476146, -22.99225901585654], [-43.249173151306735, -22.992372192861676], [-43.249198737172605, -22.992611965594595], [-43.249255151520735, -22.992692417955258], [-43.24937062763966, -22.992655677728514], [-43.24976517662665, -22.992625811645713], [-43.25075079183916, -22.992606356657582], [-43.25106668521613, -22.992625016398318], [-43.25148156061172, -22.99262264441359], [-43.25172441202737, -22.992700549391806], [-43.25192426554653, -22.99276912955017], [-43.25225734712586, -22.99289236759444], [-43.252580927716664, -22.993010989400982], [-43.25280881544338, -22.993137492476563], [-43.25299410878474, -22.993223610533743], [-43.253107705742586, -22.993317787526657], [-43.25312545488438, -22.99342418217976], [-43.25311568638036, -22.993485933482997], [-43.25298204995032, -22.993448246192596], [-43.25279901271305, -22.993368475261438], [-43.25270806088878, -22.99352342890969], [-43.252278055661726, -22.993321999811453], [-43.25218492902529, -22.99354718743747], [-43.251944708249994, -22.993461725583757], [-43.251730766160684, -22.993918747244777], [-43.25032608148841, -22.99580117969414], [-43.250969654160144, -22.997521286422195], [-43.249623149487356, -22.997452679326862], [-43.24997190233994, -22.999447491210695], [-43.250030451882594, -22.999445880645702], [-43.250047839434316, -22.99944399578478], [-43.250074546311836, -22.999437969574846], [-43.25011561544947, -22.999437879789717], [-43.250111818303964, -22.999475225909684], [-43.25009379346815, -22.999511328431304], [-43.250092106137, -22.9995514061128], [-43.250110505037526, -22.999577075450595], [-43.250145946204896, -22.999597152691603], [-43.250247026255124, -22.999610734459967], [-43.250382106993904, -22.999604729922623], [-43.25047820616177, -22.999588362838104], [-43.25053930440837, -22.99955544440292], [-43.25061202436291, -22.999513894747892], [-43.25065464374703, -22.999476708389004], [-43.25070610946604, -22.99944187736921], [-43.25074965713016, -22.999423483780884], [-43.25080207654414, -22.99940555030446], [-43.250856876479325, -22.999384482428997], [-43.250915763232406, -22.999371767739156], [-43.2509729711672, -22.99936056966947], [-43.25102746431243, -22.999340672309526], [-43.25106759106901, -22.999330369202955], [-43.25112489884867, -22.999318990666342], [-43.2511806158421, -22.99930244895806], [-43.25123726548619, -22.999289077303075], [-43.25129109427009, -22.999267817935934], [-43.25134671835888, -22.99925091301772], [-43.25140187184775, -22.9992328289168], [-43.251458434019376, -22.999218823175507], [-43.25152542413932, -22.999205477999396], [-43.25156895402369, -22.999196022374484], [-43.25166877529604, -22.999170936952854], [-43.2517064008342, -22.999165483440187], [-43.251735898654516, -22.999162466017935], [-43.25183073395529, -22.999153309441933], [-43.25189526794834, -22.999148964788795], [-43.25195311755445, -22.999141025324963], [-43.252010141908464, -22.999128920890115], [-43.25206717070616, -22.999116546471058], [-43.25212326042036, -22.99910127099958], [-43.25217661645434, -22.999078833038542], [-43.25223195589553, -22.999061294327745], [-43.25228568618125, -22.99903993960464], [-43.25234046115474, -22.999020858534703], [-43.252395330357146, -22.999001958192032], [-43.25245057708406, -22.998983964143726], [-43.25250600935049, -22.998966786674863], [-43.25256116278283, -22.998948611849684], [-43.252617632037484, -22.99893415403351], [-43.25267381779769, -22.99891906093261], [-43.252727928749174, -22.99889843630603], [-43.25277918560391, -22.99887227155711], [-43.25283177436739, -22.998848650029082], [-43.252887304082364, -22.9988314725932], [-43.25294307862307, -22.9988255859775], [-43.25295843144217, -22.998852937199068], [-43.25299550624876, -22.998867524129153], [-43.25303837014364, -22.998879556068406], [-43.253061715112466, -22.998899770138646], [-43.253043283449706, -22.998929729612396], [-43.25308335825545, -22.998968912611588], [-43.253141093395996, -22.998977586681853], [-43.25319964218038, -22.998975794312713], [-43.25325695601477, -22.998986811626946], [-43.253304641015696, -22.99901822197405], [-43.25336226876635, -22.9990274366115], [-43.25342030485313, -22.999020309600873], [-43.253478063005474, -22.999011736427196], [-43.253531889242474, -22.998990566550436], [-43.253585814157915, -22.998969307437605], [-43.253639353949026, -22.998947502227413], [-43.25369251717551, -22.998924788890957], [-43.253699869459105, -22.99892188990204], [-43.25374897953255, -22.998910783016868], [-43.2538044182459, -22.99889324303043], [-43.253860231009064, -22.998876880212222], [-43.25391864003426, -22.998878517628686], [-43.25394883203266, -22.998882192732413], [-43.25400614511934, -22.998893119462934], [-43.254063668195464, -22.99890296482657], [-43.254119549270946, -22.99891920373209], [-43.254177817816384, -22.998924180795786], [-43.254265624051, -22.998900133395686], [-43.2543346998141, -22.99887651340563], [-43.25437311263191, -22.998870434888506], [-43.254431484348665, -22.998875049968756], [-43.25448975517108, -22.998879849944156], [-43.254547697856545, -22.998887258809894], [-43.25460429153018, -22.9989013389804], [-43.25466098912431, -22.99891469693218], [-43.25471925770199, -22.99891967379766], [-43.254777531115685, -22.998924199169323], [-43.25483579255263, -22.998929808049827], [-43.25489417262407, -22.99893370151506], [-43.25495269432711, -22.99893416672892], [-43.25501108137257, -22.998937518397], [-43.25506934651096, -22.998942765109238], [-43.255126766538375, -22.998952971982444], [-43.25518033043567, -22.998974874214507], [-43.25523189708584, -22.99900045693581], [-43.25527706397117, -22.999022987251287], [-43.255332738450115, -22.999055389897013], [-43.25538280791016, -22.99908339431655], [-43.25543467322923, -22.999108438434806], [-43.2554885389406, -22.999129711756417], [-43.255542401929254, -22.999150894725283], [-43.255597883534016, -22.999168031773337], [-43.255656146661494, -22.999173369461484], [-43.25571467430478, -22.999173382035078], [-43.25577321123328, -22.999172672247624], [-43.25583165295103, -22.99917178077937], [-43.25589019552138, -22.999170707983765], [-43.255948726627565, -22.999170451399294], [-43.25600710487797, -22.999174347149516], [-43.25606515833022, -22.999181125456026], [-43.25612288839747, -22.99919006931149], [-43.256179585161796, -22.999203515222014], [-43.25623335350064, -22.999224788128256], [-43.25628551532353, -22.999249473118873], [-43.25633817676509, -22.99927308264114], [-43.25639044273939, -22.99929740842792], [-43.25643981977981, -22.999326488565973], [-43.256495598234345, -22.9993430858422], [-43.25654836255445, -22.999366514014074], [-43.25660252945786, -22.999387068746966], [-43.25665780618231, -22.99940483531528], [-43.25671328393695, -22.99942206495587], [-43.25676916815657, -22.99943802845766], [-43.256825969375605, -22.999451026477402], [-43.2568829712451, -22.999463213035817], [-43.25693956779958, -22.999477110009174], [-43.256996469091916, -22.99948983815511], [-43.25705419492063, -22.9994990525491], [-43.25711224527281, -22.999506012863097], [-43.25717065371832, -22.999507649087636], [-43.25722919895031, -22.99950630581978], [-43.25728766518975, -22.999503517679823], [-43.25734551477426, -22.99949557623526], [-43.25740327958551, -22.99948663957541], [-43.25745927803405, -22.999471000867157], [-43.25751367325705, -22.99945092044168], [-43.257569388575114, -22.99943446312087], [-43.257625294067694, -22.99941846391387], [-43.25768204181089, -22.99940509009724], [-43.25773906784183, -22.999392985401446], [-43.2577961892971, -22.999380969330545], [-43.257853583774974, -22.999370404738837], [-43.257911794278286, -22.999364813184343], [-43.25797016197562, -22.99936202189804], [-43.25802864071043, -22.999358331467924], [-43.25808716384926, -22.999358705242166], [-43.25814557190185, -22.99936052171031], [-43.25820409524017, -22.9993608042352], [-43.2582624663998, -22.99936541971839], [-43.258320741007445, -22.99937003411829], [-43.25837911217807, -22.999374649558945], [-43.2584372709081, -22.999380617221195], [-43.25849565733618, -22.999383968512927], [-43.25855415849753, -22.99938605677088], [-43.25861269211407, -22.999385615912754], [-43.25867113182304, -22.999384815488234], [-43.25872967452661, -22.999383742549558], [-43.25878821624391, -22.99938267048139], [-43.25897763712828, -22.99933066034894], [-43.25903603247459, -22.999333468803897], [-43.259100526222575, -22.999339867996547], [-43.25915212883091, -22.999347208203975], [-43.259209861226026, -22.999356149165706], [-43.2592671814593, -22.99936680408615], [-43.259324804114776, -22.999376468952093], [-43.25938180898557, -22.999388744957994], [-43.259439749748374, -22.99939642565938], [-43.259497803863944, -22.999403026630986], [-43.25955596387736, -22.99940890088454], [-43.25961411709768, -22.999415229278096], [-43.259672275566665, -22.999421377097576], [-43.2597303274293, -22.999428155861665], [-43.25978816178407, -22.999436378905898], [-43.25984568415841, -22.999446491300827], [-43.259902794732604, -22.999458137953027], [-43.25996041966759, -22.999467708698983], [-43.26001825583894, -22.999476021082863], [-43.26007640601325, -22.999482439580785], [-43.26013445775035, -22.999489308502795], [-43.26019229396917, -22.999497619018413], [-43.26024992220428, -22.999507011795437], [-43.26030786752515, -22.999514422220734], [-43.26036591618552, -22.999521381330577], [-43.26042396930084, -22.99952806955228], [-43.26048212379249, -22.999534307339793], [-43.26053730035764, -22.999552252090872], [-43.26059430641744, -22.999564527681787], [-43.26065245862245, -22.999570945993423], [-43.260710505382846, -22.999577904957988], [-43.26076856299498, -22.999584322188507], [-43.26082682743331, -22.99958974831048], [-43.26088487732295, -22.99959661694088], [-43.260942608020216, -22.999605558165314], [-43.26100012860764, -22.99961567193455], [-43.261057862589645, -22.9996244343491], [-43.26111601833658, -22.999630580712346], [-43.261174409443086, -22.999633661062063], [-43.26123291314915, -22.999635566850642], [-43.26129142416226, -22.99963675025481], [-43.26134994020131, -22.999637846096352], [-43.26140845894228, -22.999638578918276], [-43.26146698693899, -22.999638589377067], [-43.26152551379217, -22.999638689203977], [-43.26158403946722, -22.99963888110782], [-43.26164249289746, -22.99963717397742], [-43.261701032465176, -22.9996362814226], [-43.26175956508309, -22.99963593150523], [-43.26181808633031, -22.999636393286952], [-43.26187660356693, -22.999637396835446], [-43.261935100318446, -22.99963984773319], [-43.261993372998475, -22.999644637769297], [-43.26205131772408, -22.999651957251483], [-43.26210936408446, -22.99965918661972], [-43.26216668067621, -22.99966992986918], [-43.26222337721229, -22.99968346576151], [-43.26227997489081, -22.999697181160023], [-43.26233749680717, -22.999707204158874], [-43.26239554238447, -22.999714345819136], [-43.26245370816233, -22.99971994726377], [-43.26251197292778, -22.999725284275417], [-43.262570020884674, -22.999732241675524], [-43.26262785509539, -22.99974073280479], [-43.26268548732438, -22.999749762626745], [-43.262741166822174, -22.99976662938329], [-43.26279473358939, -22.999788439741526], [-43.26285112727386, -22.999802783034536], [-43.2629091750864, -22.999809832422596], [-43.26296722638513, -22.999816610008505], [-43.26302433498125, -22.99982852554583], [-43.263081545153106, -22.999839898538426], [-43.26313875595077, -22.999851452128546], [-43.26319545613842, -22.999864717707553], [-43.26325083274702, -22.999882394619892], [-43.26330299974619, -22.99990680470535], [-43.26335396822587, -22.99993355318393], [-43.2634054351645, -22.999959312850564], [-43.263458501594606, -22.999982199364833], [-43.2635138767234, -22.999999693755704], [-43.26357077981261, -23.00001250990266], [-43.26362918605356, -23.000014504954336], [-43.26368757813298, -23.00000990662741], [-43.26374542657283, -23.000002053127197], [-43.2638039224437, -23.000004590929823], [-43.263862317319344, -23.000007398519994], [-43.26392080163537, -23.000010840110658], [-43.26397908167149, -23.00001500007792], [-43.26403639595017, -23.000026102957758], [-43.264093197318836, -23.00003909841552], [-43.26415030650588, -23.00005083204808], [-43.26420835666693, -23.000057789785], [-43.26426662073946, -23.00006312434704], [-43.264324881174126, -23.0000688200699], [-43.264383049676034, -23.000074153541952], [-43.2644412056728, -23.000080389007593], [-43.26449904019632, -23.000088879468983], [-43.264556255054345, -23.00009998288047], [-43.2646130540511, -23.00011324723982], [-43.26467006197127, -23.00012543110606], [-43.26472717106811, -23.00013725574206], [-43.26478459127281, -23.000147637073088], [-43.26484201243996, -23.000158020200352], [-43.26489952824814, -23.000168402538115], [-43.2649565385215, -23.000180406621297], [-43.26501171489226, -23.00019844015624], [-43.2650669888242, -23.00021647383853], [-43.26512126201652, -23.00023648506512], [-43.26517806012922, -23.000249751926457], [-43.265235899429484, -23.000257879148336], [-43.26529310851043, -23.000269522263306], [-43.265349809314465, -23.000282696789853], [-43.265406304151384, -23.000296951803474], [-43.265463106796346, -23.000309944988956], [-43.26552125735681, -23.00031654303344], [-43.26557942293797, -23.000321966346515], [-43.26563725536791, -23.00033063608522], [-43.26569395376439, -23.000344080478385], [-43.26575055543635, -23.000357614097943], [-43.26580766049309, -23.0003696189199], [-43.26586446108756, -23.000382702247627], [-43.26591994278537, -23.00039983666701], [-43.265975520093235, -23.000416971211568], [-43.26603283917929, -23.00042780342316], [-43.266074073154556, -23.00042997075793], [-43.26609343804904, -23.00044129038928], [-43.26612945011151, -23.000455230554557], [-43.26616749325862, -23.00046305217506], [-43.26620648512063, -23.000465104619874], [-43.26624551833459, -23.0004639968139], [-43.26628445632167, -23.000462707344543], [-43.26632349299622, -23.000461328640494], [-43.26636243098315, -23.00046003915188], [-43.26640146304366, -23.00045902160018], [-43.266440480121155, -23.0004591769439], [-43.2664792593976, -23.000462675495264], [-43.26651739934427, -23.000470405077717], [-43.26655271143754, -23.00048569116646], [-43.26657143732807, -23.00050106749615], [-43.26658196206467, -23.000509672337085], [-43.26660983109011, -23.000534901753163], [-43.26663473968164, -23.000562717618607], [-43.26666438838311, -23.000586160396594], [-43.26669989479534, -23.000601358276192], [-43.26673551070114, -23.00061592701392], [-43.266772528198906, -23.000627531002312], [-43.26681087709664, -23.000634180943578], [-43.26684954724123, -23.000638667961468], [-43.266888570132956, -23.000638372636143], [-43.2669275081869, -23.000637082108348], [-43.26696654375189, -23.000635794444264], [-43.26700557817528, -23.00063459616054], [-43.26704451275841, -23.000633577385603], [-43.26708353219264, -23.000633552890925], [-43.26712188225414, -23.000640113367815], [-43.26715920376398, -23.00065090694149], [-43.267196529094385, -23.000661249020588], [-43.26723405526405, -23.000671141761085], [-43.26727107495575, -23.00068265535402], [-43.26730890989231, -23.000691286274957], [-43.26734756969105, -23.000696586712735], [-43.26738635030766, -23.000699988433844], [-43.267425348993605, -23.000701590935314], [-43.2674643477042, -23.000703191621348], [-43.26750301807868, -23.00070758817844], [-43.2675407493882, -23.00071685005022], [-43.26757776930058, -23.00072827327008], [-43.26761499254584, -23.000738975358438], [-43.26765282370153, -23.000748058588524], [-43.2676899481066, -23.000758939286534], [-43.2677270688486, -23.000770183867573], [-43.26776469495799, -23.00077989516151], [-43.26780253087876, -23.00078853049323], [-43.2678403613002, -23.000797520656935], [-43.26787758765779, -23.000808135122995], [-43.26791500951389, -23.00081856568957], [-43.267952946329615, -23.000827016963466], [-43.26799109220255, -23.000834298348586], [-43.26802954009108, -23.000840769374726], [-43.26806821035557, -23.00084525610082], [-43.2681070839355, -23.000849022596558], [-43.268145755512506, -23.00085333051319], [-43.268184629298226, -23.000857004880622], [-43.26822351901855, -23.00085950724611], [-43.268262515316444, -23.00086137862847], [-43.268301416739895, -23.000862887741267], [-43.268340303819535, -23.000865750368735], [-43.26837896160974, -23.000871139939374], [-43.26841721197236, -23.000877880532457], [-43.26845576550005, -23.000883720472526], [-43.268494534484724, -23.000888117869607], [-43.26853331056171, -23.000891883195532], [-43.268571978926914, -23.000896368876152], [-43.268610327819246, -23.000903110500744], [-43.2686482604703, -23.00091174127376], [-43.26868630080622, -23.000919654382603], [-43.268724341005175, -23.00092765507747], [-43.26876258254444, -23.000934937325894], [-43.26880072718773, -23.000942398214065], [-43.268836238206745, -23.000957415972216], [-43.26886796886293, -23.000978351660905], [-43.26890228085459, -23.0009955245343], [-43.268938693898704, -23.00100865571395], [-43.26897561633051, -23.001020166952966], [-43.26901303813589, -23.00103069028084], [-43.26904985974469, -23.001042382818284], [-43.26906200108946, -23.00104639687958], [-43.26908657598628, -23.0010546124172], [-43.26912238888726, -23.001068910968907], [-43.26915709703324, -23.00108554448016], [-43.26919321060454, -23.00109921506681], [-43.26922882790883, -23.001113784180486], [-43.26926403723196, -23.001129519188154], [-43.269299850173745, -23.001143817701937], [-43.269335964939906, -23.00115739706176], [-43.26937410294178, -23.001165310174823], [-43.26941288277935, -23.001168713205637], [-43.26945187823927, -23.001170583387704], [-43.26949065540352, -23.001174349399093], [-43.26952910791436, -23.0011805492024], [-43.26956683642377, -23.00118990087883], [-43.26960124937909, -23.001206894099354], [-43.26963466725865, -23.00122550103711], [-43.26966858106823, -23.00124339003944], [-43.26970580428848, -23.00125427316445], [-43.269744474930405, -23.001258669187578], [-43.26978348419549, -23.00125945938463], [-43.269822512478115, -23.001258528554118], [-43.26986152815917, -23.001259045175903], [-43.269900409208226, -23.001262087972364], [-43.26993907852358, -23.001266665448203], [-43.2699773245192, -23.0012737650419], [-43.270014647977554, -23.001284287065324], [-43.27005217518182, -23.001294360680973], [-43.270088387785044, -23.00130785063777], [-43.27012250036814, -23.00132538139867], [-43.27015512311314, -23.00134515351799], [-43.270188738634026, -23.0013634933922], [-43.27022335142754, -23.001380124734425], [-43.270259366174415, -23.001394064020797], [-43.27029588276588, -23.001406744502102], [-43.27033487485744, -23.001408886253678], [-43.270373756756406, -23.001412020154397], [-43.27041210727419, -23.001418578050675], [-43.270449127838944, -23.00142991032058], [-43.27048504181365, -23.00144402906791], [-43.27052095287026, -23.00145814777556], [-43.27055666815179, -23.001472626462846], [-43.270592580199725, -23.001486745165774], [-43.270629903259, -23.001497537058654], [-43.270668466288434, -23.001502655033846], [-43.27070723936145, -23.00150660041683], [-43.270746127056526, -23.001509282762683], [-43.270785145667816, -23.001509346760905], [-43.270824179214316, -23.0015082387448], [-43.270863210482766, -23.00150730949942], [-43.270902223331476, -23.00150782583728], [-43.27094078948, -23.001512853475095], [-43.27097760798639, -23.001524814654964], [-43.27101392139278, -23.001538215202185], [-43.27105104284951, -23.00154936872854], [-43.27108796142255, -23.001561057350045], [-43.271124077480216, -23.001574636329487], [-43.27116150537859, -23.00158470860539], [-43.271200276997504, -23.001588924770566], [-43.271239295803326, -23.001588899257367], [-43.27127832135957, -23.001588420473634], [-43.27131732041438, -23.001590022034247], [-43.2713555677345, -23.001597031914336], [-43.271393296514596, -23.001606383169616], [-43.27143031802831, -23.00161780553231], [-43.27146723858621, -23.001629495895532], [-43.27150395866819, -23.001641455882126], [-43.271540474311266, -23.001654226380175], [-43.271576385164884, -23.001668528174456], [-43.27161249822945, -23.001682195512974], [-43.27164992719975, -23.001692265882046], [-43.271687863554, -23.001700718084056], [-43.27172600650682, -23.001708267669006], [-43.27176414946452, -23.001715817245007], [-43.27180260208418, -23.001722107717935], [-43.27184116621677, -23.001727225424467], [-43.271879826749746, -23.00173243357652], [-43.271918488610716, -23.001737461122328], [-43.27195705029135, -23.00174284878838], [-43.27199519441377, -23.00175030891978], [-43.27203231489755, -23.00176155071144], [-43.27206842997876, -23.001775218874297], [-43.2721042414647, -23.001789517662385], [-43.272140558518934, -23.001802647082236], [-43.27217839167022, -23.00181154866893], [-43.27221715800307, -23.001816035449004], [-43.27225605735057, -23.001817813596187], [-43.272295068018934, -23.001818510182826], [-43.272334091333896, -23.00181821353479], [-43.27237311216452, -23.001818188670267], [-43.272412103305015, -23.001820419309407], [-43.272450770781695, -23.001825086468664], [-43.27248901692165, -23.001832276679252], [-43.27252634290386, -23.001842706945347], [-43.27256306084267, -23.00185484818444], [-43.27259997926972, -23.001866719782267], [-43.27263720542598, -23.001877330448544], [-43.27267463126832, -23.00188758115869], [-43.272711752018985, -23.00189873339562], [-43.27274826903542, -23.001911411526653], [-43.272785087651314, -23.001923463508504], [-43.272822716786415, -23.001932995762527], [-43.27286065312608, -23.001941537995556], [-43.27289777605716, -23.001952598102157], [-43.2729348991572, -23.001963568799468], [-43.27297263241063, -23.001972740028446], [-43.27301015715666, -23.001982812031983], [-43.273047485156, -23.00199324400708], [-43.273085316321506, -23.002002234763268], [-43.27312356485342, -23.002009244239], [-43.27318186312248, -23.00204266194144], [-43.27323393193937, -23.002067340528562], [-43.27328730072428, -23.00208959592351], [-43.27334027002039, -23.002112659696696], [-43.27339194150146, -23.002138057250598], [-43.27344281452098, -23.00216479976522], [-43.27349408341358, -23.002191097761333], [-43.273547052799664, -23.002214160566666], [-43.27360002155324, -23.002237044542763], [-43.27365319064356, -23.002259748268568], [-43.27370565894723, -23.002283710423768], [-43.273756032934514, -23.002311349556827], [-43.2738081027366, -23.002336120990204], [-43.27386247580478, -23.00235612950471], [-43.27391825954307, -23.002372449939664], [-43.27397506273094, -23.002385622572493], [-43.27403238138163, -23.00239654045061], [-43.27408949149012, -23.00240836270531], [-43.27414649818196, -23.002420723841205], [-43.274203407188196, -23.002433173295053], [-43.27426000439987, -23.00244697572353], [-43.27431670703694, -23.00246023654352], [-43.27437330164323, -23.002474399224262], [-43.274428279597885, -23.002492878944768], [-43.27448164991801, -23.002515043664612], [-43.274534619606584, -23.002538107059344], [-43.2745861885758, -23.002563773138213], [-43.27463279101912, -23.002596521045344], [-43.27467701802931, -23.002632040729], [-43.27472134389668, -23.002667382673014], [-43.274768837046125, -23.00269905567592], [-43.27481504257223, -23.002732339237152], [-43.27486144565063, -23.002765354924005], [-43.274911026959664, -23.002794070547367], [-43.27496090547894, -23.002822429074058], [-43.27500879577308, -23.002853564501862], [-43.275057680620044, -23.002883356164077], [-43.275108154936305, -23.002910817176883], [-43.27515664084465, -23.00294114629922], [-43.27520066975349, -23.00297684520408], [-43.27525204342395, -23.00300278077213], [-43.2753045111896, -23.0030268318201], [-43.27536224579158, -23.00303567853744], [-43.275419563701476, -23.003046687132027], [-43.27547353356853, -23.003067684992413], [-43.27552881584725, -23.003085354910734], [-43.2755863406762, -23.00309528293334], [-43.27564159335857, -23.00316894029836], [-43.27563573982865, -23.00322279183641], [-43.27563027435022, -23.003276735196568], [-43.27562904079132, -23.00330471747106], [-43.2760676256949, -23.00295928832503], [-43.2761721482666, -23.002771323183886], [-43.275733523456296, -23.001123972326774], [-43.28482600402389, -23.001165647729486], [-43.28478593149572, -23.000724069000245], [-43.28470570036924, -23.000272389770185], [-43.28467435126875, -22.99803705920883], [-43.28473152642569, -22.997464864577932], [-43.28464692021218, -22.996880932312965], [-43.28473519278215, -22.996557236749076], [-43.284936610216576, -22.99615683219678], [-43.285237227068976, -22.995679567153317], [-43.285396113854084, -22.995317714533844], [-43.28502531696962, -22.992463088617814], [-43.28458099721955, -22.990997301772698], [-43.28425499751144, -22.990149587223378], [-43.28388427177604, -22.989522186344676], [-43.283453763329966, -22.989179865832902], [-43.28304726951104, -22.988566164320577], [-43.28274883073684, -22.9879543548439], [-43.28167090655558, -22.985905084669945], [-43.28074630107466, -22.98508428712311], [-43.27904478519173, -22.983550832925943], [-43.27890707365186, -22.983234528910977], [-43.278858943748546, -22.982560501944473], [-43.2787067367477, -22.981902866410422], [-43.277068882202244, -22.982191200648334], [-43.2765052297466, -22.98228323311042], [-43.27593055678085, -22.982306060380026], [-43.27575600720802, -22.98231075328633], [-43.275061917182555, -22.982290194279628], [-43.27431976225475, -22.982191263167103], [-43.274124274833326, -22.98212420478719], [-43.27388046605039, -22.981991598543743], [-43.273510873491425, -22.981825292757748], [-43.27297525087211, -22.981761027495907], [-43.27214662954222, -22.981842843066584], [-43.27079836753685, -22.981984000553275], [-43.26904553091277, -22.982224581444196], [-43.26794295741534, -22.9823423928122], [-43.2672546504563, -22.98241930275116], [-43.266320315159305, -22.982545443567805], [-43.26601720421078, -22.982665485108413], [-43.26584195859713, -22.982663567103906], [-43.26561913730651, -22.98253776962073], [-43.26553935788251, -22.982468716384375], [-43.26546279873251, -22.982422454499652], [-43.26531603921823, -22.982381834813427], [-43.26475634315837, -22.982278356504484], [-43.264202656579215, -22.982246283568248], [-43.26380785433253, -22.982138107257807], [-43.263243781664464, -22.981820189266468], [-43.26216021398796, -22.981275866402708], [-43.26079912022395, -22.980773916950294], [-43.25975053023284, -22.98051568454555], [-43.25924181146358, -22.98026338275637], [-43.25895071531521, -22.979993965666917], [-43.258222158121214, -22.979658057752495], [-43.25791045233888, -22.979589158728864], [-43.25605534181358, -22.97934181585158], [-43.25517007386965, -22.97922560024544], [-43.2542639329167, -22.97913967211471], [-43.25359778588619, -22.979223541047634], [-43.25283421639353, -22.97922270934923], [-43.25199098249971, -22.979030992854177], [-43.25128622496922, -22.978924332599878], [-43.25041572256097, -22.978972246185855], [-43.25014969957833, -22.978976534955123], [-43.24987413790003, -22.979017019718498], [-43.24937474743926, -22.979253701851118], [-43.24915130202751, -22.979412698756875], [-43.248746059697034, -22.979631817057193], [-43.24843479129573, -22.97983951186483], [-43.24817733187075, -22.980041657458482], [-43.247961091578574, -22.980163438877785], [-43.247590736228105, -22.980271137481015], [-43.24716700434184, -22.980365787137625], [-43.24668881660374, -22.98051582222225], [-43.246183170249914, -22.980715127558447], [-43.245765265254136, -22.980871968615855], [-43.24530611963442, -22.981102941969436], [-43.24474229486339, -22.98153205748093], [-43.244488377426286, -22.98158785322022], [-43.24422490777932, -22.981575182709133], [-43.243897643952955, -22.98160081286095], [-43.24360658404892, -22.98168545339983], [-43.243309210076376, -22.981843351010852], [-43.24312782373506, -22.982007321253185], [-43.242807030516474, -22.982113213431347], [-43.242766485762935, -22.982095876740424], [-43.24270877869604, -22.982093340312062], [-43.24266102034508, -22.982098320116478], [-43.24261555163814, -22.982114792223495], [-43.24257236517107, -22.982135714573335], [-43.24253166377157, -22.982160637892843], [-43.242498947798886, -22.982194050847312], [-43.24246439882148, -22.982225906471164], [-43.24243612551598, -22.98226270816826], [-43.24241259560952, -22.98230227162611], [-43.24238306523709, -22.982338155414826], [-43.24233959269504, -22.9823587160111], [-43.24229096655799, -22.98235537711524], [-43.24224381086608, -22.982343927074737], [-43.242203691988145, -22.982331290820927], [-43.24215471849577, -22.982317111439635], [-43.242111671331934, -22.98230480299148], [-43.24206274459366, -22.982287012807703], [-43.2420216830958, -22.982271926914958], [-43.24197277111995, -22.98226045821239], [-43.2419188981429, -22.982248119896845], [-43.24187576537613, -22.982234817985766], [-43.24183765071491, -22.982218050759098], [-43.241794791780656, -22.982191206128896], [-43.24174902870214, -22.98216252316185], [-43.24170619338617, -22.982133781465237], [-43.241673577952, -22.982106598956364], [-43.241642625317965, -22.9820716686729], [-43.241617580363744, -22.982032288702147], [-43.24160626423951, -22.981994867189666], [-43.241602870573054, -22.98195572750232], [-43.24160042298339, -22.98191108790904], [-43.24160287745179, -22.98187978115224], [-43.24160629747711, -22.98184162013189], [-43.2416135822191, -22.98180621205181], [-43.24161805158436, -22.981769867871225], [-43.24161539415378, -22.981741663247885], [-43.24161109464486, -22.981697004907407], [-43.241625124843324, -22.981600263443813], [-43.24162955510719, -22.981559404485097], [-43.24162909675937, -22.98151939341969], [-43.24162783110206, -22.98146655370953], [-43.2416314334783, -22.9814143044341], [-43.241628486503245, -22.98134058292054], [-43.24162611380164, -22.981297842365024], [-43.241617686273536, -22.981263162057168], [-43.241610140259134, -22.981235804423658], [-43.241596870945656, -22.981191048342716], [-43.241582799497614, -22.981147907041255], [-43.24157433140828, -22.981123970760038], [-43.241567796785155, -22.981093828509096], [-43.241561607161934, -22.981059713961365], [-43.24155687951777, -22.981025527139618], [-43.24155045511959, -22.980994480353043], [-43.24153749399481, -22.980948372211593], [-43.24152848687525, -22.98092840516856], [-43.24150696280006, -22.980880758919685], [-43.24150930342923, -22.980850710650934], [-43.24151706103345, -22.980823976186606], [-43.241529081205464, -22.98079954665087], [-43.241529351230426, -22.98077868830904], [-43.24152848590516, -22.98075519852442], [-43.24154665274143, -22.980723070979746], [-43.241560411692696, -22.9807150068306], [-43.241586554809984, -22.980699674209696], [-43.24162411453167, -22.98069124024544], [-43.24167363136607, -22.980670930213417], [-43.24171150159037, -22.980638658270593], [-43.241750478807795, -22.98059628806211], [-43.24175928417342, -22.980586632839493], [-43.241800901280726, -22.980513314611077], [-43.24184564664969, -22.980447346682208], [-43.241881577010695, -22.98039916220919], [-43.241889968726134, -22.980391397888738], [-43.241910794188904, -22.980372304606608], [-43.24194228115386, -22.980343395168443], [-43.24205003528492, -22.98024697015367], [-43.24209577405924, -22.980186974191998], [-43.2421348581178, -22.980143789605638], [-43.24215657638429, -22.98012353042132], [-43.24218464792095, -22.980102439568448], [-43.24220817459524, -22.980085633832154], [-43.24223199246826, -22.98006901102921], [-43.242255521479514, -22.980052023798187], [-43.24228275228102, -22.98003552915218], [-43.24231064737238, -22.980020307945367], [-43.24233551886486, -22.98000532049618], [-43.24236041078061, -22.9799885280733], [-43.242384157959314, -22.979969828350434], [-43.24240867244838, -22.97995212868319], [-43.242430953146076, -22.979933773905884], [-43.242454320940716, -22.979914166913673], [-43.24247650179505, -22.979895989825607], [-43.242497335095905, -22.979876353811278], [-43.24251769247096, -22.979855810368587], [-43.24255863419939, -22.979812104438757], [-43.242572794615846, -22.979788150069478], [-43.242588909082656, -22.979763856151127], [-43.24260298481971, -22.97973890748471], [-43.242619108812605, -22.979713800923566], [-43.24263442890878, -22.979690672153843], [-43.24265036351321, -22.979665201365417], [-43.24266629109135, -22.979640273229943], [-43.24270464865784, -22.97985670901051], [-43.24277337833092, -22.980281272429878], [-43.242731188049696, -22.980685283156312], [-43.242713606496885, -22.98085305358035], [-43.24270868401312, -22.980939602341373], [-43.24268753604521, -22.98130772078882], [-43.24295772560679, -22.98114013114717], [-43.243207035798534, -22.980995607286953], [-43.24347614421482, -22.980768223708065], [-43.24369703409896, -22.980679373942248], [-43.24395805647745, -22.980601985842114], [-43.244177567001664, -22.9805442753149], [-43.244328973118826, -22.980473527487774], [-43.24445069554324, -22.980405612209015], [-43.24459551841785, -22.980353846434927], [-43.244743947035595, -22.980287129830447], [-43.244847741052645, -22.980187408860026], [-43.24491208307397, -22.980061422686084], [-43.2449241841812, -22.980053247756135], [-43.24495176719217, -22.98002456716136], [-43.244986065615045, -22.979974194716714], [-43.24502112878912, -22.979925095906832], [-43.245027172631076, -22.979902767195767], [-43.245077049570405, -22.979816626763668], [-43.24519813159139, -22.979745361573386], [-43.24533046769631, -22.979716304869566], [-43.245481813310406, -22.979695585092124], [-43.245624266018396, -22.979623202514723], [-43.245734751714586, -22.979556696945668], [-43.24579013322443, -22.979505112832168], [-43.24584308710187, -22.97939227588392], [-43.24585999385802, -22.979283918149278], [-43.245870510961296, -22.979156702607774], [-43.24586629879209, -22.97902986764666], [-43.2458672594975, -22.978955466894966], [-43.24588415931208, -22.978870223560772], [-43.24592450960472, -22.978804387198274], [-43.245975080640854, -22.97877008832322], [-43.246033830284965, -22.978737326646133], [-43.246081210162835, -22.978716087553067], [-43.24612346550313, -22.978706802302607], [-43.246193476768845, -22.978692946862708], [-43.246266300638844, -22.97870305517616], [-43.24634394851354, -22.97873227121951], [-43.24643202167451, -22.978762232926176], [-43.24650082877637, -22.97879640724326], [-43.246557072669795, -22.978829087936735], [-43.246616195462124, -22.978842746089416], [-43.24668481046492, -22.97884639507784], [-43.24674449018086, -22.978847055409716], [-43.246800592400724, -22.97883033755565], [-43.24684842170021, -22.978797091717585], [-43.24688121596347, -22.978757540582265], [-43.24690929453051, -22.978697888628343], [-43.24692285859313, -22.97860655960451], [-43.246935536631796, -22.97851594321646], [-43.24695405287501, -22.978426383866648], [-43.24697300377553, -22.97832581299879], [-43.24698899453084, -22.97822033290229], [-43.24700452764038, -22.97812749045691], [-43.247025334836415, -22.978041931665146], [-43.247058228859366, -22.97795668537872], [-43.24708503578527, -22.97786721861474], [-43.2471229291477, -22.977795124564864], [-43.247177044230206, -22.977713091245974], [-43.2472356289681, -22.977647545587605], [-43.24731223695835, -22.97758346171458], [-43.24738657152641, -22.97752919952991], [-43.24745245254366, -22.977487755646163], [-43.247535091929464, -22.977439903883393], [-43.247598044050115, -22.977398609057136], [-43.2477127220981, -22.977347048661624], [-43.24779170943494, -22.97731026390682], [-43.24786909122012, -22.977276894760546], [-43.247934800539944, -22.977226056122102], [-43.24799114016645, -22.97718315192665], [-43.24805264570429, -22.977133080407093], [-43.2480957717654, -22.977086326671802], [-43.24813492320539, -22.97706039128595], [-43.248197511609675, -22.97702450958816], [-43.24827565707101, -22.97698491671013], [-43.24828925597781, -22.9769891307657], [-43.24831967200997, -22.976982602883307], [-43.248351393073726, -22.976965705226878], [-43.248377313122774, -22.976952356553404], [-43.24839722300505, -22.976943725812447], [-43.248417745897, -22.976932936326083], [-43.24843110614813, -22.976917912726357], [-43.24844062717949, -22.976905646151444], [-43.2485290162864, -22.9768733004732], [-43.24863342102316, -22.976846911277143], [-43.24871124812467, -22.97680930046449], [-43.24877678337435, -22.976786906564293], [-43.248829492156936, -22.976745768928915], [-43.24891283101584, -22.97671183112658], [-43.24883329127759, -22.976647829763724], [-43.24877299517729, -22.976619167940264], [-43.24866711859569, -22.976570677962457], [-43.24854175449386, -22.97651312262949], [-43.24847659972488, -22.976490729266573], [-43.2484162789421, -22.976464144963742], [-43.248362520040835, -22.97645813244803], [-43.248279385777096, -22.97643860974637], [-43.24819789553877, -22.97643499888857], [-43.24807516181402, -22.97642307820169], [-43.24797784512071, -22.97640656014034], [-43.24789792032419, -22.97638002982477], [-43.24779953659828, -22.976340379928537], [-43.24770109847049, -22.97629739079018], [-43.247623200608544, -22.976249752247817], [-43.24756586646137, -22.976210919157154], [-43.24751826791661, -22.976165872347313], [-43.24746867735344, -22.976123964175923], [-43.247409119296655, -22.976045916707378], [-43.24734379353085, -22.97598396463673], [-43.24726405130887, -22.975905510571042], [-43.24720450969367, -22.975863853486], [-43.247123721234935, -22.975821148626327], [-43.24702777636235, -22.975773941428887], [-43.24694309168763, -22.975731012773938], [-43.246885165473984, -22.975692443821405], [-43.24682014483771, -22.975659936212583], [-43.24674423750226, -22.975632004907656], [-43.24672727371607, -22.97562396068521], [-43.24669556301665, -22.975572045619405], [-43.246677174959295, -22.975508177055666], [-43.24664825095338, -22.975421704136522], [-43.246616566483524, -22.975352722578688], [-43.246587445218104, -22.97528169145375], [-43.246578071277064, -22.975206907191843], [-43.2465543858896, -22.97515291266911], [-43.246542255460774, -22.975110425342425], [-43.24654011262074, -22.975034635617472], [-43.24650677989102, -22.974964910654915], [-43.24649054917758, -22.974915335962418], [-43.24646647938604, -22.974845715288986], [-43.24643547407294, -22.974799770834213], [-43.24639535205217, -22.97476491701359], [-43.24634768098261, -22.974732963332706], [-43.246320447972685, -22.974704486782997], [-43.246261115399726, -22.974654252703715], [-43.24617309695286, -22.97460514513556], [-43.246102065287445, -22.97456977218597], [-43.24604375130051, -22.974554046767906], [-43.2459748475125, -22.9745427184785], [-43.24590821748582, -22.974521389650512], [-43.24582936340049, -22.974495142030634], [-43.24572550481833, -22.97442653540756], [-43.24563186301703, -22.97441249490341], [-43.245524853767414, -22.97441410975716], [-43.24546754477123, -22.974448965220123], [-43.245394155333535, -22.974460253606125], [-43.24530533783604, -22.97447290632769], [-43.24520274920839, -22.974494707040858], [-43.24511080360829, -22.974538119957817], [-43.245012636736725, -22.974572614025902], [-43.24492342291592, -22.974623643609867], [-43.244825161100735, -22.974665177592247], [-43.24473634839971, -22.974707720118626], [-43.244622520134165, -22.974761546371447], [-43.24454010136941, -22.9748147252961], [-43.244460317363455, -22.974853215439097], [-43.24438486108837, -22.97488850159564], [-43.244324190816705, -22.97492675097466], [-43.24425527641394, -22.974969152429807], [-43.244201679115854, -22.97502617326557], [-43.244157285937675, -22.975072824281185], [-43.244094656092415, -22.975126852529666], [-43.2440426490814, -22.975166462047635], [-43.24397894738984, -22.97519799602229], [-43.24391531820426, -22.97528398381735], [-43.24389455456099, -22.97538877851074], [-43.243893119133034, -22.975499837817164], [-43.243873090589474, -22.97571390975643], [-43.243853785202184, -22.975879496792437], [-43.24382861460187, -22.97594803030448], [-43.24378231160243, -22.97604423387939], [-43.24369239363514, -22.976187273008236], [-43.24363155768737, -22.97633650602957], [-43.24358072899632, -22.97643572973938], [-43.24352901726281, -22.97655806263045], [-43.24350090686078, -22.97662764804926], [-43.24343268579151, -22.976895366891515], [-43.24341742086813, -22.976959676372303], [-43.24338407447112, -22.97707968332177], [-43.243356589533164, -22.97716869121301], [-43.243319901662794, -22.977305818149045], [-43.24329794364436, -22.977374839579483], [-43.24328834582091, -22.97743803699348], [-43.2432583744899, -22.977561151683485], [-43.24321039156647, -22.977689214067897], [-43.24318271927741, -22.977777680712762], [-43.24314852904425, -22.97788756135621], [-43.24312267308427, -22.97804666301821], [-43.24310672378534, -22.978163792378705], [-43.24308700334038, -22.978240694200323], [-43.24305607948686, -22.97829399250211], [-43.24301598083753, -22.978332739366895], [-43.24294028982845, -22.978401075532396], [-43.24289299392778, -22.978460965131756], [-43.24284195885071, -22.978538332417823], [-43.24281630813926, -22.978613813856676], [-43.242785589022525, -22.978704049100738], [-43.24276344204481, -22.97879510093379], [-43.242741318938954, -22.978906924073627], [-43.242725458497326, -22.979009607357916], [-43.24270477957935, -22.979122801076997], [-43.24268036852322, -22.979109977061878], [-43.242629598163994, -22.979091534520794], [-43.242583247653364, -22.979070701846467], [-43.24253467019941, -22.979056075502832], [-43.242484828354016, -22.979041253607978], [-43.242437823288434, -22.97901824721692], [-43.242395108039375, -22.978995287491983], [-43.24235656896009, -22.978966232438506], [-43.242316735086135, -22.978939332139177], [-43.24226819116713, -22.978929582557218], [-43.24223260666777, -22.978898392930873], [-43.24219184189416, -22.97886813918622], [-43.24215354717159, -22.97883520549057], [-43.24212114833172, -22.978791410293326], [-43.24207259824296, -22.978782293623897], [-43.242038965726714, -22.97881876131391], [-43.242013075102335, -22.978859835552573], [-43.2419833832506, -22.978900866710312], [-43.24195295352488, -22.97893854658567], [-43.24191601691586, -22.97898139375383], [-43.2418846493087, -22.979023940578205], [-43.241854515561364, -22.979061354606507], [-43.24182314916395, -22.979096043093666], [-43.241791096780965, -22.979130907281117], [-43.24175186043778, -22.9791633429162], [-43.24170669499573, -22.979193905747398], [-43.24166001366105, -22.97922147258339], [-43.2416119063458, -22.979245954115797], [-43.24156422552142, -22.979267549704627], [-43.241519987991055, -22.97928692586718], [-43.24147493309935, -22.97930909239855], [-43.241428468822924, -22.97932726895485], [-43.24138261609592, -22.979343107065198], [-43.241332602875865, -22.979356819262954], [-43.24128179086788, -22.979364203040113], [-43.24122908678427, -22.979367139052528], [-43.24117123567648, -22.979368213624166], [-43.24111913813985, -22.97936934933093], [-43.241070352269965, -22.97937097601518], [-43.24101621919388, -22.97937859375546], [-43.24095413964493, -22.979405085487066], [-43.24089915836936, -22.979433012374628], [-43.240867877567936, -22.979461291762124], [-43.2408078964736, -22.979521401056758], [-43.24073386861552, -22.97957422028287], [-43.24066251533147, -22.97961632198121], [-43.24057058574016, -22.979658196979294], [-43.24048275284911, -22.979677449980944], [-43.24036947275845, -22.979680979111137], [-43.24025885213716, -22.979674963571355], [-43.24015991333016, -22.979663118477728], [-43.24006980599234, -22.979662117693724], [-43.23998064540643, -22.979678377411624], [-43.23991926999102, -22.979695664540156], [-43.23983172982127, -22.979737406338366], [-43.23976034089075, -22.979782307568463], [-43.239699502181296, -22.979833286090212], [-43.239651033888485, -22.979870679289924], [-43.239609181852195, -22.979901546499928], [-43.23956669137236, -22.979929070743154], [-43.23950984608317, -22.979957877653998], [-43.23945491855891, -22.979974243781292], [-43.23939965066715, -22.979979319806542], [-43.239376631762255, -22.97997942525635], [-43.23934171354053, -22.979979487884894], [-43.239284073431755, -22.979979390134034], [-43.239247731455315, -22.979976276251513], [-43.2392291140742, -22.979975711763714], [-43.23917724631469, -22.97996655371643], [-43.23912419916361, -22.97995079300161], [-43.23907071632815, -22.979930873405007], [-43.2390195799721, -22.979918113048225], [-43.23897045321292, -22.97991585217714], [-43.23892065104346, -22.979920625755387], [-43.23886824766858, -22.9799228436773], [-43.23881561022454, -22.979935442229774], [-43.238769126490176, -22.979955153843818], [-43.23872270752304, -22.979969718788105], [-43.238684444632426, -22.98000207502846], [-43.238644230758545, -22.980041903065825], [-43.2386086005686, -22.980082054765578], [-43.23857596922986, -22.98012395468129], [-43.23854359496088, -22.980161071291285], [-43.23851238567427, -22.980191157068685], [-43.23844466035781, -22.9802466640601], [-43.23839740588958, -22.980288041046162], [-43.238295271288635, -22.98035707235396], [-43.23825320190181, -22.980382253882087], [-43.238209491548496, -22.980405966857255], [-43.238175844593854, -22.9804133589503], [-43.2381381083895, -22.980412758743483], [-43.23810901723171, -22.980407286989465], [-43.2380749678536, -22.98040058793986], [-43.23812580975966, -22.98033830113613], [-43.23819721665515, -22.98023199271584], [-43.238305361807235, -22.980098007926042], [-43.2383585678904, -22.979988699413205], [-43.23835016917441, -22.979929455479947], [-43.23832503130496, -22.979754527386792], [-43.23832888254674, -22.979698219997946], [-43.23836604754101, -22.979645081527753], [-43.238439709755525, -22.979598039805477], [-43.23858310841984, -22.97956585811039], [-43.238802901779316, -22.979509061255207], [-43.23898006419729, -22.97946036926488], [-43.23916339703795, -22.979394769229636], [-43.239286084243275, -22.979320094951294], [-43.239369470825345, -22.97922240949243], [-43.239478552641344, -22.979023597106433], [-43.23964629972056, -22.978760685058017], [-43.2397128023161, -22.97855850877785], [-43.23973286388154, -22.9784179463288], [-43.23966396399969, -22.978338253571994], [-43.23950048726938, -22.978271688842735], [-43.23936659785117, -22.978270201283348], [-43.239336598993866, -22.978244492302], [-43.239251588293904, -22.978226659815896], [-43.23920259883866, -22.97825140082414], [-43.239171625927035, -22.978293320234414], [-43.23915582913823, -22.978338297129778], [-43.23914272688214, -22.978408499020947], [-43.239145020573474, -22.97846487564419], [-43.23924269497768, -22.978446274536754], [-43.239243060103206, -22.97841810347677], [-43.239270401076816, -22.978415607826044], [-43.23934595181527, -22.978455909609117], [-43.23943933900973, -22.978527295600596], [-43.239465937365914, -22.978589630562087], [-43.23938830593368, -22.978709866860985], [-43.2394670987129, -22.978733317606586], [-43.23955138789746, -22.978573692906778], [-43.23954626600647, -22.978494709545945], [-43.23948323146234, -22.978429259741503], [-43.23940170741069, -22.978383201545753], [-43.2395110361699, -22.97839850558242], [-43.239586404463374, -22.978452891884306], [-43.23959412425923, -22.978557190374215], [-43.2393694412456, -22.97899140842909], [-43.23923564171718, -22.979223721895266], [-43.23918309244553, -22.979282287639037], [-43.23912474067027, -22.97932959107994], [-43.238904804510774, -22.979397584618177], [-43.238684953262876, -22.97945149122887], [-43.23856305549206, -22.979472622126394], [-43.238401285224676, -22.979507486611375], [-43.238312375929425, -22.97955716096154], [-43.23823542377937, -22.97963234205047], [-43.238225416333876, -22.979697069640462], [-43.23825561414109, -22.979948093364374], [-43.23824555684698, -22.98002410759687], [-43.23800734100424, -22.980343215725846], [-43.237956038677005, -22.98027572846895], [-43.237913022122726, -22.980223324840885], [-43.2378630231704, -22.980183034699195], [-43.237841834233016, -22.980169885469792], [-43.23781609808305, -22.980153975620077], [-43.23777387143484, -22.980123615113], [-43.237745909763596, -22.980091154724015], [-43.23772420807679, -22.980064905582243], [-43.23771484703364, -22.980042045565064], [-43.23770403349614, -22.979996049559468], [-43.23768759104807, -22.979947825439606], [-43.23767682144808, -22.979868147135914], [-43.23768104772051, -22.97979062141856], [-43.23768971146831, -22.97975423463886], [-43.23771891020723, -22.97966118512457], [-43.237734768164806, -22.97961169385188], [-43.237746527353195, -22.979569832900342], [-43.237760884044725, -22.97952321648687], [-43.23777725818469, -22.979478966820622], [-43.237801637695476, -22.979419003743068], [-43.23783068376557, -22.979360266519073], [-43.23786238599405, -22.979299843938065], [-43.23788583194828, -22.979259287800847], [-43.23790744029705, -22.979217536358885], [-43.237910451313134, -22.979210977591325], [-43.237930418249356, -22.979167943624844], [-43.23794532397973, -22.979131624428824], [-43.23795503075824, -22.979097601665032], [-43.23797898848517, -22.979017584385108], [-43.237995959390354, -22.978980025685225], [-43.23801037820966, -22.978928531663158], [-43.23802665730125, -22.978891597399617], [-43.23804160180123, -22.97885220916089], [-43.2380574104052, -22.978798835087535], [-43.238069106192796, -22.978761848048677], [-43.23808065735945, -22.978728566413263], [-43.238088936651934, -22.978699397903146], [-43.238098568147905, -22.978663653981545], [-43.238109756728534, -22.978613207685918], [-43.238125781591194, -22.978558119311344], [-43.23813765907234, -22.978522310053396], [-43.23814537956267, -22.97849087951075], [-43.238155252667696, -22.978451619090617], [-43.23817261172429, -22.978399161673412], [-43.23818237614326, -22.978368205376988], [-43.23820100474732, -22.978322989165676], [-43.23822067539217, -22.978280221864075], [-43.238239073612775, -22.978237802534892], [-43.23826060235092, -22.978187201170442], [-43.2382842206589, -22.978140774346063], [-43.23830809731305, -22.978097062243425], [-43.23832135484381, -22.9780750849476], [-43.238335766035846, -22.97804679913737], [-43.238345351746176, -22.97801457657201], [-43.23835457080259, -22.977980543832874], [-43.23836068158244, -22.97795297758337], [-43.23837482253968, -22.977908073576703], [-43.2383828667529, -22.977866713082168], [-43.238394093922736, -22.977820872728948], [-43.238405230204165, -22.97777421862036], [-43.238414137895724, -22.977719141385776], [-43.23841589251794, -22.97767400756707], [-43.238415637715185, -22.977625963461335], [-43.23841505004271, -22.977573579216415], [-43.2384148740216, -22.97752698086343], [-43.238416571280474, -22.977486270440245], [-43.23841977532891, -22.97744232940473], [-43.23842883071729, -22.977375783286163], [-43.23842984195573, -22.977342924466548], [-43.23844107433525, -22.97729645112517], [-43.23846913397845, -22.97719345429422], [-43.23848340335576, -22.977145931951902], [-43.23850427432079, -22.977100831818706], [-43.23852803860169, -22.977050796172886], [-43.238548956689584, -22.977009581470416], [-43.23857410227542, -22.976973287507306], [-43.238609101647945, -22.97693673913657], [-43.2386509399733, -22.976899273417192], [-43.23869464641479, -22.976860569598852], [-43.238732864645236, -22.976824062391337], [-43.23877503681565, -22.976790932269903], [-43.238809395922985, -22.97675862557698], [-43.23884923191261, -22.976717619267788], [-43.23888765387514, -22.97668788534134], [-43.238929243540916, -22.976662067007403], [-43.23897624586899, -22.976632427507298], [-43.23902063982521, -22.976608538518892], [-43.2390624974014, -22.97658462042972], [-43.239084351620996, -22.976538808689874], [-43.23907412191123, -22.976492820140564], [-43.239052718113854, -22.97645113236269], [-43.239020645173774, -22.97641248669503], [-43.23898702741643, -22.976372559586647], [-43.23894971754399, -22.976339003088757], [-43.23891249444157, -22.97630635330502], [-43.23887394836036, -22.97627043151413], [-43.238834700919725, -22.976235950410402], [-43.238797112231886, -22.976201487732567], [-43.238752752699874, -22.976162616065803], [-43.238714417108625, -22.97612543502004], [-43.23868014418968, -22.97609091886394], [-43.23865456866635, -22.976047470687515], [-43.23862960287691, -22.976002129270142], [-43.23860470806102, -22.975959138370904], [-43.238580541139854, -22.97591236185139], [-43.238561339266155, -22.975873948562842], [-43.2385396657908, -22.975830362229054], [-43.23851310196446, -22.975788075205372], [-43.238485897254385, -22.975749935981007], [-43.23845715301487, -22.975710333858988], [-43.23842574331027, -22.975673140335104], [-43.238391075833405, -22.97563898095783], [-43.23835678106774, -22.975606089984893], [-43.23830983313336, -22.975586422563786], [-43.23826349676739, -22.97557209172082], [-43.23821468256629, -22.975560892182507], [-43.238159632236325, -22.97555684949476], [-43.2381072610224, -22.975556717876316], [-43.23805652412926, -22.975558411411072], [-43.23800505212552, -22.975564071072746], [-43.23795300890997, -22.975568729206895], [-43.23790158491153, -22.97557068686952], [-43.23784865565557, -22.97557605845895], [-43.23779946366038, -22.975571356542133], [-43.2377569836118, -22.97554559881677], [-43.23771136116751, -22.97549127071011], [-43.23767954360488, -22.975448021187415], [-43.23764218078958, -22.97540362814076], [-43.23760059209365, -22.975361715723416], [-43.237552390020156, -22.975318374272575], [-43.23750537335338, -22.975273873835025], [-43.23745434030268, -22.975230591177397], [-43.23741929593304, -22.97520310906674], [-43.23737847595294, -22.975162018792872], [-43.23734898827533, -22.975112022262344], [-43.23733124331539, -22.975058996569057], [-43.237290716921564, -22.97501790954083], [-43.23724757897377, -22.97497507585731], [-43.237206303948994, -22.974931632557137], [-43.23716059904658, -22.974891209433004], [-43.23711442757587, -22.974856831530325], [-43.23706148229128, -22.974818133033313], [-43.23702049500971, -22.974775146220455], [-43.236972207619544, -22.974700828203368], [-43.23694233012902, -22.97465082727069], [-43.23690980336984, -22.974602062030918], [-43.236866663585666, -22.97456690504688], [-43.23679528965125, -22.97454308415708], [-43.23672663989501, -22.974542320371047], [-43.23664574090501, -22.974538529606754], [-43.23660145671647, -22.97453903112571], [-43.23651421932523, -22.974535170671], [-43.236452732380236, -22.9745235595879], [-43.23638868425994, -22.974506321082284], [-43.23632425824617, -22.974495581195068], [-43.236263044994324, -22.974493092064698], [-43.23619926490367, -22.974492924977458], [-43.236138969942395, -22.974494600943036], [-43.236079038831605, -22.97449845005645], [-43.2360207848363, -22.97450818672268], [-43.23596345069191, -22.974522267332716], [-43.23590150619885, -22.974530879218104], [-43.23584197255521, -22.97453401022659], [-43.235771726286714, -22.974536026800365], [-43.23571813708322, -22.97453967455676], [-43.23563650201724, -22.974547434998723], [-43.23557973863018, -22.974562696686196], [-43.235516570579726, -22.974582764406048], [-43.23546271049404, -22.97460726946147], [-43.235412169378684, -22.9746315405379], [-43.23535188898102, -22.974654619495567], [-43.23529585522105, -22.97467377140328], [-43.23523589898105, -22.974694416598606], [-43.23517690695971, -22.974708478453916], [-43.235117255762944, -22.974720728656678], [-43.235059547977656, -22.974741036699992], [-43.235003883277244, -22.974761728694233], [-43.23494128786125, -22.974775390914836], [-43.234883968925004, -22.974795792623954], [-43.234822328694534, -22.97481099971239], [-43.23476082471147, -22.974815643541255], [-43.234699558933315, -22.974824622821064], [-43.23463606672812, -22.974832314815462], [-43.23457547473232, -22.97484175397866], [-43.2345629401527, -22.974845678059438], [-43.2345202763315, -22.974871661171502], [-43.23446690575415, -22.97488849542273], [-43.234408582622585, -22.974910963678077], [-43.23434886453558, -22.97493585550022], [-43.23428469138778, -22.974950762335663], [-43.234222129937955, -22.97495422020759], [-43.234160986961186, -22.974946314561333], [-43.234126629035636, -22.974925883175707], [-43.23410990078145, -22.974907365822308], [-43.23407758307645, -22.974865104320305], [-43.23403243063969, -22.974827124724836], [-43.23398832329404, -22.97479150468631], [-43.2339408824997, -22.974757382669775], [-43.2338889224551, -22.974725648504865], [-43.233833612843476, -22.974704080525253], [-43.23376326419854, -22.97468388190685], [-43.23371102723688, -22.97467345561], [-43.23365149904081, -22.974661233145437], [-43.23358995670501, -22.974661179345436], [-43.233528361727736, -22.97466554986541], [-43.23346976783746, -22.974678985186898], [-43.23341333805859, -22.974690997025128], [-43.23335271368437, -22.974695651015274], [-43.23328747696124, -22.974694923781062], [-43.23323040322101, -22.974696454835385], [-43.233165151437476, -22.974696811039184], [-43.233105654918646, -22.974697231381494], [-43.2330381050782, -22.97469431094304], [-43.23298691132445, -22.974693740155125], [-43.23291699297937, -22.97469296056949], [-43.23285640777493, -22.974694452335324], [-43.23279823238651, -22.974690552668644], [-43.232736523170324, -22.974681284694817], [-43.232677013875964, -22.974667617204013], [-43.2326297198474, -22.974652008908514], [-43.232553146614265, -22.974630656690113], [-43.2325009639838, -22.974608491901144], [-43.232425115668754, -22.97457640054897], [-43.23236099624278, -22.9745422726701], [-43.23232861834079, -22.97451960628305], [-43.232300595266885, -22.9744922014132], [-43.232297735640465, -22.9744871124556], [-43.23226865200752, -22.974436128039272], [-43.23224436636493, -22.97439124574329], [-43.232215702216585, -22.974345502765384], [-43.23218381268467, -22.974292950955164], [-43.232157541761, -22.97424317095392], [-43.232127835168136, -22.974195249022234], [-43.232112865078264, -22.97416898398285], [-43.23209579454199, -22.9741391736296], [-43.23206402846487, -22.974092131760482], [-43.23203130157396, -22.974043905206884], [-43.23200023967891, -22.97399506508899], [-43.231967949690834, -22.973935825326304], [-43.23193265287142, -22.973875018640516], [-43.23191459120899, -22.973831741819083], [-43.23188334474876, -22.973782177185388], [-43.23185769434951, -22.97372969492514], [-43.231822304027396, -22.973668886272367], [-43.231795090749486, -22.973616745076566], [-43.23176823752558, -22.973574184703025], [-43.231752750446496, -22.973527776830934], [-43.231722643948316, -22.973472985412748], [-43.23168643762082, -22.973407292081532], [-43.231639768948426, -22.97331384697668], [-43.2316052552494, -22.973253139271844], [-43.231579545311156, -22.973212665925843], [-43.231529645805196, -22.973157656333026], [-43.231497507858975, -22.973131650298672], [-43.23145435809534, -22.973089989882762], [-43.231408937331125, -22.973050474134812], [-43.23136703905338, -22.973009999817208], [-43.23132354609621, -22.972972308943888], [-43.23127483350594, -22.972938442006182], [-43.231226392487386, -22.97290611597351], [-43.2311699048139, -22.972870175532183], [-43.23111661977503, -22.972835446582657], [-43.231064000517776, -22.97280216811554], [-43.23102085958621, -22.972767189331076], [-43.23096663266781, -22.972722335702297], [-43.23091832661725, -22.9726798039554], [-43.23087684365845, -22.97264475423983], [-43.23083529513355, -22.972607625872776], [-43.23078238124406, -22.972559535876258], [-43.230747905907556, -22.972525737412006], [-43.23070869577023, -22.972488636924457], [-43.23067182493824, -22.972459055118364], [-43.23063272644906, -22.972420873107595], [-43.23059242964527, -22.972384843215252], [-43.23055446001659, -22.972349922950208], [-43.23051285222503, -22.972324624654156], [-43.230472527313665, -22.97230566199479], [-43.2304269142307, -22.972288446375973], [-43.23037238281599, -22.972282058028327], [-43.230323446904954, -22.972280429786082], [-43.23026988468908, -22.972281996322746], [-43.23021609811569, -22.97229322654242], [-43.230167021138556, -22.972302429618377], [-43.2301157015358, -22.972311520943084], [-43.23006435284922, -22.972315282147683], [-43.23001769982034, -22.97231801211932], [-43.229961812360834, -22.97231847163728], [-43.22991287549927, -22.97231684145096], [-43.229865107807626, -22.972315224307504], [-43.229808218506285, -22.972310163098197], [-43.229758212654076, -22.972300755632038], [-43.229696553825214, -22.972287424295526], [-43.229657048499284, -22.972280571405587], [-43.229605912548145, -22.972268079106914], [-43.229556028956985, -22.97225677564442], [-43.2295061315766, -22.972238970984787], [-43.229452893844446, -22.972215709816012], [-43.229406633012616, -22.972188191951563], [-43.229367297147995, -22.972168337023433], [-43.22933144187127, -22.972143102695295], [-43.2292772878094, -22.9721005051485], [-43.229243830286435, -22.972070963872984], [-43.22921794791925, -22.97204394364259], [-43.229190080298345, -22.972004621610054], [-43.22915901815239, -22.97196354719113], [-43.22912996173547, -22.97191816236294], [-43.22910879460743, -22.971873494198494], [-43.22908712089531, -22.971830356452486], [-43.229064348822796, -22.971781698754967], [-43.22904398631141, -22.971735235288016], [-43.229027021616865, -22.971689893439816], [-43.22900228150712, -22.97164265861823], [-43.22898773108556, -22.97159914983469], [-43.228979850070644, -22.971552825826432], [-43.228978922752674, -22.97150432190277], [-43.22897495278361, -22.97145722885419], [-43.2289722009935, -22.97140653723371], [-43.22896890225328, -22.971360173218542], [-43.22895797738218, -22.971307945399342], [-43.2289460796051, -22.971263021379798], [-43.228934665646676, -22.971218464887116], [-43.228915175180276, -22.971172371466754], [-43.228892763676534, -22.971126066601023], [-43.228875527394834, -22.971086680904744], [-43.22885798343961, -22.97104097135093], [-43.228835177437155, -22.970994932080902], [-43.22880848499786, -22.970955259197858], [-43.22878018544462, -22.970911688866696], [-43.22874924547132, -22.97086104346083], [-43.228726691495275, -22.970825752336406], [-43.22870503057993, -22.970773946353827], [-43.22869154661224, -22.97072367752565], [-43.228681392049594, -22.970694666578], [-43.22866449782471, -22.970651492795955], [-43.22864489116748, -22.970606843826094], [-43.22862639399157, -22.970559678725134], [-43.22860436274237, -22.970513918999643], [-43.2285804127109, -22.9704732842855], [-43.22854974483718, -22.97043185385834], [-43.228505754371696, -22.970394969463126], [-43.22845264704865, -22.970376585903658], [-43.22840183447678, -22.970369425743154], [-43.22834592587854, -22.97036401469789], [-43.22829432050432, -22.970365153662666], [-43.228244973766394, -22.970380134457145], [-43.228199456033586, -22.970400486007218], [-43.22815587906759, -22.970421582578144], [-43.22811106232897, -22.970448081744895], [-43.228063558624186, -22.97047130079855], [-43.228012964404535, -22.970492047063363], [-43.227965906258966, -22.970510935545143], [-43.22792191563575, -22.970533833514256], [-43.22788185895916, -22.970561831605615], [-43.227835759383325, -22.97058199593039], [-43.22779458711546, -22.970605646906197], [-43.22774294804769, -22.970624394697126], [-43.22769383128133, -22.970651568093974], [-43.22764168246032, -22.970671935632158], [-43.22759308328518, -22.97068177811661], [-43.22753784003568, -22.970692719343763], [-43.22747606988085, -22.970695551359658], [-43.227407249971634, -22.970692975640024], [-43.22735837389655, -22.970679333968484], [-43.227315090524115, -22.970655551321705], [-43.22726620593621, -22.97062746170499], [-43.22719700056098, -22.970594629566072], [-43.22716077947813, -22.970560269934495], [-43.227134487103775, -22.970512476572626], [-43.227119459700496, -22.97049063359521], [-43.22710246245342, -22.970440595375507], [-43.22709016609341, -22.9703962989209], [-43.227084075308355, -22.970347286640084], [-43.22708078176361, -22.970293247690257], [-43.2270723605028, -22.970228583948312], [-43.22707510171645, -22.970182922322078], [-43.22708377555691, -22.97013858951104], [-43.227100303157286, -22.970097685812572], [-43.22712335308562, -22.970065162178322], [-43.227152817648495, -22.970034247269837], [-43.22718324631672, -22.970004334682034], [-43.227192134128174, -22.96999585425411], [-43.22721988447913, -22.9699692529705], [-43.227234885007675, -22.969955696256875], [-43.22725620157658, -22.969936428884303], [-43.227299602796656, -22.969898896069598], [-43.22734362077947, -22.969866339598347], [-43.22738596364675, -22.96984242819873], [-43.22744648259077, -22.969808607745158], [-43.22751039681664, -22.969790901250807], [-43.22755974652785, -22.969775830406178], [-43.22762764022267, -22.969759430819472], [-43.22766275714841, -22.969758650426414], [-43.22771507881015, -22.969747586163233], [-43.22777394441739, -22.969743096977233], [-43.22783427483566, -22.969738532938724], [-43.22789405237214, -22.969731344766416], [-43.22793838759918, -22.969726874580342], [-43.2280177913106, -22.96972541345056], [-43.22806362450345, -22.96972565581292], [-43.22811335710844, -22.969725942655206], [-43.22816414195588, -22.969727953418886], [-43.228231442266015, -22.969734846419218], [-43.22828964022543, -22.969744166178085], [-43.22834781723347, -22.969755019053572], [-43.22840490354865, -22.969767397604738], [-43.2284647380117, -22.96977836197697], [-43.228510830647345, -22.969788630016534], [-43.22856701978255, -22.969794947173195], [-43.22862927771395, -22.969807111625293], [-43.228681199996934, -22.96981897994295], [-43.228717730635665, -22.96983708787163], [-43.22877238188554, -22.969856572242087], [-43.22883255183691, -22.96988677420368], [-43.22888054501896, -22.969915846732142], [-43.22893247607896, -22.969942163804483], [-43.2289780056754, -22.969973194576472], [-43.22899986877167, -22.96997939986373], [-43.22903843895389, -22.969990306142318], [-43.22909252335882, -22.96999380015918], [-43.22915800021294, -22.969975840441165], [-43.229200033078655, -22.969960956442474], [-43.229252757273535, -22.96994122692332], [-43.22930984790458, -22.96993075723439], [-43.229365931602736, -22.96991530861934], [-43.22942358844511, -22.96990629099029], [-43.229480047262534, -22.96989184077768], [-43.22953762626942, -22.96988887174328], [-43.229597156552, -22.969893328558236], [-43.229649526624094, -22.96990077844521], [-43.22970486408631, -22.969912592466773], [-43.22975750503956, -22.96992934581766], [-43.22981450262585, -22.96994840451918], [-43.229868111867496, -22.96996561926857], [-43.22992474246767, -22.96999054363467], [-43.22997805183788, -22.97001588422272], [-43.23002695627735, -22.97004225564891], [-43.23007108230692, -22.97006875611872], [-43.23011941521919, -22.970094309297497], [-43.23017883052508, -22.9701299215223], [-43.230230091171954, -22.97017022791914], [-43.2302791184051, -22.97020238104356], [-43.23030931708462, -22.970219966399817], [-43.23034842069118, -22.970242798536557], [-43.230405200673225, -22.97027124628943], [-43.23049300122718, -22.970313857848407], [-43.23054295788687, -22.970342048770817], [-43.2305960610289, -22.97036070251019], [-43.23065838680358, -22.970375034255092], [-43.23069660854376, -22.9703831359048], [-43.23076282162274, -22.970398595560834], [-43.230822738857306, -22.970410733046425], [-43.230838983149056, -22.97041398562222], [-43.230888721553654, -22.970421492431214], [-43.230936825871694, -22.970442077871922], [-43.23098633654106, -22.97045202214125], [-43.23103677280037, -22.970458364538825], [-43.23109352416407, -22.970466401978786], [-43.231174245103176, -22.970476243876494], [-43.23123590373582, -22.97048189870611], [-43.23129804012784, -22.970488461889925], [-43.23135866709616, -22.970491033898067], [-43.23142460330853, -22.97049023444905], [-43.23147617236672, -22.970484398216275], [-43.23154089693479, -22.970471936798432], [-43.23159780656498, -22.970460470013315], [-43.231657083840396, -22.970446773810853], [-43.23171223962381, -22.970427612421158], [-43.2317666258809, -22.970407629684495], [-43.231819873514254, -22.970385286304356], [-43.23187321766664, -22.97036294398205], [-43.231925705351344, -22.970338966602544], [-43.231978857972926, -22.970316351192103], [-43.232033999569595, -22.970298273183143], [-43.23208961031151, -22.970281464652754], [-43.2321446588699, -22.970263114651853], [-43.23219571788736, -22.970236501504093], [-43.23224553252697, -22.97020815957413], [-43.23229678064273, -22.970182000927085], [-43.23234974184974, -22.970159022031826], [-43.23240432040328, -22.970139311220727], [-43.232459270370796, -22.970120960908577], [-43.232514509157525, -22.970102973209976], [-43.23256983875893, -22.970085350431965], [-43.23262648263995, -22.970071803291862], [-43.2326830350822, -22.970057712379937], [-43.2327400468404, -22.970045797494024], [-43.23279824192603, -22.970040304706856], [-43.232856788072716, -22.970037888881993], [-43.23289532217979, -22.97004454860977], [-43.232914295822184, -22.97004783049829], [-43.232972118418175, -22.970056059814073], [-43.23302849582707, -22.97007050583154], [-43.233084466995244, -22.970086119456518], [-43.233140634547674, -22.97010155644805], [-43.233187019163566, -22.97013449199141], [-43.23322914881328, -22.970172077747062], [-43.233270094087345, -22.970210823349817], [-43.23330946180757, -22.970250815626], [-43.233349320625166, -22.970290542452833], [-43.23337737392536, -22.970338084508988], [-43.23339915017495, -22.97038835604732], [-43.23342710775183, -22.970435987333925], [-43.233455553099894, -22.970483533747874], [-43.23347950505381, -22.970523986308088], [-43.23348294032905, -22.97052980409825], [-43.23351335137551, -22.97057610904767], [-43.233544253727466, -22.970622057345462], [-43.2335524340825, -22.97063804214859], [-43.23356916880824, -22.970671099579047], [-43.23360410200826, -22.970714564255665], [-43.233635318748746, -22.970751485566666], [-43.23367653015641, -22.970799716041416], [-43.233714124186726, -22.970841133339313], [-43.23375183698482, -22.970888421761753], [-43.23379040594676, -22.97091485931838], [-43.23383595817462, -22.970944264432863], [-43.23388970820113, -22.970973309356562], [-43.23393153603141, -22.970989127231977], [-43.233975936103825, -22.971024569889927], [-43.23401487387681, -22.97105272729545], [-43.23409671374425, -22.971096443581132], [-43.234122986570306, -22.971108566218252], [-43.234157103200495, -22.971132335249127], [-43.23421446260193, -22.97116882527217], [-43.23422329977326, -22.97117172226848], [-43.234270983068335, -22.971187244976207], [-43.234325608777844, -22.971208806026343], [-43.234374398923656, -22.971229214782905], [-43.23443203308371, -22.971252070868708], [-43.23448232081302, -22.971254797442754], [-43.23453062508819, -22.971252628159082], [-43.234581205033415, -22.97124036826658], [-43.23461357145773, -22.971226280007453], [-43.23465621547214, -22.97120923584968], [-43.2346857198532, -22.971197823938304], [-43.23474150053198, -22.97117559898873], [-43.23479395758057, -22.97116155383586], [-43.23484503654638, -22.971155620748714], [-43.234894273335385, -22.971149305910597], [-43.234945492396, -22.971147978992065], [-43.23499490152026, -22.971150696520745], [-43.235056395980905, -22.971154091340555], [-43.23509720867107, -22.971165562080174], [-43.23514291957665, -22.97118277835869], [-43.23519177802854, -22.97120544705584], [-43.23522504639258, -22.9712346247101], [-43.23526608247526, -22.971281316767925], [-43.235295503557744, -22.97131379375368], [-43.235319589476006, -22.97134413342081], [-43.23535351977255, -22.971382348900875], [-43.23538966139711, -22.97143052252231], [-43.23542541086835, -22.97148636677604], [-43.23545467493059, -22.97153094283143], [-43.23549726921353, -22.971585328995317], [-43.235533191859545, -22.97162040595345], [-43.235576708877474, -22.97164879639223], [-43.23562345026481, -22.971669363485862], [-43.235679119757506, -22.971693191522128], [-43.23575387539647, -22.971719399306924], [-43.23581339106875, -22.971740019137044], [-43.23586211439977, -22.97175817089699], [-43.235908448637886, -22.971779907341197], [-43.235957722103315, -22.971800684035866], [-43.23600982461259, -22.971821400994074], [-43.23605806530475, -22.971839097606797], [-43.236121971276944, -22.97185967497856], [-43.2361760418397, -22.971878969812405], [-43.23622365372802, -22.97189259385566], [-43.23628012902499, -22.971906951359284], [-43.23633732150112, -22.97191128756923], [-43.2363873383413, -22.97191988215818], [-43.23643508613631, -22.971915446685006], [-43.236500404828945, -22.971909761823376], [-43.236555789015554, -22.971903063353682], [-43.23660799207048, -22.971878539418086], [-43.23666546871015, -22.971868342300418], [-43.236723579510425, -22.971862034421772], [-43.23677984569119, -22.971847489162677], [-43.23683830686994, -22.97184416700515], [-43.236896835113136, -22.97184319259497], [-43.2369540339124, -22.971854483931843], [-43.23700919460627, -22.971872527248316], [-43.237065674522725, -22.971886610903177], [-43.23712174273795, -22.971902134837006], [-43.23717349496146, -22.971927544282668], [-43.23722534764814, -22.97195250330537], [-43.23727212983336, -22.971984991528142], [-43.23732019767004, -22.972015957950607], [-43.237372348811775, -22.972040468722895], [-43.23742954518327, -22.97205203258765], [-43.23748674315233, -22.972063323729262], [-43.23754581506566, -22.97205811170366], [-43.23759132416563, -22.97203829915981], [-43.237628359930916, -22.972010083432426], [-43.23766198001296, -22.971959255303105], [-43.237707918359, -22.971914160324012], [-43.23774829890749, -22.971883636537623], [-43.23778968015633, -22.97185122475436], [-43.23783079309308, -22.97180941917129], [-43.23787200371196, -22.971767524357155], [-43.23791467595482, -22.971733321695783], [-43.23795576237412, -22.971708673709863], [-43.2380025304189, -22.971682011862306], [-43.23805157152987, -22.971645439924487], [-43.23809833060154, -22.971612095384447], [-43.238140633127806, -22.97158375926756], [-43.2381960908015, -22.971548885901512], [-43.238243448671774, -22.97152178081496], [-43.238305297603155, -22.971490409131864], [-43.238358223531094, -22.97147772166776], [-43.23842035569118, -22.97146956325221], [-43.238477185583456, -22.971456648222052], [-43.23853529283106, -22.971450522041163], [-43.23859340399963, -22.971443942551574], [-43.23865124542546, -22.971435826665342], [-43.238707982273226, -22.971422638698645], [-43.238765735742675, -22.971413708145022], [-43.23885537749632, -22.971374878845918], [-43.23891683438996, -22.971351091782477], [-43.23899641015895, -22.971336442580785], [-43.23906853072834, -22.971332731324278], [-43.23913581476194, -22.971333478840062], [-43.23919688247784, -22.97133957285565], [-43.239254595773154, -22.971348792965983], [-43.23930490970328, -22.971357117211884], [-43.239357592179964, -22.971363211032102], [-43.23941391065884, -22.97136717880787], [-43.23946836336981, -22.97137220859592], [-43.23952858530137, -22.971383443181566], [-43.23958197519649, -22.971395233094142], [-43.23961981524418, -22.971402607757327], [-43.23969243508865, -22.97142066254661], [-43.23974679446924, -22.97143282529512], [-43.239798302640274, -22.971446761557377], [-43.23984747051618, -22.97146067362008], [-43.23991301753586, -22.971482442574057], [-43.239962525213514, -22.971500240585815], [-43.24001076057342, -22.971518385674486], [-43.240061332724075, -22.971536827611416], [-43.24012147443228, -22.9715468871222], [-43.240196972224524, -22.971545828086565], [-43.24023342065639, -22.971532868538], [-43.24025075996197, -22.971489172837174], [-43.24024891074604, -22.971451224219194], [-43.240248281491176, -22.971439566988767], [-43.24022915350345, -22.971395376999574], [-43.24019722721658, -22.97136052602875], [-43.24017496176934, -22.971340140807335], [-43.24012879905713, -22.97129004992276], [-43.240077788319205, -22.971245234994456], [-43.24004322877352, -22.97121785006896], [-43.2400232824095, -22.971199206373324], [-43.240009214121756, -22.971186044437786], [-43.23997181947007, -22.97115158603581], [-43.2399352868858, -22.971118489063944], [-43.23992834557228, -22.97111227124652], [-43.23989100223357, -22.971073929380694], [-43.23985823189075, -22.971043945443256], [-43.23981845380549, -22.971012799114803], [-43.239772167993635, -22.97097968500474], [-43.23972386242742, -22.970959372658026], [-43.23967270996663, -22.970940652362465], [-43.239628006310696, -22.970920921820714], [-43.23956638107575, -22.970889894911874], [-43.23951649237529, -22.970863964208394], [-43.23948500487827, -22.970847812911703], [-43.23946233560269, -22.97083618088707], [-43.23940691115923, -22.970808387079497], [-43.239362893712965, -22.970788390465025], [-43.23931790818622, -22.970767841255547], [-43.239278067546, -22.970749066786134], [-43.23926186719681, -22.970742475172415], [-43.23921396336046, -22.970721353492884], [-43.239164042427575, -22.97069777025478], [-43.23913651632946, -22.97068464206051], [-43.23911742731639, -22.970675038278394], [-43.23907397277072, -22.970649088618398], [-43.239030905144055, -22.97062368688165], [-43.2389823014566, -22.970596144806933], [-43.238929512978636, -22.97056837741873], [-43.23888095828646, -22.970544809276145], [-43.23883625275433, -22.97052516790345], [-43.23877872550531, -22.970494095933592], [-43.238746487564526, -22.970460687015276], [-43.2387098786267, -22.970418469039704], [-43.23867287615683, -22.970376517598385], [-43.23863876685693, -22.97033685592261], [-43.23859866594683, -22.970285658029336], [-43.23857432024855, -22.970245292999227], [-43.23855726040988, -22.970192004120783], [-43.238551078101985, -22.97014235801407], [-43.23854748861508, -22.970088225474534], [-43.238538722881295, -22.970034666643013], [-43.2385361760023, -22.96996781269483], [-43.23852467506861, -22.969929576206873], [-43.238509122592525, -22.96988045810217], [-43.23849291370082, -22.969829164480142], [-43.2384556581491, -22.969776733909942], [-43.23842809317288, -22.969728928984107], [-43.238410965317335, -22.96970354355875], [-43.23839709080718, -22.969682979546413], [-43.23839058729143, -22.969665568722835], [-43.238377858739845, -22.969631834732148], [-43.23834898974996, -22.96957922733508], [-43.23833505505756, -22.969533287868853], [-43.23830454498592, -22.96948698357062], [-43.238268427691274, -22.96944440975317], [-43.23823427837565, -22.969400412923026], [-43.238218278113585, -22.969348308852823], [-43.238219466951556, -22.969294139113313], [-43.23825203899329, -22.969249078663815], [-43.238295710965, -22.96921299055259], [-43.23834389468047, -22.969182371769524], [-43.238389873323385, -22.969148745692618], [-43.238434409944404, -22.96911366050274], [-43.23848584596118, -22.969087862171612], [-43.23853009467738, -22.969052413436142], [-43.238577710004826, -22.96902801839708], [-43.23862282438985, -22.969008471115895], [-43.238659015016154, -22.968992709581155], [-43.23868633342099, -22.968976757342336], [-43.23871485137734, -22.968966147321797], [-43.238743434467544, -22.96895788594813], [-43.23880561283023, -22.968938620324096], [-43.23886603346338, -22.968911929236764], [-43.238915283928684, -22.968881681532462], [-43.238972979883165, -22.968854599813483], [-43.239027957854915, -22.96883398893081], [-43.239075242279895, -22.968820067237882], [-43.239133357785136, -22.968813214816553], [-43.23919128291027, -22.968806001748106], [-43.23924973167853, -22.96880330972283], [-43.23928347652906, -22.96880341364133], [-43.23930824754628, -22.96880341787507], [-43.23932927225006, -22.96880654116669], [-43.23934114623172, -22.968808388850537], [-43.23936606661901, -22.968811919337217], [-43.23941610998472, -22.96882592700118], [-43.23947197933679, -22.968841900276345], [-43.23950179422099, -22.968851623132043], [-43.23954675769862, -22.968866300388683], [-43.23959058964925, -22.968877985905397], [-43.23964134386329, -22.96888974647983], [-43.239702337402754, -22.968901711956093], [-43.239760926872734, -22.968903445347117], [-43.23981905521367, -22.968895603074134], [-43.23987541740085, -22.96888105769625], [-43.239924283657686, -22.968872931023828], [-43.239987708858095, -22.968862802282118], [-43.24004386131149, -22.96885692018054], [-43.240111857328536, -22.968855235986737], [-43.24016811237791, -22.968856493589417], [-43.24022859620143, -22.968870169000493], [-43.24028816425847, -22.968886633677606], [-43.24034208035329, -22.96891044059985], [-43.24039703624929, -22.968929111662273], [-43.240454646459696, -22.96893869136525], [-43.240519837241905, -22.968942845683987], [-43.24057140737804, -22.96894432205771], [-43.24062922666927, -22.96895281945568], [-43.24068694492947, -22.968961588432677], [-43.2407454168919, -22.96896494564726], [-43.240800779071854, -22.968982448020427], [-43.240851932505585, -22.969008661446875], [-43.240903782531035, -22.96903380073414], [-43.24095793608895, -22.96905426880436], [-43.24100938773922, -22.969080126078065], [-43.241060639932215, -22.969106250231608], [-43.241106232403766, -22.969140168104058], [-43.24115211993611, -22.969173820129456], [-43.24120003633023, -22.96920902893684], [-43.241245151619786, -22.969242220843586], [-43.2412931580408, -22.969270476233774], [-43.241335831768, -22.96929632631961], [-43.24137001575479, -22.969315036604733], [-43.241414680984704, -22.969337568382866], [-43.24145348381226, -22.969353711048804], [-43.24149898019374, -22.969372457407975], [-43.24155586392436, -22.969385369949936], [-43.24157203839116, -22.969386723348205], [-43.24160330691069, -22.96938941815442], [-43.24161412102836, -22.969390350864025], [-43.241651774876, -22.969382008975206], [-43.2417193458343, -22.96934528193576], [-43.24173185075087, -22.96933620953301], [-43.24175499366175, -22.969318766456052], [-43.24184940339851, -22.969235287228642], [-43.241885273838996, -22.969206787474615], [-43.24194321625831, -22.96916047150603], [-43.24197419323161, -22.96913300111623], [-43.2420194074689, -22.969105778925204], [-43.242067675653225, -22.969068566728346], [-43.24210400202299, -22.969034743977698], [-43.242172667493335, -22.968996313070317], [-43.24222223107975, -22.96897211821299], [-43.24226675172825, -22.968938116277492], [-43.24231666208833, -22.96890950118873], [-43.24236324347047, -22.968882203746222], [-43.24241591795398, -22.96885876666233], [-43.24246811809838, -22.9688341503347], [-43.242521649133295, -22.968812347299036], [-43.242572512110804, -22.968785549690615], [-43.242620792127205, -22.968755020017127], [-43.24266705731682, -22.968721847337186], [-43.242704363759515, -22.968680089356532], [-43.2427302504175, -22.968631520384903], [-43.242742560694914, -22.96860709387302], [-43.24274858963813, -22.968487686180666], [-43.24273831911277, -22.968475112028216], [-43.242710376118225, -22.968448975000754], [-43.24265642753677, -22.968405030478685], [-43.24260530602266, -22.968368793214278], [-43.24256297969755, -22.968338703886396], [-43.242504274662004, -22.968300666717436], [-43.24245886642123, -22.96827496814249], [-43.24240006804765, -22.968244153405543], [-43.24235706371443, -22.968221101207586], [-43.24231108001859, -22.968195034991776], [-43.24226161928094, -22.968166129847273], [-43.24221404530287, -22.968134536458525], [-43.24216934443792, -22.968099546033855], [-43.2421271150413, -22.968062051754], [-43.24207685503139, -22.968034402866213], [-43.24203037631041, -22.968001378497622], [-43.24198458251447, -22.967967728674015], [-43.24194017978215, -22.967932467871833], [-43.241898642398915, -22.96789425967362], [-43.24187509777755, -22.967844691074323], [-43.24187365236378, -22.96779049110342], [-43.2418725977338, -22.967736388480628], [-43.24185832313764, -22.96767879614086], [-43.24182977179744, -22.967586548920174], [-43.24177138174242, -22.96749397074001], [-43.241737679817355, -22.967415482149026], [-43.24171392285457, -22.967337104763768], [-43.24166535973157, -22.967253847568944], [-43.241636177094605, -22.967202953034995], [-43.241616977351846, -22.967156773886167], [-43.24158789128557, -22.96710588041596], [-43.241553852763055, -22.96704581119391], [-43.24153465306734, -22.96699963203737], [-43.24150916861039, -22.96695672625529], [-43.24149078153757, -22.966900352540335], [-43.241467741906, -22.966849614624287], [-43.241443612320516, -22.966800132497212], [-43.241426441117326, -22.96674792629692], [-43.2413878833321, -22.966637597299226], [-43.241362297240165, -22.966587555367532], [-43.24132255836295, -22.96651568230496], [-43.24129287658052, -22.966465775536154], [-43.24125711016539, -22.966418600713997], [-43.241171518123394, -22.96632572055431], [-43.241126556617075, -22.966280791618402], [-43.24108282652682, -22.966238675790688], [-43.24103531019862, -22.96619516336533], [-43.24098946336484, -22.96615844233038], [-43.24093962281201, -22.96612113513751], [-43.24089785903741, -22.966092948059394], [-43.24089089807615, -22.966088263453102], [-43.240840112602925, -22.96605645615972], [-43.24079138711045, -22.966023495939517], [-43.24073408860803, -22.96598231311246], [-43.240685219571866, -22.96594537784722], [-43.24063403407548, -22.965914195479126], [-43.240582149276364, -22.965884452021054], [-43.24057894847126, -22.96588288040829], [-43.240529637972934, -22.965857680756763], [-43.240476347410066, -22.965830991131938], [-43.24041488082173, -22.965802856165116], [-43.240356030025, -22.965776285396096], [-43.2403014833198, -22.965741093099805], [-43.240252061508734, -22.965709207752884], [-43.2401982018826, -22.96567375303836], [-43.24015935632727, -22.96565354501564], [-43.24014443950825, -22.965645703495404], [-43.24009180450091, -22.96561351151654], [-43.24005413237261, -22.96559313678932], [-43.24003321334894, -22.965581887338615], [-43.239983078508054, -22.965552433136], [-43.23991953510675, -22.96551163222796], [-43.23987013198541, -22.965478392402062], [-43.23982652644098, -22.965441695940328], [-43.23978194732993, -22.965397493341527], [-43.239744391326475, -22.96535309689499], [-43.23970446662316, -22.96530334794933], [-43.23967620167052, -22.96527196917417], [-43.239660915480314, -22.965255002703838], [-43.23962086223874, -22.965215184057463], [-43.23959166946653, -22.96518767898458], [-43.239558941706136, -22.96516212045919], [-43.23951946126723, -22.96514569805082], [-43.23949346892484, -22.965142158425948], [-43.23947163549616, -22.965141282924666], [-43.23946110568743, -22.965141165988637], [-43.23940230988697, -22.96515541426333], [-43.239343870225646, -22.965172282606762], [-43.239288490459515, -22.965186389069398], [-43.23923827625377, -22.965200731688363], [-43.2391770002456, -22.965218383016644], [-43.23911744681179, -22.96523849078563], [-43.23907241024441, -22.965259663734894], [-43.23902171026864, -22.96528899241818], [-43.23896433945871, -22.96532881176196], [-43.23891288633612, -22.96537095534937], [-43.238851216945825, -22.965411359031012], [-43.23881012798024, -22.965436368564195], [-43.23874966991864, -22.9654585440543], [-43.23869139578568, -22.965462772190712], [-43.23863286673795, -22.965464019215155], [-43.2385744903939, -22.96546093237277], [-43.23851780970022, -22.96544747927824], [-43.23846636614232, -22.965406088913436], [-43.2384489357059, -22.96535893664712], [-43.23843787035906, -22.96529478746748], [-43.23843010270866, -22.965246930728387], [-43.23842024452982, -22.965194985229473], [-43.2384212297311, -22.965141535633812], [-43.23842709070404, -22.96509563372294], [-43.23842696429288, -22.965037658331923], [-43.238427314531805, -22.9650181563495], [-43.23842801501759, -22.9649714755588], [-43.23842653890071, -22.96491989772564], [-43.23842213743684, -22.964868373176312], [-43.23842117601148, -22.96485210759778], [-43.23842019645054, -22.964837467307255], [-43.238418516164124, -22.964809095583412], [-43.23841323911782, -22.964764783896214], [-43.238391686138336, -22.964712170227315], [-43.238366169970824, -22.964679194486322], [-43.23836052665131, -22.964670824623017], [-43.23834206199778, -22.96464343583868], [-43.238301365959224, -22.9646080364916], [-43.23826756234032, -22.964575149252884], [-43.238259945871, -22.964568383852157], [-43.23823584535541, -22.96454680225067], [-43.23818598081164, -22.96450407749412], [-43.23814266388853, -22.964467745031055], [-43.238079705039866, -22.964442120261467], [-43.23803062701305, -22.964436608040916], [-43.237972697535916, -22.96442910102282], [-43.2379142263062, -22.96442592260057], [-43.237855791714935, -22.964427441325054], [-43.23779734407714, -22.964430041736296], [-43.23773968523772, -22.96443942376571], [-43.237682027538916, -22.964448717287553], [-43.23762566704662, -22.96446326199264], [-43.23757059085457, -22.964484052899135], [-43.237518559803675, -22.96450307063729], [-43.237460653020264, -22.96451660473653], [-43.237403179777075, -22.96452671114318], [-43.23734465349736, -22.964527777132407], [-43.237286136792015, -22.964528029558892], [-43.237227651504455, -22.964525934384724], [-43.237169162719404, -22.96452410916188], [-43.23711065752144, -22.96452354981019], [-43.23705213827428, -22.964524073939845], [-43.23699364012926, -22.96452297098769], [-43.23693537699891, -22.96451871085813], [-43.23687713007253, -22.964513276923515], [-43.23681869992471, -22.964514526203466], [-43.23676016669311, -22.96451612921364], [-43.23670172154041, -22.96451846013635], [-43.23664470669749, -22.96453073958438], [-43.236591842565005, -22.964553901770255], [-43.23654184036728, -22.964581972237546], [-43.23649040268536, -22.964607859401973], [-43.236436874485875, -22.964629660475474], [-43.2363816382243, -22.964647738221263], [-43.2363253617216, -22.96464061020883], [-43.236269259448726, -22.96462779580914], [-43.23620954848793, -22.964614939435215], [-43.236150934961294, -22.96460769595928], [-43.23609584465162, -22.964607083016904], [-43.23603948156609, -22.96461422121169], [-43.235986458422815, -22.964634672272187], [-43.23594769188767, -22.96466864617283], [-43.23591709334724, -22.96471932885829], [-43.23588647056186, -22.96477217858393], [-43.23586315994271, -22.964817432852502], [-43.23583855457063, -22.964864840025868], [-43.23580920141533, -22.964910027042645], [-43.23575902844177, -22.964951008944507], [-43.23570711375079, -22.964983572188306], [-43.23565447813259, -22.96501179456223], [-43.23560666034949, -22.96502932335446], [-43.23555308800296, -22.96503188777954], [-43.235494301847325, -22.965030420740966], [-43.235446511909906, -22.96503070156283], [-43.23539751650234, -22.96502618279422], [-43.23535383648074, -22.965018020677437], [-43.23529907656935, -22.964991945154722], [-43.235247982080416, -22.964961394270546], [-43.23520521457412, -22.96493545311688], [-43.235160068035604, -22.964904969322067], [-43.235117920018695, -22.964876233785965], [-43.23506991375426, -22.964840752266817], [-43.23503684620272, -22.9648038097551], [-43.23500246864967, -22.96476261013035], [-43.23496162500727, -22.96472377583698], [-43.23491494468662, -22.964691106681933], [-43.23485629937891, -22.964686390910707], [-43.23479752767358, -22.96469133452381], [-43.23474327230631, -22.96471646819176], [-43.23468983803538, -22.964738448507283], [-43.2346445249246, -22.96475835372724], [-43.234588324451664, -22.964790508554138], [-43.23453945319166, -22.964821570113447], [-43.23449215037984, -22.964859514097533], [-43.2344583852105, -22.96488388159329], [-43.23441248519848, -22.964918859307932], [-43.23434982751195, -22.964937667318022], [-43.23429413953137, -22.964945446338376], [-43.234235703611645, -22.964947053100197], [-43.234177186617195, -22.964947393766657], [-43.2341187059608, -22.96494493717268], [-43.23406130264424, -22.964934543927253], [-43.23400982337468, -22.964926205165295], [-43.23395412690793, -22.964919623697952], [-43.2338885271591, -22.964909592413242], [-43.233835309377945, -22.96490746345425], [-43.23377772293709, -22.964903662125458], [-43.233727323538325, -22.964894701364184], [-43.23364481376396, -22.96488023725211], [-43.23359825937439, -22.96486806922109], [-43.23354882203005, -22.964852618080407], [-43.23349356480078, -22.96483475415], [-43.2334389092645, -22.964815541430664], [-43.23338192052976, -22.964803347370953], [-43.23332343408027, -22.96480134375265], [-43.233265402061896, -22.964794464202686], [-43.23320748181461, -22.964786413721104], [-43.23314910779799, -22.964782963706057], [-43.23309074393359, -22.96477933317318], [-43.233032603470356, -22.964772995965156], [-43.232978471437185, -22.96475875659266], [-43.23292685846419, -22.964738133640612], [-43.23288018413122, -22.96470519396591], [-43.2328594972387, -22.96466857054581], [-43.232834429207486, -22.964631537068218], [-43.23282505100151, -22.964617706202354], [-43.23281500650912, -22.964602692140588], [-43.23278440654641, -22.964556026490243], [-43.23275381611122, -22.964516131090786], [-43.2327203589692, -22.964471780601006], [-43.232689774428295, -22.96443143463557], [-43.2326586059756, -22.964383495650683], [-43.232638174464675, -22.964342088899365], [-43.23262757036629, -22.964325265202312], [-43.23260311594138, -22.96429347621104], [-43.232577652349086, -22.96425679950763], [-43.23255422563698, -22.964221048556713], [-43.232540410259205, -22.96419597041544], [-43.23252341656852, -22.964152975589364], [-43.2325154346581, -22.964099335865956], [-43.23249336491583, -22.964049151271066], [-43.232495238375904, -22.9639949892889], [-43.232487038989206, -22.963943151429078], [-43.23247396472722, -22.963898577518986], [-43.23245297483609, -22.963847772825428], [-43.232438130062796, -22.963827016926786], [-43.23242551056255, -22.963815047206822], [-43.23239130562118, -22.96379822947299], [-43.2323475104625, -22.963783744839922], [-43.2322975824832, -22.963776144379377], [-43.23221159970521, -22.9637739204805], [-43.23214599938586, -22.963771562600634], [-43.23206265198958, -22.963769009498137], [-43.23194915417024, -22.963767743791895], [-43.231855331912676, -22.9637535129471], [-43.23180955242085, -22.96372672278439], [-43.23174788884175, -22.963691539521243], [-43.23170391951235, -22.963668111698553], [-43.23163859663399, -22.963644355381767], [-43.23156410320124, -22.963643524458337], [-43.23145766820598, -22.963639087119883], [-43.231265269197976, -22.96363856533167], [-43.231146408720754, -22.963637239227694], [-43.231059553219175, -22.96363464555865], [-43.23096383413965, -22.963623733402713], [-43.23087877529645, -22.963617817504726], [-43.23082292492071, -22.963607983185515], [-43.23079918620622, -22.96360374487022], [-43.230728500507524, -22.963580020452593], [-43.23070580190084, -22.963570645458677], [-43.23065439066356, -22.96354957162852], [-43.23054500249399, -22.96350238388167], [-43.23045152162792, -22.963461879164992], [-43.23036849642319, -22.963427178493376], [-43.23032669724552, -22.963401878128312], [-43.23028302100858, -22.963378361991428], [-43.230236953541436, -22.963351479682103], [-43.230187672952646, -22.96332383815109], [-43.23014344265792, -22.96329823968774], [-43.23009274975277, -22.963281780146474], [-43.23004350493496, -22.963266601021928], [-43.22999159688358, -22.963253742780882], [-43.229942733848745, -22.963246692602507], [-43.22988976145098, -22.963240682894007], [-43.229836863074944, -22.963236478282393], [-43.229787662806665, -22.963232860385325], [-43.22973939017568, -22.963217692023825], [-43.22968958566039, -22.96320079075357], [-43.22964114821191, -22.963183453210195], [-43.22958780102217, -22.963168859368718], [-43.22953603186727, -22.963160244144614], [-43.22943419534626, -22.96314727787517], [-43.22938365272203, -22.963134341674913], [-43.22933733428616, -22.96311169973071], [-43.22929884481465, -22.963079392307073], [-43.22926230077357, -22.963047466918823], [-43.229227373259626, -22.963011226759424], [-43.229195671690526, -22.962974388685698], [-43.229160327142196, -22.96294022086274], [-43.229128055877936, -22.962902201549916], [-43.22910006677603, -22.96286477550253], [-43.22906765228612, -22.962822781173248], [-43.2290350565668, -22.962787289459623], [-43.2289982813006, -22.962750666493694], [-43.22895697868338, -22.96271715361024], [-43.22891823794479, -22.96268917792054], [-43.22887531294589, -22.962660433041744], [-43.22883438693811, -22.962635593584544], [-43.228787028177564, -22.962610411338858], [-43.228740472811545, -22.9625835213636], [-43.228695050470776, -22.962559263772363], [-43.22864534555388, -22.96253459800596], [-43.228596256205925, -22.962522490547812], [-43.228542619352844, -22.962522523394185], [-43.228492766162724, -22.962524133678485], [-43.22843815406203, -22.962524245897153], [-43.22838176825251, -22.962525692847038], [-43.22833152699392, -22.962527298744057], [-43.228277471886614, -22.962529494138412], [-43.22822488620929, -22.962531254412138], [-43.22817171647816, -22.96253300814123], [-43.22811393284258, -22.962529470812203], [-43.22805853514181, -22.962515036878106], [-43.22801932326781, -22.96250078202076], [-43.227964056245604, -22.962476323893735], [-43.22792374177257, -22.96244191875501], [-43.22789296631453, -22.96240888358917], [-43.22786760205957, -22.962372117912484], [-43.227854295661906, -22.962353185815676], [-43.227833090231876, -22.962318992440167], [-43.227797526571415, -22.962234342497098], [-43.227783132122134, -22.962193996033566], [-43.22777994270125, -22.962184388090773], [-43.22776747148297, -22.96214604982583], [-43.227754788933716, -22.962086668216724], [-43.22774621691417, -22.96204096855517], [-43.22773499679003, -22.9619965026544], [-43.22772685086895, -22.961948189823406], [-43.227719008271954, -22.961898976433165], [-43.227709479870676, -22.96185191060666], [-43.22770325503945, -22.961805695352556], [-43.227700258039334, -22.96175888404717], [-43.22769765499169, -22.961711625622062], [-43.22769648841113, -22.96166646026068], [-43.227694693644786, -22.96161704355888], [-43.22769517967144, -22.96156494592185], [-43.22769927560285, -22.961512341390414], [-43.22770785941891, -22.961467285019005], [-43.227715470138584, -22.961422217769343], [-43.22771869140826, -22.961369606168102], [-43.22772761244121, -22.961321121986902], [-43.2277439308258, -22.961273712938766], [-43.2277643653298, -22.961224815620596], [-43.22778993596805, -22.961185728609973], [-43.227822016781815, -22.9611485204532], [-43.22786172720816, -22.961117086758147], [-43.22790860602229, -22.961089255052464], [-43.22795271824502, -22.961064190952705], [-43.22799948895231, -22.961044576636837], [-43.22804779145068, -22.961019739948924], [-43.22809217022747, -22.96099666729526], [-43.22813827813832, -22.960968194768782], [-43.22817369714943, -22.9609442083184], [-43.22819707730128, -22.960923610113305], [-43.228216857250665, -22.96089484244718], [-43.22822358643633, -22.960872431780853], [-43.22820819863513, -22.960863412679352], [-43.22816367769482, -22.960844941827737], [-43.22812498520409, -22.960835840188068], [-43.228071352680274, -22.96082070177386], [-43.22801508051354, -22.960806075669733], [-43.22796349559038, -22.96079096010391], [-43.227947662530106, -22.960786177611954], [-43.22793532762836, -22.960782427566503], [-43.22791240311806, -22.960775397599384], [-43.22785471177935, -22.960757504610974], [-43.227803618145714, -22.960742033267298], [-43.22775436393133, -22.960727667026706], [-43.22770254895956, -22.960715167642324], [-43.22765070770143, -22.96070483525923], [-43.22759984542171, -22.96069406227977], [-43.22755090241509, -22.960685748964988], [-43.22749591635524, -22.96067727777488], [-43.22744755721848, -22.960669060357514], [-43.22743627035244, -22.96066712898673], [-43.22738429927892, -22.96065164770247], [-43.227374272147486, -22.96065018012809], [-43.22733028353723, -22.96064355123172], [-43.22727842609722, -22.960641794780138], [-43.22722518003225, -22.96064183158758], [-43.22715191263004, -22.960636857465737], [-43.22705458681524, -22.960637032571682], [-43.22700413374746, -22.960639904494553], [-43.22695287387936, -22.960644745953584], [-43.22690203104495, -22.960647519568283], [-43.22685275767174, -22.960649589184136], [-43.22679928955954, -22.96065169766219], [-43.226743584305176, -22.96065351380056], [-43.22669137996551, -22.960656000303448], [-43.22663567375921, -22.96065781458697], [-43.226586895953886, -22.960659346931656], [-43.2265324671182, -22.960660272419766], [-43.22648019117222, -22.960660772253373], [-43.226416404182714, -22.96065410045206], [-43.226363076018146, -22.960645555307195], [-43.22632075865947, -22.9606376760483], [-43.2262564985723, -22.96062241995381], [-43.22620627830152, -22.960599822910062], [-43.226174354076086, -22.96058023178639], [-43.22616093214916, -22.960562561633466], [-43.226154144971304, -22.960522119545058], [-43.22614553619248, -22.960464408898176], [-43.22613355647805, -22.960418490441022], [-43.22612278653867, -22.96038441451748], [-43.226111747000125, -22.96033363012886], [-43.226105622071564, -22.960302225907895], [-43.22610325125632, -22.960297230824615], [-43.22608570458294, -22.96025928899832], [-43.22607503397372, -22.960240025041212], [-43.22606884116868, -22.960228848290537], [-43.22605227817828, -22.96021267906938], [-43.226034736221784, -22.960196950416854], [-43.2260216501596, -22.96018343892662], [-43.22599363366203, -22.96016316815262], [-43.22596301011586, -22.960141061209875], [-43.22592393130215, -22.96011660384855], [-43.2258600536721, -22.96008708105123], [-43.225796002382545, -22.96006324637874], [-43.22575486307929, -22.960039761078725], [-43.225703281211814, -22.96001705744559], [-43.22563454867208, -22.959993260631254], [-43.22557576341916, -22.95996957330222], [-43.225514807359254, -22.959947761666612], [-43.225469489496355, -22.959923233473184], [-43.225407633902485, -22.959895629528496], [-43.225351845539805, -22.95987387657284], [-43.225271428473775, -22.959841277784285], [-43.22520898301633, -22.959814119589435], [-43.225149162110704, -22.959787532576758], [-43.22508522307234, -22.959755119951712], [-43.22502337961985, -22.95972652355303], [-43.22495943990664, -22.95970178676082], [-43.224902701467464, -22.959678123913307], [-43.22487076372647, -22.95965952484145], [-43.224819242669206, -22.959632037279327], [-43.22476154590026, -22.959599694416635], [-43.22471509329423, -22.95957993945657], [-43.224669061853355, -22.959572741533012], [-43.224617302733265, -22.959563492764126], [-43.22455713171414, -22.95956381237644], [-43.2245125613072, -22.95956421544723], [-43.22446998948186, -22.959560848996958], [-43.22442548036386, -22.95955655869894], [-43.22437681756519, -22.959549240920925], [-43.224316732837615, -22.95954287887192], [-43.22426900364431, -22.95954613714854], [-43.22421285227675, -22.959552281137523], [-43.22417844143745, -22.95956625327223], [-43.224133631628426, -22.959584987183177], [-43.224100844288884, -22.95959419134253], [-43.22405382495436, -22.959617686623375], [-43.2240027252295, -22.9596402322375], [-43.223957780349, -22.959661763120664], [-43.22389517254931, -22.95969185568047], [-43.22385338545932, -22.959710532158997], [-43.22382016008651, -22.959715939463617], [-43.223764655192596, -22.959717304390676], [-43.22371072447028, -22.959717605084858], [-43.22364638266635, -22.95971597942257], [-43.22359662257136, -22.959710545506056], [-43.223552276250444, -22.95969379385849], [-43.22349464349337, -22.95965657482172], [-43.22345022140372, -22.959608306021277], [-43.22342743053067, -22.959561452630965], [-43.22340838286384, -22.95951157534023], [-43.22340400716321, -22.959488224134972], [-43.22339747144291, -22.95945853102356], [-43.22338866685523, -22.95941589984721], [-43.223386925421615, -22.959407300502935], [-43.22338084244015, -22.95936542225674], [-43.22337760889243, -22.9593143639731], [-43.22337674802787, -22.959268298119667], [-43.22337604030446, -22.959217900267983], [-43.22338067257791, -22.95916936833861], [-43.2233865735419, -22.95912076122216], [-43.22339072441394, -22.959064366501302], [-43.223393347177385, -22.959050218077834], [-43.22339489018957, -22.959021608832746], [-43.22339783778972, -22.95897513412639], [-43.22339729534737, -22.958927086945316], [-43.223379063586506, -22.958882090723296], [-43.223346037282205, -22.958842347907623], [-43.22333959922593, -22.958834962008318], [-43.22331413617753, -22.9588060501684], [-43.22328053884313, -22.95877262225888], [-43.223240527232136, -22.95873767759727], [-43.22320178593414, -22.95870238594285], [-43.22317235153992, -22.958671351674724], [-43.22312898544337, -22.958631854172477], [-43.22309071240758, -22.958605507887953], [-43.223043828534216, -22.95857410196228], [-43.22300237298987, -22.958552502520448], [-43.22295608792631, -22.95852751219253], [-43.2229069370596, -22.958497882397985], [-43.22288905029967, -22.958486122958227], [-43.222860333033, -22.95846737989398], [-43.22281536961548, -22.95844565349614], [-43.22276763268808, -22.95842714876879], [-43.22271428350302, -22.95841291483641], [-43.22267288303409, -22.958394570504804], [-43.222662026590065, -22.958389572374735], [-43.22262095264856, -22.95836870406715], [-43.2225766571781, -22.958333258807716], [-43.22251909506679, -22.958275629622403], [-43.22250927875917, -22.958265586993132], [-43.22247179354324, -22.95822389853882], [-43.2224357023867, -22.958172471012247], [-43.22239962679405, -22.95811978029311], [-43.22237767295779, -22.958090997058196], [-43.222362237268584, -22.958070777321396], [-43.222327367400815, -22.958030291211823], [-43.22227612806575, -22.957996484719178], [-43.22226742634437, -22.957990697980446], [-43.22225452243467, -22.95798567596726], [-43.22220610776081, -22.957966892570145], [-43.222139475749145, -22.957946729144748], [-43.22208199349863, -22.95792784404633], [-43.222017913085395, -22.957906444917914], [-43.22197078960312, -22.957885869839746], [-43.22191475765424, -22.957860406911728], [-43.2218778513145, -22.957841663965876], [-43.221828012956706, -22.95781229616026], [-43.22178361456682, -22.957799516870175], [-43.221749133227014, -22.957796601664718], [-43.22171974594536, -22.9578067474239], [-43.22169533915613, -22.957838712410734], [-43.221681499254366, -22.957882896698134], [-43.2216871997738, -22.95796143521701], [-43.221693993858025, -22.958038450823274], [-43.22169555645952, -22.958090394323104], [-43.22169306590841, -22.958139311416872], [-43.22168039548052, -22.958191004087656], [-43.221664949456866, -22.95823869223163], [-43.221643726390454, -22.958265815565255], [-43.22163281699481, -22.958279783420984], [-43.221594818451706, -22.95831457419144], [-43.22156373539453, -22.95834998524344], [-43.22152716644139, -22.958387232958984], [-43.221494091769834, -22.958425873521172], [-43.22146570131272, -22.958464024788316], [-43.221427561560716, -22.95849484233903], [-43.221386729745795, -22.958522649635952], [-43.22134223695292, -22.95854689488494], [-43.22129658746125, -22.958562727024937], [-43.22125258314713, -22.95858697592051], [-43.221209049972735, -22.95861240585221], [-43.22116448284218, -22.95863502383079], [-43.221118508894584, -22.958653291400005], [-43.22107420674115, -22.95868539429117], [-43.22101839764567, -22.958724953643216], [-43.22098277942284, -22.958764198582752], [-43.220952863616326, -22.95880711876713], [-43.22092496238576, -22.95884527541271], [-43.22088514001181, -22.958900185225666], [-43.22074751059225, -22.959029492064325], [-43.22069649619884, -22.959075157293768], [-43.22065923267039, -22.95910598266582], [-43.22061837944696, -22.95913532558318], [-43.22057777266633, -22.959168190418026], [-43.22054145237393, -22.959201376968643], [-43.22050600485551, -22.959234934522456], [-43.22046491404121, -22.959267523882687], [-43.22042352772176, -22.95929288646419], [-43.22037935517525, -22.959315058011274], [-43.2203307948262, -22.959337269698743], [-43.22029626158128, -22.959353046589843], [-43.22024766537179, -22.959385371941853], [-43.22019577061283, -22.95941639599069], [-43.22018422305074, -22.95942665137924], [-43.220151369915, -22.959455991853403], [-43.220108301725745, -22.959497862076166], [-43.22002565125902, -22.959584078026914], [-43.2199582483632, -22.959637594301864], [-43.21993587852689, -22.95965558465835], [-43.21989326188993, -22.959685448496664], [-43.21983353248357, -22.959719002382332], [-43.21978453146983, -22.9597449123249], [-43.21973130078686, -22.959773753903352], [-43.219667037187705, -22.959788656818287], [-43.21955965573563, -22.959797292454923], [-43.21949441029187, -22.9597977346692], [-43.219433275539195, -22.95978973440673], [-43.21937656292199, -22.95977907284432], [-43.21933012609432, -22.95976554752124], [-43.21926427420173, -22.959737985765976], [-43.219206460365434, -22.959721985625055], [-43.21914874502147, -22.959705986569908], [-43.21909093123886, -22.9596899845827], [-43.21904145373918, -22.95967796110297], [-43.21894234872836, -22.959657700681458], [-43.21887624823419, -22.959641609147884], [-43.21878393133051, -22.95962440673109], [-43.21869451722982, -22.95960886415701], [-43.218632557597736, -22.95959669851879], [-43.21857474281528, -22.959588374013162], [-43.21851278535271, -22.959576118952157], [-43.21845077608243, -22.959567744566233], [-43.21838876677421, -22.95955937376815], [-43.218322612488016, -22.9595548394576], [-43.21827298895132, -22.95954660327284], [-43.21821097969237, -22.95953823060065], [-43.21814891955321, -22.959533741322343], [-43.21809100427606, -22.959533090479102], [-43.21803308802602, -22.959532439603787], [-43.21796678659758, -22.959531694468044], [-43.21790053298434, -22.959534741720752], [-43.21783837227608, -22.959537927058808], [-43.217788646207765, -22.95953736814844], [-43.217722392581386, -22.95954041622916], [-43.21764607138446, -22.959545247505037], [-43.217585031329044, -22.959544921665678], [-43.21751890143919, -22.959545894955564], [-43.21745697814712, -22.959545921258098], [-43.21741551394225, -22.95954735059795], [-43.21739092899312, -22.95954824906373], [-43.217333957002126, -22.959549956460368], [-43.21730062097067, -22.95954876892717], [-43.21727391466375, -22.95954783653505], [-43.21721549197082, -22.959541038973775], [-43.21718459902124, -22.95953960616625], [-43.217097686580175, -22.95954160986514], [-43.217036154261635, -22.959541642205508], [-43.216975604731644, -22.9595408701257], [-43.21685828347421, -22.95951173707363], [-43.216796296844336, -22.959509233886166], [-43.21673513425697, -22.959503308379205], [-43.21667581691955, -22.959490450172233], [-43.21661696655473, -22.95947931297723], [-43.21655773153238, -22.959475124864127], [-43.21649893766905, -22.959466967399823], [-43.21643830763653, -22.959457616207438], [-43.21637997976097, -22.95945118062567], [-43.21625487312125, -22.959435867321666], [-43.2161271320268, -22.95942052337861], [-43.21606778734429, -22.959409831943375], [-43.21600991607236, -22.95939825402124], [-43.215948277382246, -22.959384103363906], [-43.21588843927789, -22.959373859638628], [-43.21582920434373, -22.95936967125749], [-43.21576726305818, -22.95936364631568], [-43.215701918681724, -22.959356861523826], [-43.215640847830585, -22.95935138725065], [-43.215576942193216, -22.959338927624692], [-43.21550693182554, -22.959323513145588], [-43.215437440951504, -22.959313247309954], [-43.215372920168946, -22.959295724545562], [-43.215316691679924, -22.95927043862027], [-43.215260883798884, -22.95924290161035], [-43.215207428512024, -22.959214213495635], [-43.21515530025934, -22.95918888246147], [-43.21510049644601, -22.959166503138842], [-43.215041982439, -22.959144622954394], [-43.21499029703642, -22.959115052554967], [-43.21493456407369, -22.959089321461263], [-43.21487366949888, -22.95906307891153], [-43.21481837709501, -22.959040784299578], [-43.2147590233558, -22.95902322916414], [-43.2147028618452, -22.959007788752494], [-43.21465033200327, -22.958982903656967], [-43.214593726074746, -22.958964475455694], [-43.21453575268859, -22.958953348284865], [-43.21447471789997, -22.95895257341105], [-43.21441563977492, -22.958951092695806], [-43.21435777878539, -22.958946557128023], [-43.2142998630407, -22.958938320256088], [-43.214242148743445, -22.95892231856702], [-43.21417454860373, -22.958901690308107], [-43.21412238881363, -22.958871212157305], [-43.21407072052212, -22.95884028890829], [-43.21406074570802, -22.958834937110304], [-43.214016781273465, -22.958811506462485], [-43.213967335002145, -22.95878232218329], [-43.213914824913694, -22.958756173721365], [-43.213857634771855, -22.958729973427914], [-43.213802430517866, -22.958708490400646], [-43.21374982295579, -22.958682343498026], [-43.213707415095996, -22.95865170325957], [-43.21366218546735, -22.95862816525287], [-43.2136031735032, -22.958592192398893], [-43.213554556028186, -22.958551819616535], [-43.21351042049379, -22.958519084674545], [-43.21346119788815, -22.958480241122466], [-43.213398747396056, -22.95844621705153], [-43.21337932646313, -22.958432541100574], [-43.21335690789046, -22.9584169367898], [-43.213305274360806, -22.95838339487776], [-43.213257232584155, -22.958351245275928], [-43.213204131645426, -22.958318137416207], [-43.21315378825957, -22.95828289331372], [-43.2131011819857, -22.95824925007412], [-43.2130821591978, -22.95823503765412], [-43.2130554100935, -22.958215050804935], [-43.213024756591885, -22.958165670191086], [-43.212994054259134, -22.95811258655071], [-43.212973987068196, -22.958066395574296], [-43.212943985069664, -22.958019460502225], [-43.21290563051506, -22.957977305007045], [-43.21285547971424, -22.95794233661103], [-43.21280780862618, -22.957918952373262], [-43.21274465493456, -22.957886453503235], [-43.21270213343103, -22.95786457033771], [-43.21260541292913, -22.957803971493867], [-43.2125545733815, -22.957777122620307], [-43.21250002163588, -22.957757901417597], [-43.212442264350514, -22.9577526448177], [-43.21238418603196, -22.95775704802576], [-43.21232653630131, -22.957765789740517], [-43.21226934874003, -22.957776611833875], [-43.212212167270884, -22.95778689576204], [-43.21214310382164, -22.957796049646532], [-43.21209649654479, -22.95780302029411], [-43.21203822126347, -22.957807420249708], [-43.211979864675826, -22.95781073561716], [-43.21192143691784, -22.95781197316517], [-43.21186305427691, -22.957809779643053], [-43.211805016607116, -22.957803525400568], [-43.21174750658072, -22.957794298857163], [-43.2116903173739, -22.957782997110236], [-43.21163342388034, -22.957771158659515], [-43.211577558562844, -22.957755808117973], [-43.21152250400115, -22.95773775848091], [-43.21146845888644, -22.95771710229452], [-43.21141681989018, -22.957691595904432], [-43.211365876905845, -22.957664923395676], [-43.21131652482688, -22.957635920909844], [-43.211268466190226, -22.957605036613597], [-43.21122238803723, -22.957572007346055], [-43.21118095837204, -22.957533793769443], [-43.211140615521686, -22.957494506084995], [-43.211104410239564, -22.957452105327622], [-43.211073814517334, -22.957405886576453], [-43.21104498475686, -22.957358781992937], [-43.21101703840833, -22.957311239463056], [-43.210990270418236, -22.95726307628834], [-43.21096909179674, -22.957212629165774], [-43.21095475062831, -22.957168577761237], [-43.21093244600418, -22.95709987649992], [-43.21091632348841, -22.957057883795617], [-43.21089523314313, -22.95700806888681], [-43.210860354283696, -22.956968482474803], [-43.21080433342983, -22.956964689755132], [-43.210755860670716, -22.956995027735985], [-43.21073636441503, -22.957009347616026], [-43.21070935484166, -22.957031436464057], [-43.210662510274716, -22.95706386887714], [-43.210614995828706, -22.957095480979053], [-43.21056394297285, -22.957121726096954], [-43.2105109817068, -22.957144787211405], [-43.21045613241003, -22.957163041786046], [-43.21040024105484, -22.957179118185323], [-43.21034361150149, -22.95719193438244], [-43.21028542329167, -22.957197146520443], [-43.21022697325023, -22.957200098982433], [-43.2101684544301, -22.95720079394724], [-43.21010995917755, -22.957199772475796], [-43.21005156759502, -22.95719820942545], [-43.210030524434295, -22.957196618233187], [-43.209993327521424, -22.957192766794535], [-43.20993695246198, -22.957178764502252], [-43.20988129513298, -22.957162242681783], [-43.20982583918884, -22.957145090987396], [-43.2097716885697, -22.95712515548766], [-43.20971984564021, -22.95710036870093], [-43.209669899435674, -22.95707217085491], [-43.20962203897888, -22.95704101831513], [-43.209577053186216, -22.957006464858516], [-43.20949281649768, -22.956931283794304], [-43.209409862080996, -22.95685485381476], [-43.20932285581951, -22.956782439917987], [-43.2092791555073, -22.956746547242293], [-43.20923218800885, -22.956714320126185], [-43.20918014222188, -22.9566900736114], [-43.20912355204551, -22.9566776940876], [-43.20906506655475, -22.95667595082307], [-43.209006701378435, -22.95667980684407], [-43.208948344084206, -22.956683212315216], [-43.2088899763376, -22.956679933340993], [-43.20883420186067, -22.956664854710343], [-43.208782951641126, -22.956639442200174], [-43.208735884642515, -22.956607304124628], [-43.20869178979496, -22.956571768056637], [-43.20865065508809, -22.956533375687254], [-43.208611793171414, -22.956492931990365], [-43.20856947620744, -22.956455608991828], [-43.20852200744471, -22.95642436845661], [-43.20846844448952, -22.956404348869388], [-43.20841041713122, -22.956397374717458], [-43.20836262204166, -22.9563984583911], [-43.208304183073395, -22.95640059664513], [-43.20826767333153, -22.95640352538092], [-43.208245904796044, -22.95640526701201], [-43.20817140331474, -22.95642013720176], [-43.20810532255349, -22.95641758443136], [-43.208052996544254, -22.956414555840354], [-43.20799420169832, -22.95640684772277], [-43.20793584277928, -22.956388037115865], [-43.20788521733667, -22.95635956014944], [-43.20783334322478, -22.956329716301834], [-43.207794483036515, -22.95628909092755], [-43.20776098105901, -22.95624130268519], [-43.20771816584716, -22.95619756316129], [-43.207676348615514, -22.956159343451382], [-43.20763980438258, -22.956150170014926], [-43.207601683876206, -22.956194080220044], [-43.20760194984666, -22.95624781320813], [-43.207604224980216, -22.956304550743774], [-43.207607567857785, -22.95636166066081], [-43.20759832882529, -22.95639677389139], [-43.20759360464969, -22.956414872501945], [-43.20758483980024, -22.956451074738936], [-43.20758071609898, -22.95646800528098], [-43.207555567465704, -22.956548633406367], [-43.2075486616997, -22.95656201154717], [-43.20753242277876, -22.956588195856387], [-43.20749523682796, -22.95662037616621], [-43.20744508286606, -22.95663750881209], [-43.20737585708209, -22.956651536116116], [-43.20731075927563, -22.956670576775487], [-43.207251639662786, -22.956702146943623], [-43.20718495575732, -22.956715750475215], [-43.207116699166654, -22.956715431189103], [-43.207052247032664, -22.956715153083085], [-43.206984222232244, -22.956719441863715], [-43.20691602225004, -22.956722373171324], [-43.206847898540424, -22.956726841382526], [-43.20678038029293, -22.956729690036372], [-43.20671150376439, -22.9567321620849], [-43.20664445382607, -22.95674386576556], [-43.206601622062, -22.956782663592588], [-43.206599428950625, -22.95680115110297], [-43.206598639366405, -22.956816584151603], [-43.20660658055901, -22.956842861210074], [-43.206608699346226, -22.956896707239956], [-43.20660052668319, -22.9569248799526], [-43.20651060721883, -22.95697750262908], [-43.206488282775275, -22.957006599825515], [-43.20646236185701, -22.95702003285225], [-43.206451678570595, -22.95701675138037], [-43.206426174507854, -22.957005897350633], [-43.206393104774136, -22.95699197771208], [-43.20634592935466, -22.957004989702686], [-43.2062963554377, -22.957044885126667], [-43.20620898100116, -22.957118939348472], [-43.20619518909245, -22.957129619806484], [-43.20615585897376, -22.957124568487405], [-43.20613114384701, -22.95712058643532], [-43.20609484908803, -22.957114668205694], [-43.206028542467166, -22.957099650053888], [-43.20601492369187, -22.957097057774465], [-43.20596172096786, -22.95708670304057], [-43.205941446956736, -22.957078706624223], [-43.205899925965525, -22.957062253965322], [-43.20587196059238, -22.957045863460575], [-43.20583655226043, -22.957017107402947], [-43.20581290168851, -22.956998959629125], [-43.20578393791828, -22.95697686866546], [-43.20573863171406, -22.956929578592664], [-43.20570900093242, -22.956898991499322], [-43.205693032393505, -22.956882556103416], [-43.2056573352178, -22.956853525829242], [-43.20563692663471, -22.95683333953173], [-43.20563479013284, -22.956773622649305], [-43.20563289410546, -22.956710387537225], [-43.20564267441652, -22.95669334136207], [-43.205685836780624, -22.95664443350661], [-43.20564111155182, -22.956612320143826], [-43.205628853416506, -22.956587979981684], [-43.20563025238825, -22.956577881770958], [-43.205639591182994, -22.956513149217407], [-43.20560834885569, -22.956456898459304], [-43.20557121351945, -22.956403920451283], [-43.205535257936766, -22.956350143953507], [-43.20550617356809, -22.95629301365554], [-43.20547679454695, -22.95623597122569], [-43.205439966961634, -22.956174237192403], [-43.20543000695607, -22.956153173966165], [-43.20541587516868, -22.95612303313518], [-43.2053834537242, -22.956067400220455], [-43.20535122946936, -22.956011679227814], [-43.20531556993622, -22.955957724527238], [-43.205258493609044, -22.955923126095794], [-43.20522191074151, -22.95590212186097], [-43.205199263274324, -22.95588904238059], [-43.205173373865655, -22.955870688576567], [-43.20515244282963, -22.95588264270457], [-43.205123263391684, -22.955899379882442], [-43.205078029152205, -22.955920269019938], [-43.20475356617668, -22.95559086904091], [-43.204730744762074, -22.9554286063622], [-43.20457197668975, -22.955149124371513], [-43.20474673696442, -22.95516266175635], [-43.204835720776295, -22.955047899449067], [-43.204688517074565, -22.954837989488677], [-43.204305684074804, -22.95449799721405], [-43.204166379612694, -22.95463530720141], [-43.20421349208749, -22.95485573070951], [-43.204186755053236, -22.954982757348652], [-43.20420936709627, -22.95516813550422], [-43.20429468428441, -22.955331107717207], [-43.20432998497093, -22.955493511740066], [-43.20431567160613, -22.955632238870738], [-43.204182360353876, -22.95581774773126], [-43.20414553522082, -22.955859413221788], [-43.204077652666406, -22.95597856802705], [-43.204353410023046, -22.956186229097792], [-43.20437108919049, -22.95630210857713], [-43.20447642649307, -22.956329941870223], [-43.20457318691366, -22.95626881714088], [-43.20483206577755, -22.956307327722307], [-43.20501319687569, -22.956407179057933], [-43.20515542064656, -22.956551108760532], [-43.20522048298695, -22.95671195220431], [-43.20518078060345, -22.95680930108179], [-43.204977038661376, -22.956967104640686], [-43.20479428467452, -22.95698282566306], [-43.20463142107911, -22.95695434215503], [-43.2044769404223, -22.957014813336066], [-43.20478747511842, -22.957498655658384], [-43.20466952903635, -22.957701948942514], [-43.20454320297766, -22.957816110308087], [-43.20440781083408, -22.95788573397093], [-43.20424341909856, -22.957972822573012], [-43.20407963928934, -22.958006547434312], [-43.20395460208863, -22.958022920187446], [-43.20370572687278, -22.957957792307546], [-43.203428225706666, -22.957874638360636], [-43.203351981536926, -22.957829345912348], [-43.203285274976594, -22.95779301037238], [-43.203314506555955, -22.957757760969468], [-43.203238968755514, -22.95765901569747], [-43.203151879642405, -22.95771140023782], [-43.20312172637149, -22.957808946103356], [-43.203119259058866, -22.957995667379862], [-43.203204920715464, -22.958058857412823], [-43.2033202809805, -22.958051314789426], [-43.203417259711244, -22.95798125416519], [-43.20379976690667, -22.958110116547804], [-43.20380838116094, -22.958181373566628], [-43.204086705815584, -22.958202315949265], [-43.20431801949187, -22.958142625040725], [-43.20430907159762, -22.95808915502371], [-43.20469651040623, -22.95784457426082], [-43.20486160419973, -22.957704123508073], [-43.20472539195636, -22.957835960264422], [-43.204082007458716, -22.958558060864604], [-43.20388922731181, -22.95860924688455], [-43.203744179496525, -22.9586787632509], [-43.20358840348102, -22.95883710721929], [-43.20351922854189, -22.958987491225244], [-43.203497318690005, -22.959191873290106], [-43.203445491667466, -22.95947583345765], [-43.203559915084426, -22.959539440432778], [-43.203694723485896, -22.959514236880203], [-43.20398260499226, -22.959535286949098], [-43.20422239593112, -22.959564732838498], [-43.20419954654122, -22.959840173529425], [-43.20412651601813, -22.960275242156676], [-43.204103730205176, -22.960442771325507], [-43.20407337731086, -22.960666018935], [-43.20387915511321, -22.960641512924756], [-43.20345828450292, -22.960507791729995], [-43.20291243477911, -22.9603860170354], [-43.20262543385104, -22.960298238610054], [-43.20195452183623, -22.96001042007747], [-43.20114320002982, -22.959618780295074], [-43.20152036902361, -22.960512553565685], [-43.20125415360916, -22.960674066183053], [-43.200807371098925, -22.960317624214998], [-43.20038954378482, -22.959961600942382], [-43.20031335938192, -22.959911791622908], [-43.20029875327464, -22.959924990787687], [-43.200821987700785, -22.960664737004645], [-43.200724890576154, -22.960743645172887], [-43.20060091126323, -22.960680018932685], [-43.2001822212912, -22.960381689377737], [-43.20036215488489, -22.96057941991813], [-43.200692595661934, -22.961010126180415], [-43.20075765624345, -22.96117097390153], [-43.200546488644264, -22.961889020415512], [-43.200459630240175, -22.96192361514052], [-43.20037385054334, -22.961869272012446], [-43.200033992647, -22.961420668333567], [-43.19993169243675, -22.961170447530808], [-43.1998843322315, -22.961116541252835], [-43.199751523261256, -22.960990504560982], [-43.19973207981752, -22.961008073618796], [-43.19969060508496, -22.96123887042503], [-43.199640629376205, -22.96138956071404], [-43.19963921615165, -22.961496285421255], [-43.199827525065515, -22.961783059005295], [-43.1999227435415, -22.961846361146993], [-43.19991191423743, -22.961935186420835], [-43.19959646637247, -22.96219131977733], [-43.19901357398269, -22.962406938599774], [-43.19822679606817, -22.96253227799314], [-43.19729758092195, -22.96275045504864], [-43.19721150291585, -22.963924779114446], [-43.197087685244774, -22.96506941534984], [-43.19697531081492, -22.966637886475958], [-43.19735851004825, -22.96820124662237], [-43.19796554808961, -22.96909402661225], [-43.19733334118143, -22.97093697811722], [-43.19697073902544, -22.97242972689758], [-43.19648438277147, -22.973928652307936], [-43.195954355543805, -22.975425089789645], [-43.19525043168018, -22.9761424828265], [-43.19512576839823, -22.976342438656367], [-43.19502429337748, -22.97663955579836], [-43.195015538971724, -22.976667180119254], [-43.19551401861024, -22.976761625357806], [-43.19545738898363, -22.97692786113759], [-43.19544165946109, -22.977017894183696], [-43.19544076713942, -22.97712200561729], [-43.19541688260393, -22.977136092764056], [-43.195844409874624, -22.9773664474669], [-43.196313402881444, -22.97757388719838], [-43.19706946820895, -22.978226172202373], [-43.19713202661851, -22.978171619181015], [-43.19647683910546, -22.977597417516446], [-43.19645006262151, -22.977557379264006], [-43.19649311233878, -22.977547123124193], [-43.197281448566926, -22.97748746280114], [-43.19736730868405, -22.977484828308967], [-43.19740997352477, -22.977496149155023], [-43.19745654056831, -22.977514741362263], [-43.19749516280495, -22.977544075985772], [-43.197533594526575, -22.977587771195754], [-43.197552186224435, -22.977649386299973], [-43.19758604662554, -22.97774359762293], [-43.19763883492513, -22.977881368978146], [-43.19768420429899, -22.977990249139435], [-43.19777666662641, -22.978070677496394], [-43.19792749591645, -22.978162606002243], [-43.19803603866751, -22.978207186918738], [-43.19816061860192, -22.97822666425309], [-43.19833243025299, -22.978199719814917], [-43.198512142456195, -22.97817286590906], [-43.1986051845375, -22.978217270221556], [-43.19867443545385, -22.978283075059682], [-43.19876690131387, -22.978370727194523], [-43.198905886242436, -22.978473357499464], [-43.19922371912684, -22.97861423108763], [-43.199871286524896, -22.978881481581915], [-43.20077990578307, -22.97915892004308], [-43.202450274333984, -22.979625515536934], [-43.202838608449674, -22.979738191796354], [-43.20365049447522, -22.97996403563817], [-43.204031131808875, -22.98007662542228], [-43.2042330998726, -22.980129484564348], [-43.20457492367225, -22.98022718460841], [-43.20480819689378, -22.980280397761724], [-43.205211856367434, -22.980414917612137], [-43.20553046570818, -22.980497903210505], [-43.20587238383092, -22.98058846671742], [-43.20636956705789, -22.980731266972384], [-43.20676609800871, -22.980822356516185], [-43.20724882235931, -22.98087838916744], [-43.20755287988889, -22.980881829162627], [-43.20784923240403, -22.980877957123543], [-43.2083759111695, -22.980855015293205], [-43.20909362612307, -22.98082700768177], [-43.21072465651975, -22.980729936054466], [-43.21109131734498, -22.980719627558138], [-43.21141145225361, -22.98068720948816], [-43.21241790600596, -22.980640775571963], [-43.212901868773, -22.980602886231004], [-43.21412723475284, -22.98052287629507], [-43.2142075400655, -22.980527482957637], [-43.214554452232655, -22.980542861063157], [-43.21476978615746, -22.98052912295283], [-43.21496226655165, -22.98048821649122], [-43.21509667161145, -22.980435818203915], [-43.21535354541043, -22.98036339898813], [-43.215718547966425, -22.980249030767883], [-43.215864556062925, -22.980196762459194], [-43.21601379813722, -22.980128457202653], [-43.21618917552727, -22.980060446025906], [-43.21638221949137, -22.97997646818034], [-43.216519689140505, -22.979913358745048], [-43.21672468942524, -22.979802605321797], [-43.21689442725434, -22.979718364516707], [-43.21707043817679, -22.97960186523782], [-43.21726404718094, -22.97947481845465], [-43.21745166386246, -22.97935845019213], [-43.21759840194504, -22.979257787206674], [-43.21773929081882, -22.979157056476705], [-43.21783923119682, -22.979077447752232], [-43.21791551212284, -22.979024485309836], [-43.21799764516125, -22.978971496529937], [-43.218191013992815, -22.9788551920041], [-43.218266654179914, -22.97863534011421], [-43.2183625795395, -22.978415624136854], [-43.21863078032049, -22.977917811630373], [-43.218929265052836, -22.977334279938383], [-43.219011890245135, -22.977243639235265], [-43.219117159271015, -22.977196328961874], [-43.21919590960479, -22.976954928711223], [-43.219271304389835, -22.976530350163547], [-43.21938009574148, -22.97666079793293], [-43.21950084316624, -22.976764470220818], [-43.219601633818534, -22.97683558930367], [-43.21978892310833, -22.9769669187291], [-43.220267144655395, -22.977090768555147], [-43.22225675843852, -22.97748470438364], [-43.22360519230773, -22.977769023322526], [-43.2245677975332, -22.977979113061316], [-43.224643865416624, -22.977942217186996], [-43.22487097107381, -22.977034763260953], [-43.224999319301595, -22.976556954621937], [-43.22533205313614, -22.97691070196046], [-43.22542963817455, -22.977003272236594], [-43.22553282499283, -22.977122907107034], [-43.22565904842828, -22.977248219027274], [-43.22575666457203, -22.97734620954138], [-43.22587152408351, -22.977460556641386], [-43.22598600444755, -22.977596484887464], [-43.22612936265313, -22.977754223360932], [-43.22620571061354, -22.977695837388435], [-43.226368418196095, -22.977708496035056], [-43.226442940930475, -22.977790062288364], [-43.22675109039362, -22.97779351086204], [-43.2267327578321, -22.978757217097538], [-43.22672774177335, -22.979365631312003], [-43.2267583381041, -22.979689084756814], [-43.226863071390184, -22.97969025678541], [-43.227014153263006, -22.97969727532227], [-43.22715983260806, -22.979677412851856], [-43.22725511208303, -22.979506177067588], [-43.227346267156015, -22.979404341900054], [-43.22744550137811, -22.979355963367972], [-43.22753624558176, -22.979337923306108], [-43.22763508558645, -22.979319975550855], [-43.227696814700046, -22.979320665994873], [-43.227762390419585, -22.97933287081297], [-43.227864379290935, -22.97939487397135], [-43.22791717209678, -22.979444951236726], [-43.2279451951904, -22.979502337054658], [-43.22795639026936, -22.97958626479853], [-43.22797098492221, -22.97973100636862], [-43.22797773684191, -22.979841524238413], [-43.22800476517325, -22.97997502558781], [-43.228036337633014, -22.980074351455432], [-43.228080147399034, -22.980185194334098], [-43.228124551051515, -22.98025043828291], [-43.22826335127818, -22.980324325141524], [-43.2284149829165, -22.980364038747446], [-43.228599231040484, -22.980415585523296], [-43.22886578424978, -22.980468052112343], [-43.22921474387826, -22.98050626808027], [-43.22959267058719, -22.980529455183525], [-43.22983924345304, -22.980536092228068], [-43.23025474718979, -22.980519782953927], [-43.23042320854967, -22.980525458130973], [-43.230670129665434, -22.980505367625113], [-43.23074015116224, -22.980490888940974], [-43.23083119217008, -22.98045009447757], [-43.2309017582938, -22.98039371958225], [-43.23101133195197, -22.980345455134287], [-43.23110192715248, -22.980338881861858], [-43.23116350897051, -22.980343362125627], [-43.231216798393824, -22.980355425686092], [-43.231298611600074, -22.980386771589068], [-43.23138441794201, -22.980425747607292], [-43.231445651848006, -22.980456954035063], [-43.231514780798555, -22.980518590897248], [-43.2325257946346, -22.981366003080062], [-43.2330213130177, -22.981961851170105], [-43.233841511520154, -22.982963537977735], [-43.23448143288673, -22.983736543000195], [-43.234920467043544, -22.984019301382773], [-43.23513726459838, -22.984148594633037], [-43.2356069535287, -22.984271764941504], [-43.2360260435987, -22.984370800101534], [-43.236304688742386, -22.98449184027615], [-43.23644608124879, -22.984637269651873], [-43.236713976647216, -22.984850210889867], [-43.23702005490674, -22.98530757725854], [-43.23718601721839, -22.985769348684762], [-43.23733947698636, -22.98645800782044], [-43.23736624038124, -22.986853386923197], [-43.23731486173438, -22.987377575899895], [-43.23739111220896, -22.987777571129925], [-43.237455189211715, -22.988123700484973], [-43.23754139145836, -22.988463483743654], [-43.23773004449539, -22.988853080100863], [-43.23799718377096, -22.989335663749667], [-43.23799576801652, -22.989429652492632], [-43.23899812163519, -22.990042860802692], [-43.23982156172189, -22.990734086014093], [-43.24052409889396, -22.986273513216528], [-43.24065209786321, -22.986301304693907], [-43.24060577719078, -22.986571614439033], [-43.24087627930173, -22.986614262242487], [-43.24087713548612, -22.98654816861146], [-43.241560218234454, -22.986681276070016], [-43.2416870111857, -22.986259965465887], [-43.24169343693586, -22.986215517390463], [-43.24203581929774, -22.986266003859583], [-43.24212733768472, -22.98624868661104], [-43.24219833579962, -22.986189061350217], [-43.242250426105436, -22.986045514537597], [-43.242287395311784, -22.98590188662186], [-43.2423184338765, -22.985832513816284], [-43.24241148383697, -22.985629006491788], [-43.24251771128874, -22.985665944812517], [-43.24269261362068, -22.985709697997112], [-43.24277934660411, -22.98568528257875], [-43.24281457315861, -22.98558597668794], [-43.24287780272909, -22.985523646978628], [-43.2429858736286, -22.985493418576407], [-43.24314154351567, -22.985508239189535], [-43.24318771308624, -22.985535841760836], [-43.24313034000777, -22.985695858875438], [-43.24315772262776, -22.985758110812466], [-43.24336898716796, -22.9857279437448], [-43.24352966585329, -22.985725119763693], [-43.243670256117284, -22.985721983510473], [-43.24408156052862, -22.98574514477262], [-43.24422679959659, -22.9857746596406], [-43.24433647560376, -22.985831593289397], [-43.24445667525951, -22.98585152904797], [-43.2447130321566, -22.98582646451172], [-43.24486879788935, -22.98581897828353], [-43.24523274774713, -22.98542322981618], [-43.24618153389001, -22.98503404606435], [-43.246618830824936, -22.985378161595175], [-43.246861368619754, -22.98526001847609], [-43.24717993476727, -22.98507760440236], [-43.247421990549945, -22.984996659821352], [-43.24773165098518, -22.984725826767907], [-43.24795493499162, -22.984542447427607], [-43.2482097433459, -22.98444069271199], [-43.248490560620624, -22.984462401282343], [-43.248821182526484, -22.984517169721222], [-43.249058586587836, -22.984403570057825], [-43.24931757552414, -22.98417407521757], [-43.25032892890148, -22.983893292746956], [-43.25119803905909, -22.98374394862934], [-43.25148336415688, -22.98361236333217], [-43.253179129173304, -22.98368678750488], [-43.25390935800615, -22.983543935944656], [-43.25431191755978, -22.98338979586313], [-43.25480115535594, -22.983791897013287]]]], &quot;type&quot;: &quot;MultiPolygon&quot;}, &quot;id&quot;: &quot;0&quot;, &quot;type&quot;: &quot;Feature&quot;}], &quot;type&quot;: &quot;FeatureCollection&quot;});\n",
       "\n",
       "        \n",
       "    \n",
       "            geo_json_895b56a0cff1c31ab580d91ea931f821.addTo(map_1035e241e0d6ead3de7800ecedb7bbbe);\n",
       "        \n",
       "    \n",
       "        function geo_json_da38862ae141090b99d90e884fb9eec0_styler(feature) {\n",
       "            switch(feature.id) {\n",
       "                default:\n",
       "                    return {&quot;color&quot;: &quot;black&quot;, &quot;fillColor&quot;: &quot;#FD7463&quot;, &quot;fillOpacity&quot;: 0.7, &quot;weight&quot;: 1};\n",
       "            }\n",
       "        }\n",
       "\n",
       "        function geo_json_da38862ae141090b99d90e884fb9eec0_onEachFeature(feature, layer) {\n",
       "            layer.on({\n",
       "            });\n",
       "        };\n",
       "        var geo_json_da38862ae141090b99d90e884fb9eec0 = L.geoJson(null, {\n",
       "                onEachFeature: geo_json_da38862ae141090b99d90e884fb9eec0_onEachFeature,\n",
       "            \n",
       "                style: geo_json_da38862ae141090b99d90e884fb9eec0_styler,\n",
       "        });\n",
       "\n",
       "        function geo_json_da38862ae141090b99d90e884fb9eec0_add (data) {\n",
       "            geo_json_da38862ae141090b99d90e884fb9eec0\n",
       "                .addData(data);\n",
       "        }\n",
       "            geo_json_da38862ae141090b99d90e884fb9eec0_add({&quot;features&quot;: [{&quot;geometry&quot;: {&quot;coordinates&quot;: [[[[-43.20847617797942, -23.082102137564807], [-43.20868449354971, -23.081864295511473], [-43.208770302938355, -23.081649624110963], [-43.20864794805556, -23.081469797012428], [-43.20831752510011, -23.081324905165562], [-43.208035907526394, -23.08137137618182], [-43.20782768298862, -23.08163170468711], [-43.20763165316212, -23.081914565456582], [-43.207631498055775, -23.08211756419988], [-43.20793747739418, -23.082228857521642], [-43.20824348828781, -23.082227365227176], [-43.20847617797942, -23.082102137564807]]], [[[-43.19932476441807, -23.07361092294875], [-43.19976563536133, -23.07333817679696], [-43.19999853226992, -23.072852113620808], [-43.1999375278763, -23.07255928879401], [-43.199741773042305, -23.072447430609085], [-43.199546037537466, -23.072268025216466], [-43.19928898867877, -23.07215646208786], [-43.1990075006508, -23.07215785747443], [-43.19871357794365, -23.072272080806016], [-43.1983829032231, -23.072544274965534], [-43.19791751224137, -23.072884825593768], [-43.197611310377454, -23.07322457159039], [-43.19753761428557, -23.073518117554393], [-43.19750061560075, -23.07395810039938], [-43.19797788604768, -23.074147493191823], [-43.1985042907229, -23.07407728085828], [-43.199018645977546, -23.073849263891468], [-43.19932476441807, -23.07361092294875]]], [[[-43.19161376514364, -23.0723177452774], [-43.191613553766814, -23.07261095519958], [-43.19163793822241, -23.072779918983166], [-43.19163792914033, -23.072802492637592], [-43.191503103650156, -23.073017407147155], [-43.191576350218845, -23.073276418090618], [-43.19199244654775, -23.07349989442398], [-43.19224951734835, -23.073419758677577], [-43.19368188819581, -23.073198559080424], [-43.19418401750718, -23.072914249331422], [-43.19450241854049, -23.07259695270193], [-43.19477194056726, -23.07235883644265], [-43.19500460330252, -23.07215479128607], [-43.19549441621414, -23.072039653249597], [-43.195922773545554, -23.07210522932746], [-43.19636336709433, -23.072204537386217], [-43.19848194392502, -23.0708974723204], [-43.19860461506975, -23.070502261685835], [-43.198531628476786, -23.069724554950206], [-43.19817727267918, -23.06890309520852], [-43.19782265696899, -23.068284631012663], [-43.19667265254556, -23.06738816830744], [-43.19586496084301, -23.06713269204623], [-43.19515522399594, -23.066843021700624], [-43.19460449135577, -23.066653957129034], [-43.194127229354244, -23.06653219489499], [-43.19317243343997, -23.066491749548362], [-43.19221741481361, -23.066913553586712], [-43.191666133809754, -23.067525184231453], [-43.19126168411908, -23.06827132846601], [-43.1906490363468, -23.069165079014645], [-43.190575278125216, -23.069593893257778], [-43.190452160153434, -23.070553027997793], [-43.19030480549066, -23.071106248083403], [-43.19035357994052, -23.071421691622948], [-43.190475832255416, -23.0716579682059], [-43.19083052607178, -23.072005811583306], [-43.19108752461684, -23.072106011267124], [-43.1913935827284, -23.072172185612327], [-43.19161376514364, -23.0723177452774]]], [[[-43.19737661633564, -23.035531596219993], [-43.197475629102826, -23.03563585056851], [-43.19761864945134, -23.03571053645113], [-43.197753827766945, -23.03577330136816], [-43.19790020100424, -23.035808742573362], [-43.19805063890742, -23.035831949672485], [-43.198077392493154, -23.035874516231544], [-43.1981470879738, -23.035997038553692], [-43.19824758423833, -23.036099864517166], [-43.19825846151348, -23.036257657236845], [-43.19833691764618, -23.036374501717727], [-43.19846063689341, -23.03645519520376], [-43.19859142410969, -23.036518003351684], [-43.19868018178126, -23.03663062687156], [-43.198761944199745, -23.036755543072044], [-43.198868615688895, -23.036863587185188], [-43.199012351305, -23.036913986767317], [-43.19917213246091, -23.03694641986161], [-43.19932332317931, -23.03699392496973], [-43.19949501246565, -23.037026040915144], [-43.199643256526834, -23.037074957025638], [-43.19977837565267, -23.03713501146149], [-43.199904700754885, -23.037203363860538], [-43.20004099586273, -23.037299913846386], [-43.20015937388832, -23.037400955562767], [-43.200251299270064, -23.037517500072312], [-43.20038087115521, -23.03759121694063], [-43.20051015799273, -23.037656802299434], [-43.20054512004965, -23.037720773384006], [-43.20060257200129, -23.037788161866057], [-43.200751286333066, -23.03785333687506], [-43.2008193653679, -23.03782593690623], [-43.20084744189268, -23.03781307119714], [-43.200994408753, -23.037870099742264], [-43.2011544382486, -23.03791327707721], [-43.20130299216271, -23.037924360100448], [-43.20146495347756, -23.03793243305731], [-43.20161333850305, -23.037934120556173], [-43.201763011191886, -23.037934287407435], [-43.20191117548285, -23.037930553938462], [-43.2020847179383, -23.037926114620134], [-43.202238979970964, -23.037926243796008], [-43.20238267451706, -23.03797257722984], [-43.20253372455684, -23.038016014143], [-43.2026820335763, -23.0380676373369], [-43.202829951880275, -23.03810444626453], [-43.20297328581219, -23.038141293266477], [-43.203122121709384, -23.038160505074277], [-43.203277053548575, -23.03818357511788], [-43.20342475330958, -23.038214962838587], [-43.20354556868446, -23.038294266839433], [-43.203617975687905, -23.03836001723372], [-43.20359802463795, -23.038392931810094], [-43.203566939717184, -23.038404498694575], [-43.203537381746386, -23.038418792009477], [-43.20353197331787, -23.038436520265286], [-43.20354570898195, -23.03844561630134], [-43.203588210462456, -23.03846343729028], [-43.20360062459517, -23.038527963463707], [-43.203601923772574, -23.03856978942503], [-43.203610778791955, -23.03871139394913], [-43.20372903753704, -23.038807015445002], [-43.20386824451526, -23.038853476326263], [-43.20399789745073, -23.038928546753098], [-43.20412075402483, -23.039030813220766], [-43.20423760882258, -23.039129122997416], [-43.2043526596796, -23.03921675916135], [-43.20448264261858, -23.039303932671462], [-43.20461366413051, -23.0393790172651], [-43.204776865510844, -23.03942620222662], [-43.20492596704895, -23.039454805145816], [-43.20506826354645, -23.039503828578333], [-43.20519676568821, -23.03959243047986], [-43.205304501027534, -23.039687024800692], [-43.20543133692882, -23.039768926091302], [-43.20557223157574, -23.03987202653575], [-43.2056860842552, -23.039969129122078], [-43.205811560759436, -23.04005778563048], [-43.205944084241956, -23.040130087738664], [-43.20608865960001, -23.04020604648001], [-43.20622528426759, -23.04026340457806], [-43.206379346881484, -23.04030813731771], [-43.2065211570375, -23.04034234609006], [-43.20667603047612, -23.040362703196653], [-43.20684065869533, -23.04036122801708], [-43.20698856111265, -23.040348006021233], [-43.20714526561764, -23.04033316702008], [-43.207293151056625, -23.040321298187262], [-43.207439898585655, -23.040321607238898], [-43.20758599401671, -23.040348998802525], [-43.20773974966867, -23.040380181291162], [-43.207892673769855, -23.040385797514222], [-43.20804053938255, -23.040375282303835], [-43.20819539201074, -23.040345610648576], [-43.20835008311186, -23.040313319118823], [-43.20846239537397, -23.04021724478244], [-43.20857500522249, -23.040127946466647], [-43.208612103713165, -23.04011888490776], [-43.20868847557112, -23.04006963089875], [-43.20871805565992, -23.04000946374849], [-43.20872752187849, -23.039928117505756], [-43.20870631223621, -23.03977598638488], [-43.20863375662256, -23.039654970934144], [-43.208534732036924, -23.039550722897996], [-43.20848012280419, -23.039481834123634], [-43.20850269195316, -23.03943540487035], [-43.20851345796995, -23.039395882836555], [-43.208483045219154, -23.039334582739716], [-43.20838682636256, -23.03932076079886], [-43.20829916025752, -23.039294663266386], [-43.208167162506115, -23.039189951125287], [-43.20808400504384, -23.039066377140173], [-43.20801436158293, -23.03894656748037], [-43.20793147115463, -23.038832478285315], [-43.20792772945971, -23.038805615841543], [-43.20796064412623, -23.038758760279414], [-43.20803378334593, -23.038798780662244], [-43.20813404610985, -23.03884624230476], [-43.20826443306733, -23.038895669758546], [-43.208257890699805, -23.038829584909273], [-43.208215939279214, -23.03873338821162], [-43.208183228587515, -23.0385950361259], [-43.20812953121017, -23.038457258062977], [-43.208057040682, -23.038338859212775], [-43.20793034665108, -23.038261025255395], [-43.2078690733602, -23.038120722179094], [-43.207798961002176, -23.038080646641262], [-43.20774335237876, -23.038072611565553], [-43.20759633933671, -23.03806290838293], [-43.2074506556147, -23.038048975883875], [-43.2073096368626, -23.037991840921546], [-43.20715960260098, -23.037982103090034], [-43.20700885855178, -23.03795212916458], [-43.20686666136992, -23.037903106839966], [-43.206699644753236, -23.037878999329656], [-43.206550031750574, -23.037881455724506], [-43.20639953144717, -23.037906931017382], [-43.20626038457781, -23.03795908315607], [-43.2061014716705, -23.038000897903675], [-43.20595381066935, -23.03801818557901], [-43.20580507327803, -23.038050363623583], [-43.20564357983973, -23.038058554060743], [-43.20548196303582, -23.038061325649263], [-43.20533379747779, -23.03806506245151], [-43.205185244728284, -23.0380539850142], [-43.20502730214057, -23.03802961570774], [-43.20488005458755, -23.038015844611937], [-43.20473249683255, -23.037988524398564], [-43.20472229800466, -23.037948222850016], [-43.204754075113534, -23.03786225385468], [-43.20472750076478, -23.037776525474147], [-43.20465289980146, -23.037736487039826], [-43.20451938127292, -23.03768051844572], [-43.204368454346394, -23.037642412694872], [-43.20422136556595, -23.037631351000954], [-43.20404902343361, -23.037626232392647], [-43.20389429395739, -23.037609937254665], [-43.20372448983644, -23.037589948021207], [-43.20355432565951, -23.03756047360227], [-43.20340534615896, -23.037537197866815], [-43.203267360248994, -23.037480003558958], [-43.20312661293007, -23.037432169274542], [-43.20297858585306, -23.037388676093695], [-43.202840766438904, -23.037340874834282], [-43.20273428782944, -23.03728412842933], [-43.20260861555991, -23.037239986840902], [-43.202514673876856, -23.037253187904998], [-43.20243164168491, -23.037231022031822], [-43.20231051694907, -23.037138168286454], [-43.2022954060408, -23.037085891688882], [-43.20223001245653, -23.037006494419053], [-43.20205356889119, -23.036965026156377], [-43.20190529727537, -23.036962076173374], [-43.20175532652754, -23.036955042194226], [-43.20158887729004, -23.036947100067476], [-43.20141584412142, -23.036920479574594], [-43.20126030592956, -23.036877080924423], [-43.20111354167064, -23.03687811977532], [-43.200974075202936, -23.03682226215084], [-43.20083600891084, -23.03676362004344], [-43.20068563282856, -23.036743126216066], [-43.20065071032239, -23.036727828900364], [-43.2006523761341, -23.036683146994392], [-43.20067177978606, -23.036632708711984], [-43.200633160914826, -23.03659452269441], [-43.200502391709584, -23.036530274251877], [-43.200419846534516, -23.036522923485098], [-43.20032391936294, -23.036472616804947], [-43.20018953147264, -23.036386927852234], [-43.20018799335279, -23.036289651384394], [-43.20017927731565, -23.036248012845082], [-43.200064842774495, -23.03618069905459], [-43.200042455336856, -23.036132583708856], [-43.200058321499135, -23.03611325885216], [-43.200113179239196, -23.0360969956339], [-43.20017668401569, -23.03606837080393], [-43.20021090082682, -23.03601213935746], [-43.20019834867132, -23.035994929257832], [-43.20012525099255, -23.036003488881075], [-43.20006289880806, -23.036018582273183], [-43.20002602708811, -23.035988452064295], [-43.19998977047988, -23.035882656802297], [-43.19990668417093, -23.03576178885376], [-43.1997857053963, -23.0356730889101], [-43.19964055097078, -23.035626735752203], [-43.199513784142965, -23.03554754183444], [-43.1994059764659, -23.035451677028487], [-43.199286541634024, -23.03536416914926], [-43.199147710366034, -23.035282578217917], [-43.199012751449914, -23.035225236057663], [-43.19886170473034, -23.03523317746498], [-43.19877280095926, -23.03521238954305], [-43.19873712695225, -23.035172791796935], [-43.19869162272422, -23.035153671142588], [-43.19866917516737, -23.03515422729998], [-43.198596466114495, -23.035177690637454], [-43.198535637096064, -23.035195510777303], [-43.19852084499675, -23.035199947735812], [-43.198593404924296, -23.035077781681448], [-43.19857114491612, -23.034939273516425], [-43.19845303434403, -23.03484771470078], [-43.19831598778139, -23.034771473995235], [-43.19817028643657, -23.034707595472483], [-43.19803515244254, -23.03464889508369], [-43.197881158072846, -23.03460686541836], [-43.19772871320693, -23.034617497123946], [-43.19757514371731, -23.03463895491642], [-43.19741219210089, -23.034647123216352], [-43.19727361192941, -23.03471552842191], [-43.19724045449006, -23.034758224939736], [-43.19719177229386, -23.034831086241834], [-43.1970978431675, -23.034938831360098], [-43.19703268495626, -23.035062074372913], [-43.19708933162977, -23.035197089840384], [-43.197195904972624, -23.035305132947542], [-43.197289043672754, -23.035410856492856], [-43.19737661633564, -23.035531596219993]]], [[[-43.19629596179374, -23.03412183850172], [-43.19638311705791, -23.034134481473423], [-43.19646996681045, -23.034133575490678], [-43.19649265274935, -23.034188466483155], [-43.19654847763243, -23.034253218949242], [-43.19661287788336, -23.03425295993571], [-43.196626108812616, -23.03419721334675], [-43.19655575612743, -23.034146292192155], [-43.19653538414553, -23.034071198856758], [-43.19655235070003, -23.034035632399732], [-43.196506015933224, -23.03399085567649], [-43.196472274987784, -23.03391606140496], [-43.196455297088605, -23.033850307954914], [-43.19634312533331, -23.033759899930953], [-43.19618795230356, -23.03372598159979], [-43.19603778210133, -23.033712259513685], [-43.19588726748117, -23.03368769611787], [-43.19574538708011, -23.03365212202539], [-43.195672828533866, -23.033532367317797], [-43.195698620577964, -23.033398021874884], [-43.195710819235956, -23.033258551993367], [-43.195703306253286, -23.03320735399774], [-43.19560714367764, -23.033101775742846], [-43.195496631528705, -23.033011386104608], [-43.19546908608581, -23.032991746140006], [-43.195417934365906, -23.03298628709616], [-43.19533764153804, -23.033051833850053], [-43.195244106356554, -23.033078579863783], [-43.19518671356883, -23.03310971246296], [-43.19516685622271, -23.03324530126613], [-43.195171971511606, -23.033264142616062], [-43.195243047122574, -23.033385236953677], [-43.19536720490987, -23.033476685494808], [-43.19544294422, -23.033518547114035], [-43.19549477230258, -23.03356121953117], [-43.195507574568154, -23.033610941826286], [-43.19551344074117, -23.033653991980298], [-43.19558760272294, -23.033777741080403], [-43.195682408082696, -23.033890166892853], [-43.19578562525249, -23.033986165005274], [-43.19592081997416, -23.034047575208863], [-43.19606457036758, -23.03409662471004], [-43.19621411327124, -23.03409146635004], [-43.19622918928712, -23.034095160095934], [-43.19629596179374, -23.03412183850172]]], [[[-43.20102444857207, -23.026326180726095], [-43.20105251895724, -23.026460599061814], [-43.201056012483924, -23.026476714537946], [-43.2010019921513, -23.0265699242312], [-43.200987505362036, -23.026683813157238], [-43.20097484414614, -23.02680702315074], [-43.20093999895515, -23.026888983279616], [-43.20092977895661, -23.026946027985815], [-43.200949767644545, -23.027013080458932], [-43.2010175331429, -23.02707480563424], [-43.201138260645436, -23.02715284574696], [-43.201270893632945, -23.027230479321986], [-43.20142849271597, -23.027242746308193], [-43.2015801846729, -23.027259102636283], [-43.20170525733887, -23.02733294387916], [-43.20171896726831, -23.027388005799082], [-43.20174366688005, -23.02746034841768], [-43.201849262609436, -23.027487375384567], [-43.20195112020756, -23.027487449477917], [-43.2020295772007, -23.027508386666813], [-43.202184269503014, -23.02757064959934], [-43.20232480165781, -23.027611709052053], [-43.202474403107196, -23.0276092541359], [-43.20262810533362, -23.027591856257192], [-43.20277709311823, -23.027569167087517], [-43.20293266566656, -23.027565155016973], [-43.203077264167135, -23.02754259630541], [-43.203239274236346, -23.02755328615907], [-43.20338728694768, -23.02754548534817], [-43.20352642180317, -23.027493334142793], [-43.20364179411192, -23.02740118140846], [-43.20370846444427, -23.027376563260724], [-43.20375872315116, -23.027405037596107], [-43.203861373667586, -23.02738209215512], [-43.20390355023882, -23.027343198837286], [-43.20396605822076, -23.02733081454842], [-43.20401848890077, -23.027379451064952], [-43.20404635912939, -23.02741119206014], [-43.204131621079384, -23.027456319125296], [-43.20418543244667, -23.02745223422064], [-43.204278660626166, -23.0274187957804], [-43.20442297628494, -23.02738810622448], [-43.20457023558965, -23.027356004187585], [-43.2047328969082, -23.027339699245214], [-43.204881825460426, -23.02731429828969], [-43.20502782335428, -23.02728895333886], [-43.20517392953741, -23.027270383121376], [-43.20531978994226, -23.0272409735945], [-43.20547602831894, -23.02720861134286], [-43.205635071928846, -23.027170772255015], [-43.205708429544075, -23.0271716042909], [-43.20580264562445, -23.027166532238788], [-43.205942556823125, -23.027092715769395], [-43.206064179793366, -23.02700722327667], [-43.20620028802219, -23.026903743977016], [-43.206315815228365, -23.026814388514257], [-43.20642517034235, -23.026719726298726], [-43.20651154850552, -23.026658124513247], [-43.20650522908642, -23.026597460296284], [-43.20648950731819, -23.02652485885848], [-43.20652056612994, -23.02646335323664], [-43.2065841714471, -23.026390115925636], [-43.20666128520269, -23.02626926219251], [-43.20672917600791, -23.026189118234182], [-43.20676639177104, -23.02613418417641], [-43.2067483504019, -23.026081965000714], [-43.206674734423416, -23.026027038897226], [-43.206536879973186, -23.025975177287897], [-43.206391589416874, -23.02592485671782], [-43.206240567041384, -23.025880069832805], [-43.20609200952143, -23.025870348414777], [-43.20591659398327, -23.02586267017084], [-43.20574607435031, -23.02586832183335], [-43.20558894382399, -23.025872319109375], [-43.20543394048597, -23.025892504633703], [-43.20528562468783, -23.025938141070718], [-43.20514170086559, -23.025983649293185], [-43.204982879496406, -23.02602690686203], [-43.204839602404, -23.025994035350745], [-43.20474294402437, -23.02591816749444], [-43.204707254056565, -23.025828542038134], [-43.20469169589909, -23.025714131044538], [-43.20465175575372, -23.025679996520676], [-43.204564321004455, -23.025659319088334], [-43.204404835009505, -23.025634932363264], [-43.20425117741169, -23.02560510494801], [-43.204076818902124, -23.025583890303142], [-43.20393102165354, -23.025564627881554], [-43.20377813341642, -23.02555774304428], [-43.203619318284495, -23.02555630106146], [-43.20347126481266, -23.025560128403196], [-43.20332183473642, -23.02557197695261], [-43.20310530127628, -23.025589655354867], [-43.20295288164453, -23.025598941109283], [-43.20280267620537, -23.0256325443131], [-43.20265738737626, -23.02567803203242], [-43.20248964710958, -23.025724257860812], [-43.20234230869576, -23.02575500258516], [-43.202195860914614, -23.02576272999713], [-43.202045372780965, -23.025788200163536], [-43.20189875815721, -23.025837917243983], [-43.20175672154884, -23.02589554349032], [-43.20160196456738, -23.025926472285434], [-43.20145386845172, -23.025977526641395], [-43.2013178213629, -23.02603232906175], [-43.20118969383178, -23.02610040565353], [-43.201071197403955, -23.02619261226381], [-43.20102444857207, -23.026326180726095]]], [[[-43.19727030395267, -22.980113182438956], [-43.197461968970735, -22.98195665204198], [-43.19512653366926, -22.983639960775516], [-43.19434268161372, -22.98390988641797], [-43.19419000640195, -22.984066628483365], [-43.194099961191085, -22.98414163653345], [-43.19394669587382, -22.98434271140219], [-43.19355703976823, -22.98481994720425], [-43.19295096627818, -22.98561149797176], [-43.1925051491269, -22.98618949967371], [-43.192359477202366, -22.98633999927408], [-43.19222036678415, -22.986503123932426], [-43.19203543561615, -22.986767228060035], [-43.19166607750467, -22.987257332459127], [-43.19082006911269, -22.987051263366435], [-43.18965361323513, -22.98674634868862], [-43.18936047882173, -22.98665432268398], [-43.18889328941909, -22.98652219754323], [-43.18844334376699, -22.987861663963432], [-43.188495189780646, -22.98788681928994], [-43.18854703604373, -22.98791188430021], [-43.188595052247756, -22.987938985175916], [-43.18864808132066, -22.987977967637228], [-43.18869853325748, -22.987997959687558], [-43.18876319820875, -22.988019920296576], [-43.18880548469608, -22.988037921683055], [-43.188854949416246, -22.98805880633142], [-43.188901477683366, -22.98808047011922], [-43.18894699366483, -22.988104830508636], [-43.18900821271295, -22.98813659465596], [-43.18905786653114, -22.988165245661165], [-43.18910360579511, -22.988202341289274], [-43.189152358090695, -22.988232699524506], [-43.18919827125313, -22.988263926514765], [-43.1892542654388, -22.988299785688298], [-43.18930058173685, -22.988330115131923], [-43.18934749040762, -22.988359909515832], [-43.18939683999673, -22.98838937057489], [-43.18944388378081, -22.98840896223216], [-43.189490955277776, -22.988441106316714], [-43.1895378291184, -22.98847351903838], [-43.18958987425322, -22.988498404490855], [-43.18965349941434, -22.988547173780987], [-43.189658811339356, -22.988551116617405], [-43.18970350486674, -22.98858612406726], [-43.18975126998526, -22.988617462376546], [-43.18980251816974, -22.988643604704873], [-43.18985276830185, -22.988671450467436], [-43.189901627660866, -22.9887012660868], [-43.1899476066187, -22.9887347530097], [-43.18999200629894, -22.9887699367297], [-43.19003659909521, -22.98880512264492], [-43.19008099469283, -22.98884039659848], [-43.19013025266449, -22.988869585488576], [-43.19010705840611, -22.988919348373056], [-43.19005341796556, -22.98894095002503], [-43.18999798115404, -22.988958287790506], [-43.189941885015784, -22.98897372073437], [-43.18990784386043, -22.98901775904068], [-43.18994148802097, -22.98906203258967], [-43.18999453904381, -22.989084943653094], [-43.190052908361125, -22.989088860619276], [-43.190089112985106, -22.98913144673546], [-43.19012502193593, -22.989174117962992], [-43.190137457834034, -22.9891850964219], [-43.19017050581814, -22.989208321598394], [-43.1902221550229, -22.989233744156248], [-43.19027833014353, -22.989248834456983], [-43.19033679992394, -22.98924543972761], [-43.1903883472984, -22.989271041676222], [-43.19042405965438, -22.989313983311394], [-43.19044298165415, -22.98936522342241], [-43.19046141251884, -22.989416723411967], [-43.190486215026375, -22.989465769508058], [-43.19051180447951, -22.98951446428145], [-43.190539945157184, -22.989562015158256], [-43.190564454921976, -22.989611148203082], [-43.19058896250093, -22.989660373328938], [-43.19061366830693, -22.989709509509918], [-43.19064141680132, -22.989757145291716], [-43.19061182458963, -22.989803944562276], [-43.19059803640923, -22.989806676756356], [-43.190553667737795, -22.989798404757472], [-43.190495366048935, -22.989803879348507], [-43.190444769672936, -22.98983102528102], [-43.19041015004256, -22.989874697673617], [-43.19040247507344, -22.98990161060834], [-43.190410011193, -22.98992887792714], [-43.19046839802062, -22.9899318025286], [-43.19052688861946, -22.989934186475672], [-43.19058194364418, -22.989952695405414], [-43.19060410588429, -22.989958637664255], [-43.19063259827621, -22.989979731939926], [-43.19060019777902, -22.990024784269888], [-43.19056306758523, -22.990066622857807], [-43.190526799617444, -22.99010919190394], [-43.190493245069355, -22.990138518290664], [-43.19048947260978, -22.990150937920358], [-43.19049150264848, -22.99016694385125], [-43.19051731986364, -22.99019848454916], [-43.19056667518598, -22.990227584138626], [-43.19060268748396, -22.990248040997947], [-43.19059121021981, -22.990260192009462], [-43.19056708824098, -22.9902698506931], [-43.190510614517095, -22.99028437646734], [-43.19045386702424, -22.990297633947197], [-43.19039842773588, -22.990314971795726], [-43.19035885887708, -22.990327252462336], [-43.19028690025759, -22.990347470035736], [-43.19022860237086, -22.990352494849425], [-43.19017762459973, -22.99037918390527], [-43.19012502984522, -22.990402784163532], [-43.19007157662679, -22.99042492974504], [-43.190013049739115, -22.990425253392782], [-43.18995528981516, -22.990433893663486], [-43.18990527009972, -22.990461949023736], [-43.18986485481947, -22.990501130195543], [-43.189850308518466, -22.990516677590655], [-43.18982424590253, -22.990540128536605], [-43.18980777659514, -22.99055366728357], [-43.189783446274625, -22.990578944080188], [-43.189747662856576, -22.99062179298421], [-43.189714199342944, -22.990666288429594], [-43.18969420935418, -22.990717172380677], [-43.18973129942684, -22.990759135683486], [-43.18978933669251, -22.990766209594735], [-43.18984505719539, -22.990749599418468], [-43.18989249400178, -22.990717903348347], [-43.189950963237294, -22.990714597286583], [-43.19000521638616, -22.990734813925197], [-43.19006456575743, -22.990738652722857], [-43.19012211035398, -22.990738857851177], [-43.19018057596443, -22.99073582437848], [-43.19023878105617, -22.990730529428085], [-43.190297233437036, -22.990728488191362], [-43.19035505739623, -22.990737005210725], [-43.19041092735016, -22.990753084439167], [-43.19046710312518, -22.990768173808707], [-43.190519749795705, -22.990791986754342], [-43.19056642311718, -22.990824666030317], [-43.19060272732427, -22.99086706987562], [-43.19064040886252, -22.990908590028766], [-43.19069740342174, -22.990920798976106], [-43.19075544539346, -22.99092760348959], [-43.190813937864284, -22.990929806768214], [-43.1908724503362, -22.990930655707693], [-43.19093065979693, -22.99092481873724], [-43.190985817304345, -22.99090675597302], [-43.19104219155254, -22.99089231920803], [-43.19109706436625, -22.990873440424338], [-43.19106813704831, -22.990826332160758], [-43.19112442311675, -22.990811263138514], [-43.19118278764378, -22.990808498147697], [-43.19124130511512, -22.99080889548978], [-43.191298919712665, -22.990818493415166], [-43.1912860518383, -22.990847243462458], [-43.19126120429527, -22.99085996336495], [-43.19120408838645, -22.9908715020417], [-43.19116657591113, -22.9908904888164], [-43.191158669258186, -22.99090565974306], [-43.191203560435355, -22.990940486665483], [-43.19125461112349, -22.990966897230912], [-43.19131276008835, -22.99097306973952], [-43.19137125645112, -22.990974910742597], [-43.19142952335017, -22.990979553014995], [-43.19148755705667, -22.99097226627406], [-43.19152160143933, -22.990928135564083], [-43.19155090226907, -22.9908812415927], [-43.1916092752719, -22.990877842614683], [-43.19163915759138, -22.99083122617281], [-43.19166699377028, -22.990813664865108], [-43.19169431108295, -22.99081316310855], [-43.19173061635869, -22.990855660640747], [-43.1917655392512, -22.990899132106], [-43.1918220215537, -22.990913414485668], [-43.19187232861165, -22.99088581420741], [-43.191893095601976, -22.99083512031962], [-43.191840046474745, -22.99081220986658], [-43.191792277926446, -22.990780961491073], [-43.1917841183712, -22.990727318599767], [-43.19183766442829, -22.990705443497994], [-43.191889113464356, -22.990731315686887], [-43.1919460023712, -22.990744065702174], [-43.192004382397215, -22.99074753240056], [-43.192024484491036, -22.990724642454612], [-43.19202903099947, -22.99069832764744], [-43.19202223811621, -22.990644518853827], [-43.19198070708634, -22.99060638839377], [-43.19193799017284, -22.99056941832744], [-43.19188222361911, -22.990552888394323], [-43.19183007612959, -22.99052827247646], [-43.19178141531526, -22.99049818785661], [-43.19172836296886, -22.990475457039526], [-43.19167137253582, -22.990462796999584], [-43.19161354405637, -22.99045491253306], [-43.19156934305602, -22.990419458777104], [-43.19157172251989, -22.99036530498609], [-43.191527622426044, -22.99032967447518], [-43.191572561843024, -22.990294969355105], [-43.19163028099583, -22.99030402652526], [-43.19163733890031, -22.990250196150345], [-43.19163571772114, -22.990196086984394], [-43.19159379108303, -22.99015831132346], [-43.19154582753123, -22.99012715186598], [-43.19150261725969, -22.990090627576855], [-43.191514210971455, -22.990062404774196], [-43.1915324041002, -22.990043917944515], [-43.191552176791035, -22.990024007006117], [-43.19157204800988, -22.990004094480714], [-43.191586109936985, -22.98995151891544], [-43.19156140470529, -22.98990238287354], [-43.19150835598322, -22.989879473236478], [-43.19145989389499, -22.989849210194112], [-43.19142270379713, -22.98980733553533], [-43.19139858735512, -22.989757937994217], [-43.19141619980121, -22.989731859085005], [-43.19143581744688, -22.989716189731514], [-43.19147661830652, -22.989677373733677], [-43.191503787790694, -22.989629371778975], [-43.19148349496609, -22.98957857034673], [-43.191443246850426, -22.989539280473185], [-43.19143440166435, -22.98948572004216], [-43.191450602833314, -22.989433709826766], [-43.19148995590452, -22.98939352093653], [-43.19153835120125, -22.989363101316094], [-43.1915924660088, -22.98934249700492], [-43.19164353585488, -22.98931616881561], [-43.19168712588367, -22.98928000428791], [-43.191724455210085, -22.989238257979395], [-43.19171071506783, -22.989215344737552], [-43.19168982672699, -22.989194608371655], [-43.19168449729381, -22.989140635665873], [-43.1917104069789, -22.989092078365665], [-43.19175438295254, -22.989056368832294], [-43.191800379966686, -22.98902284872804], [-43.19185049605289, -22.98899488592491], [-43.191903282625056, -22.988971467840706], [-43.191957964310156, -22.988952225313152], [-43.19201396561205, -22.988936428443825], [-43.19206855116524, -22.98891700507594], [-43.192122287645624, -22.988895494122563], [-43.19217573853077, -22.988873528374842], [-43.19222947595436, -22.98885201739392], [-43.192283305327095, -22.98883077835255], [-43.1923368536977, -22.988808812757014], [-43.192390683050704, -22.988787572773983], [-43.1924452704486, -22.988768149290884], [-43.19250042180493, -22.988750175267622], [-43.192556611756, -22.98873492397577], [-43.192613079114025, -22.98872066735715], [-43.19266823672518, -22.988702513641204], [-43.19272357629216, -22.988684904703184], [-43.19283152063262, -22.988643151932678], [-43.19288411548023, -22.9886194604074], [-43.1929382285991, -22.988598946794852], [-43.19299516184881, -22.98858632080647], [-43.19305135049859, -22.988571158717438], [-43.193104136735045, -22.988547739305055], [-43.19315863122243, -22.988527954195384], [-43.19321453613147, -22.98851197608098], [-43.19327109679625, -22.98849817270185], [-43.19332811909292, -22.988486179727587], [-43.19338505442123, -22.988473465120933], [-43.1934414286609, -22.98845893622438], [-43.193498362542705, -22.988446402165646], [-43.19355664656238, -22.98844228077648], [-43.193615162860084, -22.988442767477313], [-43.193673699591095, -22.98844171833218], [-43.19373172459058, -22.988434705125197], [-43.19378957894524, -22.988426515106223], [-43.19384706596768, -22.988416243000692], [-43.19390418307568, -22.988404522707892], [-43.19396185167806, -22.988395337171497], [-43.1940201402522, -22.98839094475197], [-43.19407843047631, -22.988386281419963], [-43.19413664196246, -22.988380351117588], [-43.194194846643484, -22.98837478554093], [-43.19425296778169, -22.988368314152034], [-43.194309249164185, -22.98835342447355], [-43.19436317081521, -22.988332544251588], [-43.19442056936605, -22.98832173181446], [-43.19447902411086, -22.988319510200913], [-43.194537390473776, -22.988316380010897], [-43.194595151506654, -22.988307646808984], [-43.194651993741104, -22.988294658862227], [-43.194710203203805, -22.988288730128374], [-43.194765166029434, -22.988270303429964], [-43.194818141145944, -22.988247247691778], [-43.19487263412703, -22.988227550451615], [-43.19493003144169, -22.98821682540512], [-43.1949884068781, -22.988213156038857], [-43.19504694013739, -22.9882122887528], [-43.19510545780732, -22.988212594306606], [-43.19516397570405, -22.988212809538105], [-43.19522242685774, -22.98821085490344], [-43.19528027354142, -22.98820293695781], [-43.19533830786191, -22.98819565144507], [-43.19539667512624, -22.988192522750484], [-43.19545519662258, -22.988192467005053], [-43.195513718870984, -22.98819250154981], [-43.19557209549694, -22.988188741677046], [-43.19562837766877, -22.988173851526486], [-43.19568021214598, -22.988148614315506], [-43.19573213952778, -22.988123650860533], [-43.195786347207104, -22.988103317923315], [-43.19584281089353, -22.98808915038077], [-43.19590128147475, -22.988086023576713], [-43.19595971762569, -22.98808497423721], [-43.19601817929418, -22.988082297901574], [-43.19607647850639, -22.98807709300833], [-43.196134415678586, -22.988069625485505], [-43.196192534258486, -22.98806333304649], [-43.196250649684714, -22.988057130853253], [-43.196308316304055, -22.98804785502224], [-43.196364784790354, -22.988033688246933], [-43.19642088020677, -22.98801816175073], [-43.196478087989306, -22.988006712449994], [-43.196535479856784, -22.98799653037306], [-43.19658997515137, -22.987976561638927], [-43.19664671741131, -22.987963662122848], [-43.19670438833468, -22.987954204683252], [-43.196762847790076, -22.987951617443738], [-43.19682129162168, -22.987950206656777], [-43.19687976130345, -22.987946628862943], [-43.196937701334626, -22.987939160170086], [-43.19699481631586, -22.98792734931184], [-43.19705119056117, -22.987912999702644], [-43.19710765839242, -22.987898652943905], [-43.197164312205594, -22.98788521041122], [-43.19722021767632, -22.987869140544646], [-43.19727574597621, -22.987852166041147], [-43.19733165385603, -22.987835912845377], [-43.19738802825933, -22.98782147281064], [-43.197444122496854, -22.987805947733165], [-43.19749974569688, -22.98778924152585], [-43.19755546225765, -22.987772628469937], [-43.197611366422485, -22.98775665055464], [-43.197666895683646, -22.9877396705014], [-43.197723363169445, -22.98772541381486], [-43.19778001949622, -22.987711699269973], [-43.19783573677351, -22.987695174617194], [-43.19789022720361, -22.987675477175923], [-43.197946603126645, -22.987660766945538], [-43.19800399162654, -22.9876506745871], [-43.19806202826775, -22.987643116268043], [-43.198119781925506, -22.987634832281564], [-43.198177725580905, -22.987627003757623], [-43.19823602241108, -22.987621887426958], [-43.198294224125235, -22.987616588483014], [-43.19835251015593, -22.987612285619456], [-43.19841096772557, -22.987609609242725], [-43.19846942223066, -22.987607384326264], [-43.198527714492485, -22.987602537842214], [-43.19858520144821, -22.987592445485976], [-43.19864305495918, -22.987583983640466], [-43.19870116991067, -22.987577870828066], [-43.19875937777541, -22.987572032669778], [-43.19881774935328, -22.987568631833508], [-43.19887034407064, -22.987544847933908], [-43.19892424875522, -22.987525323168924], [-43.19895445500505, -22.987542282425657], [-43.19897191735779, -22.987556657692235], [-43.19899456680758, -22.987569919792733], [-43.199025566564636, -22.987578309236362], [-43.19908382149703, -22.987583850623466], [-43.199142337866206, -22.98758424134679], [-43.199200775814816, -22.98758319081786], [-43.19925923414337, -22.987580603535122], [-43.1993176994212, -22.98757756569571], [-43.19937613976495, -22.98757633452219], [-43.19943461005257, -22.987572845179244], [-43.19949305639447, -22.98757116161049], [-43.199551519952884, -22.987568032458196], [-43.19960980094653, -22.987564180588002], [-43.199668347202724, -22.98756231748291], [-43.199726788311644, -22.98756117558843], [-43.19978532020389, -22.987560395917654], [-43.199843849715066, -22.987559795901916], [-43.199902310408774, -22.987557029606492], [-43.1999608403526, -22.987556249848474], [-43.20001620342473, -22.9875738559827], [-43.20007470660481, -22.987575243161025], [-43.20013282031818, -22.987569221011523], [-43.20019067116144, -22.98756102857142], [-43.200249120124425, -22.987559073842043], [-43.20030766638714, -22.98755721049986], [-43.20036611873044, -22.987555074255596], [-43.200424234601904, -22.98754896171899], [-43.20053917925249, -22.98753067162949], [-43.20059746546931, -22.987526276728744], [-43.20065598096877, -22.98751944712069], [-43.200713373346815, -22.987508899583293], [-43.20076881180585, -22.98749137917533], [-43.200826115528244, -22.987480380877773], [-43.200884485120696, -22.98747697925158], [-43.200942157604146, -22.98746752025808], [-43.200999549909504, -22.987456975322782], [-43.201057306963754, -22.98744842028147], [-43.201114607296574, -22.987437601542613], [-43.20117218700444, -22.987427781099136], [-43.201230563518465, -22.987423928807882], [-43.2012890905999, -22.987423509736423], [-43.20134702744338, -22.987430759736604], [-43.20140552942789, -22.98743223580714], [-43.20146405987219, -22.987431637005383], [-43.20152256425325, -22.987432932452986], [-43.20158107578804, -22.98743368794541], [-43.201639593303966, -22.987433991966743], [-43.20169812758607, -22.98743303010191], [-43.201756575109016, -22.98743125449915], [-43.20181510818468, -22.987430383783757], [-43.20187364364049, -22.987429333369747], [-43.201932154001625, -22.98743017811948], [-43.20199053891754, -22.9874332781081], [-43.20204868519831, -22.98743944749172], [-43.202107182199256, -22.987441375667334], [-43.20216569138995, -22.987442309718222], [-43.2022242065361, -22.98744279410365], [-43.20228271332874, -22.987443909594166], [-43.20234108436451, -22.987447912331632], [-43.20239948309283, -22.987449749883908], [-43.20245801142093, -22.987449239187974], [-43.20251652300544, -22.987449993432573], [-43.2025749064666, -22.98744569010808], [-43.202630528030326, -22.987428982939914], [-43.20268605761993, -22.98741200199131], [-43.20274233690762, -22.987397110121293], [-43.20280086163606, -22.987396870167007], [-43.2028593256569, -22.987393921299624], [-43.20291778989652, -22.987390882109487], [-43.202976159211325, -22.98738757181321], [-43.202999309783415, -22.987385034120596], [-43.20303418820811, -22.987380643687505], [-43.20309158255169, -22.987370006799324], [-43.203149519235076, -22.98736253576225], [-43.20320763733918, -22.987356243416485], [-43.20326391779031, -22.98734125835719], [-43.203322199888376, -22.987337313914615], [-43.203380743707754, -22.987335630007273], [-43.2034392648303, -22.987335661588137], [-43.20349778216347, -22.98733605341553], [-43.20355630686097, -22.987335814986043], [-43.20361467236312, -22.98733286472004], [-43.2036731348488, -22.98732973492503], [-43.20373158863287, -22.987327778955823], [-43.20378979991682, -22.987321666251614], [-43.20384672928161, -22.98730930804505], [-43.203903100978025, -22.987294866512585], [-43.203960404665104, -22.987283776757973], [-43.204017612674164, -22.987272324683094], [-43.20407417243776, -22.98725833673791], [-43.20412941997218, -22.987240541145578], [-43.204184288604814, -22.987221746995466], [-43.204242229508296, -22.987214096798436], [-43.20430025307431, -22.987207349649594], [-43.2043580144711, -22.98719852162208], [-43.20441577225625, -22.98718996624894], [-43.204473982055845, -22.987184033878552], [-43.20453244046199, -22.987181355233254], [-43.20459088215414, -22.987179940626998], [-43.20464942928715, -22.987178075676166], [-43.20470787435446, -22.98717647955459], [-43.204766338060175, -22.987173621178368], [-43.204824800044946, -22.987170671554267], [-43.204883239107936, -22.987169529526692], [-43.204941781708335, -22.987167933520578], [-43.20499953438874, -22.987159466371374], [-43.20505790653514, -22.987156155331196], [-43.205116393991496, -22.987158804710717], [-43.2051749256081, -22.98715811333563], [-43.20523345408189, -22.987157512206863], [-43.20529197517861, -22.987157543098103], [-43.20535041188199, -22.987156579671854], [-43.20540896281301, -22.98715435326744], [-43.205466990457616, -22.98714751452581], [-43.20552527886974, -22.98714293721007], [-43.20558330648284, -22.987136100230945], [-43.20564151620401, -22.987130170135288], [-43.20569996721941, -22.987128123097794], [-43.20575850604157, -22.987126886153657], [-43.20581701640265, -22.98712772946105], [-43.205875395818396, -22.98713110157155], [-43.20593365531752, -22.987136094155847], [-43.20599191219523, -22.987141359406163], [-43.20605041183486, -22.98714301523895], [-43.20610892222459, -22.987143857536143], [-43.206167297878565, -22.987147589808593], [-43.20620021524804, -22.98714389889137], [-43.20622915438998, -22.987131401660644], [-43.206382687440986, -22.987130523104966], [-43.20652592088836, -22.987126455662843], [-43.20668439734534, -22.987120755480216], [-43.20681920092889, -22.987097988882926], [-43.20694621108171, -22.98708913012139], [-43.207059040128655, -22.987098175100346], [-43.20722683397098, -22.987110367845332], [-43.20737306869206, -22.98709351137951], [-43.207531757101094, -22.98709377188307], [-43.207689593073624, -22.9870920359016], [-43.20781649334295, -22.987091575244918], [-43.20794362541282, -22.987095722597505], [-43.208058117850655, -22.987096837152613], [-43.20818521931902, -22.987088522053384], [-43.208308214968476, -22.987088378051503], [-43.208401907714524, -22.987113457599747], [-43.20851609295282, -22.98712314810672], [-43.20863484899475, -22.987126387448466], [-43.20878905974875, -22.98713336883849], [-43.20893097830618, -22.9871404802047], [-43.209059817035765, -22.987148352026036], [-43.20919528482886, -22.987163877876206], [-43.209362715200136, -22.987159359873022], [-43.20947588069212, -22.987150162874986], [-43.20963199287473, -22.987168363507955], [-43.209761560658436, -22.987187527359403], [-43.20989008346464, -22.98717498177202], [-43.21004573737908, -22.987168613292756], [-43.21018961596476, -22.987160305541913], [-43.21032615565446, -22.987153720823674], [-43.21048841722061, -22.987149232632373], [-43.21062999374499, -22.98714523215239], [-43.2107486856411, -22.98712381715225], [-43.21087636859064, -22.98714539610739], [-43.211002819247085, -22.987171748049743], [-43.21115581037985, -22.98716760509609], [-43.21130685220079, -22.987163355098055], [-43.211449993681505, -22.98715909883667], [-43.21159020235679, -22.987155352964287], [-43.21174145213738, -22.98715019824718], [-43.2118969833909, -22.98714581143417], [-43.21203065613659, -22.98714199410398], [-43.212188308093296, -22.987139438822496], [-43.212344903757476, -22.987135696610434], [-43.21247414938586, -22.98713498777421], [-43.21262645436412, -22.987138513285807], [-43.2127705618412, -22.987164611534364], [-43.212881001747434, -22.987184640696107], [-43.21303239935468, -22.987183006456778], [-43.21316158242501, -22.987179496935067], [-43.213296275864614, -22.987165122687642], [-43.21343470641895, -22.98714826196194], [-43.2135712045563, -22.987129933556005], [-43.213730447670244, -22.987117642760648], [-43.21386909799182, -22.987113877291026], [-43.213890801370056, -22.987117464145964], [-43.21391410324979, -22.987125583313272], [-43.21394191524565, -22.987139260962937], [-43.21399090467062, -22.98715209462818], [-43.21402932204773, -22.9871530713857], [-43.21405658419909, -22.987156719082712], [-43.21411511148668, -22.987156294357376], [-43.2141736417395, -22.98715542173637], [-43.21423180103363, -22.987160951974936], [-43.214290312891606, -22.987161700961884], [-43.214348844912465, -22.987160916793894], [-43.214407379096734, -22.98716004232466], [-43.214465816431776, -22.98715889312124], [-43.21452434965424, -22.98715801769477], [-43.21458284012786, -22.98716039360935], [-43.21464133775157, -22.987162225953327], [-43.214699729523396, -22.98716469101641], [-43.214757766595476, -22.987172027570306], [-43.214815489967584, -22.987180894832008], [-43.21487364420446, -22.987186516889555], [-43.214930843165774, -22.987198179428653], [-43.2149868177267, -22.98721379971832], [-43.21504370914075, -22.987226452095598], [-43.21510208651673, -22.987230089898052], [-43.215160618572575, -22.987229306334438], [-43.21521828171328, -22.9872202013836], [-43.21527568086875, -22.987209289164216], [-43.21532493069844, -22.98718013311533], [-43.21535339670292, -22.987151556543807], [-43.21540845883896, -22.987132852708246], [-43.215476784577454, -22.987121521681562], [-43.21553245139365, -22.987138222863802], [-43.21558420704593, -22.987163457944206], [-43.21563805798099, -22.987184745041404], [-43.21568951105095, -22.9872105194077], [-43.215742863325964, -22.987232793294805], [-43.21579873413945, -22.987249044261972], [-43.21585593777679, -22.987260434709672], [-43.21591387572176, -22.987267679424296], [-43.215972369875075, -22.98726978305528], [-43.21603090176751, -22.987269088569395], [-43.21608943626795, -22.98726812137318], [-43.216147887679796, -22.987265980170868], [-43.21620632484648, -22.987264923337325], [-43.216261760217755, -22.987247577060877], [-43.21631979312893, -22.987255093608987], [-43.21637164594581, -22.987280149830394], [-43.2164275170688, -22.98729631118284], [-43.21648567618488, -22.987301573298762], [-43.216544209546285, -22.987300694419936], [-43.216602744046895, -22.98729972884038], [-43.2166612773862, -22.98729885172398], [-43.21671978817337, -22.987299691914142], [-43.216778290698464, -22.987301161408638], [-43.21683668618351, -22.9873033548178], [-43.21689435433931, -22.98729416171354], [-43.21695091432072, -22.98728007789181], [-43.217009440521664, -22.987279744195845], [-43.21706613083636, -22.98729302391547], [-43.21712169743418, -22.987310174944], [-43.21717828235192, -22.98732390676458], [-43.2172355886465, -22.987334846356173], [-43.21729207112704, -22.987349027601365], [-43.21734362352803, -22.9873746219584], [-43.217402005505036, -22.987370492824166], [-43.217456304351394, -22.987350333909614], [-43.21751267615848, -22.987335797150777], [-43.217570508251775, -22.98734376160302], [-43.21762166307913, -22.987370074733928], [-43.217680038116875, -22.987366399647783], [-43.21773603625307, -22.987350681039622], [-43.2177930610541, -22.987338410030087], [-43.21785150896054, -22.98733653907121], [-43.21790606730753, -22.98735620609745], [-43.21796455802895, -22.987358579868893], [-43.21801476504376, -22.987330698883536], [-43.21806868555856, -22.987309632456846], [-43.21812696088356, -22.9873136283143], [-43.21818510925796, -22.987319791825904], [-43.21824027075632, -22.987338021561474], [-43.218297572498905, -22.987327015933086], [-43.21834576506769, -22.98729640305972], [-43.21840072894781, -22.98731490233262], [-43.218457824159884, -22.987326922761167], [-43.218511980672346, -22.987347488104305], [-43.21856561781806, -22.98732578709246], [-43.21862124015686, -22.98730889269494], [-43.21867928491145, -22.98731559668515], [-43.21873454757429, -22.987333555574043], [-43.218787599823344, -22.987356366913087], [-43.21883646572162, -22.98738617578531], [-43.2188943990125, -22.987393870887313], [-43.2189519745704, -22.987384222660264], [-43.21900589498499, -22.987363155906728], [-43.2190626387885, -22.98735006763496], [-43.219121017602575, -22.98734602903466], [-43.21917791369889, -22.98735858789022], [-43.219227076240784, -22.98738794755757], [-43.21927952590844, -22.987412017123297], [-43.21933735755845, -22.987420251843858], [-43.21939476657945, -22.987430741201564], [-43.219453258791866, -22.987432933834132], [-43.21951178967097, -22.987432326549722], [-43.21957032310383, -22.987431450166152], [-43.21962876021096, -22.987430481471108], [-43.219686792513095, -22.987437995887714], [-43.21974256408189, -22.98745442588627], [-43.219796719883604, -22.987474991697017], [-43.2198544499501, -22.987483317200116], [-43.21991280994042, -22.987488307605904], [-43.21997123643832, -22.98748815050027], [-43.22002975570202, -22.987488357437915], [-43.22008705923651, -22.987499386284927], [-43.22013981192092, -22.987522826851094], [-43.22019296519215, -22.987545546759176], [-43.220247120121684, -22.987566113314156], [-43.220302385278394, -22.987583982297735], [-43.22036082030727, -22.987583103616203], [-43.220419343149295, -22.987583041345793], [-43.22047787650519, -22.98758225132056], [-43.22053590654312, -22.98757513703973], [-43.22059384480032, -22.98758246946456], [-43.220651048326324, -22.987593768803627], [-43.22070651570101, -22.98761109809588], [-43.22074657274842, -22.987650648805918], [-43.22080173950777, -22.987668517417887], [-43.220860223406056, -22.987671430973368], [-43.220918746334924, -22.987671365812016], [-43.22097452074022, -22.987687525410912], [-43.22103299992343, -22.987690800066748], [-43.221091439525324, -22.987689651159435], [-43.22114991278947, -22.987693378129578], [-43.221207530168265, -22.987702875836323], [-43.22126421901949, -22.98771624436894], [-43.221317173963115, -22.987739234403996], [-43.22136762978945, -22.987766710666907], [-43.22142614545775, -22.987767278270574], [-43.22148195327132, -22.987751108277855], [-43.221539570718214, -22.987760604963807], [-43.22158694544657, -22.987792472375148], [-43.22161814398146, -22.98783824471937], [-43.22167607023542, -22.987846210556924], [-43.22173453393059, -22.987843525611773], [-43.22179291352752, -22.98784689008033], [-43.221858214463744, -22.987857917769976], [-43.221914497584706, -22.98787263608427], [-43.22196885586413, -22.987892751927856], [-43.22202595268911, -22.987904772017767], [-43.22208422395774, -22.98790903820647], [-43.22214274208589, -22.987909424064608], [-43.22216372030843, -22.9879087564639], [-43.2222222492967, -22.987908238469608], [-43.222280774716204, -22.98790799313224], [-43.22232350777629, -22.987929513566222], [-43.222354704636054, -22.987975286663126], [-43.22239150976406, -22.98801741931406], [-43.22244677563219, -22.988035198178416], [-43.22247318422563, -22.988037028783562], [-43.22253170775655, -22.988036783335005], [-43.22259016444893, -22.988034639823677], [-43.22264828429097, -22.988027977301247], [-43.222706222645265, -22.988020499983136], [-43.222764666952685, -22.988019078701466], [-43.2227966540723, -22.988026842516007], [-43.222836319208234, -22.988066660151443], [-43.22287907528074, -22.988086284311912], [-43.222937573627206, -22.988088114525485], [-43.22297982467786, -22.988086780611713], [-43.22303827392749, -22.988084909570777], [-43.22310364538965, -22.988090790208087], [-43.223158910435004, -22.988108567917596], [-43.22321663518029, -22.988117341872947], [-43.2232486262195, -22.988117430687], [-43.223307067239624, -22.98811618977841], [-43.22336834987492, -22.988121481719347], [-43.22341543101829, -22.988153617133367], [-43.22346510136426, -22.98818153637058], [-43.22352360901958, -22.988182734344726], [-43.22358207724125, -22.988179416643653], [-43.223633037892654, -22.98816842917669], [-43.22369140454005, -22.988172875556682], [-43.22373970284091, -22.988193917106685], [-43.2237982024614, -22.988195655811968], [-43.22383394313856, -22.98822965064159], [-43.223878250106374, -22.988265095173], [-43.22393412389492, -22.988281163665093], [-43.22399227567982, -22.988287053298883], [-43.224050798957265, -22.98828698699638], [-43.22410918484824, -22.98828258452818], [-43.22418453356244, -22.988286228669295], [-43.224236287334236, -22.988311552207406], [-43.22428974270764, -22.98833355354684], [-43.224345313181615, -22.98835052153995], [-43.2244024093004, -22.98836263018555], [-43.22445889411188, -22.98837680895699], [-43.22451683439922, -22.98838396029018], [-43.22457445124761, -22.988393544386287], [-43.2246105928925, -22.988404426558475], [-43.22466055360294, -22.988432619604033], [-43.22471151081603, -22.98845919832597], [-43.22476456228129, -22.98848218833177], [-43.224819729808544, -22.988500144995317], [-43.22487682722451, -22.98851216318517], [-43.22493520825743, -22.988515525625722], [-43.224993697429134, -22.988518077421183], [-43.22503928786518, -22.988537371563233], [-43.2250818152551, -22.988574602825782], [-43.22513118017905, -22.98860369119441], [-43.22516543852032, -22.988616808847024], [-43.22522202461093, -22.988630716673967], [-43.22527964395621, -22.988640122649457], [-43.22533582578092, -22.988655112268056], [-43.225392408790405, -22.98866910940243], [-43.22545002740946, -22.988678424101803], [-43.22550661570531, -22.988692242453133], [-43.22556208328769, -22.98870957009804], [-43.2256149374012, -22.988732828532598], [-43.22566699245607, -22.98875752377167], [-43.22571615780421, -22.98878697185173], [-43.2257666171526, -22.988814356509263], [-43.22582299694196, -22.988828986058103], [-43.22587887241788, -22.988844963600624], [-43.225935256568235, -22.988859410744826], [-43.225992459043646, -22.98887079939692], [-43.226048230946354, -22.988887316644316], [-43.22610481571946, -22.98890104354213], [-43.22616286388597, -22.988907653670193], [-43.22622137610186, -22.98890830888902], [-43.22627987100187, -22.988910588466936], [-43.22633839559584, -22.98891052044361], [-43.22639690855422, -22.98891126861938], [-43.22645516258925, -22.988916979709067], [-43.226512885061446, -22.988925751560963], [-43.22656906582226, -22.988940918641767], [-43.22662524795664, -22.988955906916026], [-43.22668339550054, -22.98896215675081], [-43.22674165431731, -22.98896750476683], [-43.22679937404721, -22.988976639508902], [-43.226855351962875, -22.988992256644693], [-43.22690620978552, -22.989019103588227], [-43.22694203198137, -22.9890619475978], [-43.22696476347645, -22.98916605202174], [-43.226976355765835, -22.98931672000379], [-43.22697892966612, -22.98946313123378], [-43.22693007488728, -22.989559393334236], [-43.22699772871334, -22.989607105247433], [-43.22701310382105, -22.989624798189055], [-43.22703426576452, -22.989647430528986], [-43.22763116870137, -22.988932577799194], [-43.227993140971456, -22.989290711795384], [-43.22815141041139, -22.98939064309044], [-43.228228279776765, -22.989412363226826], [-43.22832128895036, -22.98943056136784], [-43.22847959597853, -22.9894453357413], [-43.228596069476495, -22.98943688543346], [-43.22869159696865, -22.989411584806255], [-43.228793177514966, -22.989393398255086], [-43.228864454943874, -22.98938769061868], [-43.22894851267557, -22.989389172296043], [-43.2290431726142, -22.98940801970137], [-43.22917373235471, -22.98945634821673], [-43.229273588770376, -22.989502977938088], [-43.22941176225499, -22.98957324414247], [-43.22951178723511, -22.98960696026799], [-43.229596212645625, -22.989617658574964], [-43.229705482270234, -22.989615627050856], [-43.229811370084185, -22.989603806586103], [-43.22992102222895, -22.98957243295631], [-43.230009335865155, -22.989569264901107], [-43.23006601621578, -22.989545788765593], [-43.23018770030786, -22.989527009593452], [-43.23026618229066, -22.98949980086641], [-43.23039261697097, -22.98945299173145], [-43.23052365564704, -22.989382212033536], [-43.230663532478744, -22.989299430143475], [-43.23073391207297, -22.989227882385915], [-43.230777576710715, -22.989200285400017], [-43.23082604545806, -22.98914863076494], [-43.23087457233698, -22.989084875963304], [-43.23090573776769, -22.989021016649357], [-43.2309238826779, -22.988960985309983], [-43.23095494549564, -22.988905072533495], [-43.23096911240793, -22.988820887271856], [-43.23098271124648, -22.98877281655036], [-43.23098249805776, -22.988729287412337], [-43.230992366276304, -22.988683071420546], [-43.231011121638296, -22.988598486772954], [-43.23104024213066, -22.988527018103962], [-43.23107039278613, -22.988488701772923], [-43.23110807747513, -22.988455982654674], [-43.23116852140068, -22.988420807628376], [-43.231275706119185, -22.98836917542651], [-43.23137402438997, -22.988331711360566], [-43.23150822161989, -22.988310364388315], [-43.23165290883994, -22.988292473863307], [-43.231789935516964, -22.988256075574622], [-43.23187640447524, -22.988244397215524], [-43.231964118266056, -22.988257568249793], [-43.232066926839714, -22.988279666339462], [-43.232150678107296, -22.98828981119274], [-43.23224596681028, -22.98828274809252], [-43.23232365650079, -22.988264018969893], [-43.23239450468376, -22.988238711540717], [-43.23251288907089, -22.988210683521523], [-43.23259575190271, -22.9882067307182], [-43.23265994717331, -22.98822045080253], [-43.232708680439664, -22.988245738852537], [-43.232788009464485, -22.98828075989237], [-43.232849519767775, -22.98829851275012], [-43.23293186605471, -22.98831162156988], [-43.23303216353114, -22.98831698468882], [-43.23315800768906, -22.988330399782857], [-43.23360702744909, -22.98839383446244], [-43.23366570991011, -22.98840396989363], [-43.233712958600115, -22.98841578571159], [-43.23376746384887, -22.98843219584884], [-43.23381967396967, -22.98845273619472], [-43.23387206429742, -22.9884742709806], [-43.23392694895719, -22.98849908452398], [-43.233983104047795, -22.98853113657924], [-43.23403802219998, -22.988575727162868], [-43.234087638534334, -22.98863064365145], [-43.23414640931131, -22.98867157466191], [-43.234201837563155, -22.988744526519792], [-43.234235929259675, -22.98879303889168], [-43.23426981275363, -22.988857713457328], [-43.234290365452765, -22.988942286136403], [-43.235338463233056, -22.989216302374583], [-43.23687760148165, -22.9895259373131], [-43.23799576801652, -22.989429652492632], [-43.23799718377096, -22.989335663749667], [-43.23773004449539, -22.988853080100863], [-43.23754139145836, -22.988463483743654], [-43.237455189211715, -22.988123700484973], [-43.23739111220896, -22.987777571129925], [-43.23731486173438, -22.987377575899895], [-43.23736624038124, -22.986853386923197], [-43.23733947698636, -22.98645800782044], [-43.23718601721839, -22.985769348684762], [-43.23702005490674, -22.98530757725854], [-43.236713976647216, -22.984850210889867], [-43.23644608124879, -22.984637269651873], [-43.236304688742386, -22.98449184027615], [-43.2360260435987, -22.984370800101534], [-43.2356069535287, -22.984271764941504], [-43.23513726459838, -22.984148594633037], [-43.234920467043544, -22.984019301382773], [-43.23448143288673, -22.983736543000195], [-43.233841511520154, -22.982963537977735], [-43.2330213130177, -22.981961851170105], [-43.2325257946346, -22.981366003080062], [-43.231514780798555, -22.980518590897248], [-43.231445651848006, -22.980456954035063], [-43.23138441794201, -22.980425747607292], [-43.231298611600074, -22.980386771589068], [-43.231216798393824, -22.980355425686092], [-43.23116350897051, -22.980343362125627], [-43.23110192715248, -22.980338881861858], [-43.23101133195197, -22.980345455134287], [-43.2309017582938, -22.98039371958225], [-43.23083119217008, -22.98045009447757], [-43.23074015116224, -22.980490888940974], [-43.230670129665434, -22.980505367625113], [-43.23042320854967, -22.980525458130973], [-43.23025474718979, -22.980519782953927], [-43.22983924345304, -22.980536092228068], [-43.22959267058719, -22.980529455183525], [-43.22921474387826, -22.98050626808027], [-43.22886578424978, -22.980468052112343], [-43.228599231040484, -22.980415585523296], [-43.2284149829165, -22.980364038747446], [-43.22826335127818, -22.980324325141524], [-43.228124551051515, -22.98025043828291], [-43.228080147399034, -22.980185194334098], [-43.228036337633014, -22.980074351455432], [-43.22800476517325, -22.97997502558781], [-43.22797773684191, -22.979841524238413], [-43.22797098492221, -22.97973100636862], [-43.22795639026936, -22.97958626479853], [-43.2279451951904, -22.979502337054658], [-43.22791717209678, -22.979444951236726], [-43.227864379290935, -22.97939487397135], [-43.227762390419585, -22.97933287081297], [-43.227696814700046, -22.979320665994873], [-43.22763508558645, -22.979319975550855], [-43.22753624558176, -22.979337923306108], [-43.22744550137811, -22.979355963367972], [-43.227346267156015, -22.979404341900054], [-43.22725511208303, -22.979506177067588], [-43.22715983260806, -22.979677412851856], [-43.227014153263006, -22.97969727532227], [-43.226863071390184, -22.97969025678541], [-43.2267583381041, -22.979689084756814], [-43.22672774177335, -22.979365631312003], [-43.2267327578321, -22.978757217097538], [-43.22675109039362, -22.97779351086204], [-43.226442940930475, -22.977790062288364], [-43.226368418196095, -22.977708496035056], [-43.22620571061354, -22.977695837388435], [-43.22612936265313, -22.977754223360932], [-43.22598600444755, -22.977596484887464], [-43.22587152408351, -22.977460556641386], [-43.22575666457203, -22.97734620954138], [-43.22565904842828, -22.977248219027274], [-43.22553282499283, -22.977122907107034], [-43.22542963817455, -22.977003272236594], [-43.22533205313614, -22.97691070196046], [-43.224999319301595, -22.976556954621937], [-43.22487097107381, -22.977034763260953], [-43.224643865416624, -22.977942217186996], [-43.2245677975332, -22.977979113061316], [-43.22360519230773, -22.977769023322526], [-43.22225675843852, -22.97748470438364], [-43.220267144655395, -22.977090768555147], [-43.21978892310833, -22.9769669187291], [-43.219601633818534, -22.97683558930367], [-43.21950084316624, -22.976764470220818], [-43.21938009574148, -22.97666079793293], [-43.219271304389835, -22.976530350163547], [-43.21919590960479, -22.976954928711223], [-43.219117159271015, -22.977196328961874], [-43.219011890245135, -22.977243639235265], [-43.218929265052836, -22.977334279938383], [-43.21863078032049, -22.977917811630373], [-43.2183625795395, -22.978415624136854], [-43.218266654179914, -22.97863534011421], [-43.218191013992815, -22.9788551920041], [-43.21799764516125, -22.978971496529937], [-43.21791551212284, -22.979024485309836], [-43.21783923119682, -22.979077447752232], [-43.21773929081882, -22.979157056476705], [-43.21759840194504, -22.979257787206674], [-43.21745166386246, -22.97935845019213], [-43.21726404718094, -22.97947481845465], [-43.21707043817679, -22.97960186523782], [-43.21689442725434, -22.979718364516707], [-43.21672468942524, -22.979802605321797], [-43.216519689140505, -22.979913358745048], [-43.21638221949137, -22.97997646818034], [-43.21618917552727, -22.980060446025906], [-43.21601379813722, -22.980128457202653], [-43.215864556062925, -22.980196762459194], [-43.215718547966425, -22.980249030767883], [-43.21535354541043, -22.98036339898813], [-43.21509667161145, -22.980435818203915], [-43.21496226655165, -22.98048821649122], [-43.21476978615746, -22.98052912295283], [-43.214554452232655, -22.980542861063157], [-43.2142075400655, -22.980527482957637], [-43.21412723475284, -22.98052287629507], [-43.212901868773, -22.980602886231004], [-43.21241790600596, -22.980640775571963], [-43.21141145225361, -22.98068720948816], [-43.21109131734498, -22.980719627558138], [-43.21072465651975, -22.980729936054466], [-43.20909362612307, -22.98082700768177], [-43.2083759111695, -22.980855015293205], [-43.20784923240403, -22.980877957123543], [-43.20755287988889, -22.980881829162627], [-43.20724882235931, -22.98087838916744], [-43.20676609800871, -22.980822356516185], [-43.20636956705789, -22.980731266972384], [-43.20587238383092, -22.98058846671742], [-43.20553046570818, -22.980497903210505], [-43.205211856367434, -22.980414917612137], [-43.20480819689378, -22.980280397761724], [-43.20457492367225, -22.98022718460841], [-43.2042330998726, -22.980129484564348], [-43.204031131808875, -22.98007662542228], [-43.20365049447522, -22.97996403563817], [-43.202838608449674, -22.979738191796354], [-43.202450274333984, -22.979625515536934], [-43.20077990578307, -22.97915892004308], [-43.199871286524896, -22.978881481581915], [-43.19922371912684, -22.97861423108763], [-43.198905886242436, -22.978473357499464], [-43.19876690131387, -22.978370727194523], [-43.19867443545385, -22.978283075059682], [-43.1986051845375, -22.978217270221556], [-43.198512142456195, -22.97817286590906], [-43.19833243025299, -22.978199719814917], [-43.19816061860192, -22.97822666425309], [-43.19803603866751, -22.978207186918738], [-43.19792749591645, -22.978162606002243], [-43.19777666662641, -22.978070677496394], [-43.19768420429899, -22.977990249139435], [-43.19763883492513, -22.977881368978146], [-43.19758604662554, -22.97774359762293], [-43.197552186224435, -22.977649386299973], [-43.197533594526575, -22.977587771195754], [-43.19749516280495, -22.977544075985772], [-43.19745654056831, -22.977514741362263], [-43.19740997352477, -22.977496149155023], [-43.19736730868405, -22.977484828308967], [-43.197281448566926, -22.97748746280114], [-43.19649311233878, -22.977547123124193], [-43.19645006262151, -22.977557379264006], [-43.19647683910546, -22.977597417516446], [-43.19713202661851, -22.978171619181015], [-43.19706946820895, -22.978226172202373], [-43.196313402881444, -22.97757388719838], [-43.195844409874624, -22.9773664474669], [-43.19541688260393, -22.977136092764056], [-43.194871617225914, -22.97745777206921], [-43.19555321943037, -22.9787519082972], [-43.1957975956564, -22.978894029976207], [-43.19706242944377, -22.979145927192913], [-43.19727030395267, -22.980113182438956]]], [[[-43.14211907264668, -23.065354684670123], [-43.14218035692238, -23.065298064436973], [-43.14242523693703, -23.065218047793774], [-43.142682355378035, -23.06514919220247], [-43.14300070504143, -23.065091440445197], [-43.143380033658225, -23.06519116291114], [-43.14373497360355, -23.065212131203587], [-43.14411452720154, -23.065075087152927], [-43.14461656156652, -23.06493749570684], [-43.144947020834394, -23.064936048286196], [-43.14511815415872, -23.06513816385219], [-43.14548521144287, -23.06527187365644], [-43.14576674302447, -23.065315632713236], [-43.14754368875811, -23.06323282620524], [-43.1475319067985, -23.062781906436257], [-43.14737311021013, -23.062455593835665], [-43.14727554425193, -23.062140292452984], [-43.14745979364643, -23.06146293816625], [-43.147741953557436, -23.060818878333045], [-43.14791379790037, -23.060355842306905], [-43.14820796208351, -23.05998237491137], [-43.14869783550493, -23.059754594875862], [-43.149150888509446, -23.05957216543439], [-43.149359111527325, -23.05934569309389], [-43.149616247583836, -23.059231762711924], [-43.14934777017254, -23.05853384264336], [-43.14819710425503, -23.05862935732856], [-43.1473280365711, -23.05865583416565], [-43.14680161534623, -23.058816085251003], [-43.146641868944734, -23.059414442254646], [-43.14496372103531, -23.060707456272954], [-43.14427774989704, -23.061229286489272], [-43.14340798729072, -23.061909782240384], [-43.14285664626299, -23.06241964229971], [-43.14251354632642, -23.062759474148876], [-43.142170609964374, -23.06300909675358], [-43.141803094199304, -23.063236306731795], [-43.14174137394285, -23.06374397413111], [-43.141765233771316, -23.064330216193287], [-43.14138544613758, -23.064647671478514], [-43.141225919293575, -23.06504302697387], [-43.141274604102925, -23.065257070264614], [-43.14165393151204, -23.065356802239567], [-43.14211907264668, -23.065354684670123]]], [[[-43.19391617913345, -23.03182835046147], [-43.19387176038025, -23.031698438513377], [-43.19376249460522, -23.031602553531005], [-43.193620494127394, -23.031561560837], [-43.193474737016075, -23.03149505703172], [-43.193334061277916, -23.031449926196863], [-43.19325901889828, -23.031443740290218], [-43.19321039665109, -23.031467928755887], [-43.19320692081427, -23.031501842881585], [-43.193231554934535, -23.031571476769763], [-43.19327077952755, -23.031629899167992], [-43.19339758026474, -23.031713161761807], [-43.193534235041625, -23.031774502932084], [-43.19365073602961, -23.031862071637157], [-43.19377444945657, -23.031942680815703], [-43.193806299943006, -23.031954061457675], [-43.19385915949106, -23.031970287432483], [-43.19390064533405, -23.031954326041763], [-43.19391688435579, -23.031899878297914], [-43.19391617913345, -23.03182835046147]]], [[[-43.19205716767396, -23.029594693749907], [-43.192043400140626, -23.029536923264075], [-43.19201303269176, -23.029524204710455], [-43.19196890463413, -23.029548262681377], [-43.191967315948254, -23.02959420860417], [-43.19199749658367, -23.029650180031787], [-43.191993022266686, -23.02970033990955], [-43.19193849570913, -23.029728701140083], [-43.19187261617531, -23.02973038629396], [-43.191798711055384, -23.02971202278262], [-43.19173585703848, -23.02971356276181], [-43.19165280356903, -23.029737356269813], [-43.19159559479583, -23.029776614244188], [-43.19157604712566, -23.02982298876755], [-43.191588331941496, -23.029882186272623], [-43.19161787486294, -23.03001517957918], [-43.19168924650235, -23.030143051392976], [-43.19179566972696, -23.030247032437064], [-43.19191366570779, -23.030331911222916], [-43.19204948987445, -23.03036759811639], [-43.19211472546528, -23.03034838591632], [-43.19221296814816, -23.03032702424439], [-43.192288070293394, -23.030335918572476], [-43.192345783966374, -23.03036150257055], [-43.19249184686727, -23.030390172180894], [-43.19263939842321, -23.03036612187518], [-43.19273250499014, -23.030327362164435], [-43.192772849056, -23.030374961126906], [-43.19284102204492, -23.030398857489327], [-43.19298767830705, -23.030397823826053], [-43.19301667054985, -23.03036736088294], [-43.19303040468772, -23.030325166690595], [-43.193009546317526, -23.03027977704554], [-43.19296865530271, -23.030265945117183], [-43.19294003421126, -23.030209901364287], [-43.192966062309964, -23.03018229515701], [-43.1929901324756, -23.030184376180635], [-43.1930348254537, -23.030227780530584], [-43.19308930864479, -23.03024664585932], [-43.19311598310891, -23.03023656303338], [-43.19312620573624, -23.030179519068014], [-43.193077880153446, -23.03011593483239], [-43.19300978891275, -23.03009330465194], [-43.19297210587247, -23.030036164056252], [-43.192964779073925, -23.029993184748342], [-43.19296482563938, -23.029945867545486], [-43.19299296156158, -23.029935713838846], [-43.19306953193446, -23.02994453515966], [-43.19309573820088, -23.02991819519984], [-43.19308345148736, -23.02985908986486], [-43.19308201454881, -23.029813196945156], [-43.193055388468395, -23.029776049276027], [-43.19301136652583, -23.02975549919771], [-43.19297029016841, -23.029733628215528], [-43.192928571626766, -23.02969414085178], [-43.1928988113936, -23.029650365254998], [-43.192899463311264, -23.02962328187893], [-43.192940865863434, -23.029606055514503], [-43.19299789088285, -23.029609957836993], [-43.1930532468999, -23.02960724897338], [-43.19307165620409, -23.029572963609578], [-43.19309632785773, -23.029500732316606], [-43.19309596846493, -23.029439953555173], [-43.19305237883372, -23.029386989742736], [-43.1929474186997, -23.0292829359309], [-43.19283809281554, -23.029184430951982], [-43.19269567317587, -23.0291313313028], [-43.19254257896881, -23.02911766216318], [-43.19240156258923, -23.029061778003943], [-43.19224861158002, -23.02905208444433], [-43.192183357611206, -23.029072650163883], [-43.192090574721995, -23.029123697171848], [-43.19206793949271, -23.029167503494627], [-43.19208103671786, -23.029202239124583], [-43.19212554362478, -23.02923760553872], [-43.19225662964748, -23.029314053982674], [-43.1923088371513, -23.029357272578835], [-43.1923183779802, -23.029424570448192], [-43.19228008020977, -23.029443094561458], [-43.1922071891594, -23.02945842575013], [-43.19213917147634, -23.029488531943887], [-43.192132284379696, -23.02950768680964], [-43.192196432341134, -23.02954788311861], [-43.19220642658173, -23.029581409342885], [-43.19217013872212, -23.029617476929626], [-43.19212922018764, -23.02964960856699], [-43.19207975577031, -23.029649494753883], [-43.19205716767396, -23.029594693749907]]], [[[-43.19049812629712, -23.027010462671914], [-43.19048776203927, -23.027063443007666], [-43.190534700412634, -23.02712845510771], [-43.19062161994541, -23.027180289677727], [-43.190749817989285, -23.027260770735072], [-43.190890895124994, -23.027319364216577], [-43.191034917384314, -23.02737645791527], [-43.191171973196376, -23.02745135086744], [-43.19130986654641, -23.027507288811233], [-43.19146246160769, -23.027550754139845], [-43.191608478915654, -23.02757536026472], [-43.191757363315936, -23.02759728994746], [-43.19190744850712, -23.02760966112719], [-43.19195853206299, -23.027663794495048], [-43.191940528585924, -23.027711540383766], [-43.19196453628973, -23.02776229309625], [-43.19204615764691, -23.027787246462733], [-43.19216201059108, -23.027805907681355], [-43.192313858439206, -23.027824981938153], [-43.192390974295975, -23.027800127737432], [-43.19239475967673, -23.027728379404063], [-43.19245134401923, -23.027670238858487], [-43.19254290719378, -23.027630016674987], [-43.19271219401097, -23.027585264228936], [-43.19287080944488, -23.027579852001875], [-43.192926128739494, -23.027579761499833], [-43.19307302043, -23.02758279391198], [-43.19321901891543, -23.027608843194674], [-43.1933689007746, -23.02761452826541], [-43.193447356953, -23.027584179465897], [-43.193482039724884, -23.027544029576724], [-43.19355637675833, -23.02747868650136], [-43.19369796722346, -23.027506131656462], [-43.19384426575347, -23.027538955596373], [-43.1940007101877, -23.027564671007653], [-43.194151934596185, -23.02756486219005], [-43.194305467301035, -23.02758937103244], [-43.1943456068278, -23.02763019454853], [-43.1944152594475, -23.027704134831176], [-43.19451301323176, -23.027719157157396], [-43.19466660766767, -23.027746375450196], [-43.19477730135438, -23.027742220480278], [-43.194814849797716, -23.027699393896892], [-43.19483789002794, -23.027669044148556], [-43.19491213922185, -23.027646953558605], [-43.19498028225041, -23.027577656082723], [-43.195020300187764, -23.02756176877019], [-43.195097010435354, -23.027574653368493], [-43.19518606682892, -23.027598064514155], [-43.195359145796424, -23.0276274910884], [-43.19550630195568, -23.02763991575758], [-43.19565220646971, -23.027614668818945], [-43.19578035618516, -23.02754515325896], [-43.19582501202566, -23.02748868143801], [-43.19581993188687, -23.02746713141828], [-43.195785709896306, -23.02737752189224], [-43.19570990829711, -23.02725249093056], [-43.19560206450621, -23.02715246867421], [-43.19549562238038, -23.02704984536259], [-43.19538320948166, -23.026948688122438], [-43.195266773749296, -23.026863828831793], [-43.1951278495319, -23.02677546289897], [-43.1949909168346, -23.026705992870138], [-43.19485997130746, -23.0266337013543], [-43.19473067792471, -23.026569375239465], [-43.194587448172, -23.02648926578619], [-43.1944414318479, -23.0264132819506], [-43.19432211489402, -23.026332543060228], [-43.19419643622073, -23.026238457858934], [-43.19406072296322, -23.02615816465337], [-43.193923138659095, -23.02606439576211], [-43.193796652033626, -23.025994592500613], [-43.19365847590381, -23.0259306156627], [-43.193498243060546, -23.025881918032383], [-43.19335576310071, -23.025826109352963], [-43.19321497103735, -23.025775648595324], [-43.1930574967975, -23.025717501149405], [-43.19292393407305, -23.02565872274724], [-43.19275104554542, -23.025586131103076], [-43.192601131890314, -23.025531862306064], [-43.19245914003236, -23.025490868085125], [-43.19230261987224, -23.025463794971504], [-43.19215363720243, -23.025441863888965], [-43.191996326436666, -23.025437719246906], [-43.19185174695206, -23.025459003821727], [-43.1917008100059, -23.025466849887245], [-43.19154095518494, -23.025477666870668], [-43.1913830288298, -23.02550466721755], [-43.191242286888304, -23.025552815909947], [-43.19110777870704, -23.025608891180593], [-43.191007860777496, -23.025719543483817], [-43.190995002071034, -23.02574007577455], [-43.19093221451403, -23.02583896171534], [-43.19084127748501, -23.02594935537907], [-43.19084540927623, -23.026085669418933], [-43.19091803836009, -23.026206783168565], [-43.19101584096265, -23.026320509912612], [-43.19110313785921, -23.02643176770709], [-43.191162360984, -23.02655588867071], [-43.191160879447054, -23.02655731657467], [-43.19111514600287, -23.02657738087666], [-43.19105751463326, -23.02660453694844], [-43.19092355286931, -23.026678136970187], [-43.190869154200385, -23.026806557460826], [-43.19086301146328, -23.026901215652693], [-43.190764384265556, -23.026907853777526], [-43.190678933443024, -23.02695049270824], [-43.190624591917704, -23.0269869856052], [-43.19056309751794, -23.026981857431686], [-43.190519526849386, -23.026978829699832], [-43.19049812629712, -23.027010462671914]]], [[[-43.18294373438047, -23.023510981106906], [-43.183090163032986, -23.023453695194373], [-43.18315007240238, -23.02322754244983], [-43.18311306925904, -23.02317122120761], [-43.1829531707834, -23.023025441021872], [-43.182634464742, -23.02291441096673], [-43.18227907386029, -23.022803501563892], [-43.182021718261645, -23.02273733302632], [-43.181813799282324, -23.022738555982354], [-43.18163122083221, -23.02290893632664], [-43.18157099414305, -23.023078644817087], [-43.18157221442709, -23.02329312708129], [-43.18186837029443, -23.02375436475254], [-43.18196736659874, -23.023945679235435], [-43.18215165547759, -23.02409137763128], [-43.1823964475689, -23.02411252324848], [-43.18255495179514, -23.023998664868575], [-43.18274936522584, -23.023760511986268], [-43.18294373438047, -23.023510981106906]]], [[[-43.18380134440533, -23.02154148390462], [-43.18379908290218, -23.021135006333633], [-43.1836758722188, -23.020988927422813], [-43.18341793843566, -23.02079849840688], [-43.183062958272465, -23.020766699794677], [-43.182745062685576, -23.020813708858885], [-43.18256240129512, -23.020961602439215], [-43.18252715609449, -23.021232738947514], [-43.18255309650875, -23.02148100748632], [-43.182579342704734, -23.02180820478972], [-43.182421573493734, -23.0220349471654], [-43.18242288154779, -23.022272097346264], [-43.18265642332152, -23.022462609074605], [-43.18293835613518, -23.02255127322867], [-43.18319552454639, -23.022594953715835], [-43.183427616398085, -23.022537205295176], [-43.18367954149306, -23.02163246612758], [-43.18380134440533, -23.02154148390462]]], [[[-43.19116199067519, -22.991615390471328], [-43.190964147137954, -22.991786332195026], [-43.19112001083145, -22.991940363313482], [-43.19132967126753, -22.99199513342955], [-43.19143250485682, -22.991751585439836], [-43.19131110985772, -22.99145554117744], [-43.19116199067519, -22.991615390471328]]]], &quot;type&quot;: &quot;MultiPolygon&quot;}, &quot;id&quot;: &quot;0&quot;, &quot;type&quot;: &quot;Feature&quot;}], &quot;type&quot;: &quot;FeatureCollection&quot;});\n",
       "\n",
       "        \n",
       "    \n",
       "            geo_json_da38862ae141090b99d90e884fb9eec0.addTo(map_1035e241e0d6ead3de7800ecedb7bbbe);\n",
       "        \n",
       "    \n",
       "            tile_layer_15cf7bf1b519b520ba4772549a844b7e.addTo(map_1035e241e0d6ead3de7800ecedb7bbbe);\n",
       "        \n",
       "    \n",
       "            geo_json_2402bf332e57531308d7433d1fb7193f.addTo(map_1035e241e0d6ead3de7800ecedb7bbbe);\n",
       "        \n",
       "    \n",
       "            geo_json_2f050c7630c2f14f00337aaaab16cf13.addTo(map_1035e241e0d6ead3de7800ecedb7bbbe);\n",
       "        \n",
       "    \n",
       "            geo_json_1c3f2c1ab533611811e120b3e84fbdca.addTo(map_1035e241e0d6ead3de7800ecedb7bbbe);\n",
       "        \n",
       "    \n",
       "            geo_json_895b56a0cff1c31ab580d91ea931f821.addTo(map_1035e241e0d6ead3de7800ecedb7bbbe);\n",
       "        \n",
       "    \n",
       "            geo_json_da38862ae141090b99d90e884fb9eec0.addTo(map_1035e241e0d6ead3de7800ecedb7bbbe);\n",
       "        \n",
       "&lt;/script&gt;\n",
       "&lt;/html&gt;\" style=\"position:absolute;width:100%;height:100%;left:0;top:0;border:none !important;\" allowfullscreen webkitallowfullscreen mozallowfullscreen></iframe></div></div>"
      ],
      "text/plain": [
       "<folium.folium.Map at 0x179c69013d0>"
      ]
     },
     "execution_count": 17,
     "metadata": {},
     "output_type": "execute_result"
    }
   ],
   "source": [
    "# Carregar o GeoJSON\n",
    "geojson_path = \"Regioes_Zona_Sul.geojson\"  # Substitua pelo caminho correto\n",
    "gdf_regioes = gpd.read_file(geojson_path)\n",
    "\n",
    "# Criar a coluna 'total_crimes' no df_zona_sul somando total_roubos e total_furtos\n",
    "df_zona_sul[\"total_crimes\"] = df_zona_sul[\"total_roubos\"] + df_zona_sul[\"total_furtos\"]\n",
    "\n",
    "# Agrupar os dados por região\n",
    "df_crimes_grouped = df_zona_sul.groupby(\"bairro\")[\"total_crimes\"].sum().reset_index()\n",
    "\n",
    "rename_map = {\n",
    "    \"Catete, Flamengo, Laranjeiras, Glória, Cosme Velho\": \"Catete, Flamengo, Glória, Laranjeiras e Cosme Velho\",\n",
    "    \"Gávea, Jardim Botânico, Lagoa, São Conrado\": \"Gávea, Jardim Botânico, Lagoa e São Conrado\",\n",
    "    \"Leblon, Ipanema\": \"Leblon e Ipanema\",\n",
    "    \"Copacabana, Leme\": \"Copacabana, Leme\",\n",
    "    \"Botafogo, Urca, Humaitá\": \"Botafogo, Humaitá, Urca\"\n",
    "}\n",
    "\n",
    "# Renomear os bairros no DataFrame de crimes\n",
    "df_crimes_grouped[\"bairro\"] = df_crimes_grouped[\"bairro\"].replace(rename_map)\n",
    "\n",
    "cores_fixas = {\n",
    "    99404: \"#FEB24C\",  # # Laranja\n",
    "    101300: \"#FF7F32\",  # Laranja mais forte\n",
    "    110214: \"#FD7463\",  # Vermelho mais claro\n",
    "    116050: \"#FC4E2A\",   # Vermelho\n",
    "    42373: \"#FFFFB2\"  # Amarelo claro\n",
    "}\n",
    "\n",
    "# Mapear as cores para cada valor no DataFrame\n",
    "df_crimes_grouped[\"cor\"] = df_crimes_grouped[\"total_crimes\"].map(cores_fixas)\n",
    "\n",
    "# Unir os dados do GeoJSON com os dados agrupados\n",
    "gdf_regioes = gdf_regioes.merge(df_crimes_grouped, on=\"bairro\", how=\"left\")\n",
    "\n",
    "# Converter o GeoDataFrame para GeoJSON\n",
    "geojson_data = gdf_regioes.to_json()\n",
    "\n",
    "# Criar o mapa com Folium\n",
    "mapa = folium.Map(location=[-22.971, -43.182], zoom_start=13)\n",
    "\n",
    "# Adicionar polígonos ao mapa com as cores fixas\n",
    "for _, row in gdf_regioes.iterrows():\n",
    "    folium.GeoJson(\n",
    "        row[\"geometry\"],\n",
    "        style_function=lambda feature, color=row[\"cor\"]: {\n",
    "            \"fillColor\": color,\n",
    "            \"color\": \"black\",\n",
    "            \"weight\": 1,\n",
    "            \"fillOpacity\": 0.7\n",
    "        }\n",
    "    ).add_to(mapa)\n",
    "\n",
    "# Exibir o mapa\n",
    "mapa.save(\"mapa_criminalidade_categorias.html\")\n",
    "mapa"
   ]
  },
  {
   "cell_type": "code",
   "execution_count": 12,
   "metadata": {},
   "outputs": [
    {
     "name": "stdout",
     "output_type": "stream",
     "text": [
      "GeoJSON com dados de crimes:\n"
     ]
    },
    {
     "ename": "KeyError",
     "evalue": "\"['total_crimes'] not in index\"",
     "output_type": "error",
     "traceback": [
      "\u001b[1;31m---------------------------------------------------------------------------\u001b[0m",
      "\u001b[1;31mKeyError\u001b[0m                                  Traceback (most recent call last)",
      "Cell \u001b[1;32mIn[12], line 3\u001b[0m\n\u001b[0;32m      1\u001b[0m \u001b[38;5;66;03m# Verifique os dados no GeoJSON após a união\u001b[39;00m\n\u001b[0;32m      2\u001b[0m \u001b[38;5;28mprint\u001b[39m(\u001b[38;5;124m\"\u001b[39m\u001b[38;5;124mGeoJSON com dados de crimes:\u001b[39m\u001b[38;5;124m\"\u001b[39m)\n\u001b[1;32m----> 3\u001b[0m \u001b[38;5;28mprint\u001b[39m(\u001b[43mgdf_regioes\u001b[49m\u001b[43m[\u001b[49m\u001b[43m[\u001b[49m\u001b[38;5;124;43m\"\u001b[39;49m\u001b[38;5;124;43mbairro\u001b[39;49m\u001b[38;5;124;43m\"\u001b[39;49m\u001b[43m,\u001b[49m\u001b[43m \u001b[49m\u001b[38;5;124;43m\"\u001b[39;49m\u001b[38;5;124;43mtotal_crimes\u001b[39;49m\u001b[38;5;124;43m\"\u001b[39;49m\u001b[43m]\u001b[49m\u001b[43m]\u001b[49m)\n\u001b[0;32m      5\u001b[0m \u001b[38;5;66;03m# Verifique os dados no DataFrame de crimes agrupados\u001b[39;00m\n\u001b[0;32m      6\u001b[0m \u001b[38;5;28mprint\u001b[39m(\u001b[38;5;124m\"\u001b[39m\u001b[38;5;124mDataFrame de crimes agrupados:\u001b[39m\u001b[38;5;124m\"\u001b[39m)\n",
      "File \u001b[1;32m~\\AppData\\Local\\Packages\\PythonSoftwareFoundation.Python.3.12_qbz5n2kfra8p0\\LocalCache\\local-packages\\Python312\\site-packages\\geopandas\\geodataframe.py:1750\u001b[0m, in \u001b[0;36mGeoDataFrame.__getitem__\u001b[1;34m(self, key)\u001b[0m\n\u001b[0;32m   1744\u001b[0m \u001b[38;5;28;01mdef\u001b[39;00m \u001b[38;5;21m__getitem__\u001b[39m(\u001b[38;5;28mself\u001b[39m, key):\n\u001b[0;32m   1745\u001b[0m \u001b[38;5;250m    \u001b[39m\u001b[38;5;124;03m\"\"\"\u001b[39;00m\n\u001b[0;32m   1746\u001b[0m \u001b[38;5;124;03m    If the result is a column containing only 'geometry', return a\u001b[39;00m\n\u001b[0;32m   1747\u001b[0m \u001b[38;5;124;03m    GeoSeries. If it's a DataFrame with any columns of GeometryDtype,\u001b[39;00m\n\u001b[0;32m   1748\u001b[0m \u001b[38;5;124;03m    return a GeoDataFrame.\u001b[39;00m\n\u001b[0;32m   1749\u001b[0m \u001b[38;5;124;03m    \"\"\"\u001b[39;00m\n\u001b[1;32m-> 1750\u001b[0m     result \u001b[38;5;241m=\u001b[39m \u001b[38;5;28;43msuper\u001b[39;49m\u001b[43m(\u001b[49m\u001b[43m)\u001b[49m\u001b[38;5;241;43m.\u001b[39;49m\u001b[38;5;21;43m__getitem__\u001b[39;49m\u001b[43m(\u001b[49m\u001b[43mkey\u001b[49m\u001b[43m)\u001b[49m\n\u001b[0;32m   1751\u001b[0m     \u001b[38;5;66;03m# Custom logic to avoid waiting for pandas GH51895\u001b[39;00m\n\u001b[0;32m   1752\u001b[0m     \u001b[38;5;66;03m# result is not geometry dtype for multi-indexes\u001b[39;00m\n\u001b[0;32m   1753\u001b[0m     \u001b[38;5;28;01mif\u001b[39;00m (\n\u001b[0;32m   1754\u001b[0m         pd\u001b[38;5;241m.\u001b[39mapi\u001b[38;5;241m.\u001b[39mtypes\u001b[38;5;241m.\u001b[39mis_scalar(key)\n\u001b[0;32m   1755\u001b[0m         \u001b[38;5;129;01mand\u001b[39;00m key \u001b[38;5;241m==\u001b[39m \u001b[38;5;124m\"\u001b[39m\u001b[38;5;124m\"\u001b[39m\n\u001b[1;32m   (...)\u001b[0m\n\u001b[0;32m   1758\u001b[0m         \u001b[38;5;129;01mand\u001b[39;00m \u001b[38;5;129;01mnot\u001b[39;00m is_geometry_type(result)\n\u001b[0;32m   1759\u001b[0m     ):\n",
      "File \u001b[1;32m~\\AppData\\Local\\Packages\\PythonSoftwareFoundation.Python.3.12_qbz5n2kfra8p0\\LocalCache\\local-packages\\Python312\\site-packages\\pandas\\core\\frame.py:4108\u001b[0m, in \u001b[0;36mDataFrame.__getitem__\u001b[1;34m(self, key)\u001b[0m\n\u001b[0;32m   4106\u001b[0m     \u001b[38;5;28;01mif\u001b[39;00m is_iterator(key):\n\u001b[0;32m   4107\u001b[0m         key \u001b[38;5;241m=\u001b[39m \u001b[38;5;28mlist\u001b[39m(key)\n\u001b[1;32m-> 4108\u001b[0m     indexer \u001b[38;5;241m=\u001b[39m \u001b[38;5;28;43mself\u001b[39;49m\u001b[38;5;241;43m.\u001b[39;49m\u001b[43mcolumns\u001b[49m\u001b[38;5;241;43m.\u001b[39;49m\u001b[43m_get_indexer_strict\u001b[49m\u001b[43m(\u001b[49m\u001b[43mkey\u001b[49m\u001b[43m,\u001b[49m\u001b[43m \u001b[49m\u001b[38;5;124;43m\"\u001b[39;49m\u001b[38;5;124;43mcolumns\u001b[39;49m\u001b[38;5;124;43m\"\u001b[39;49m\u001b[43m)\u001b[49m[\u001b[38;5;241m1\u001b[39m]\n\u001b[0;32m   4110\u001b[0m \u001b[38;5;66;03m# take() does not accept boolean indexers\u001b[39;00m\n\u001b[0;32m   4111\u001b[0m \u001b[38;5;28;01mif\u001b[39;00m \u001b[38;5;28mgetattr\u001b[39m(indexer, \u001b[38;5;124m\"\u001b[39m\u001b[38;5;124mdtype\u001b[39m\u001b[38;5;124m\"\u001b[39m, \u001b[38;5;28;01mNone\u001b[39;00m) \u001b[38;5;241m==\u001b[39m \u001b[38;5;28mbool\u001b[39m:\n",
      "File \u001b[1;32m~\\AppData\\Local\\Packages\\PythonSoftwareFoundation.Python.3.12_qbz5n2kfra8p0\\LocalCache\\local-packages\\Python312\\site-packages\\pandas\\core\\indexes\\base.py:6200\u001b[0m, in \u001b[0;36mIndex._get_indexer_strict\u001b[1;34m(self, key, axis_name)\u001b[0m\n\u001b[0;32m   6197\u001b[0m \u001b[38;5;28;01melse\u001b[39;00m:\n\u001b[0;32m   6198\u001b[0m     keyarr, indexer, new_indexer \u001b[38;5;241m=\u001b[39m \u001b[38;5;28mself\u001b[39m\u001b[38;5;241m.\u001b[39m_reindex_non_unique(keyarr)\n\u001b[1;32m-> 6200\u001b[0m \u001b[38;5;28;43mself\u001b[39;49m\u001b[38;5;241;43m.\u001b[39;49m\u001b[43m_raise_if_missing\u001b[49m\u001b[43m(\u001b[49m\u001b[43mkeyarr\u001b[49m\u001b[43m,\u001b[49m\u001b[43m \u001b[49m\u001b[43mindexer\u001b[49m\u001b[43m,\u001b[49m\u001b[43m \u001b[49m\u001b[43maxis_name\u001b[49m\u001b[43m)\u001b[49m\n\u001b[0;32m   6202\u001b[0m keyarr \u001b[38;5;241m=\u001b[39m \u001b[38;5;28mself\u001b[39m\u001b[38;5;241m.\u001b[39mtake(indexer)\n\u001b[0;32m   6203\u001b[0m \u001b[38;5;28;01mif\u001b[39;00m \u001b[38;5;28misinstance\u001b[39m(key, Index):\n\u001b[0;32m   6204\u001b[0m     \u001b[38;5;66;03m# GH 42790 - Preserve name from an Index\u001b[39;00m\n",
      "File \u001b[1;32m~\\AppData\\Local\\Packages\\PythonSoftwareFoundation.Python.3.12_qbz5n2kfra8p0\\LocalCache\\local-packages\\Python312\\site-packages\\pandas\\core\\indexes\\base.py:6252\u001b[0m, in \u001b[0;36mIndex._raise_if_missing\u001b[1;34m(self, key, indexer, axis_name)\u001b[0m\n\u001b[0;32m   6249\u001b[0m     \u001b[38;5;28;01mraise\u001b[39;00m \u001b[38;5;167;01mKeyError\u001b[39;00m(\u001b[38;5;124mf\u001b[39m\u001b[38;5;124m\"\u001b[39m\u001b[38;5;124mNone of [\u001b[39m\u001b[38;5;132;01m{\u001b[39;00mkey\u001b[38;5;132;01m}\u001b[39;00m\u001b[38;5;124m] are in the [\u001b[39m\u001b[38;5;132;01m{\u001b[39;00maxis_name\u001b[38;5;132;01m}\u001b[39;00m\u001b[38;5;124m]\u001b[39m\u001b[38;5;124m\"\u001b[39m)\n\u001b[0;32m   6251\u001b[0m not_found \u001b[38;5;241m=\u001b[39m \u001b[38;5;28mlist\u001b[39m(ensure_index(key)[missing_mask\u001b[38;5;241m.\u001b[39mnonzero()[\u001b[38;5;241m0\u001b[39m]]\u001b[38;5;241m.\u001b[39munique())\n\u001b[1;32m-> 6252\u001b[0m \u001b[38;5;28;01mraise\u001b[39;00m \u001b[38;5;167;01mKeyError\u001b[39;00m(\u001b[38;5;124mf\u001b[39m\u001b[38;5;124m\"\u001b[39m\u001b[38;5;132;01m{\u001b[39;00mnot_found\u001b[38;5;132;01m}\u001b[39;00m\u001b[38;5;124m not in index\u001b[39m\u001b[38;5;124m\"\u001b[39m)\n",
      "\u001b[1;31mKeyError\u001b[0m: \"['total_crimes'] not in index\""
     ]
    }
   ],
   "source": [
    "# Verifique os dados no GeoJSON após a união\n",
    "print(\"GeoJSON com dados de crimes:\")\n",
    "print(gdf_regioes[[\"bairro\", \"total_crimes\"]])\n",
    "\n",
    "# Verifique os dados no DataFrame de crimes agrupados\n",
    "print(\"DataFrame de crimes agrupados:\")\n",
    "print(df_crimes_grouped)"
   ]
  },
  {
   "cell_type": "code",
   "execution_count": null,
   "metadata": {},
   "outputs": [],
   "source": []
  }
 ],
 "metadata": {
  "kernelspec": {
   "display_name": "Python 3",
   "language": "python",
   "name": "python3"
  },
  "language_info": {
   "codemirror_mode": {
    "name": "ipython",
    "version": 3
   },
   "file_extension": ".py",
   "mimetype": "text/x-python",
   "name": "python",
   "nbconvert_exporter": "python",
   "pygments_lexer": "ipython3",
   "version": "3.12.7"
  }
 },
 "nbformat": 4,
 "nbformat_minor": 2
}
